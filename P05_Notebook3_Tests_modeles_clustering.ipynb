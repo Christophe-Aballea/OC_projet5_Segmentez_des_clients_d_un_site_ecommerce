{
 "cells": [
  {
   "cell_type": "markdown",
   "id": "8a8e5ac9-8686-410f-a98d-c42a98ac14f6",
   "metadata": {},
   "source": [
    "## <span style=\"color:green\">**Version en cours**</span>"
   ]
  },
  {
   "cell_type": "markdown",
   "id": "7e2c3930-70e3-48bc-882e-8b3c41729864",
   "metadata": {},
   "source": [
    "# Segmentez des clients d'un site e-commerce\n",
    "## Notebook 3 : Tests de modèles de clustering\n",
    "OpenClassrooms - Parcours Data Scientist - Projet 05  "
   ]
  },
  {
   "cell_type": "markdown",
   "id": "607e7df9-95d2-4566-820d-7a18e061c02e",
   "metadata": {},
   "source": [
    "## Présentation du projet"
   ]
  },
  {
   "cell_type": "markdown",
   "id": "ed5aaa04-0866-4d64-ae86-d816fa8390ed",
   "metadata": {},
   "source": [
    "**Contexte**  \n"
   ]
  },
  {
   "cell_type": "markdown",
   "id": "33e955d1-7c5e-4cef-8bf7-d25ad114a676",
   "metadata": {},
   "source": [
    "* Olist est une entreprise brésilienne qui propose une solution de vente sur les marketplaces en ligne.  \n",
    "* Dans un premier temps il est demandé de réaliser quelques requêtes pour le dashboard à partir de la base de données SQLite d'Olist.  \n",
    "* La mission principale est de fournir aux équipes d'e-commerce d'Olist une **segmentation des clients** qu’elles pourront utiliser au quotidien pour leurs campagnes de communication."
   ]
  },
  {
   "cell_type": "markdown",
   "id": "19ba5e11-f3f4-4118-ae48-0dcc7f3a1fe4",
   "metadata": {},
   "source": [
    "**Démarche globale**  \n",
    "* Requêtes SQL pour le dashboard (cf Notebook 1)  \n",
    "* Feature ingineering (cf Notebook 2)\n",
    "* **Tests de modèles de clustering** : c'est l'objet de ce notebook  \n",
    "* Simulation d'un contrat de maintenace (Notebbok 4)  "
   ]
  },
  {
   "cell_type": "markdown",
   "id": "df0d406b-e9df-49b1-b0b7-e0066d8f5986",
   "metadata": {},
   "source": [
    "**Tests de modèles de clustering**  \n",
    "* Objectif :\n",
    "   * bla bla bla "
   ]
  },
  {
   "cell_type": "markdown",
   "id": "1c16c685-b3dc-403b-b3ed-51c0547200dc",
   "metadata": {},
   "source": [
    "## Sommaire  \n",
    "**Préparation de l'environnement**  \n",
    "* Environnement virtuel\n",
    "* Import des modules\n",
    "* Fonctions\n",
    "* Chargement du dataset\n"
   ]
  },
  {
   "cell_type": "code",
   "execution_count": null,
   "id": "601545fd-17a9-48e8-afd5-f88a0ddaefc7",
   "metadata": {},
   "outputs": [],
   "source": []
  }
 ],
 "metadata": {
  "kernelspec": {
   "display_name": "Python 3 (ipykernel)",
   "language": "python",
   "name": "python3"
  },
  "language_info": {
   "codemirror_mode": {
    "name": "ipython",
    "version": 3
   },
   "file_extension": ".py",
   "mimetype": "text/x-python",
   "name": "python",
   "nbconvert_exporter": "python",
   "pygments_lexer": "ipython3",
   "version": "3.11.8"
  }
 },
 "nbformat": 4,
 "nbformat_minor": 5
}
