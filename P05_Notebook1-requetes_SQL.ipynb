{
 "cells": [
  {
   "cell_type": "markdown",
   "id": "202f773a-fdb7-49b7-a533-507eae841900",
   "metadata": {},
   "source": [
    "# Segmentez des clients d'un site e-commerce\n",
    "## Notebook 1 : Requêtes pour dasboard\n",
    "OpenClassrooms - Parcours Data Scientist - Projet 05  "
   ]
  },
  {
   "cell_type": "markdown",
   "id": "7cefd718-8dbc-495f-b927-7ace0badfd8e",
   "metadata": {},
   "source": [
    "## Sommaire  \n",
    "**Préparation de l'environnement**  \n",
    "* Environnement virtuel\n",
    "* Import des modules\n",
    "\n",
    "**Découverte de la BBD Olist**\n",
    "* Les tables\n",
    "* Schéma relationnel\n",
    "\n",
    "**Requêtes pour dashboard**\n",
    "* Commandes récentes avec retard de livraison\n",
    "* Meilleurs vendeurs\n",
    "* Nouveaux vendeurs très engagés\n",
    "* Codes postaux des pires review scores moyens"
   ]
  },
  {
   "cell_type": "markdown",
   "id": "db98e6bb-026f-4cbd-ab62-c9d6dc1b80a1",
   "metadata": {},
   "source": [
    "# 1 Préparation de l'environnement"
   ]
  },
  {
   "cell_type": "markdown",
   "id": "6235ee52-9893-44e4-a131-e24308b43771",
   "metadata": {},
   "source": [
    "## 1.1 Environnement virtuel"
   ]
  },
  {
   "cell_type": "code",
   "execution_count": 1,
   "id": "2981b4de-0cea-466a-a5c9-f5a53925f3d1",
   "metadata": {},
   "outputs": [
    {
     "name": "stdout",
     "output_type": "stream",
     "text": [
      "Environnement virtuel : C:\\Users\\chrab\\anaconda3\\envs\\opc5\n"
     ]
    }
   ],
   "source": [
    "# Vérification environnement virtuel\n",
    "envs = !conda env list\n",
    "print(f\"Environnement virtuel : {[e for e in envs if '*' in e][0].split('*')[1].strip()}\")"
   ]
  },
  {
   "cell_type": "markdown",
   "id": "253d389b-26b9-446e-b5f3-01d7bd2b8feb",
   "metadata": {},
   "source": [
    "## 1.2 Import des modules"
   ]
  },
  {
   "cell_type": "code",
   "execution_count": 2,
   "id": "73e0a017-da00-4e9f-868f-4864d6be1925",
   "metadata": {},
   "outputs": [],
   "source": [
    "# Installation des librairies\n",
    "!pip install ipython-sql --quiet\n",
    "!pip install pandas --quiet"
   ]
  },
  {
   "cell_type": "code",
   "execution_count": 3,
   "id": "45eda1ff-e31c-4664-9812-7d9c5072f479",
   "metadata": {},
   "outputs": [],
   "source": [
    "# Import des modules\n",
    "import pandas as pd"
   ]
  },
  {
   "cell_type": "markdown",
   "id": "0de2e589-fd95-4e5f-a88e-d85268d4cfa5",
   "metadata": {},
   "source": [
    "## Chargement des extensions"
   ]
  },
  {
   "cell_type": "code",
   "execution_count": 4,
   "id": "6ef4b4bb-0683-48a9-ab01-51e1f50387f5",
   "metadata": {},
   "outputs": [],
   "source": [
    "# Chargement de l'extension sqlite\n",
    "%load_ext sql"
   ]
  },
  {
   "cell_type": "markdown",
   "id": "fc418c2c-e12f-4fc9-b377-eba5e7d3fe80",
   "metadata": {},
   "source": [
    "## 1.3 Paramétrages"
   ]
  },
  {
   "cell_type": "code",
   "execution_count": 5,
   "id": "e0801372-74f1-4375-8b9b-523c385d4689",
   "metadata": {},
   "outputs": [],
   "source": [
    "# Suppression du message de connection à chaque exécution d'une requête\n",
    "%config SqlMagic.displaycon = False"
   ]
  },
  {
   "cell_type": "markdown",
   "id": "7b0a9711-687d-40b8-bd26-a49b12a9d099",
   "metadata": {},
   "source": [
    "# 2 Découverte de la BDD Olist"
   ]
  },
  {
   "cell_type": "markdown",
   "id": "c69d3c3d-1a78-4b4f-8e43-f65e87a8c91c",
   "metadata": {},
   "source": [
    "* L'extension '**.db**' de la BDD fournie indique qu'il s'agit d'une BDD ***SQLite***"
   ]
  },
  {
   "cell_type": "code",
   "execution_count": 6,
   "id": "d6b1f88d-30d2-4d04-81dd-79beb203a361",
   "metadata": {},
   "outputs": [],
   "source": [
    "# Connexion à la base de données\n",
    "# Le fichier 'olist.db' doit se trouver dans le répertoire courant\n",
    "%sql sqlite:///olist.db"
   ]
  },
  {
   "cell_type": "markdown",
   "id": "45fa15ea-e51f-4bf8-a872-a95c4377e9e2",
   "metadata": {},
   "source": [
    "## 2.1 Les tables"
   ]
  },
  {
   "cell_type": "markdown",
   "id": "33c33fc4-49d7-4b9e-a05e-fcf11e95b134",
   "metadata": {},
   "source": [
    "### 2.1.1 Liste des tables"
   ]
  },
  {
   "cell_type": "code",
   "execution_count": 7,
   "id": "ef00f09f-8041-40a3-b91f-ccfae8c391c9",
   "metadata": {},
   "outputs": [
    {
     "name": "stdout",
     "output_type": "stream",
     "text": [
      "Done.\n"
     ]
    },
    {
     "data": {
      "text/html": [
       "<table>\n",
       "    <thead>\n",
       "        <tr>\n",
       "            <th>name</th>\n",
       "        </tr>\n",
       "    </thead>\n",
       "    <tbody>\n",
       "        <tr>\n",
       "            <td>customers</td>\n",
       "        </tr>\n",
       "        <tr>\n",
       "            <td>geoloc</td>\n",
       "        </tr>\n",
       "        <tr>\n",
       "            <td>order_items</td>\n",
       "        </tr>\n",
       "        <tr>\n",
       "            <td>order_pymts</td>\n",
       "        </tr>\n",
       "        <tr>\n",
       "            <td>order_reviews</td>\n",
       "        </tr>\n",
       "        <tr>\n",
       "            <td>orders</td>\n",
       "        </tr>\n",
       "        <tr>\n",
       "            <td>products</td>\n",
       "        </tr>\n",
       "        <tr>\n",
       "            <td>sellers</td>\n",
       "        </tr>\n",
       "        <tr>\n",
       "            <td>translation</td>\n",
       "        </tr>\n",
       "    </tbody>\n",
       "</table>"
      ],
      "text/plain": [
       "[('customers',),\n",
       " ('geoloc',),\n",
       " ('order_items',),\n",
       " ('order_pymts',),\n",
       " ('order_reviews',),\n",
       " ('orders',),\n",
       " ('products',),\n",
       " ('sellers',),\n",
       " ('translation',)]"
      ]
     },
     "metadata": {},
     "output_type": "display_data"
    }
   ],
   "source": [
    "# Liste des tables de la BDD\n",
    "tables = %sql SELECT name FROM sqlite_master WHERE type='table';\n",
    "display(tables)"
   ]
  },
  {
   "cell_type": "markdown",
   "id": "2ad0dad3-8897-4258-bfda-2e74a98370e3",
   "metadata": {},
   "source": [
    "### 2.1.2 Structures des tables"
   ]
  },
  {
   "cell_type": "code",
   "execution_count": 8,
   "id": "ddb19bde-d69c-4a6f-a303-083bef190f9d",
   "metadata": {},
   "outputs": [
    {
     "name": "stdout",
     "output_type": "stream",
     "text": [
      "Done.\n",
      "Done.\n",
      "Structure de la table 'customers':\n"
     ]
    },
    {
     "data": {
      "text/html": [
       "<table>\n",
       "    <thead>\n",
       "        <tr>\n",
       "            <th>cid</th>\n",
       "            <th>name</th>\n",
       "            <th>type</th>\n",
       "            <th>notnull</th>\n",
       "            <th>dflt_value</th>\n",
       "            <th>pk</th>\n",
       "        </tr>\n",
       "    </thead>\n",
       "    <tbody>\n",
       "        <tr>\n",
       "            <td>0</td>\n",
       "            <td>index</td>\n",
       "            <td>BIGINT</td>\n",
       "            <td>0</td>\n",
       "            <td>None</td>\n",
       "            <td>0</td>\n",
       "        </tr>\n",
       "        <tr>\n",
       "            <td>1</td>\n",
       "            <td>customer_id</td>\n",
       "            <td>TEXT</td>\n",
       "            <td>0</td>\n",
       "            <td>None</td>\n",
       "            <td>0</td>\n",
       "        </tr>\n",
       "        <tr>\n",
       "            <td>2</td>\n",
       "            <td>customer_unique_id</td>\n",
       "            <td>TEXT</td>\n",
       "            <td>0</td>\n",
       "            <td>None</td>\n",
       "            <td>0</td>\n",
       "        </tr>\n",
       "        <tr>\n",
       "            <td>3</td>\n",
       "            <td>customer_zip_code_prefix</td>\n",
       "            <td>BIGINT</td>\n",
       "            <td>0</td>\n",
       "            <td>None</td>\n",
       "            <td>0</td>\n",
       "        </tr>\n",
       "        <tr>\n",
       "            <td>4</td>\n",
       "            <td>customer_city</td>\n",
       "            <td>TEXT</td>\n",
       "            <td>0</td>\n",
       "            <td>None</td>\n",
       "            <td>0</td>\n",
       "        </tr>\n",
       "        <tr>\n",
       "            <td>5</td>\n",
       "            <td>customer_state</td>\n",
       "            <td>TEXT</td>\n",
       "            <td>0</td>\n",
       "            <td>None</td>\n",
       "            <td>0</td>\n",
       "        </tr>\n",
       "    </tbody>\n",
       "</table>"
      ],
      "text/plain": [
       "[(0, 'index', 'BIGINT', 0, None, 0),\n",
       " (1, 'customer_id', 'TEXT', 0, None, 0),\n",
       " (2, 'customer_unique_id', 'TEXT', 0, None, 0),\n",
       " (3, 'customer_zip_code_prefix', 'BIGINT', 0, None, 0),\n",
       " (4, 'customer_city', 'TEXT', 0, None, 0),\n",
       " (5, 'customer_state', 'TEXT', 0, None, 0)]"
      ]
     },
     "metadata": {},
     "output_type": "display_data"
    },
    {
     "name": "stdout",
     "output_type": "stream",
     "text": [
      "1ère ligne de la table 'customers':\n"
     ]
    },
    {
     "data": {
      "text/html": [
       "<table>\n",
       "    <thead>\n",
       "        <tr>\n",
       "            <th>index</th>\n",
       "            <th>customer_id</th>\n",
       "            <th>customer_unique_id</th>\n",
       "            <th>customer_zip_code_prefix</th>\n",
       "            <th>customer_city</th>\n",
       "            <th>customer_state</th>\n",
       "        </tr>\n",
       "    </thead>\n",
       "    <tbody>\n",
       "        <tr>\n",
       "            <td>0</td>\n",
       "            <td>06b8999e2fba1a1fbc88172c00ba8bc7</td>\n",
       "            <td>861eff4711a542e4b93843c6dd7febb0</td>\n",
       "            <td>14409</td>\n",
       "            <td>franca</td>\n",
       "            <td>SP</td>\n",
       "        </tr>\n",
       "    </tbody>\n",
       "</table>"
      ],
      "text/plain": [
       "[(0, '06b8999e2fba1a1fbc88172c00ba8bc7', '861eff4711a542e4b93843c6dd7febb0', 14409, 'franca', 'SP')]"
      ]
     },
     "metadata": {},
     "output_type": "display_data"
    },
    {
     "name": "stdout",
     "output_type": "stream",
     "text": [
      "\n",
      "Done.\n",
      "Done.\n",
      "Structure de la table 'geoloc':\n"
     ]
    },
    {
     "data": {
      "text/html": [
       "<table>\n",
       "    <thead>\n",
       "        <tr>\n",
       "            <th>cid</th>\n",
       "            <th>name</th>\n",
       "            <th>type</th>\n",
       "            <th>notnull</th>\n",
       "            <th>dflt_value</th>\n",
       "            <th>pk</th>\n",
       "        </tr>\n",
       "    </thead>\n",
       "    <tbody>\n",
       "        <tr>\n",
       "            <td>0</td>\n",
       "            <td>index</td>\n",
       "            <td>BIGINT</td>\n",
       "            <td>0</td>\n",
       "            <td>None</td>\n",
       "            <td>0</td>\n",
       "        </tr>\n",
       "        <tr>\n",
       "            <td>1</td>\n",
       "            <td>geolocation_zip_code_prefix</td>\n",
       "            <td>BIGINT</td>\n",
       "            <td>0</td>\n",
       "            <td>None</td>\n",
       "            <td>0</td>\n",
       "        </tr>\n",
       "        <tr>\n",
       "            <td>2</td>\n",
       "            <td>geolocation_lat</td>\n",
       "            <td>FLOAT</td>\n",
       "            <td>0</td>\n",
       "            <td>None</td>\n",
       "            <td>0</td>\n",
       "        </tr>\n",
       "        <tr>\n",
       "            <td>3</td>\n",
       "            <td>geolocation_lng</td>\n",
       "            <td>FLOAT</td>\n",
       "            <td>0</td>\n",
       "            <td>None</td>\n",
       "            <td>0</td>\n",
       "        </tr>\n",
       "        <tr>\n",
       "            <td>4</td>\n",
       "            <td>geolocation_city</td>\n",
       "            <td>TEXT</td>\n",
       "            <td>0</td>\n",
       "            <td>None</td>\n",
       "            <td>0</td>\n",
       "        </tr>\n",
       "        <tr>\n",
       "            <td>5</td>\n",
       "            <td>geolocation_state</td>\n",
       "            <td>TEXT</td>\n",
       "            <td>0</td>\n",
       "            <td>None</td>\n",
       "            <td>0</td>\n",
       "        </tr>\n",
       "    </tbody>\n",
       "</table>"
      ],
      "text/plain": [
       "[(0, 'index', 'BIGINT', 0, None, 0),\n",
       " (1, 'geolocation_zip_code_prefix', 'BIGINT', 0, None, 0),\n",
       " (2, 'geolocation_lat', 'FLOAT', 0, None, 0),\n",
       " (3, 'geolocation_lng', 'FLOAT', 0, None, 0),\n",
       " (4, 'geolocation_city', 'TEXT', 0, None, 0),\n",
       " (5, 'geolocation_state', 'TEXT', 0, None, 0)]"
      ]
     },
     "metadata": {},
     "output_type": "display_data"
    },
    {
     "name": "stdout",
     "output_type": "stream",
     "text": [
      "1ère ligne de la table 'geoloc':\n"
     ]
    },
    {
     "data": {
      "text/html": [
       "<table>\n",
       "    <thead>\n",
       "        <tr>\n",
       "            <th>index</th>\n",
       "            <th>geolocation_zip_code_prefix</th>\n",
       "            <th>geolocation_lat</th>\n",
       "            <th>geolocation_lng</th>\n",
       "            <th>geolocation_city</th>\n",
       "            <th>geolocation_state</th>\n",
       "        </tr>\n",
       "    </thead>\n",
       "    <tbody>\n",
       "        <tr>\n",
       "            <td>0</td>\n",
       "            <td>1037</td>\n",
       "            <td>-23.54562128115268</td>\n",
       "            <td>-46.63929204800168</td>\n",
       "            <td>sao paulo</td>\n",
       "            <td>SP</td>\n",
       "        </tr>\n",
       "    </tbody>\n",
       "</table>"
      ],
      "text/plain": [
       "[(0, 1037, -23.54562128115268, -46.63929204800168, 'sao paulo', 'SP')]"
      ]
     },
     "metadata": {},
     "output_type": "display_data"
    },
    {
     "name": "stdout",
     "output_type": "stream",
     "text": [
      "\n",
      "Done.\n",
      "Done.\n",
      "Structure de la table 'order_items':\n"
     ]
    },
    {
     "data": {
      "text/html": [
       "<table>\n",
       "    <thead>\n",
       "        <tr>\n",
       "            <th>cid</th>\n",
       "            <th>name</th>\n",
       "            <th>type</th>\n",
       "            <th>notnull</th>\n",
       "            <th>dflt_value</th>\n",
       "            <th>pk</th>\n",
       "        </tr>\n",
       "    </thead>\n",
       "    <tbody>\n",
       "        <tr>\n",
       "            <td>0</td>\n",
       "            <td>index</td>\n",
       "            <td>BIGINT</td>\n",
       "            <td>0</td>\n",
       "            <td>None</td>\n",
       "            <td>0</td>\n",
       "        </tr>\n",
       "        <tr>\n",
       "            <td>1</td>\n",
       "            <td>order_id</td>\n",
       "            <td>TEXT</td>\n",
       "            <td>0</td>\n",
       "            <td>None</td>\n",
       "            <td>0</td>\n",
       "        </tr>\n",
       "        <tr>\n",
       "            <td>2</td>\n",
       "            <td>order_item_id</td>\n",
       "            <td>BIGINT</td>\n",
       "            <td>0</td>\n",
       "            <td>None</td>\n",
       "            <td>0</td>\n",
       "        </tr>\n",
       "        <tr>\n",
       "            <td>3</td>\n",
       "            <td>product_id</td>\n",
       "            <td>TEXT</td>\n",
       "            <td>0</td>\n",
       "            <td>None</td>\n",
       "            <td>0</td>\n",
       "        </tr>\n",
       "        <tr>\n",
       "            <td>4</td>\n",
       "            <td>seller_id</td>\n",
       "            <td>TEXT</td>\n",
       "            <td>0</td>\n",
       "            <td>None</td>\n",
       "            <td>0</td>\n",
       "        </tr>\n",
       "        <tr>\n",
       "            <td>5</td>\n",
       "            <td>shipping_limit_date</td>\n",
       "            <td>TEXT</td>\n",
       "            <td>0</td>\n",
       "            <td>None</td>\n",
       "            <td>0</td>\n",
       "        </tr>\n",
       "        <tr>\n",
       "            <td>6</td>\n",
       "            <td>price</td>\n",
       "            <td>FLOAT</td>\n",
       "            <td>0</td>\n",
       "            <td>None</td>\n",
       "            <td>0</td>\n",
       "        </tr>\n",
       "        <tr>\n",
       "            <td>7</td>\n",
       "            <td>freight_value</td>\n",
       "            <td>FLOAT</td>\n",
       "            <td>0</td>\n",
       "            <td>None</td>\n",
       "            <td>0</td>\n",
       "        </tr>\n",
       "    </tbody>\n",
       "</table>"
      ],
      "text/plain": [
       "[(0, 'index', 'BIGINT', 0, None, 0),\n",
       " (1, 'order_id', 'TEXT', 0, None, 0),\n",
       " (2, 'order_item_id', 'BIGINT', 0, None, 0),\n",
       " (3, 'product_id', 'TEXT', 0, None, 0),\n",
       " (4, 'seller_id', 'TEXT', 0, None, 0),\n",
       " (5, 'shipping_limit_date', 'TEXT', 0, None, 0),\n",
       " (6, 'price', 'FLOAT', 0, None, 0),\n",
       " (7, 'freight_value', 'FLOAT', 0, None, 0)]"
      ]
     },
     "metadata": {},
     "output_type": "display_data"
    },
    {
     "name": "stdout",
     "output_type": "stream",
     "text": [
      "1ère ligne de la table 'order_items':\n"
     ]
    },
    {
     "data": {
      "text/html": [
       "<table>\n",
       "    <thead>\n",
       "        <tr>\n",
       "            <th>index</th>\n",
       "            <th>order_id</th>\n",
       "            <th>order_item_id</th>\n",
       "            <th>product_id</th>\n",
       "            <th>seller_id</th>\n",
       "            <th>shipping_limit_date</th>\n",
       "            <th>price</th>\n",
       "            <th>freight_value</th>\n",
       "        </tr>\n",
       "    </thead>\n",
       "    <tbody>\n",
       "        <tr>\n",
       "            <td>0</td>\n",
       "            <td>00010242fe8c5a6d1ba2dd792cb16214</td>\n",
       "            <td>1</td>\n",
       "            <td>4244733e06e7ecb4970a6e2683c13e61</td>\n",
       "            <td>48436dade18ac8b2bce089ec2a041202</td>\n",
       "            <td>2017-09-19 09:45:35</td>\n",
       "            <td>58.9</td>\n",
       "            <td>13.29</td>\n",
       "        </tr>\n",
       "    </tbody>\n",
       "</table>"
      ],
      "text/plain": [
       "[(0, '00010242fe8c5a6d1ba2dd792cb16214', 1, '4244733e06e7ecb4970a6e2683c13e61', '48436dade18ac8b2bce089ec2a041202', '2017-09-19 09:45:35', 58.9, 13.29)]"
      ]
     },
     "metadata": {},
     "output_type": "display_data"
    },
    {
     "name": "stdout",
     "output_type": "stream",
     "text": [
      "\n",
      "Done.\n",
      "Done.\n",
      "Structure de la table 'order_pymts':\n"
     ]
    },
    {
     "data": {
      "text/html": [
       "<table>\n",
       "    <thead>\n",
       "        <tr>\n",
       "            <th>cid</th>\n",
       "            <th>name</th>\n",
       "            <th>type</th>\n",
       "            <th>notnull</th>\n",
       "            <th>dflt_value</th>\n",
       "            <th>pk</th>\n",
       "        </tr>\n",
       "    </thead>\n",
       "    <tbody>\n",
       "        <tr>\n",
       "            <td>0</td>\n",
       "            <td>index</td>\n",
       "            <td>BIGINT</td>\n",
       "            <td>0</td>\n",
       "            <td>None</td>\n",
       "            <td>0</td>\n",
       "        </tr>\n",
       "        <tr>\n",
       "            <td>1</td>\n",
       "            <td>order_id</td>\n",
       "            <td>TEXT</td>\n",
       "            <td>0</td>\n",
       "            <td>None</td>\n",
       "            <td>0</td>\n",
       "        </tr>\n",
       "        <tr>\n",
       "            <td>2</td>\n",
       "            <td>payment_sequential</td>\n",
       "            <td>BIGINT</td>\n",
       "            <td>0</td>\n",
       "            <td>None</td>\n",
       "            <td>0</td>\n",
       "        </tr>\n",
       "        <tr>\n",
       "            <td>3</td>\n",
       "            <td>payment_type</td>\n",
       "            <td>TEXT</td>\n",
       "            <td>0</td>\n",
       "            <td>None</td>\n",
       "            <td>0</td>\n",
       "        </tr>\n",
       "        <tr>\n",
       "            <td>4</td>\n",
       "            <td>payment_installments</td>\n",
       "            <td>BIGINT</td>\n",
       "            <td>0</td>\n",
       "            <td>None</td>\n",
       "            <td>0</td>\n",
       "        </tr>\n",
       "        <tr>\n",
       "            <td>5</td>\n",
       "            <td>payment_value</td>\n",
       "            <td>FLOAT</td>\n",
       "            <td>0</td>\n",
       "            <td>None</td>\n",
       "            <td>0</td>\n",
       "        </tr>\n",
       "    </tbody>\n",
       "</table>"
      ],
      "text/plain": [
       "[(0, 'index', 'BIGINT', 0, None, 0),\n",
       " (1, 'order_id', 'TEXT', 0, None, 0),\n",
       " (2, 'payment_sequential', 'BIGINT', 0, None, 0),\n",
       " (3, 'payment_type', 'TEXT', 0, None, 0),\n",
       " (4, 'payment_installments', 'BIGINT', 0, None, 0),\n",
       " (5, 'payment_value', 'FLOAT', 0, None, 0)]"
      ]
     },
     "metadata": {},
     "output_type": "display_data"
    },
    {
     "name": "stdout",
     "output_type": "stream",
     "text": [
      "1ère ligne de la table 'order_pymts':\n"
     ]
    },
    {
     "data": {
      "text/html": [
       "<table>\n",
       "    <thead>\n",
       "        <tr>\n",
       "            <th>index</th>\n",
       "            <th>order_id</th>\n",
       "            <th>payment_sequential</th>\n",
       "            <th>payment_type</th>\n",
       "            <th>payment_installments</th>\n",
       "            <th>payment_value</th>\n",
       "        </tr>\n",
       "    </thead>\n",
       "    <tbody>\n",
       "        <tr>\n",
       "            <td>0</td>\n",
       "            <td>b81ef226f3fe1789b1e8b2acac839d17</td>\n",
       "            <td>1</td>\n",
       "            <td>credit_card</td>\n",
       "            <td>8</td>\n",
       "            <td>99.33</td>\n",
       "        </tr>\n",
       "    </tbody>\n",
       "</table>"
      ],
      "text/plain": [
       "[(0, 'b81ef226f3fe1789b1e8b2acac839d17', 1, 'credit_card', 8, 99.33)]"
      ]
     },
     "metadata": {},
     "output_type": "display_data"
    },
    {
     "name": "stdout",
     "output_type": "stream",
     "text": [
      "\n",
      "Done.\n",
      "Done.\n",
      "Structure de la table 'order_reviews':\n"
     ]
    },
    {
     "data": {
      "text/html": [
       "<table>\n",
       "    <thead>\n",
       "        <tr>\n",
       "            <th>cid</th>\n",
       "            <th>name</th>\n",
       "            <th>type</th>\n",
       "            <th>notnull</th>\n",
       "            <th>dflt_value</th>\n",
       "            <th>pk</th>\n",
       "        </tr>\n",
       "    </thead>\n",
       "    <tbody>\n",
       "        <tr>\n",
       "            <td>0</td>\n",
       "            <td>index</td>\n",
       "            <td>BIGINT</td>\n",
       "            <td>0</td>\n",
       "            <td>None</td>\n",
       "            <td>0</td>\n",
       "        </tr>\n",
       "        <tr>\n",
       "            <td>1</td>\n",
       "            <td>review_id</td>\n",
       "            <td>TEXT</td>\n",
       "            <td>0</td>\n",
       "            <td>None</td>\n",
       "            <td>0</td>\n",
       "        </tr>\n",
       "        <tr>\n",
       "            <td>2</td>\n",
       "            <td>order_id</td>\n",
       "            <td>TEXT</td>\n",
       "            <td>0</td>\n",
       "            <td>None</td>\n",
       "            <td>0</td>\n",
       "        </tr>\n",
       "        <tr>\n",
       "            <td>3</td>\n",
       "            <td>review_score</td>\n",
       "            <td>BIGINT</td>\n",
       "            <td>0</td>\n",
       "            <td>None</td>\n",
       "            <td>0</td>\n",
       "        </tr>\n",
       "        <tr>\n",
       "            <td>4</td>\n",
       "            <td>review_comment_title</td>\n",
       "            <td>TEXT</td>\n",
       "            <td>0</td>\n",
       "            <td>None</td>\n",
       "            <td>0</td>\n",
       "        </tr>\n",
       "        <tr>\n",
       "            <td>5</td>\n",
       "            <td>review_comment_message</td>\n",
       "            <td>TEXT</td>\n",
       "            <td>0</td>\n",
       "            <td>None</td>\n",
       "            <td>0</td>\n",
       "        </tr>\n",
       "        <tr>\n",
       "            <td>6</td>\n",
       "            <td>review_creation_date</td>\n",
       "            <td>TEXT</td>\n",
       "            <td>0</td>\n",
       "            <td>None</td>\n",
       "            <td>0</td>\n",
       "        </tr>\n",
       "        <tr>\n",
       "            <td>7</td>\n",
       "            <td>review_answer_timestamp</td>\n",
       "            <td>TEXT</td>\n",
       "            <td>0</td>\n",
       "            <td>None</td>\n",
       "            <td>0</td>\n",
       "        </tr>\n",
       "    </tbody>\n",
       "</table>"
      ],
      "text/plain": [
       "[(0, 'index', 'BIGINT', 0, None, 0),\n",
       " (1, 'review_id', 'TEXT', 0, None, 0),\n",
       " (2, 'order_id', 'TEXT', 0, None, 0),\n",
       " (3, 'review_score', 'BIGINT', 0, None, 0),\n",
       " (4, 'review_comment_title', 'TEXT', 0, None, 0),\n",
       " (5, 'review_comment_message', 'TEXT', 0, None, 0),\n",
       " (6, 'review_creation_date', 'TEXT', 0, None, 0),\n",
       " (7, 'review_answer_timestamp', 'TEXT', 0, None, 0)]"
      ]
     },
     "metadata": {},
     "output_type": "display_data"
    },
    {
     "name": "stdout",
     "output_type": "stream",
     "text": [
      "1ère ligne de la table 'order_reviews':\n"
     ]
    },
    {
     "data": {
      "text/html": [
       "<table>\n",
       "    <thead>\n",
       "        <tr>\n",
       "            <th>index</th>\n",
       "            <th>review_id</th>\n",
       "            <th>order_id</th>\n",
       "            <th>review_score</th>\n",
       "            <th>review_comment_title</th>\n",
       "            <th>review_comment_message</th>\n",
       "            <th>review_creation_date</th>\n",
       "            <th>review_answer_timestamp</th>\n",
       "        </tr>\n",
       "    </thead>\n",
       "    <tbody>\n",
       "        <tr>\n",
       "            <td>0</td>\n",
       "            <td>7bc2406110b926393aa56f80a40eba40</td>\n",
       "            <td>73fc7af87114b39712e6da79b0a377eb</td>\n",
       "            <td>4</td>\n",
       "            <td>None</td>\n",
       "            <td>None</td>\n",
       "            <td>2018-01-18 00:00:00</td>\n",
       "            <td>2018-01-18 21:46:59</td>\n",
       "        </tr>\n",
       "    </tbody>\n",
       "</table>"
      ],
      "text/plain": [
       "[(0, '7bc2406110b926393aa56f80a40eba40', '73fc7af87114b39712e6da79b0a377eb', 4, None, None, '2018-01-18 00:00:00', '2018-01-18 21:46:59')]"
      ]
     },
     "metadata": {},
     "output_type": "display_data"
    },
    {
     "name": "stdout",
     "output_type": "stream",
     "text": [
      "\n",
      "Done.\n",
      "Done.\n",
      "Structure de la table 'orders':\n"
     ]
    },
    {
     "data": {
      "text/html": [
       "<table>\n",
       "    <thead>\n",
       "        <tr>\n",
       "            <th>cid</th>\n",
       "            <th>name</th>\n",
       "            <th>type</th>\n",
       "            <th>notnull</th>\n",
       "            <th>dflt_value</th>\n",
       "            <th>pk</th>\n",
       "        </tr>\n",
       "    </thead>\n",
       "    <tbody>\n",
       "        <tr>\n",
       "            <td>0</td>\n",
       "            <td>index</td>\n",
       "            <td>BIGINT</td>\n",
       "            <td>0</td>\n",
       "            <td>None</td>\n",
       "            <td>0</td>\n",
       "        </tr>\n",
       "        <tr>\n",
       "            <td>1</td>\n",
       "            <td>order_id</td>\n",
       "            <td>TEXT</td>\n",
       "            <td>0</td>\n",
       "            <td>None</td>\n",
       "            <td>0</td>\n",
       "        </tr>\n",
       "        <tr>\n",
       "            <td>2</td>\n",
       "            <td>customer_id</td>\n",
       "            <td>TEXT</td>\n",
       "            <td>0</td>\n",
       "            <td>None</td>\n",
       "            <td>0</td>\n",
       "        </tr>\n",
       "        <tr>\n",
       "            <td>3</td>\n",
       "            <td>order_status</td>\n",
       "            <td>TEXT</td>\n",
       "            <td>0</td>\n",
       "            <td>None</td>\n",
       "            <td>0</td>\n",
       "        </tr>\n",
       "        <tr>\n",
       "            <td>4</td>\n",
       "            <td>order_purchase_timestamp</td>\n",
       "            <td>TEXT</td>\n",
       "            <td>0</td>\n",
       "            <td>None</td>\n",
       "            <td>0</td>\n",
       "        </tr>\n",
       "        <tr>\n",
       "            <td>5</td>\n",
       "            <td>order_approved_at</td>\n",
       "            <td>TEXT</td>\n",
       "            <td>0</td>\n",
       "            <td>None</td>\n",
       "            <td>0</td>\n",
       "        </tr>\n",
       "        <tr>\n",
       "            <td>6</td>\n",
       "            <td>order_delivered_carrier_date</td>\n",
       "            <td>TEXT</td>\n",
       "            <td>0</td>\n",
       "            <td>None</td>\n",
       "            <td>0</td>\n",
       "        </tr>\n",
       "        <tr>\n",
       "            <td>7</td>\n",
       "            <td>order_delivered_customer_date</td>\n",
       "            <td>TEXT</td>\n",
       "            <td>0</td>\n",
       "            <td>None</td>\n",
       "            <td>0</td>\n",
       "        </tr>\n",
       "        <tr>\n",
       "            <td>8</td>\n",
       "            <td>order_estimated_delivery_date</td>\n",
       "            <td>TEXT</td>\n",
       "            <td>0</td>\n",
       "            <td>None</td>\n",
       "            <td>0</td>\n",
       "        </tr>\n",
       "    </tbody>\n",
       "</table>"
      ],
      "text/plain": [
       "[(0, 'index', 'BIGINT', 0, None, 0),\n",
       " (1, 'order_id', 'TEXT', 0, None, 0),\n",
       " (2, 'customer_id', 'TEXT', 0, None, 0),\n",
       " (3, 'order_status', 'TEXT', 0, None, 0),\n",
       " (4, 'order_purchase_timestamp', 'TEXT', 0, None, 0),\n",
       " (5, 'order_approved_at', 'TEXT', 0, None, 0),\n",
       " (6, 'order_delivered_carrier_date', 'TEXT', 0, None, 0),\n",
       " (7, 'order_delivered_customer_date', 'TEXT', 0, None, 0),\n",
       " (8, 'order_estimated_delivery_date', 'TEXT', 0, None, 0)]"
      ]
     },
     "metadata": {},
     "output_type": "display_data"
    },
    {
     "name": "stdout",
     "output_type": "stream",
     "text": [
      "1ère ligne de la table 'orders':\n"
     ]
    },
    {
     "data": {
      "text/html": [
       "<table>\n",
       "    <thead>\n",
       "        <tr>\n",
       "            <th>index</th>\n",
       "            <th>order_id</th>\n",
       "            <th>customer_id</th>\n",
       "            <th>order_status</th>\n",
       "            <th>order_purchase_timestamp</th>\n",
       "            <th>order_approved_at</th>\n",
       "            <th>order_delivered_carrier_date</th>\n",
       "            <th>order_delivered_customer_date</th>\n",
       "            <th>order_estimated_delivery_date</th>\n",
       "        </tr>\n",
       "    </thead>\n",
       "    <tbody>\n",
       "        <tr>\n",
       "            <td>0</td>\n",
       "            <td>e481f51cbdc54678b7cc49136f2d6af7</td>\n",
       "            <td>9ef432eb6251297304e76186b10a928d</td>\n",
       "            <td>delivered</td>\n",
       "            <td>2017-10-02 10:56:33</td>\n",
       "            <td>2017-10-02 11:07:15</td>\n",
       "            <td>2017-10-04 19:55:00</td>\n",
       "            <td>2017-10-10 21:25:13</td>\n",
       "            <td>2017-10-18 00:00:00</td>\n",
       "        </tr>\n",
       "    </tbody>\n",
       "</table>"
      ],
      "text/plain": [
       "[(0, 'e481f51cbdc54678b7cc49136f2d6af7', '9ef432eb6251297304e76186b10a928d', 'delivered', '2017-10-02 10:56:33', '2017-10-02 11:07:15', '2017-10-04 19:55:00', '2017-10-10 21:25:13', '2017-10-18 00:00:00')]"
      ]
     },
     "metadata": {},
     "output_type": "display_data"
    },
    {
     "name": "stdout",
     "output_type": "stream",
     "text": [
      "\n",
      "Done.\n",
      "Done.\n",
      "Structure de la table 'products':\n"
     ]
    },
    {
     "data": {
      "text/html": [
       "<table>\n",
       "    <thead>\n",
       "        <tr>\n",
       "            <th>cid</th>\n",
       "            <th>name</th>\n",
       "            <th>type</th>\n",
       "            <th>notnull</th>\n",
       "            <th>dflt_value</th>\n",
       "            <th>pk</th>\n",
       "        </tr>\n",
       "    </thead>\n",
       "    <tbody>\n",
       "        <tr>\n",
       "            <td>0</td>\n",
       "            <td>index</td>\n",
       "            <td>BIGINT</td>\n",
       "            <td>0</td>\n",
       "            <td>None</td>\n",
       "            <td>0</td>\n",
       "        </tr>\n",
       "        <tr>\n",
       "            <td>1</td>\n",
       "            <td>product_id</td>\n",
       "            <td>TEXT</td>\n",
       "            <td>0</td>\n",
       "            <td>None</td>\n",
       "            <td>0</td>\n",
       "        </tr>\n",
       "        <tr>\n",
       "            <td>2</td>\n",
       "            <td>product_category_name</td>\n",
       "            <td>TEXT</td>\n",
       "            <td>0</td>\n",
       "            <td>None</td>\n",
       "            <td>0</td>\n",
       "        </tr>\n",
       "        <tr>\n",
       "            <td>3</td>\n",
       "            <td>product_name_lenght</td>\n",
       "            <td>FLOAT</td>\n",
       "            <td>0</td>\n",
       "            <td>None</td>\n",
       "            <td>0</td>\n",
       "        </tr>\n",
       "        <tr>\n",
       "            <td>4</td>\n",
       "            <td>product_description_lenght</td>\n",
       "            <td>FLOAT</td>\n",
       "            <td>0</td>\n",
       "            <td>None</td>\n",
       "            <td>0</td>\n",
       "        </tr>\n",
       "        <tr>\n",
       "            <td>5</td>\n",
       "            <td>product_photos_qty</td>\n",
       "            <td>FLOAT</td>\n",
       "            <td>0</td>\n",
       "            <td>None</td>\n",
       "            <td>0</td>\n",
       "        </tr>\n",
       "        <tr>\n",
       "            <td>6</td>\n",
       "            <td>product_weight_g</td>\n",
       "            <td>FLOAT</td>\n",
       "            <td>0</td>\n",
       "            <td>None</td>\n",
       "            <td>0</td>\n",
       "        </tr>\n",
       "        <tr>\n",
       "            <td>7</td>\n",
       "            <td>product_length_cm</td>\n",
       "            <td>FLOAT</td>\n",
       "            <td>0</td>\n",
       "            <td>None</td>\n",
       "            <td>0</td>\n",
       "        </tr>\n",
       "        <tr>\n",
       "            <td>8</td>\n",
       "            <td>product_height_cm</td>\n",
       "            <td>FLOAT</td>\n",
       "            <td>0</td>\n",
       "            <td>None</td>\n",
       "            <td>0</td>\n",
       "        </tr>\n",
       "        <tr>\n",
       "            <td>9</td>\n",
       "            <td>product_width_cm</td>\n",
       "            <td>FLOAT</td>\n",
       "            <td>0</td>\n",
       "            <td>None</td>\n",
       "            <td>0</td>\n",
       "        </tr>\n",
       "    </tbody>\n",
       "</table>"
      ],
      "text/plain": [
       "[(0, 'index', 'BIGINT', 0, None, 0),\n",
       " (1, 'product_id', 'TEXT', 0, None, 0),\n",
       " (2, 'product_category_name', 'TEXT', 0, None, 0),\n",
       " (3, 'product_name_lenght', 'FLOAT', 0, None, 0),\n",
       " (4, 'product_description_lenght', 'FLOAT', 0, None, 0),\n",
       " (5, 'product_photos_qty', 'FLOAT', 0, None, 0),\n",
       " (6, 'product_weight_g', 'FLOAT', 0, None, 0),\n",
       " (7, 'product_length_cm', 'FLOAT', 0, None, 0),\n",
       " (8, 'product_height_cm', 'FLOAT', 0, None, 0),\n",
       " (9, 'product_width_cm', 'FLOAT', 0, None, 0)]"
      ]
     },
     "metadata": {},
     "output_type": "display_data"
    },
    {
     "name": "stdout",
     "output_type": "stream",
     "text": [
      "1ère ligne de la table 'products':\n"
     ]
    },
    {
     "data": {
      "text/html": [
       "<table>\n",
       "    <thead>\n",
       "        <tr>\n",
       "            <th>index</th>\n",
       "            <th>product_id</th>\n",
       "            <th>product_category_name</th>\n",
       "            <th>product_name_lenght</th>\n",
       "            <th>product_description_lenght</th>\n",
       "            <th>product_photos_qty</th>\n",
       "            <th>product_weight_g</th>\n",
       "            <th>product_length_cm</th>\n",
       "            <th>product_height_cm</th>\n",
       "            <th>product_width_cm</th>\n",
       "        </tr>\n",
       "    </thead>\n",
       "    <tbody>\n",
       "        <tr>\n",
       "            <td>0</td>\n",
       "            <td>1e9e8ef04dbcff4541ed26657ea517e5</td>\n",
       "            <td>perfumaria</td>\n",
       "            <td>40.0</td>\n",
       "            <td>287.0</td>\n",
       "            <td>1.0</td>\n",
       "            <td>225.0</td>\n",
       "            <td>16.0</td>\n",
       "            <td>10.0</td>\n",
       "            <td>14.0</td>\n",
       "        </tr>\n",
       "    </tbody>\n",
       "</table>"
      ],
      "text/plain": [
       "[(0, '1e9e8ef04dbcff4541ed26657ea517e5', 'perfumaria', 40.0, 287.0, 1.0, 225.0, 16.0, 10.0, 14.0)]"
      ]
     },
     "metadata": {},
     "output_type": "display_data"
    },
    {
     "name": "stdout",
     "output_type": "stream",
     "text": [
      "\n",
      "Done.\n",
      "Done.\n",
      "Structure de la table 'sellers':\n"
     ]
    },
    {
     "data": {
      "text/html": [
       "<table>\n",
       "    <thead>\n",
       "        <tr>\n",
       "            <th>cid</th>\n",
       "            <th>name</th>\n",
       "            <th>type</th>\n",
       "            <th>notnull</th>\n",
       "            <th>dflt_value</th>\n",
       "            <th>pk</th>\n",
       "        </tr>\n",
       "    </thead>\n",
       "    <tbody>\n",
       "        <tr>\n",
       "            <td>0</td>\n",
       "            <td>index</td>\n",
       "            <td>BIGINT</td>\n",
       "            <td>0</td>\n",
       "            <td>None</td>\n",
       "            <td>0</td>\n",
       "        </tr>\n",
       "        <tr>\n",
       "            <td>1</td>\n",
       "            <td>seller_id</td>\n",
       "            <td>TEXT</td>\n",
       "            <td>0</td>\n",
       "            <td>None</td>\n",
       "            <td>0</td>\n",
       "        </tr>\n",
       "        <tr>\n",
       "            <td>2</td>\n",
       "            <td>seller_zip_code_prefix</td>\n",
       "            <td>BIGINT</td>\n",
       "            <td>0</td>\n",
       "            <td>None</td>\n",
       "            <td>0</td>\n",
       "        </tr>\n",
       "        <tr>\n",
       "            <td>3</td>\n",
       "            <td>seller_city</td>\n",
       "            <td>TEXT</td>\n",
       "            <td>0</td>\n",
       "            <td>None</td>\n",
       "            <td>0</td>\n",
       "        </tr>\n",
       "        <tr>\n",
       "            <td>4</td>\n",
       "            <td>seller_state</td>\n",
       "            <td>TEXT</td>\n",
       "            <td>0</td>\n",
       "            <td>None</td>\n",
       "            <td>0</td>\n",
       "        </tr>\n",
       "    </tbody>\n",
       "</table>"
      ],
      "text/plain": [
       "[(0, 'index', 'BIGINT', 0, None, 0),\n",
       " (1, 'seller_id', 'TEXT', 0, None, 0),\n",
       " (2, 'seller_zip_code_prefix', 'BIGINT', 0, None, 0),\n",
       " (3, 'seller_city', 'TEXT', 0, None, 0),\n",
       " (4, 'seller_state', 'TEXT', 0, None, 0)]"
      ]
     },
     "metadata": {},
     "output_type": "display_data"
    },
    {
     "name": "stdout",
     "output_type": "stream",
     "text": [
      "1ère ligne de la table 'sellers':\n"
     ]
    },
    {
     "data": {
      "text/html": [
       "<table>\n",
       "    <thead>\n",
       "        <tr>\n",
       "            <th>index</th>\n",
       "            <th>seller_id</th>\n",
       "            <th>seller_zip_code_prefix</th>\n",
       "            <th>seller_city</th>\n",
       "            <th>seller_state</th>\n",
       "        </tr>\n",
       "    </thead>\n",
       "    <tbody>\n",
       "        <tr>\n",
       "            <td>0</td>\n",
       "            <td>3442f8959a84dea7ee197c632cb2df15</td>\n",
       "            <td>13023</td>\n",
       "            <td>campinas</td>\n",
       "            <td>SP</td>\n",
       "        </tr>\n",
       "    </tbody>\n",
       "</table>"
      ],
      "text/plain": [
       "[(0, '3442f8959a84dea7ee197c632cb2df15', 13023, 'campinas', 'SP')]"
      ]
     },
     "metadata": {},
     "output_type": "display_data"
    },
    {
     "name": "stdout",
     "output_type": "stream",
     "text": [
      "\n",
      "Done.\n",
      "Done.\n",
      "Structure de la table 'translation':\n"
     ]
    },
    {
     "data": {
      "text/html": [
       "<table>\n",
       "    <thead>\n",
       "        <tr>\n",
       "            <th>cid</th>\n",
       "            <th>name</th>\n",
       "            <th>type</th>\n",
       "            <th>notnull</th>\n",
       "            <th>dflt_value</th>\n",
       "            <th>pk</th>\n",
       "        </tr>\n",
       "    </thead>\n",
       "    <tbody>\n",
       "        <tr>\n",
       "            <td>0</td>\n",
       "            <td>index</td>\n",
       "            <td>BIGINT</td>\n",
       "            <td>0</td>\n",
       "            <td>None</td>\n",
       "            <td>0</td>\n",
       "        </tr>\n",
       "        <tr>\n",
       "            <td>1</td>\n",
       "            <td>product_category_name</td>\n",
       "            <td>TEXT</td>\n",
       "            <td>0</td>\n",
       "            <td>None</td>\n",
       "            <td>0</td>\n",
       "        </tr>\n",
       "        <tr>\n",
       "            <td>2</td>\n",
       "            <td>product_category_name_english</td>\n",
       "            <td>TEXT</td>\n",
       "            <td>0</td>\n",
       "            <td>None</td>\n",
       "            <td>0</td>\n",
       "        </tr>\n",
       "    </tbody>\n",
       "</table>"
      ],
      "text/plain": [
       "[(0, 'index', 'BIGINT', 0, None, 0),\n",
       " (1, 'product_category_name', 'TEXT', 0, None, 0),\n",
       " (2, 'product_category_name_english', 'TEXT', 0, None, 0)]"
      ]
     },
     "metadata": {},
     "output_type": "display_data"
    },
    {
     "name": "stdout",
     "output_type": "stream",
     "text": [
      "1ère ligne de la table 'translation':\n"
     ]
    },
    {
     "data": {
      "text/html": [
       "<table>\n",
       "    <thead>\n",
       "        <tr>\n",
       "            <th>index</th>\n",
       "            <th>product_category_name</th>\n",
       "            <th>product_category_name_english</th>\n",
       "        </tr>\n",
       "    </thead>\n",
       "    <tbody>\n",
       "        <tr>\n",
       "            <td>0</td>\n",
       "            <td>beleza_saude</td>\n",
       "            <td>health_beauty</td>\n",
       "        </tr>\n",
       "    </tbody>\n",
       "</table>"
      ],
      "text/plain": [
       "[(0, 'beleza_saude', 'health_beauty')]"
      ]
     },
     "metadata": {},
     "output_type": "display_data"
    },
    {
     "name": "stdout",
     "output_type": "stream",
     "text": [
      "\n"
     ]
    }
   ],
   "source": [
    "for table in tables:\n",
    "    table_name = table[0]\n",
    "    structure = %sql PRAGMA table_info($table_name);\n",
    "    first_row = %sql SELECT * FROM $table_name LIMIT 1;\n",
    "    print(f\"Structure de la table '{table_name}':\")\n",
    "    display(structure)\n",
    "    print(f\"1ère ligne de la table '{table_name}':\")    \n",
    "    display(first_row)\n",
    "    print()"
   ]
  },
  {
   "cell_type": "markdown",
   "id": "38906509-5cdd-499d-a56e-56fdd0fea1d3",
   "metadata": {},
   "source": [
    "## 2.2 Relations entre les tables"
   ]
  },
  {
   "cell_type": "markdown",
   "id": "d59321b4-cf2c-426b-bc17-0e3053261ba2",
   "metadata": {},
   "source": [
    "### 2.2.1 Analyse de la présentation du jeu de données"
   ]
  },
  {
   "cell_type": "markdown",
   "id": "459eeed3-d1a5-4d7d-bcac-bed3addcd968",
   "metadata": {},
   "source": [
    "La [présentation du jeu de données sur Kaggle](https://www.kaggle.com/datasets/olistbr/brazilian-ecommerce?select=olist_customers_dataset.csv) apporte les précisions suivantes :  \n",
    "* Une commande peut contenir plusieurs produits\n",
    "* Chaque produit peut être livré par un vendeur différent\n",
    "* Table **order_items**  \n",
    "  * Si un produit est acheté en quantité X dans une commande, il fera l'objet d'X enregistrement dans la table **order_items**\n",
    "  * La valeur d'une commande `order_id` A est la somme des champs `price` et `freight_value` des lignes ayant l'`order_id` A\n",
    "* Table **order_pymts**\n",
    "   * Un client peut payer une commande avec plus d'une méthode de paiement\n",
    "   * Dans de cas il y a création d'une séquence `payment_sequential`\n",
    "* Table **customers**\n",
    "   * Le champ `customer_id` est utilisé comme clé pour la relation avec `orders.customer_id` (99441 valeurs uniques). Chaque commande possède un `customer_id unique` : si un client passe plusieurs commandes, chaque commende se verra attribuer un `customer_id` différent\n",
    "   * Le champ `customer_id_unique` est un identifiant unique de client (96096 valeurs uniques), indépendament du nombre de commandes qu'il a passé. Il reste identique pour un même client quelles que soient ses commandes    \n",
    "* Table **orders**\n",
    "   * `order_purchase_timestamp` : date d'achat\n",
    "   * `order_approved_at` : date de validation du paiement\n",
    "   * `order_deliverd_carrier_date` : date de prise en charge par le partenaire logistique\n",
    "   * `order_delivered_customer_date` : date réelle de livraison au client\n",
    "   * `order_estimated_delivery_date` : date estimée de livraison, donnée au client au moment de l'achat"
   ]
  },
  {
   "cell_type": "markdown",
   "id": "3b306da3-83e0-4f5e-8522-0107d8c5da06",
   "metadata": {},
   "source": [
    "### 2.2.2 Schéma relationnel"
   ]
  },
  {
   "cell_type": "markdown",
   "id": "fbf9092b-59a7-4d71-81d1-ed2ae5b776ad",
   "metadata": {},
   "source": [
    "**Schéma relationnel BDD Olist**  \n",
    "\n",
    "![shema relationnel](schema_relationnel_olist.png \"Shéma relationnel BDD olist\")"
   ]
  },
  {
   "cell_type": "markdown",
   "id": "2772f791-ea71-40f2-a5ee-7431f04cdd17",
   "metadata": {},
   "source": [
    "# 3 Requêtes pour dashboard"
   ]
  },
  {
   "cell_type": "markdown",
   "id": "3253c132-4f98-4377-9456-857e00639c99",
   "metadata": {},
   "source": [
    "## 3.1 Commandes récentes avec retard de livraison"
   ]
  },
  {
   "cell_type": "markdown",
   "id": "5f371efc-7e9a-457d-a41f-8e3f124b6a79",
   "metadata": {},
   "source": [
    "**Demande exacte :**  \n",
    "* En excluant les commandes annulées, quelles sont les commandes récentes de moins de 3 mois que les clients ont reçues avec au moins 3 jours de retard ?"
   ]
  },
  {
   "cell_type": "markdown",
   "id": "28547da4-fba9-4048-8547-9ab8b7d02baf",
   "metadata": {},
   "source": [
    "**Analyse :**  \n",
    "* Rechercher les différents statuts possible d'un commande (table **`orders`**) pour déterminer celui correspondant aux commandes annulées\n",
    "* Hypothèses :\n",
    "   * une commande de moins de 3 mois est une commande **approuvée** (`order_approved_at`) il y a moins de 3 mois\n",
    "   * 3 mois correspondent à 90 jours\n",
    "* Pour calculer le nombre de jours de retard, on comparera la date estimée de livraison au client (`order_estimated_delivery_date`) qui est probablement celle annoncée au client, avec la date effective de livraison (`order_delivered_customer_date`)\n",
    "* Pour le dashboard le point de départ sera la date du jour, mais pour les tests on partira du principe que la date du jour est la date de la dernière opération d'achat ou d'approbation dans la base"
   ]
  },
  {
   "cell_type": "markdown",
   "id": "bcfa350d-a690-4320-8997-54d561f46b37",
   "metadata": {},
   "source": [
    "### 3.1.1 Quel est le statut d'une commande annulée ?"
   ]
  },
  {
   "cell_type": "code",
   "execution_count": 9,
   "id": "9af9187b-59f4-49f5-8962-c89c08248487",
   "metadata": {},
   "outputs": [
    {
     "name": "stdout",
     "output_type": "stream",
     "text": [
      "Done.\n"
     ]
    },
    {
     "data": {
      "text/html": [
       "<table>\n",
       "    <thead>\n",
       "        <tr>\n",
       "            <th>order_status</th>\n",
       "        </tr>\n",
       "    </thead>\n",
       "    <tbody>\n",
       "        <tr>\n",
       "            <td>delivered</td>\n",
       "        </tr>\n",
       "        <tr>\n",
       "            <td>invoiced</td>\n",
       "        </tr>\n",
       "        <tr>\n",
       "            <td>shipped</td>\n",
       "        </tr>\n",
       "        <tr>\n",
       "            <td>processing</td>\n",
       "        </tr>\n",
       "        <tr>\n",
       "            <td>unavailable</td>\n",
       "        </tr>\n",
       "        <tr>\n",
       "            <td>canceled</td>\n",
       "        </tr>\n",
       "        <tr>\n",
       "            <td>created</td>\n",
       "        </tr>\n",
       "        <tr>\n",
       "            <td>approved</td>\n",
       "        </tr>\n",
       "    </tbody>\n",
       "</table>"
      ],
      "text/plain": [
       "[('delivered',),\n",
       " ('invoiced',),\n",
       " ('shipped',),\n",
       " ('processing',),\n",
       " ('unavailable',),\n",
       " ('canceled',),\n",
       " ('created',),\n",
       " ('approved',)]"
      ]
     },
     "execution_count": 9,
     "metadata": {},
     "output_type": "execute_result"
    }
   ],
   "source": [
    "# Affichage des statuts de commande uniques\n",
    "%sql SELECT DISTINCT(order_status) FROM orders;"
   ]
  },
  {
   "cell_type": "markdown",
   "id": "6e2e3e7d-77ba-43c1-8454-3949609d4cef",
   "metadata": {},
   "source": [
    "Une commande annulée a le statut *'canceled'*"
   ]
  },
  {
   "cell_type": "markdown",
   "id": "f326a1a2-6408-4a24-8f9e-e4d3ddd22491",
   "metadata": {},
   "source": [
    "### 3.1.2 Quelle est la date de la plus récente opération ?"
   ]
  },
  {
   "cell_type": "code",
   "execution_count": 10,
   "id": "5e9594d6-8622-474e-a148-277875ff6ee7",
   "metadata": {},
   "outputs": [
    {
     "name": "stdout",
     "output_type": "stream",
     "text": [
      "Done.\n",
      "+---------------------+\n",
      "|     most_recent     |\n",
      "+---------------------+\n",
      "| 2018-10-17 17:30:18 |\n",
      "+---------------------+\n"
     ]
    }
   ],
   "source": [
    "# Recherche de la date la plus récente entre les dates d'achat et d'approbation\n",
    "most_recent_date = %sql SELECT MAX(MAX(order_purchase_timestamp), MAX(order_approved_at)) AS most_recent FROM orders;\n",
    "print(most_recent_date)"
   ]
  },
  {
   "cell_type": "markdown",
   "id": "9e5b7dbd-7a6a-4779-b0b0-2b10b995a505",
   "metadata": {},
   "source": [
    "### 3.1.3 Requête de test"
   ]
  },
  {
   "cell_type": "markdown",
   "id": "e533701a-4f86-42c9-9adc-fe473011ca96",
   "metadata": {},
   "source": [
    "La fonction SQLite `julianday()` permet de gérer simplement les calculs sur les dates, elle attend en paramètre un timestamp sous forme texte, et renvoit le nombre de jours écoulés depuis le 24 novembre 4714 av. J.-C. à 12h00, heure de Greenwich, dans le calendrier grégorien, sous la forme d'un flottant."
   ]
  },
  {
   "cell_type": "code",
   "execution_count": 11,
   "id": "73931ce1-88bd-4d14-90db-181474a74cdb",
   "metadata": {},
   "outputs": [],
   "source": [
    "# Formattage de la date la plus récente pour 'julianday()'\n",
    "most_recent_date = f\"{most_recent_date[0][0]}\""
   ]
  },
  {
   "cell_type": "code",
   "execution_count": 12,
   "id": "acbe203f-75a9-40de-8e07-d70713ad996c",
   "metadata": {},
   "outputs": [
    {
     "name": "stdout",
     "output_type": "stream",
     "text": [
      "Done.\n"
     ]
    },
    {
     "data": {
      "text/html": [
       "<table>\n",
       "    <thead>\n",
       "        <tr>\n",
       "            <th>order_id</th>\n",
       "            <th>customer_id</th>\n",
       "            <th>order_status</th>\n",
       "            <th>order_delivered_customer_date</th>\n",
       "            <th>order_estimated_delivery_date</th>\n",
       "        </tr>\n",
       "    </thead>\n",
       "    <tbody>\n",
       "        <tr>\n",
       "            <td>cfa4fa27b417971e86d8127cb688712f</td>\n",
       "            <td>7093250e1741ebbed41f0cc552025fd6</td>\n",
       "            <td>delivered</td>\n",
       "            <td>2018-08-29 01:41:41</td>\n",
       "            <td>2018-08-22 00:00:00</td>\n",
       "        </tr>\n",
       "        <tr>\n",
       "            <td>234c056c50619f48da64f731c48242b4</td>\n",
       "            <td>44e460a655f7154ccd9faa4dbbbaf68a</td>\n",
       "            <td>delivered</td>\n",
       "            <td>2018-09-01 18:14:42</td>\n",
       "            <td>2018-08-23 00:00:00</td>\n",
       "        </tr>\n",
       "        <tr>\n",
       "            <td>7f579e203c931f3e8410103359c6d523</td>\n",
       "            <td>d665be250d1c687c58fdea61a9b55a58</td>\n",
       "            <td>delivered</td>\n",
       "            <td>2018-08-13 20:11:47</td>\n",
       "            <td>2018-08-09 00:00:00</td>\n",
       "        </tr>\n",
       "        <tr>\n",
       "            <td>cb6e441ff2ef574ce08d3709426f88ec</td>\n",
       "            <td>4fb843d304c57182d4aa27bb39ca592b</td>\n",
       "            <td>delivered</td>\n",
       "            <td>2018-08-18 01:11:58</td>\n",
       "            <td>2018-08-15 00:00:00</td>\n",
       "        </tr>\n",
       "        <tr>\n",
       "            <td>03720fdc92032ee4abd471d172006ab0</td>\n",
       "            <td>116458665bac0ff47d5e87f65e8ec681</td>\n",
       "            <td>delivered</td>\n",
       "            <td>2018-08-21 00:11:52</td>\n",
       "            <td>2018-08-17 00:00:00</td>\n",
       "        </tr>\n",
       "        <tr>\n",
       "            <td>7a268da1c6173cf3d0847a89afdaf84e</td>\n",
       "            <td>293407b5065d8fd7fa7077179c1cca3b</td>\n",
       "            <td>delivered</td>\n",
       "            <td>2018-08-14 17:21:32</td>\n",
       "            <td>2018-08-10 00:00:00</td>\n",
       "        </tr>\n",
       "        <tr>\n",
       "            <td>4c8c092a897404409eb4858b2c35f100</td>\n",
       "            <td>a82a9ed42b002098621df8124fefd4ff</td>\n",
       "            <td>delivered</td>\n",
       "            <td>2018-08-14 17:51:20</td>\n",
       "            <td>2018-08-10 00:00:00</td>\n",
       "        </tr>\n",
       "        <tr>\n",
       "            <td>1cf0fc2c07de89a211f8dcf9ff5af15b</td>\n",
       "            <td>97a0e2c05d5882609289a1816e234ba0</td>\n",
       "            <td>delivered</td>\n",
       "            <td>2018-08-18 18:21:11</td>\n",
       "            <td>2018-08-15 00:00:00</td>\n",
       "        </tr>\n",
       "        <tr>\n",
       "            <td>34871174fe1f4c68f7efac5e5b3fbbde</td>\n",
       "            <td>0d72c06cbd17cde4598ce4aa6d065a7c</td>\n",
       "            <td>delivered</td>\n",
       "            <td>2018-08-30 16:03:02</td>\n",
       "            <td>2018-08-27 00:00:00</td>\n",
       "        </tr>\n",
       "        <tr>\n",
       "            <td>d30c22b84ba5239f2ae0fc078be7611c</td>\n",
       "            <td>42b3b672e11bdf08931bcbc9ebaa7eb2</td>\n",
       "            <td>delivered</td>\n",
       "            <td>2018-08-22 14:15:51</td>\n",
       "            <td>2018-08-14 00:00:00</td>\n",
       "        </tr>\n",
       "    </tbody>\n",
       "</table>"
      ],
      "text/plain": [
       "[('cfa4fa27b417971e86d8127cb688712f', '7093250e1741ebbed41f0cc552025fd6', 'delivered', '2018-08-29 01:41:41', '2018-08-22 00:00:00'),\n",
       " ('234c056c50619f48da64f731c48242b4', '44e460a655f7154ccd9faa4dbbbaf68a', 'delivered', '2018-09-01 18:14:42', '2018-08-23 00:00:00'),\n",
       " ('7f579e203c931f3e8410103359c6d523', 'd665be250d1c687c58fdea61a9b55a58', 'delivered', '2018-08-13 20:11:47', '2018-08-09 00:00:00'),\n",
       " ('cb6e441ff2ef574ce08d3709426f88ec', '4fb843d304c57182d4aa27bb39ca592b', 'delivered', '2018-08-18 01:11:58', '2018-08-15 00:00:00'),\n",
       " ('03720fdc92032ee4abd471d172006ab0', '116458665bac0ff47d5e87f65e8ec681', 'delivered', '2018-08-21 00:11:52', '2018-08-17 00:00:00'),\n",
       " ('7a268da1c6173cf3d0847a89afdaf84e', '293407b5065d8fd7fa7077179c1cca3b', 'delivered', '2018-08-14 17:21:32', '2018-08-10 00:00:00'),\n",
       " ('4c8c092a897404409eb4858b2c35f100', 'a82a9ed42b002098621df8124fefd4ff', 'delivered', '2018-08-14 17:51:20', '2018-08-10 00:00:00'),\n",
       " ('1cf0fc2c07de89a211f8dcf9ff5af15b', '97a0e2c05d5882609289a1816e234ba0', 'delivered', '2018-08-18 18:21:11', '2018-08-15 00:00:00'),\n",
       " ('34871174fe1f4c68f7efac5e5b3fbbde', '0d72c06cbd17cde4598ce4aa6d065a7c', 'delivered', '2018-08-30 16:03:02', '2018-08-27 00:00:00'),\n",
       " ('d30c22b84ba5239f2ae0fc078be7611c', '42b3b672e11bdf08931bcbc9ebaa7eb2', 'delivered', '2018-08-22 14:15:51', '2018-08-14 00:00:00')]"
      ]
     },
     "execution_count": 12,
     "metadata": {},
     "output_type": "execute_result"
    }
   ],
   "source": [
    "%%sql\n",
    "SELECT order_id, customer_id, order_status, order_delivered_customer_date, order_estimated_delivery_date\n",
    "FROM orders\n",
    "WHERE order_status != 'canceled' -- Commandes non annulées\n",
    "  AND julianday(:most_recent_date) - julianday(order_approved_at) <= 90  -- Approuvées il y a au moins 3 mois\n",
    "  AND julianday(order_delivered_customer_date) - julianday(order_estimated_delivery_date) >= 3 -- avec au moins 3 jours de retard\n",
    "LIMIT 10;"
   ]
  },
  {
   "cell_type": "markdown",
   "id": "f4c0ea48-154a-4250-999d-acf2b080d46b",
   "metadata": {},
   "source": [
    "### 3.1.4 Requête version dashboard  \n",
    "```SQL\n",
    "SELECT order_id, customer_id, order_status, order_delivered_customer_date, order_estimated_delivery_date\n",
    "FROM orders\n",
    "WHERE order_status != 'canceled' -- Commandes non annulées\n",
    "  AND julianday('now') - julianday(order_approved_at) <= 90  -- approuvées il y a au moins 3 mois\n",
    "  AND julianday(order_delivered_customer_date) - julianday(order_estimated_delivery_date) >= 3; -- avec au moins 3 jours de retard``\n",
    "```"
   ]
  },
  {
   "cell_type": "markdown",
   "id": "fdc323a7-f01d-41b7-b5e9-97537fa77564",
   "metadata": {},
   "source": [
    "## 3.2 Meilleurs vendeurs"
   ]
  },
  {
   "cell_type": "markdown",
   "id": "35d44cbd-7b7a-4af4-a8d8-e43467d9ee88",
   "metadata": {},
   "source": [
    "**Dmande exacte :**  \n",
    "* Qui sont les vendeurs ayant généré un chiffre d'affaires de plus de 100 000 Real sur des commandes livrées via Olist ?"
   ]
  },
  {
   "cell_type": "markdown",
   "id": "bb4f380f-7550-4086-b8ee-5292b89159ef",
   "metadata": {},
   "source": [
    "**Analyse :**  \n",
    "* Informations à afficher : `sellers.seller_id`, CA généré\n",
    "* Informations à calculer : CA généré = somme des `order_items.price` par vendeur\n",
    "* Filtres :\n",
    "   * CA généré >= 100 000\n",
    "   * `orders.order_status` = 'delivered'"
   ]
  },
  {
   "cell_type": "code",
   "execution_count": 13,
   "id": "effe30b0-572b-4d52-ade4-90253e485ac3",
   "metadata": {},
   "outputs": [
    {
     "name": "stdout",
     "output_type": "stream",
     "text": [
      "Done.\n"
     ]
    },
    {
     "data": {
      "text/html": [
       "<table>\n",
       "    <thead>\n",
       "        <tr>\n",
       "            <th>seller_id</th>\n",
       "            <th>CA</th>\n",
       "        </tr>\n",
       "    </thead>\n",
       "    <tbody>\n",
       "        <tr>\n",
       "            <td>4869f7a5dfa277a7dca6462dcf3b52b2</td>\n",
       "            <td>226987.93</td>\n",
       "        </tr>\n",
       "        <tr>\n",
       "            <td>53243585a1d6dc2643021fd1853d8905</td>\n",
       "            <td>217940.44</td>\n",
       "        </tr>\n",
       "        <tr>\n",
       "            <td>4a3ca9315b744ce9f8e9374361493884</td>\n",
       "            <td>196882.12</td>\n",
       "        </tr>\n",
       "        <tr>\n",
       "            <td>fa1c13f2614d7b5c4749cbc52fecda94</td>\n",
       "            <td>190917.14</td>\n",
       "        </tr>\n",
       "        <tr>\n",
       "            <td>7c67e1448b00f6e969d365cea6b010ab</td>\n",
       "            <td>186570.05</td>\n",
       "        </tr>\n",
       "        <tr>\n",
       "            <td>7e93a43ef30c4f03f38b393420bc753a</td>\n",
       "            <td>165981.49</td>\n",
       "        </tr>\n",
       "        <tr>\n",
       "            <td>da8622b14eb17ae2831f4ac5b9dab84a</td>\n",
       "            <td>159816.87</td>\n",
       "        </tr>\n",
       "        <tr>\n",
       "            <td>7a67c85e85bb2ce8582c35f2203ad736</td>\n",
       "            <td>139658.69</td>\n",
       "        </tr>\n",
       "        <tr>\n",
       "            <td>1025f0e2d44d7041d6cf58b6550e0bfa</td>\n",
       "            <td>138208.56</td>\n",
       "        </tr>\n",
       "        <tr>\n",
       "            <td>955fee9216a65b617aa5c0531780ce60</td>\n",
       "            <td>131836.71</td>\n",
       "        </tr>\n",
       "        <tr>\n",
       "            <td>46dc3b2cc0980fb8ec44634e21d2718e</td>\n",
       "            <td>122811.38</td>\n",
       "        </tr>\n",
       "        <tr>\n",
       "            <td>6560211a19b47992c3666cc44a7e94c0</td>\n",
       "            <td>120702.83</td>\n",
       "        </tr>\n",
       "        <tr>\n",
       "            <td>620c87c171fb2a6dd6e8bb4dec959fc6</td>\n",
       "            <td>112461.5</td>\n",
       "        </tr>\n",
       "        <tr>\n",
       "            <td>7d13fca15225358621be4086e1eb0964</td>\n",
       "            <td>112436.18</td>\n",
       "        </tr>\n",
       "        <tr>\n",
       "            <td>5dceca129747e92ff8ef7a997dc4f8ca</td>\n",
       "            <td>111126.73</td>\n",
       "        </tr>\n",
       "        <tr>\n",
       "            <td>1f50f920176fa81dab994f9023523100</td>\n",
       "            <td>106655.71</td>\n",
       "        </tr>\n",
       "        <tr>\n",
       "            <td>cc419e0650a3c5ba77189a1882b7556a</td>\n",
       "            <td>101090.96</td>\n",
       "        </tr>\n",
       "    </tbody>\n",
       "</table>"
      ],
      "text/plain": [
       "[('4869f7a5dfa277a7dca6462dcf3b52b2', 226987.93),\n",
       " ('53243585a1d6dc2643021fd1853d8905', 217940.44),\n",
       " ('4a3ca9315b744ce9f8e9374361493884', 196882.12),\n",
       " ('fa1c13f2614d7b5c4749cbc52fecda94', 190917.14),\n",
       " ('7c67e1448b00f6e969d365cea6b010ab', 186570.05),\n",
       " ('7e93a43ef30c4f03f38b393420bc753a', 165981.49),\n",
       " ('da8622b14eb17ae2831f4ac5b9dab84a', 159816.87),\n",
       " ('7a67c85e85bb2ce8582c35f2203ad736', 139658.69),\n",
       " ('1025f0e2d44d7041d6cf58b6550e0bfa', 138208.56),\n",
       " ('955fee9216a65b617aa5c0531780ce60', 131836.71),\n",
       " ('46dc3b2cc0980fb8ec44634e21d2718e', 122811.38),\n",
       " ('6560211a19b47992c3666cc44a7e94c0', 120702.83),\n",
       " ('620c87c171fb2a6dd6e8bb4dec959fc6', 112461.5),\n",
       " ('7d13fca15225358621be4086e1eb0964', 112436.18),\n",
       " ('5dceca129747e92ff8ef7a997dc4f8ca', 111126.73),\n",
       " ('1f50f920176fa81dab994f9023523100', 106655.71),\n",
       " ('cc419e0650a3c5ba77189a1882b7556a', 101090.96)]"
      ]
     },
     "execution_count": 13,
     "metadata": {},
     "output_type": "execute_result"
    }
   ],
   "source": [
    "%%sql\n",
    "SELECT seller_id, ROUND(SUM(price), 2) AS CA\n",
    "FROM order_items\n",
    "WHERE order_id IN (SELECT order_id\n",
    "                   FROM orders\n",
    "                   WHERE order_status='delivered')\n",
    "GROUP BY seller_id\n",
    "HAVING SUM(price) > 100000\n",
    "ORDER BY CA DESC;"
   ]
  },
  {
   "cell_type": "markdown",
   "id": "46228cef-717b-4300-8386-f434147e1358",
   "metadata": {},
   "source": [
    "## 3.3 Nouveaux vendeurs très engagés "
   ]
  },
  {
   "cell_type": "markdown",
   "id": "8a5d872c-44a1-419c-9eb3-0c56d8e17f15",
   "metadata": {},
   "source": [
    "**Demande exacte :**  \n",
    "* Qui sont les nouveaux vendeurs (moins de 3 mois d'ancienneté) qui sont déjà très engagés avec la plateforme (ayant déjà vendu plus de 30 produits) ?  \n",
    "\n",
    "**Analyse :**  \n",
    "* Pas d'information de disponible dans la BDD sur la date de début d'un vendeur : on utilisera la date de sa première vente comme date supposée de début\n",
    "* La vente d'un produit est considérée comme valide lorsque le paiement de la commande associée est approuvé\n",
    "* 1 produit vendu = 1 ligne dans **order_items**"
   ]
  },
  {
   "cell_type": "markdown",
   "id": "456223d6-3240-40a8-9202-c384b42fb87b",
   "metadata": {},
   "source": [
    "### 3.3.1 Date de départ (`julianday()`)"
   ]
  },
  {
   "cell_type": "markdown",
   "id": "f0761042-0239-407d-8961-c1cc9c9beb1e",
   "metadata": {},
   "source": [
    "* Pour la requête dasboard"
   ]
  },
  {
   "cell_type": "code",
   "execution_count": 14,
   "id": "9225fec1-57a5-4648-b7a0-4bb12b9f81e3",
   "metadata": {},
   "outputs": [
    {
     "name": "stdout",
     "output_type": "stream",
     "text": [
      "Done.\n"
     ]
    }
   ],
   "source": [
    "start_date = %sql SELECT julianday('now') - 90\n",
    "# équivalent à : %sql SELECT julianday('now', '-90 days')"
   ]
  },
  {
   "cell_type": "markdown",
   "id": "348115f2-559d-4be6-82e0-0374862d85b0",
   "metadata": {},
   "source": [
    "* Pour la requête test"
   ]
  },
  {
   "cell_type": "code",
   "execution_count": 15,
   "id": "e4eb936e-40a3-4a35-90a9-505564f545bd",
   "metadata": {},
   "outputs": [
    {
     "name": "stdout",
     "output_type": "stream",
     "text": [
      "Done.\n",
      "2018-10-17 17:30:18\n"
     ]
    }
   ],
   "source": [
    "# Recherche de la date la plus récente entre les dates d'achat et d'approbation\n",
    "most_recent_date = %sql SELECT MAX(MAX(order_purchase_timestamp), MAX(order_approved_at)) AS most_recent FROM orders;\n",
    "\n",
    "# Passage au format texte\n",
    "most_recent_date = most_recent_date[0][0]\n",
    "\n",
    "print(most_recent_date)"
   ]
  },
  {
   "cell_type": "markdown",
   "id": "0f7fbb38-a0ea-4db0-a6ea-5e165556cf14",
   "metadata": {},
   "source": [
    "### 3.3.2 \"Anciens\" vendeurs"
   ]
  },
  {
   "cell_type": "markdown",
   "id": "d8f82b27-ec1f-4413-9d8a-0295fedf5506",
   "metadata": {},
   "source": [
    "* Recherche de vendeurs dont la dernière vente date de plus 90 jours ou plus\n",
    "* En excluant ces vendeurs on obtiendra ceux qui sont supposés nouveaux\n",
    "* A noter que cette solution n'est pas optimale, il pourrait y subsister des vendeurs présents depuis plus de 3 mois, mais n'ayant fait aucune vente au départ..."
   ]
  },
  {
   "cell_type": "code",
   "execution_count": 16,
   "id": "4d179671-5327-4bc6-970b-0486fa74a216",
   "metadata": {},
   "outputs": [
    {
     "name": "stdout",
     "output_type": "stream",
     "text": [
      "Done.\n"
     ]
    },
    {
     "data": {
      "text/html": [
       "<table>\n",
       "    <thead>\n",
       "        <tr>\n",
       "            <th>seller_id</th>\n",
       "        </tr>\n",
       "    </thead>\n",
       "    <tbody>\n",
       "        <tr>\n",
       "            <td>0015a82c2db000af6aaaf3ae2ecb0532</td>\n",
       "        </tr>\n",
       "        <tr>\n",
       "            <td>001cca7ae9ae17fb1caed9dfb1094831</td>\n",
       "        </tr>\n",
       "        <tr>\n",
       "            <td>002100f778ceb8431b7a1020ff7ab48f</td>\n",
       "        </tr>\n",
       "        <tr>\n",
       "            <td>003554e2dce176b5555353e4f3555ac8</td>\n",
       "        </tr>\n",
       "        <tr>\n",
       "            <td>004c9cd9d87a3c30c522c48c4fc07416</td>\n",
       "        </tr>\n",
       "        <tr>\n",
       "            <td>00720abe85ba0859807595bbf045a33b</td>\n",
       "        </tr>\n",
       "        <tr>\n",
       "            <td>00ab3eff1b5192e5f1a63bcecfee11c8</td>\n",
       "        </tr>\n",
       "        <tr>\n",
       "            <td>00d8b143d12632bad99c0ad66ad52825</td>\n",
       "        </tr>\n",
       "        <tr>\n",
       "            <td>00ee68308b45bc5e2660cd833c3f81cc</td>\n",
       "        </tr>\n",
       "        <tr>\n",
       "            <td>00fc707aaaad2d31347cf883cd2dfe10</td>\n",
       "        </tr>\n",
       "    </tbody>\n",
       "</table>"
      ],
      "text/plain": [
       "[('0015a82c2db000af6aaaf3ae2ecb0532',),\n",
       " ('001cca7ae9ae17fb1caed9dfb1094831',),\n",
       " ('002100f778ceb8431b7a1020ff7ab48f',),\n",
       " ('003554e2dce176b5555353e4f3555ac8',),\n",
       " ('004c9cd9d87a3c30c522c48c4fc07416',),\n",
       " ('00720abe85ba0859807595bbf045a33b',),\n",
       " ('00ab3eff1b5192e5f1a63bcecfee11c8',),\n",
       " ('00d8b143d12632bad99c0ad66ad52825',),\n",
       " ('00ee68308b45bc5e2660cd833c3f81cc',),\n",
       " ('00fc707aaaad2d31347cf883cd2dfe10',)]"
      ]
     },
     "execution_count": 16,
     "metadata": {},
     "output_type": "execute_result"
    }
   ],
   "source": [
    "%%sql\n",
    "SELECT DISTINCT(seller_id)\n",
    "FROM order_items AS oi\n",
    "INNER JOIN orders AS o\n",
    "ON oi.order_id = o.order_id\n",
    "GROUP BY seller_id\n",
    "HAVING julianday(:most_recent_date) - julianday(MIN(order_approved_at)) >= 90\n",
    "LIMIT 10;  -- Uniquement pour limiter l'affichage lors des tests, ligne à supprimer ensuite"
   ]
  },
  {
   "cell_type": "markdown",
   "id": "acb430f0-c954-4f68-83fc-dc0159cdd698",
   "metadata": {},
   "source": [
    "### 3.3.3 Requête de test"
   ]
  },
  {
   "cell_type": "code",
   "execution_count": 17,
   "id": "3f4b2878-f613-45ca-847f-387d57ac3b3b",
   "metadata": {},
   "outputs": [
    {
     "name": "stdout",
     "output_type": "stream",
     "text": [
      "Done.\n"
     ]
    },
    {
     "data": {
      "text/html": [
       "<table>\n",
       "    <thead>\n",
       "        <tr>\n",
       "            <th>seller_id</th>\n",
       "            <th>nombre_de_produits_vendus</th>\n",
       "        </tr>\n",
       "    </thead>\n",
       "    <tbody>\n",
       "        <tr>\n",
       "            <td>d13e50eaa47b4cbe9eb81465865d8cfc</td>\n",
       "            <td>69</td>\n",
       "        </tr>\n",
       "        <tr>\n",
       "            <td>81f89e42267213cb94da7ddc301651da</td>\n",
       "            <td>52</td>\n",
       "        </tr>\n",
       "    </tbody>\n",
       "</table>"
      ],
      "text/plain": [
       "[('d13e50eaa47b4cbe9eb81465865d8cfc', 69),\n",
       " ('81f89e42267213cb94da7ddc301651da', 52)]"
      ]
     },
     "execution_count": 17,
     "metadata": {},
     "output_type": "execute_result"
    }
   ],
   "source": [
    "%%sql\n",
    "WITH anciens_vendeurs AS (\n",
    "    SELECT seller_id\n",
    "    FROM order_items AS oi\n",
    "    INNER JOIN orders AS o ON oi.order_id = o.order_id\n",
    "    GROUP BY seller_id\n",
    "    HAVING julianday(:most_recent_date) - julianday(MIN(order_approved_at)) >= 90\n",
    ")\n",
    "\n",
    "SELECT oi.seller_id, COUNT(oi.order_item_id) AS nombre_de_produits_vendus\n",
    "FROM order_items AS oi\n",
    "WHERE oi.seller_id NOT IN (SELECT seller_id FROM anciens_vendeurs)\n",
    "GROUP BY oi.seller_id\n",
    "HAVING COUNT(oi.order_item_id) > 30\n",
    "ORDER BY nombre_de_produits_vendus DESC;"
   ]
  },
  {
   "cell_type": "markdown",
   "id": "d8709367-6096-4ce3-8ff8-124ec81b4750",
   "metadata": {},
   "source": [
    "### 3.3.4 Requête version dashboard  \n",
    "```SQL\n",
    "WITH anciens_vendeurs AS (\n",
    "    SELECT seller_id\n",
    "    FROM order_items AS oi\n",
    "    INNER JOIN orders AS o ON oi.order_id = o.order_id\n",
    "    GROUP BY seller_id\n",
    "    HAVING julianday('now') - julianday(MIN(order_approved_at)) >= 90\n",
    ")\n",
    "\n",
    "SELECT oi.seller_id, COUNT(oi.order_item_id) AS nombre_de_produits_vendus\n",
    "FROM order_items AS oi\n",
    "WHERE oi.seller_id NOT IN (SELECT seller_id FROM anciens_vendeurs)\n",
    "GROUP BY oi.seller_id\n",
    "HAVING COUNT(oi.order_item_id) > 30\n",
    "ORDER BY nombre_de_produits_vendus DESC;\n",
    "```"
   ]
  },
  {
   "cell_type": "markdown",
   "id": "ac8b7043-38cf-444a-a6a4-f41d16f1438c",
   "metadata": {},
   "source": [
    "## 3.4 Codes postaux des pires review scores moyens"
   ]
  },
  {
   "cell_type": "markdown",
   "id": "4007be7f-65f1-436a-906c-2a0d64d20f94",
   "metadata": {},
   "source": [
    "**Demande exacte :**  \n",
    "* Quels sont les 5 codes postaux, enregistrant plus de 30 commandes, avec le pire review score moyen sur les 12 derniers mois ?\n",
    "\n",
    "**Analyse :**  \n",
    "* Compter le nombre de commandes regroupées par codes postaux\n",
    "* Sélectionner uniquement ceux ayant un nombre de commandes > 30  \n",
    "* Calculer la moyenne des review scores des commandes des 12 derniers mois des codes postaux sémectionnés\n",
    "* Faire un top 5 des moins bonnes moyennes"
   ]
  },
  {
   "cell_type": "markdown",
   "id": "1de23e1f-aac5-442d-8f3e-87a599a5d43c",
   "metadata": {},
   "source": [
    "### 3.4.1 Codes postaux ayant un nombre de commandes > 30"
   ]
  },
  {
   "cell_type": "code",
   "execution_count": 18,
   "id": "fcc77f95-470b-4187-86dc-8aef5ae19798",
   "metadata": {},
   "outputs": [
    {
     "name": "stdout",
     "output_type": "stream",
     "text": [
      "Done.\n"
     ]
    },
    {
     "data": {
      "text/html": [
       "<table>\n",
       "    <thead>\n",
       "        <tr>\n",
       "            <th>customer_zip_code_prefix</th>\n",
       "            <th>nombre_de_commandes</th>\n",
       "        </tr>\n",
       "    </thead>\n",
       "    <tbody>\n",
       "        <tr>\n",
       "            <td>3572</td>\n",
       "            <td>31</td>\n",
       "        </tr>\n",
       "        <tr>\n",
       "            <td>5782</td>\n",
       "            <td>31</td>\n",
       "        </tr>\n",
       "        <tr>\n",
       "            <td>7190</td>\n",
       "            <td>31</td>\n",
       "        </tr>\n",
       "        <tr>\n",
       "            <td>8773</td>\n",
       "            <td>31</td>\n",
       "        </tr>\n",
       "        <tr>\n",
       "            <td>9111</td>\n",
       "            <td>31</td>\n",
       "        </tr>\n",
       "        <tr>\n",
       "            <td>9750</td>\n",
       "            <td>31</td>\n",
       "        </tr>\n",
       "        <tr>\n",
       "            <td>13015</td>\n",
       "            <td>31</td>\n",
       "        </tr>\n",
       "        <tr>\n",
       "            <td>13185</td>\n",
       "            <td>31</td>\n",
       "        </tr>\n",
       "        <tr>\n",
       "            <td>13416</td>\n",
       "            <td>31</td>\n",
       "        </tr>\n",
       "        <tr>\n",
       "            <td>13419</td>\n",
       "            <td>31</td>\n",
       "        </tr>\n",
       "    </tbody>\n",
       "</table>"
      ],
      "text/plain": [
       "[(3572, 31),\n",
       " (5782, 31),\n",
       " (7190, 31),\n",
       " (8773, 31),\n",
       " (9111, 31),\n",
       " (9750, 31),\n",
       " (13015, 31),\n",
       " (13185, 31),\n",
       " (13416, 31),\n",
       " (13419, 31)]"
      ]
     },
     "execution_count": 18,
     "metadata": {},
     "output_type": "execute_result"
    }
   ],
   "source": [
    "%%sql\n",
    "SELECT customer_zip_code_prefix, COUNT(customer_id) AS nombre_de_commandes\n",
    "FROM customers\n",
    "GROUP BY customer_zip_code_prefix\n",
    "HAVING COUNT(customer_id) > 30\n",
    "ORDER BY nombre_de_commandes\n",
    "LIMIT 10;"
   ]
  },
  {
   "cell_type": "markdown",
   "id": "11e78316-f78a-464f-9e60-6382b9459900",
   "metadata": {},
   "source": [
    "### 3.4.2 Commandes des 12 derniers mois des codes postaux sélectionnés"
   ]
  },
  {
   "cell_type": "markdown",
   "id": "418febe8-adaf-41bc-8d9c-6edd7d307320",
   "metadata": {},
   "source": [
    "* Date la plus récente"
   ]
  },
  {
   "cell_type": "code",
   "execution_count": 15,
   "id": "7e657321-9e61-4413-9990-69e6ce392759",
   "metadata": {},
   "outputs": [
    {
     "name": "stdout",
     "output_type": "stream",
     "text": [
      "Done.\n",
      "2018-10-17 17:30:18\n"
     ]
    }
   ],
   "source": [
    "# Recherche de la date la plus récente entre les dates d'achat et d'approbation\n",
    "most_recent_date = %sql SELECT MAX(MAX(order_purchase_timestamp), MAX(order_approved_at)) AS most_recent FROM orders;\n",
    "\n",
    "# Passage au format texte\n",
    "most_recent_date = most_recent_date[0][0]\n",
    "\n",
    "print(most_recent_date)"
   ]
  },
  {
   "cell_type": "markdown",
   "id": "729357b6-5c55-497c-b434-8788bebc8b96",
   "metadata": {},
   "source": [
    "* Commandes valides des 12 derniers mois"
   ]
  },
  {
   "cell_type": "code",
   "execution_count": 19,
   "id": "5c869839-593a-4e02-9d87-081aa9abff19",
   "metadata": {},
   "outputs": [
    {
     "name": "stdout",
     "output_type": "stream",
     "text": [
      "Done.\n"
     ]
    },
    {
     "data": {
      "text/html": [
       "<table>\n",
       "    <thead>\n",
       "        <tr>\n",
       "            <th>order_id</th>\n",
       "            <th>customer_id</th>\n",
       "        </tr>\n",
       "    </thead>\n",
       "    <tbody>\n",
       "        <tr>\n",
       "            <td>53cdb2fc8bc7dce0b6741e2150273451</td>\n",
       "            <td>b0830fb4747a6c6d20dea0b8c802d7ef</td>\n",
       "        </tr>\n",
       "        <tr>\n",
       "            <td>47770eb9100c2d0c44946d9cf07ec65d</td>\n",
       "            <td>41ce2a54c0b03bf3443c3d931a367089</td>\n",
       "        </tr>\n",
       "        <tr>\n",
       "            <td>949d5b44dbf5de918fe9c16f97b45f8a</td>\n",
       "            <td>f88197465ea7920adcdbec7375364d82</td>\n",
       "        </tr>\n",
       "        <tr>\n",
       "            <td>ad21c59c0840e6cb83a9ceb5573f8159</td>\n",
       "            <td>8ab97904e6daea8866dbdbc4fb7aad2c</td>\n",
       "        </tr>\n",
       "        <tr>\n",
       "            <td>82566a660a982b15fb86e904c8d32918</td>\n",
       "            <td>d3e3b74c766bc6214e0c830b17ee2341</td>\n",
       "        </tr>\n",
       "        <tr>\n",
       "            <td>5ff96c15d0b717ac6ad1f3d77225a350</td>\n",
       "            <td>19402a48fe860416adf93348aba37740</td>\n",
       "        </tr>\n",
       "        <tr>\n",
       "            <td>432aaf21d85167c2c86ec9448c4e42cc</td>\n",
       "            <td>3df704f53d3f1d4818840b34ec672a9f</td>\n",
       "        </tr>\n",
       "        <tr>\n",
       "            <td>dcb36b511fcac050b97cd5c05de84dc3</td>\n",
       "            <td>3b6828a50ffe546942b7a473d70ac0fc</td>\n",
       "        </tr>\n",
       "        <tr>\n",
       "            <td>403b97836b0c04a622354cf531062e5f</td>\n",
       "            <td>738b086814c6fcc74b8cc583f8516ee3</td>\n",
       "        </tr>\n",
       "        <tr>\n",
       "            <td>116f0b09343b49556bbad5f35bee0cdf</td>\n",
       "            <td>3187789bec990987628d7a9beb4dd6ac</td>\n",
       "        </tr>\n",
       "    </tbody>\n",
       "</table>"
      ],
      "text/plain": [
       "[('53cdb2fc8bc7dce0b6741e2150273451', 'b0830fb4747a6c6d20dea0b8c802d7ef'),\n",
       " ('47770eb9100c2d0c44946d9cf07ec65d', '41ce2a54c0b03bf3443c3d931a367089'),\n",
       " ('949d5b44dbf5de918fe9c16f97b45f8a', 'f88197465ea7920adcdbec7375364d82'),\n",
       " ('ad21c59c0840e6cb83a9ceb5573f8159', '8ab97904e6daea8866dbdbc4fb7aad2c'),\n",
       " ('82566a660a982b15fb86e904c8d32918', 'd3e3b74c766bc6214e0c830b17ee2341'),\n",
       " ('5ff96c15d0b717ac6ad1f3d77225a350', '19402a48fe860416adf93348aba37740'),\n",
       " ('432aaf21d85167c2c86ec9448c4e42cc', '3df704f53d3f1d4818840b34ec672a9f'),\n",
       " ('dcb36b511fcac050b97cd5c05de84dc3', '3b6828a50ffe546942b7a473d70ac0fc'),\n",
       " ('403b97836b0c04a622354cf531062e5f', '738b086814c6fcc74b8cc583f8516ee3'),\n",
       " ('116f0b09343b49556bbad5f35bee0cdf', '3187789bec990987628d7a9beb4dd6ac')]"
      ]
     },
     "execution_count": 19,
     "metadata": {},
     "output_type": "execute_result"
    }
   ],
   "source": [
    "%%sql\n",
    "SELECT order_id, customer_id\n",
    "FROM orders\n",
    "WHERE order_approved_at IS NOT NULL\n",
    "    AND order_status != 'canceled'\n",
    "    AND julianday(order_approved_at) >= julianday(:most_recent_date, '-1 years')\n",
    "LIMIT 10;"
   ]
  },
  {
   "cell_type": "markdown",
   "id": "a65499f3-d91a-4073-920a-0eaf42826980",
   "metadata": {},
   "source": [
    "### 3.4.3 Requête de test"
   ]
  },
  {
   "cell_type": "code",
   "execution_count": 20,
   "id": "9d18e0c7-307d-4efb-a031-46d5953637a2",
   "metadata": {},
   "outputs": [
    {
     "name": "stdout",
     "output_type": "stream",
     "text": [
      "Done.\n"
     ]
    },
    {
     "data": {
      "text/html": [
       "<table>\n",
       "    <thead>\n",
       "        <tr>\n",
       "            <th>customer_zip_code_prefix</th>\n",
       "            <th>moyenne_review_scores</th>\n",
       "        </tr>\n",
       "    </thead>\n",
       "    <tbody>\n",
       "        <tr>\n",
       "            <td>22753</td>\n",
       "            <td>2.81</td>\n",
       "        </tr>\n",
       "        <tr>\n",
       "            <td>65075</td>\n",
       "            <td>2.86</td>\n",
       "        </tr>\n",
       "        <tr>\n",
       "            <td>28893</td>\n",
       "            <td>2.96</td>\n",
       "        </tr>\n",
       "        <tr>\n",
       "            <td>22621</td>\n",
       "            <td>3.08</td>\n",
       "        </tr>\n",
       "        <tr>\n",
       "            <td>22723</td>\n",
       "            <td>3.08</td>\n",
       "        </tr>\n",
       "    </tbody>\n",
       "</table>"
      ],
      "text/plain": [
       "[(22753, 2.81), (65075, 2.86), (28893, 2.96), (22621, 3.08), (22723, 3.08)]"
      ]
     },
     "execution_count": 20,
     "metadata": {},
     "output_type": "execute_result"
    }
   ],
   "source": [
    "%%sql\n",
    "WITH orders_zip_codes AS (\n",
    "    WITH\n",
    "    valid_orders AS (\n",
    "        SELECT order_id, customer_id\n",
    "        FROM orders\n",
    "        WHERE order_approved_at IS NOT NULL\n",
    "            AND order_status != 'canceled'\n",
    "            AND julianday(order_approved_at) >= julianday(:most_recent_date, '-1 years')\n",
    "    ),\n",
    "    zip_codes AS (\n",
    "        SELECT customer_zip_code_prefix, COUNT(customer_id) AS nombre_de_commandes\n",
    "        FROM customers\n",
    "        GROUP BY customer_zip_code_prefix\n",
    "        HAVING COUNT(customer_id) > 30\n",
    "    )\n",
    "    SELECT customer_zip_code_prefix, c.customer_id, order_id\n",
    "    FROM valid_orders vo\n",
    "    INNER JOIN customers c\n",
    "    ON vo.customer_id = c.customer_id\n",
    "    WHERE customer_zip_code_prefix IN (SELECT customer_zip_code_prefix FROM zip_codes)\n",
    "    ORDER BY customer_zip_code_prefix\n",
    ")\n",
    "SELECT customer_zip_code_prefix, ROUND(AVG(review_score), 2) AS moyenne_review_scores\n",
    "FROM orders_zip_codes ozc\n",
    "LEFT JOIN order_reviews o\n",
    "ON o.order_id = ozc.order_id\n",
    "GROUP BY customer_zip_code_prefix\n",
    "ORDER BY moyenne_review_scores ASC\n",
    "LIMIT 5"
   ]
  },
  {
   "cell_type": "markdown",
   "id": "5b0e0bdc-5193-4881-872c-3d986c65a6af",
   "metadata": {},
   "source": [
    "### 3.4.4 Requête version dashboard  \n",
    "```SQL\n",
    "WITH orders_zip_codes AS (\n",
    "    WITH\n",
    "    valid_orders AS (\n",
    "        SELECT order_id, customer_id\n",
    "        FROM orders\n",
    "        WHERE order_approved_at IS NOT NULL\n",
    "            AND order_status != 'canceled'\n",
    "            AND julianday(order_approved_at) >= julianday('now', '-1 years')\n",
    "    ),\n",
    "    zip_codes AS (\n",
    "        SELECT customer_zip_code_prefix, COUNT(customer_id) AS nombre_de_commandes\n",
    "        FROM customers\n",
    "        GROUP BY customer_zip_code_prefix\n",
    "        HAVING COUNT(customer_id) > 30\n",
    "    )\n",
    "    SELECT customer_zip_code_prefix, c.customer_id, order_id\n",
    "    FROM valid_orders vo\n",
    "    INNER JOIN customers c\n",
    "    ON vo.customer_id = c.customer_id\n",
    "    WHERE customer_zip_code_prefix IN (SELECT customer_zip_code_prefix FROM zip_codes)\n",
    "    ORDER BY customer_zip_code_prefix\n",
    ")\n",
    "SELECT customer_zip_code_prefix, ROUND(AVG(review_score), 2) AS moyenne_review_scores\n",
    "FROM orders_zip_codes ozc\n",
    "LEFT JOIN order_reviews o\n",
    "ON o.order_id = ozc.order_id\n",
    "GROUP BY customer_zip_code_prefix\n",
    "ORDER BY moyenne_review_scores ASC\n",
    "LIMIT 5\n",
    "```"
   ]
  },
  {
   "cell_type": "code",
   "execution_count": null,
   "id": "a46e6013-d324-40b9-a8a3-fdbfcf4cde74",
   "metadata": {},
   "outputs": [],
   "source": []
  }
 ],
 "metadata": {
  "kernelspec": {
   "display_name": "Python 3 (ipykernel)",
   "language": "python",
   "name": "python3"
  },
  "language_info": {
   "codemirror_mode": {
    "name": "ipython",
    "version": 3
   },
   "file_extension": ".py",
   "mimetype": "text/x-python",
   "name": "python",
   "nbconvert_exporter": "python",
   "pygments_lexer": "ipython3",
   "version": "3.11.8"
  }
 },
 "nbformat": 4,
 "nbformat_minor": 5
}
