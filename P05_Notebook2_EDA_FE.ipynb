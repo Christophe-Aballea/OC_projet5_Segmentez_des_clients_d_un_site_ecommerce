{
 "cells": [
  {
   "cell_type": "markdown",
   "id": "b9883035-52f7-49c4-8b77-add837a74210",
   "metadata": {},
   "source": [
    "# Segmentez des clients d'un site e-commerce\n",
    "## Notebook 2 : Analyse exploratoire et premier feature ingineering\n",
    "OpenClassrooms - Parcours Data Scientist - Projet 05  "
   ]
  },
  {
   "cell_type": "markdown",
   "id": "14455e89-ea28-4542-bc30-ac5b6cbac1ae",
   "metadata": {},
   "source": [
    "## Sommaire  \n",
    "**Préparation de l'environnement**  \n",
    "* Environnement virtuel\n",
    "* Import des modules\n",
    "* Fonction\n",
    "\n",
    "**Analyse exploratoire**\n",
    "* Schéma relationnel   \n",
    "* Analyses univariées\n",
    "\n",
    "**Premier feature engineering**\n",
    " \n"
   ]
  },
  {
   "cell_type": "markdown",
   "id": "6bd81983-7922-408b-8410-2d10871293f0",
   "metadata": {},
   "source": [
    "# 1 Préparation de l'environnement"
   ]
  },
  {
   "cell_type": "markdown",
   "id": "aca5d398-3f3c-4646-b903-6e54968b30b3",
   "metadata": {},
   "source": [
    "## 1.1 Environnement virtuel"
   ]
  },
  {
   "cell_type": "code",
   "execution_count": 1,
   "id": "0cf1bbd4-94e6-4e68-b02e-077f05cac794",
   "metadata": {},
   "outputs": [
    {
     "name": "stdout",
     "output_type": "stream",
     "text": [
      "Environnement virtuel : C:\\Users\\chrab\\anaconda3\\envs\\opc5\n"
     ]
    }
   ],
   "source": [
    "# Vérification environnement virtuel\n",
    "envs = !conda env list\n",
    "print(f\"Environnement virtuel : {[e for e in envs if '*' in e][0].split('*')[1].strip()}\")"
   ]
  },
  {
   "cell_type": "markdown",
   "id": "b241df5b-4c21-4252-b7c4-b369583a741b",
   "metadata": {},
   "source": [
    "## 1.2 Import des modules"
   ]
  },
  {
   "cell_type": "code",
   "execution_count": 2,
   "id": "3482119c-62c1-46e2-a4d9-078efbaf6145",
   "metadata": {},
   "outputs": [],
   "source": [
    "# Installation des librairies\n",
    "!pip install ipython-sql --quiet\n",
    "!pip install pandas --quiet\n",
    "!pip install numpy --quiet"
   ]
  },
  {
   "cell_type": "code",
   "execution_count": 3,
   "id": "ff1a126f-ebe4-4e3e-8def-c6dadae601b0",
   "metadata": {},
   "outputs": [],
   "source": [
    "# Import des modules\n",
    "import pandas as pd\n",
    "import sqlite3"
   ]
  },
  {
   "cell_type": "markdown",
   "id": "4c429f5a-398b-499b-bade-965583bb5c1d",
   "metadata": {},
   "source": [
    "## 1.3 Fonctions"
   ]
  },
  {
   "cell_type": "code",
   "execution_count": 4,
   "id": "392e6df0-3450-45e2-ac4d-ba6134517d50",
   "metadata": {},
   "outputs": [],
   "source": [
    "# Renvoit le résultat d'une requête SQL\n",
    "def query_result(query: str, all_rows: bool=True):\n",
    "    conn = sqlite3.connect('olist.db')\n",
    "    cursor = conn.cursor()\n",
    "    cursor.execute(query)\n",
    "    if all_rows:\n",
    "        result = cursor.fetchall()\n",
    "    else:\n",
    "        result = cursor.fetchone()\n",
    "        if len(result) == 1:\n",
    "            result = result[0]\n",
    "    return result"
   ]
  },
  {
   "cell_type": "code",
   "execution_count": 5,
   "id": "227d042b-06b1-41af-8a07-11a9aef87aa7",
   "metadata": {},
   "outputs": [],
   "source": [
    "# Description des champs d'une table\n",
    "def describe_table(table_name: str, fields=None):\n",
    "    \n",
    "    # Préparation des colonnes du dataframe de descriptions\n",
    "    df_names, df_types, df_unique_values, df_duplicates, df_missing_values, df_percentage_missing = [], [], [], [], [], []\n",
    "    \n",
    "    # Récupération de la liste des champs de la table\n",
    "    pragma = query_result(f\"PRAGMA table_info({table_name});\")\n",
    "    table_fields = [row[1] for row in pragma]\n",
    "\n",
    "    # Constitution de la liste des champs à décrire\n",
    "    if fields is None:\n",
    "        fields = [field for field in table_fields if field != 'index']\n",
    "    elif isinstance(fields, str):\n",
    "        fields = [fields]\n",
    "        \n",
    "    # Récupération/calculs des informations descriptives\n",
    "    total_rows = query_result(f\"SELECT COUNT(*) FROM {table_name};\", False)\n",
    "    for field_index, field_name in enumerate(table_fields):\n",
    "        if field_name in fields:\n",
    "            field_type = pragma[field_index][2]\n",
    "            unique_values = query_result(f\"SELECT COUNT(DISTINCT {field_name}) FROM {table_name};\", False)\n",
    "            non_null_values = query_result(f\"SELECT COUNT({field_name}) FROM {table_name};\", False)\n",
    "            duplicates = non_null_values - unique_values\n",
    "            missing_values = total_rows - non_null_values\n",
    "            percentage_missing = (missing_values / total_rows) * 100 if total_rows > 0 else 0\n",
    "            percentage_missing = str(round(percentage_missing, 2)) + ' %'\n",
    "\n",
    "            df_names.append(field_name)\n",
    "            df_types.append(field_type)\n",
    "            df_unique_values.append(unique_values)\n",
    "            df_duplicates.append(duplicates)\n",
    "            df_missing_values.append(missing_values)\n",
    "            df_percentage_missing.append(percentage_missing)\n",
    "\n",
    "    # Céation du dataframe de description\n",
    "    df_infos = pd.DataFrame({\n",
    "        'Colonne': df_names,\n",
    "        'Type': df_types,\n",
    "        'Valeurs uniques': df_unique_values,\n",
    "        'Doublons': df_duplicates,\n",
    "        'Valeurs manquantes': df_missing_values,\n",
    "        '% valeurs manquantes': df_percentage_missing\n",
    "    }).reset_index(drop=True)\n",
    "    \n",
    "    return df_infos"
   ]
  },
  {
   "cell_type": "markdown",
   "id": "21a26907-c9ab-4cfa-900c-2cefbaa1845e",
   "metadata": {},
   "source": [
    "# 2 Analyse exploratoire"
   ]
  },
  {
   "cell_type": "markdown",
   "id": "0952d2b8-948b-4cc0-9d77-ab2efc93defd",
   "metadata": {},
   "source": [
    "## 2.1 Schéma relationnel"
   ]
  },
  {
   "cell_type": "markdown",
   "id": "a364a382-016f-4e50-9186-6ef81d1533b1",
   "metadata": {},
   "source": [
    "![shema relationnel](schema_relationnel_olist.png \"Shéma relationnel BDD olist\")"
   ]
  },
  {
   "cell_type": "markdown",
   "id": "769fb32b-f2a0-4b45-893c-8e82a3be1a26",
   "metadata": {},
   "source": [
    "L'objectif est de réaliser une **segmentation des clients**.  \n",
    "La première étape est de réaliser une RFM simple, je vais donc porter une attention particulière sur les champs me permettant de calculer les scores :  \n",
    "* **Récence** : date de la dernière commande => `orders.order_approved_at` ?\n",
    "* **Fréquence** : nombre total de commandes => `customers.customer_id`, `orders.order_id` ou `orders.customer_id` ?\n",
    "* **Montant** : valeur totale des achats => `order_items.price` (+ `order_items.freight` ?), `order_pymts.payment_value` ?  "
   ]
  },
  {
   "cell_type": "markdown",
   "id": "6775839a-50d0-4914-a4cc-c6bc1191e538",
   "metadata": {},
   "source": [
    "## 2.2 Analyses univariées"
   ]
  },
  {
   "cell_type": "markdown",
   "id": "fa6f28ab-cb7c-4a41-a0f9-838aaa234308",
   "metadata": {},
   "source": [
    "### 2.2.1 Table `orders`"
   ]
  },
  {
   "cell_type": "code",
   "execution_count": 6,
   "id": "a63bbdc6-d783-451f-91cd-ed91b7d5a819",
   "metadata": {},
   "outputs": [
    {
     "data": {
      "text/html": [
       "<div>\n",
       "<style scoped>\n",
       "    .dataframe tbody tr th:only-of-type {\n",
       "        vertical-align: middle;\n",
       "    }\n",
       "\n",
       "    .dataframe tbody tr th {\n",
       "        vertical-align: top;\n",
       "    }\n",
       "\n",
       "    .dataframe thead th {\n",
       "        text-align: right;\n",
       "    }\n",
       "</style>\n",
       "<table border=\"1\" class=\"dataframe\">\n",
       "  <thead>\n",
       "    <tr style=\"text-align: right;\">\n",
       "      <th></th>\n",
       "      <th>Colonne</th>\n",
       "      <th>Type</th>\n",
       "      <th>Valeurs uniques</th>\n",
       "      <th>Doublons</th>\n",
       "      <th>Valeurs manquantes</th>\n",
       "      <th>% valeurs manquantes</th>\n",
       "    </tr>\n",
       "  </thead>\n",
       "  <tbody>\n",
       "    <tr>\n",
       "      <th>0</th>\n",
       "      <td>order_id</td>\n",
       "      <td>TEXT</td>\n",
       "      <td>99441</td>\n",
       "      <td>0</td>\n",
       "      <td>0</td>\n",
       "      <td>0.0 %</td>\n",
       "    </tr>\n",
       "    <tr>\n",
       "      <th>1</th>\n",
       "      <td>customer_id</td>\n",
       "      <td>TEXT</td>\n",
       "      <td>99441</td>\n",
       "      <td>0</td>\n",
       "      <td>0</td>\n",
       "      <td>0.0 %</td>\n",
       "    </tr>\n",
       "    <tr>\n",
       "      <th>2</th>\n",
       "      <td>order_status</td>\n",
       "      <td>TEXT</td>\n",
       "      <td>8</td>\n",
       "      <td>99433</td>\n",
       "      <td>0</td>\n",
       "      <td>0.0 %</td>\n",
       "    </tr>\n",
       "    <tr>\n",
       "      <th>3</th>\n",
       "      <td>order_purchase_timestamp</td>\n",
       "      <td>TEXT</td>\n",
       "      <td>98875</td>\n",
       "      <td>566</td>\n",
       "      <td>0</td>\n",
       "      <td>0.0 %</td>\n",
       "    </tr>\n",
       "    <tr>\n",
       "      <th>4</th>\n",
       "      <td>order_approved_at</td>\n",
       "      <td>TEXT</td>\n",
       "      <td>90733</td>\n",
       "      <td>8548</td>\n",
       "      <td>160</td>\n",
       "      <td>0.16 %</td>\n",
       "    </tr>\n",
       "    <tr>\n",
       "      <th>5</th>\n",
       "      <td>order_delivered_carrier_date</td>\n",
       "      <td>TEXT</td>\n",
       "      <td>81018</td>\n",
       "      <td>16640</td>\n",
       "      <td>1783</td>\n",
       "      <td>1.79 %</td>\n",
       "    </tr>\n",
       "    <tr>\n",
       "      <th>6</th>\n",
       "      <td>order_delivered_customer_date</td>\n",
       "      <td>TEXT</td>\n",
       "      <td>95664</td>\n",
       "      <td>812</td>\n",
       "      <td>2965</td>\n",
       "      <td>2.98 %</td>\n",
       "    </tr>\n",
       "    <tr>\n",
       "      <th>7</th>\n",
       "      <td>order_estimated_delivery_date</td>\n",
       "      <td>TEXT</td>\n",
       "      <td>459</td>\n",
       "      <td>98982</td>\n",
       "      <td>0</td>\n",
       "      <td>0.0 %</td>\n",
       "    </tr>\n",
       "  </tbody>\n",
       "</table>\n",
       "</div>"
      ],
      "text/plain": [
       "                         Colonne  Type  Valeurs uniques  Doublons  \\\n",
       "0                       order_id  TEXT            99441         0   \n",
       "1                    customer_id  TEXT            99441         0   \n",
       "2                   order_status  TEXT                8     99433   \n",
       "3       order_purchase_timestamp  TEXT            98875       566   \n",
       "4              order_approved_at  TEXT            90733      8548   \n",
       "5   order_delivered_carrier_date  TEXT            81018     16640   \n",
       "6  order_delivered_customer_date  TEXT            95664       812   \n",
       "7  order_estimated_delivery_date  TEXT              459     98982   \n",
       "\n",
       "   Valeurs manquantes % valeurs manquantes  \n",
       "0                   0                0.0 %  \n",
       "1                   0                0.0 %  \n",
       "2                   0                0.0 %  \n",
       "3                   0                0.0 %  \n",
       "4                 160               0.16 %  \n",
       "5                1783               1.79 %  \n",
       "6                2965               2.98 %  \n",
       "7                   0                0.0 %  "
      ]
     },
     "metadata": {},
     "output_type": "display_data"
    }
   ],
   "source": [
    "display(describe_table('orders'))"
   ]
  }
 ],
 "metadata": {
  "kernelspec": {
   "display_name": "Python 3 (ipykernel)",
   "language": "python",
   "name": "python3"
  },
  "language_info": {
   "codemirror_mode": {
    "name": "ipython",
    "version": 3
   },
   "file_extension": ".py",
   "mimetype": "text/x-python",
   "name": "python",
   "nbconvert_exporter": "python",
   "pygments_lexer": "ipython3",
   "version": "3.11.8"
  }
 },
 "nbformat": 4,
 "nbformat_minor": 5
}
