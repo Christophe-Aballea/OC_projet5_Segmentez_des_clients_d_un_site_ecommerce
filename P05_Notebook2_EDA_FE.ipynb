{
 "cells": [
  {
   "cell_type": "markdown",
   "id": "b9883035-52f7-49c4-8b77-add837a74210",
   "metadata": {},
   "source": [
    "# Segmentez des clients d'un site e-commerce\n",
    "## Notebook 2 : Analyse exploratoire et premier feature ingineering\n",
    "OpenClassrooms - Parcours Data Scientist - Projet 05  "
   ]
  },
  {
   "cell_type": "markdown",
   "id": "14455e89-ea28-4542-bc30-ac5b6cbac1ae",
   "metadata": {},
   "source": [
    "## Sommaire  \n",
    "**Préparation de l'environnement**  \n",
    "* Environnement virtuel\n",
    "* Import des modules\n",
    "* Chargement des extensions\n",
    "* Paramétrages\n",
    "* Connexion à la BDD Olist (SQLite)\n",
    "\n",
    "**Analyse exploratoire**\n",
    " \n",
    "\n",
    "**Premier feature engineering**\n",
    " \n"
   ]
  },
  {
   "cell_type": "markdown",
   "id": "6bd81983-7922-408b-8410-2d10871293f0",
   "metadata": {},
   "source": [
    "# 1 Préparation de l'environnement"
   ]
  },
  {
   "cell_type": "markdown",
   "id": "aca5d398-3f3c-4646-b903-6e54968b30b3",
   "metadata": {},
   "source": [
    "## 1.1 Environnement virtuel"
   ]
  },
  {
   "cell_type": "code",
   "execution_count": 1,
   "id": "0cf1bbd4-94e6-4e68-b02e-077f05cac794",
   "metadata": {},
   "outputs": [
    {
     "name": "stdout",
     "output_type": "stream",
     "text": [
      "Environnement virtuel : C:\\Users\\chrab\\anaconda3\\envs\\opc5\n"
     ]
    }
   ],
   "source": [
    "# Vérification environnement virtuel\n",
    "envs = !conda env list\n",
    "print(f\"Environnement virtuel : {[e for e in envs if '*' in e][0].split('*')[1].strip()}\")"
   ]
  },
  {
   "cell_type": "markdown",
   "id": "b241df5b-4c21-4252-b7c4-b369583a741b",
   "metadata": {},
   "source": [
    "## 1.2 Import des modules"
   ]
  },
  {
   "cell_type": "code",
   "execution_count": 2,
   "id": "3482119c-62c1-46e2-a4d9-078efbaf6145",
   "metadata": {},
   "outputs": [],
   "source": [
    "# Installation des librairies\n",
    "!pip install ipython-sql --quiet\n",
    "!pip install pandas --quiet\n",
    "!pip install numpy --quiet"
   ]
  },
  {
   "cell_type": "code",
   "execution_count": 3,
   "id": "ff1a126f-ebe4-4e3e-8def-c6dadae601b0",
   "metadata": {},
   "outputs": [],
   "source": [
    "# Import des modules\n",
    "import pandas as pd"
   ]
  },
  {
   "cell_type": "markdown",
   "id": "f52f5584-4a2f-4fcb-98bc-1644cd29e921",
   "metadata": {},
   "source": [
    "## 1.3 Chargement des extensions"
   ]
  },
  {
   "cell_type": "code",
   "execution_count": 4,
   "id": "09d2dae2-11db-4f50-99cb-cfce79460ae0",
   "metadata": {},
   "outputs": [],
   "source": [
    "# Chargement de l'extension sqlite\n",
    "%load_ext sql"
   ]
  },
  {
   "cell_type": "markdown",
   "id": "405603e8-9455-43be-989a-a11ea43e42c6",
   "metadata": {},
   "source": [
    "## 1.4 Paramétrages"
   ]
  },
  {
   "cell_type": "code",
   "execution_count": 5,
   "id": "0d823e21-c5ae-4142-95c5-45e79c48f891",
   "metadata": {},
   "outputs": [],
   "source": [
    "# Suppression du message de connection à chaque exécution d'une requête\n",
    "%config SqlMagic.displaycon = False"
   ]
  },
  {
   "cell_type": "markdown",
   "id": "c6abc5e4-9ac4-40b4-8667-c56de79d0a6a",
   "metadata": {},
   "source": [
    "## 1.5 Connexion à la BDD Olist (SQLite)"
   ]
  },
  {
   "cell_type": "code",
   "execution_count": 6,
   "id": "b755d39d-c1af-44d0-8a79-beb6499a6afe",
   "metadata": {},
   "outputs": [],
   "source": [
    "# Connexion à la base de données\n",
    "# Le fichier 'olist.db' se trouve dans le répertoire courant\n",
    "%sql sqlite:///olist.db"
   ]
  },
  {
   "cell_type": "markdown",
   "id": "21a26907-c9ab-4cfa-900c-2cefbaa1845e",
   "metadata": {},
   "source": [
    "# 2 Analyse exploratoire"
   ]
  },
  {
   "cell_type": "markdown",
   "id": "0952d2b8-948b-4cc0-9d77-ab2efc93defd",
   "metadata": {},
   "source": [
    "## 2.1 Schéma relationnel"
   ]
  },
  {
   "cell_type": "markdown",
   "id": "a364a382-016f-4e50-9186-6ef81d1533b1",
   "metadata": {},
   "source": [
    "![shema relationnel](schema_relationnel_olist.png \"Shéma relationnel BDD olist\")"
   ]
  },
  {
   "cell_type": "code",
   "execution_count": null,
   "id": "5ebc7426-2584-42bd-9e39-926fa19bcae7",
   "metadata": {},
   "outputs": [],
   "source": []
  }
 ],
 "metadata": {
  "kernelspec": {
   "display_name": "Python 3 (ipykernel)",
   "language": "python",
   "name": "python3"
  },
  "language_info": {
   "codemirror_mode": {
    "name": "ipython",
    "version": 3
   },
   "file_extension": ".py",
   "mimetype": "text/x-python",
   "name": "python",
   "nbconvert_exporter": "python",
   "pygments_lexer": "ipython3",
   "version": "3.11.8"
  }
 },
 "nbformat": 4,
 "nbformat_minor": 5
}
