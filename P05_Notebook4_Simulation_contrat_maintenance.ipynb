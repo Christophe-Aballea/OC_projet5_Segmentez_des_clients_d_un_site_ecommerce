{
 "cells": [
  {
   "cell_type": "markdown",
   "id": "10786e2e-4fc5-4e01-ab87-bc6e8ecefe0a",
   "metadata": {},
   "source": [
    "## <span style=\"color:green\">**Version en cours**</span>"
   ]
  },
  {
   "cell_type": "markdown",
   "id": "ea4c6f55-5b17-4763-b36f-83e0bf55061d",
   "metadata": {},
   "source": [
    "# Segmentez des clients d'un site e-commerce\n",
    "## Notebook 4 : Simulation d'un contrat de maintenance\n",
    "OpenClassrooms - Parcours Data Scientist - Projet 05  "
   ]
  },
  {
   "cell_type": "markdown",
   "id": "fc1cfdab-dcbc-42fa-b57c-fb0e4b5eb056",
   "metadata": {},
   "source": [
    "## Présentation du projet"
   ]
  },
  {
   "cell_type": "markdown",
   "id": "f11bc9da-18d2-4843-9a6d-4b96990654b9",
   "metadata": {},
   "source": [
    "**Contexte**  \n"
   ]
  },
  {
   "cell_type": "markdown",
   "id": "d4205957-5bba-43f8-a2f2-d871dcce3816",
   "metadata": {},
   "source": [
    "* Olist est une entreprise brésilienne qui propose une solution de vente sur les marketplaces en ligne.  \n",
    "* Dans un premier temps il est demandé de réaliser quelques requêtes pour le dashboard à partir de la base de données SQLite d'Olist.  \n",
    "* La mission principale est de fournir aux équipes d'e-commerce d'Olist une **segmentation des clients** qu’elles pourront utiliser au quotidien pour leurs campagnes de communication."
   ]
  },
  {
   "cell_type": "markdown",
   "id": "4f590377-a6bd-4306-8a42-bc9f546e600d",
   "metadata": {},
   "source": [
    "**Démarche globale**  \n",
    "* Requêtes SQL pour le dashboard (cf Notebook 1)  \n",
    "* Feature ingineering (cf Notebook 2)\n",
    "* Tests de modèles de clustering : (cf Notebook 3)  \n",
    "* **Simulation d'un contrat de maintenance** : c'est l'objet de ce notebook 4  "
   ]
  },
  {
   "cell_type": "markdown",
   "id": "3f36d822-9fe0-4ab4-adff-730bdd20d9b5",
   "metadata": {},
   "source": [
    "**Simulation d'un contrat de maintenance**  \n",
    "* Objectif : déterminer au bout de combien de temps le modèle retenu doit être réentrainé  \n",
    "* Démarche :\n",
    "  * Comparer les résultats du dernier clustering réalisé (fin août 2018) avec les prédictions d'un modèle entrainé X jours avant  \n",
    "  * La comparaison sera mesurée par le score ARI (Adjusted Rand Index) qui mesure la divergence entre clusters  \n",
    "  * Si les score obtenu est supérieur à 0.80, considérer que les prédictions sont suffisament fiables et on retester avec les prédictions d'un modèle entraîné X jours avant\n",
    "  * Le délai avant de devoir réentraîner le modèle sera déterminé dès que le score ARI sera descendu sous le seuil de 0.80"
   ]
  },
  {
   "cell_type": "markdown",
   "id": "29863d34-c2d0-4a7d-b1d8-4b3399aa417e",
   "metadata": {},
   "source": [
    "## Sommaire  \n",
    "**Préparation de l'environnement**  \n",
    "* Environnement virtuel\n",
    "* Import des modules\n",
    "* Fonctions\n",
    "\n",
    "**Préparation des données**  \n"
   ]
  },
  {
   "cell_type": "markdown",
   "id": "a3daedac-dc34-4b68-b958-e528196786ac",
   "metadata": {},
   "source": [
    "# 1 Préparation de l'environnement"
   ]
  },
  {
   "cell_type": "markdown",
   "id": "56dc3b18-f0a9-4076-ae43-efea2838ad5a",
   "metadata": {},
   "source": [
    "## 1.1 Environnement virtuel"
   ]
  },
  {
   "cell_type": "code",
   "execution_count": 1,
   "id": "63ca94b3-ad4d-4ba5-a065-cf42153dece1",
   "metadata": {},
   "outputs": [
    {
     "name": "stdout",
     "output_type": "stream",
     "text": [
      "Environnement virtuel : C:\\Users\\chrab\\anaconda3\\envs\\opc5\n"
     ]
    }
   ],
   "source": [
    "# Vérification environnement virtuel\n",
    "envs = !conda env list\n",
    "print(f\"Environnement virtuel : {[e for e in envs if '*' in e][0].split('*')[1].strip()}\")"
   ]
  },
  {
   "cell_type": "markdown",
   "id": "ecd91d5d-e461-4d15-b1e0-b4b4af70e01a",
   "metadata": {},
   "source": [
    "## 1.2 Import des modules"
   ]
  },
  {
   "cell_type": "markdown",
   "id": "9b8911d8-a1d4-4360-a159-aa0faab09af8",
   "metadata": {},
   "source": [
    "* Installation conditionnelle des librairies"
   ]
  },
  {
   "cell_type": "code",
   "execution_count": 2,
   "id": "68d3c7d4-6b29-4ce2-a0f3-138bec6e4423",
   "metadata": {},
   "outputs": [],
   "source": [
    "import sys\n",
    "import subprocess\n",
    "import pkg_resources\n",
    "\n",
    "def install_package(package):\n",
    "    \"\"\"Installe une librairie en mode silencieux si elle n'est pas encore installée\"\"\"\n",
    "    try:\n",
    "        pkg_resources.get_distribution(package)\n",
    "    except pkg_resources.DistributionNotFound:\n",
    "        print(f\"Installation {package}... \", end='')\n",
    "        subprocess.check_call([sys.executable, \"-m\", \"pip\", \"install\", package, \"--quiet\"])\n",
    "        print(f\"Terminé.\")\n",
    "    else:\n",
    "        print(f\"{package} est déjà installé.\")"
   ]
  },
  {
   "cell_type": "code",
   "execution_count": 3,
   "id": "9c1c1f95-1ea6-4e16-a1fa-1373e5690402",
   "metadata": {},
   "outputs": [
    {
     "name": "stdout",
     "output_type": "stream",
     "text": [
      "pandas est déjà installé.\n",
      "scikit-learn est déjà installé.\n"
     ]
    }
   ],
   "source": [
    "# Installation des librairies\n",
    "install_package('pandas')\n",
    "install_package('scikit-learn')"
   ]
  },
  {
   "cell_type": "markdown",
   "id": "e7de9dbc-dc2b-47bc-be6d-532b5df308f2",
   "metadata": {},
   "source": [
    "* Import des modules"
   ]
  },
  {
   "cell_type": "code",
   "execution_count": 4,
   "id": "5df35763-b578-4caf-92a0-8ff572a0100f",
   "metadata": {},
   "outputs": [],
   "source": [
    "import pandas as pd\n",
    "from datetime import datetime, timedelta\n",
    "from sklearn.preprocessing import MinMaxScaler\n",
    "from sklearn.cluster import KMeans\n",
    "from sklearn.metrics import adjusted_rand_score"
   ]
  },
  {
   "cell_type": "markdown",
   "id": "549744d8-350c-4a38-93f6-a9ad909f83ad",
   "metadata": {},
   "source": [
    "## 1.3 Fonctions"
   ]
  },
  {
   "cell_type": "code",
   "execution_count": 5,
   "id": "b4d0266f-9c18-4642-82ce-b4ab48588371",
   "metadata": {},
   "outputs": [],
   "source": [
    "def get_RFM_features(df, end_date):\n",
    "    \"\"\"Renvoit un dataframe contenant une ligne par client ayant commandé avant 'end_date' ainsi que les features :\n",
    "    - 'Récence'   : nombre de jours depuis la dernière commande\n",
    "    - 'Fréquence' : 0 si le client a passé une seule commande, 1 s'il en a passé plusieurs\n",
    "    - 'Montant'   : total des montants des commandes du client\n",
    "    \"\"\"\n",
    "    # Dernière date de commande\n",
    "    last_purchase_date = df['order_purchase_timestamp'].max()\n",
    "    \n",
    "    # Filtre sur la date de fin\n",
    "    mask = df['order_purchase_timestamp'] < end_date\n",
    "    \n",
    "    # Préparation du dataframe\n",
    "    df_data = df.loc[mask].groupby('customer_unique_id').agg(\n",
    "        Récence = ('order_purchase_timestamp', 'max'),\n",
    "        Fréquence = ('customer_id', 'count'),\n",
    "        Montant = ('total_price', 'sum')\n",
    "    ).reset_index()\n",
    "    \n",
    "    # Récence\n",
    "    df_data['Récence'] = (last_purchase_date - df_data['Récence']).dt.days\n",
    "\n",
    "    # Fréquence\n",
    "    mask = df_data['Fréquence'] > 1\n",
    "    df_data['Fréquence'] = 0\n",
    "    df_data.loc[mask, 'Fréquence'] = 1\n",
    "\n",
    "    return df_data"
   ]
  },
  {
   "cell_type": "code",
   "execution_count": 6,
   "id": "ec066d1f-338e-4b83-805c-c789ecfbd988",
   "metadata": {},
   "outputs": [],
   "source": [
    "def add_transformed_RFM_features(df, recence_t=MinMaxScaler(), montant_t=MinMaxScaler()):\n",
    "    \"\"\"Ajoute les features RFM transformées df et renvoit les transformers utilisés\"\"\"\n",
    "    # Récence\n",
    "    recence_transformer = recence_t.fit(df[['Récence']])\n",
    "    df['Récence_minmax'] = recence_transformer.transform(df[['Récence']])\n",
    "\n",
    "    # Fréquence (valeurs déjà comprise entre 0 et 1)\n",
    "    df['Fréquence_minmax'] = df['Fréquence']\n",
    "\n",
    "    # Classement par intervalles de montants\n",
    "    bins = [0, 25, 50, 100, 150, 200, 250, 500, 1000, float('inf')]\n",
    "    labels = range(len(bins) - 1)\n",
    "    df['Montant_class'] = pd.cut(df['Montant'], bins=bins, labels=labels, right=False)\n",
    "    montant_transformer = montant_t.fit(df[['Montant_class']])\n",
    "    df['Montant_class_minmax'] = montant_transformer.transform(df[['Montant_class']])\n",
    "\n",
    "    return df, recence_transformer, montant_transformer"
   ]
  },
  {
   "cell_type": "code",
   "execution_count": 7,
   "id": "0376433f-be6c-412f-914b-7cd824c4a4a9",
   "metadata": {},
   "outputs": [],
   "source": [
    "def get_kmeans_labels(X, k, random_state=0):\n",
    "    \"\"\"Instancie un modèle KMeans et renvoit les labels\n",
    "    Arguments :\n",
    "    X (DataFrame)      : données\n",
    "    k (int)            : nombre de clusters\n",
    "    random_state (int) : seed\n",
    "    Retour :\n",
    "    (numpy.ndarray) : labels des clusters\n",
    "    \"\"\"\n",
    "    # Initialisation du modèle\n",
    "    kmeans = KMeans(n_clusters=k, random_state=0)\n",
    "    # Entraînement du modèle\n",
    "    kmeans.fit(X)\n",
    "\n",
    "    return kmeans.labels_"
   ]
  },
  {
   "cell_type": "code",
   "execution_count": 8,
   "id": "db18e273-a893-487e-818d-89bf6fdcf710",
   "metadata": {},
   "outputs": [],
   "source": [
    "def get_date_x_days_before(date_str, x):\n",
    "    # Conversion de la chaîne de caractères en date\n",
    "    date_format = \"%Y-%m-%d\"\n",
    "    date_obj = datetime.strptime(date_str, date_format).date()\n",
    "    \n",
    "    # Calcul de la date x jours avant\n",
    "    date_before_x_days = date_obj - timedelta(days=x)\n",
    "    \n",
    "    # Conversion en string\n",
    "    result_date_str = date_before_x_days.strftime(date_format)\n",
    "    return result_date_str"
   ]
  },
  {
   "cell_type": "markdown",
   "id": "c7bd11e5-40b5-4de2-90d8-719604a2037e",
   "metadata": {},
   "source": [
    "# 2 Stratégie"
   ]
  },
  {
   "cell_type": "markdown",
   "id": "3d04c5d6-068a-4ff9-8497-5203203d20b4",
   "metadata": {},
   "source": [
    "Simuler un contrat de maintenance, c’est **déterminer combien de temps le modèle entraîné peut rester performant.**  "
   ]
  },
  {
   "cell_type": "markdown",
   "id": "1a60fd22-4475-4ae7-bb29-9b57e98440b3",
   "metadata": {},
   "source": [
    "* **Comment déterminer cette \"performance\" ?**  \n",
    "   * Si on entraîne un modèle à la date D0 et qu’on utilise ce modèle entraîné pour prédire les segmentations à la date D1, il est possible de comparer ces prédictions avec la réalité, en réentraînant le modèle à la date D1.  \n",
    "   * Pour disposer du clustering réel en D1, il suffit de se positionner en D1, et de simuler une prédiction antérieure en D0, sur les données de D1.  \n",
    "   * On pourra donc comparer :  \n",
    "      * `modele_D0.predict(datas_D1).labels_` vs `model_D1.fit(datas_D1).labels_`\n",
    "      * avec `modele_D0 = KMeans(k=6).fit(datas_D0)`  \n",
    "   * Attention au fait que les datas_D0 sont en fait des données mises à l’échelle via `MinMaxScaler()`. Il faudra réutiliser la même instance de ce transformer sur les datas_D1 avant le predict pour obtenir une mise à l’échelle cohérente.  "
   ]
  },
  {
   "cell_type": "markdown",
   "id": "e9369346-a669-445e-ab38-a0c7be7a7d3f",
   "metadata": {},
   "source": [
    "* **Comment mesurer l’efficacité des prédictions ?**  \n",
    "   * SciKit-learn fournit la méthode `adjusted_rand_score()` qui mesure la divergence entre une liste de labels de clusters prédits et une liste de labels de clusters réels.  \n",
    "   * Cet indice est proche de 0 pour un clustering aléatoire, négatif pour un clustering particulièrement divergent, et est égal à 1 pour une prédiction parfaite.  \n",
    "   * Le score de **0.8** sera retenu comme seuil pour un clustering suffisamment efficace pour ne pas nécessiter de réentraîner le modèle.  "
   ]
  },
  {
   "cell_type": "markdown",
   "id": "a6acdd7f-677f-4f1a-ae18-ac0dd5ff6375",
   "metadata": {},
   "source": [
    "# 3 Préparation des données"
   ]
  },
  {
   "cell_type": "code",
   "execution_count": 9,
   "id": "03970852-9d77-4c34-8328-0516230d97fc",
   "metadata": {},
   "outputs": [],
   "source": [
    "# Chargements des tables\n",
    "df_orders = pd.read_csv('df_orders.csv')\n",
    "df_order_items = pd.read_csv('df_order_items.csv')\n",
    "df_customers = pd.read_csv('df_customers.csv')"
   ]
  },
  {
   "cell_type": "code",
   "execution_count": 10,
   "id": "cc6b4f0c-29b6-4bde-be26-0c39dabb0816",
   "metadata": {},
   "outputs": [],
   "source": [
    "# Fusion des dataframes 'df_customers' et 'df_orders'\n",
    "df_features = pd.merge(\n",
    "    df_customers[['customer_unique_id', 'customer_id']],\n",
    "    df_orders[['customer_id', 'order_id', 'order_purchase_timestamp']],\n",
    "    on='customer_id',\n",
    "    how='inner'\n",
    ")"
   ]
  },
  {
   "cell_type": "code",
   "execution_count": 11,
   "id": "c52be6aa-192d-4694-aae0-0abeffbc9872",
   "metadata": {},
   "outputs": [],
   "source": [
    "# Ajout des données permmettant le calcul de la feature 'Montant' par fusion avec le dataframe 'df_order_items'\n",
    "df_features = pd.merge(\n",
    "    df_features, #[['customer_unique_id', 'order_id', 'order_purchase_timestamp']],\n",
    "    df_order_items[['order_id', 'price', 'freight_value']],\n",
    "    on='order_id',\n",
    "    how='inner'\n",
    ")"
   ]
  },
  {
   "cell_type": "code",
   "execution_count": 12,
   "id": "a07be18b-81db-4fbb-9433-41c83511ec90",
   "metadata": {},
   "outputs": [],
   "source": [
    "# Conversion de la date d'achat au format datetime \"YYYY-MM-DD 00:00:00\"\n",
    "df_features['order_purchase_timestamp'] = pd.to_datetime(df_features['order_purchase_timestamp']).dt.normalize()"
   ]
  },
  {
   "cell_type": "code",
   "execution_count": 13,
   "id": "83a9871c-8598-4769-94ec-b1331b55cbd4",
   "metadata": {},
   "outputs": [],
   "source": [
    "# Suppression des commandes antérieures au 01/01/2017 et postérieures au 31/08/2018\n",
    "period_mask = (df_features['order_purchase_timestamp'] >= '2017-01-01') & (df_features['order_purchase_timestamp'] <= '2018-08-31')\n",
    "df_features = df_features.loc[period_mask]"
   ]
  },
  {
   "cell_type": "code",
   "execution_count": 14,
   "id": "a6d92f93-70bd-4ac8-ad78-e30bf678d462",
   "metadata": {},
   "outputs": [],
   "source": [
    "# Ajout du montant total de chaque commande\n",
    "df_features['total_price'] = df_features['price'] + df_features['freight_value']"
   ]
  },
  {
   "cell_type": "code",
   "execution_count": 15,
   "id": "766e5dde-8c39-49cc-a653-25541dc94343",
   "metadata": {},
   "outputs": [],
   "source": [
    "# Suppression des variables inutiles\n",
    "df_features.drop(columns=['price', 'freight_value'], inplace=True)"
   ]
  },
  {
   "cell_type": "code",
   "execution_count": 16,
   "id": "c5a10bbf-819d-4295-afaa-fbc206179a4a",
   "metadata": {},
   "outputs": [
    {
     "data": {
      "text/html": [
       "<div>\n",
       "<style scoped>\n",
       "    .dataframe tbody tr th:only-of-type {\n",
       "        vertical-align: middle;\n",
       "    }\n",
       "\n",
       "    .dataframe tbody tr th {\n",
       "        vertical-align: top;\n",
       "    }\n",
       "\n",
       "    .dataframe thead th {\n",
       "        text-align: right;\n",
       "    }\n",
       "</style>\n",
       "<table border=\"1\" class=\"dataframe\">\n",
       "  <thead>\n",
       "    <tr style=\"text-align: right;\">\n",
       "      <th></th>\n",
       "      <th>customer_unique_id</th>\n",
       "      <th>customer_id</th>\n",
       "      <th>order_id</th>\n",
       "      <th>order_purchase_timestamp</th>\n",
       "      <th>total_price</th>\n",
       "    </tr>\n",
       "  </thead>\n",
       "  <tbody>\n",
       "    <tr>\n",
       "      <th>0</th>\n",
       "      <td>861eff4711a542e4b93843c6dd7febb0</td>\n",
       "      <td>06b8999e2fba1a1fbc88172c00ba8bc7</td>\n",
       "      <td>00e7ee1b050b8499577073aeb2a297a1</td>\n",
       "      <td>2017-05-16</td>\n",
       "      <td>146.87</td>\n",
       "    </tr>\n",
       "    <tr>\n",
       "      <th>1</th>\n",
       "      <td>290c77bc529b7ac935b93aa66c333dc3</td>\n",
       "      <td>18955e83d337fd6b2def6b18a428ac77</td>\n",
       "      <td>29150127e6685892b6eab3eec79f59c7</td>\n",
       "      <td>2018-01-12</td>\n",
       "      <td>335.48</td>\n",
       "    </tr>\n",
       "    <tr>\n",
       "      <th>2</th>\n",
       "      <td>060e732b5b29e8181a18229c7b0b2b5e</td>\n",
       "      <td>4e7b3e00288586ebd08712fdd0374a03</td>\n",
       "      <td>b2059ed67ce144a36e2aa97d2c9e9ad2</td>\n",
       "      <td>2018-05-19</td>\n",
       "      <td>157.73</td>\n",
       "    </tr>\n",
       "    <tr>\n",
       "      <th>3</th>\n",
       "      <td>259dac757896d24d7702b9acbbff3f3c</td>\n",
       "      <td>b2b6027bc5c5109e529d4dc6358b12c3</td>\n",
       "      <td>951670f92359f4fe4a63112aa7306eba</td>\n",
       "      <td>2018-03-13</td>\n",
       "      <td>173.30</td>\n",
       "    </tr>\n",
       "    <tr>\n",
       "      <th>4</th>\n",
       "      <td>345ecd01c38d18a9036ed96c73b8d066</td>\n",
       "      <td>4f2d8ab171c80ec8364f7c12e35b23ad</td>\n",
       "      <td>6b7d50bd145f6fc7f33cebabd7e49d0f</td>\n",
       "      <td>2018-07-29</td>\n",
       "      <td>252.25</td>\n",
       "    </tr>\n",
       "    <tr>\n",
       "      <th>...</th>\n",
       "      <td>...</td>\n",
       "      <td>...</td>\n",
       "      <td>...</td>\n",
       "      <td>...</td>\n",
       "      <td>...</td>\n",
       "    </tr>\n",
       "    <tr>\n",
       "      <th>112645</th>\n",
       "      <td>1a29b476fee25c95fbafc67c5ac95cf8</td>\n",
       "      <td>17ddf5dd5d51696bb3d7c6291687be6f</td>\n",
       "      <td>6760e20addcf0121e9d58f2f1ff14298</td>\n",
       "      <td>2018-04-07</td>\n",
       "      <td>88.78</td>\n",
       "    </tr>\n",
       "    <tr>\n",
       "      <th>112646</th>\n",
       "      <td>d52a67c98be1cf6a5c84435bd38d095d</td>\n",
       "      <td>e7b71a9017aa05c9a7fd292d714858e8</td>\n",
       "      <td>9ec0c8947d973db4f4e8dcf1fbfa8f1b</td>\n",
       "      <td>2018-04-04</td>\n",
       "      <td>129.06</td>\n",
       "    </tr>\n",
       "    <tr>\n",
       "      <th>112647</th>\n",
       "      <td>e9f50caf99f032f0bf3c55141f019d99</td>\n",
       "      <td>5e28dfe12db7fb50a4b2f691faecea5e</td>\n",
       "      <td>fed4434add09a6f332ea398efd656a5c</td>\n",
       "      <td>2018-04-08</td>\n",
       "      <td>56.04</td>\n",
       "    </tr>\n",
       "    <tr>\n",
       "      <th>112648</th>\n",
       "      <td>73c2643a0a458b49f58cea58833b192e</td>\n",
       "      <td>56b18e2166679b8a959d72dd06da27f9</td>\n",
       "      <td>e31ec91cea1ecf97797787471f98a8c2</td>\n",
       "      <td>2017-11-03</td>\n",
       "      <td>711.07</td>\n",
       "    </tr>\n",
       "    <tr>\n",
       "      <th>112649</th>\n",
       "      <td>84732c5050c01db9b23e19ba39899398</td>\n",
       "      <td>274fa6071e5e17fe303b9748641082c8</td>\n",
       "      <td>28db69209a75e59f20ccbb5c36a20b90</td>\n",
       "      <td>2017-12-19</td>\n",
       "      <td>21.77</td>\n",
       "    </tr>\n",
       "  </tbody>\n",
       "</table>\n",
       "<p>112279 rows × 5 columns</p>\n",
       "</div>"
      ],
      "text/plain": [
       "                      customer_unique_id                       customer_id  \\\n",
       "0       861eff4711a542e4b93843c6dd7febb0  06b8999e2fba1a1fbc88172c00ba8bc7   \n",
       "1       290c77bc529b7ac935b93aa66c333dc3  18955e83d337fd6b2def6b18a428ac77   \n",
       "2       060e732b5b29e8181a18229c7b0b2b5e  4e7b3e00288586ebd08712fdd0374a03   \n",
       "3       259dac757896d24d7702b9acbbff3f3c  b2b6027bc5c5109e529d4dc6358b12c3   \n",
       "4       345ecd01c38d18a9036ed96c73b8d066  4f2d8ab171c80ec8364f7c12e35b23ad   \n",
       "...                                  ...                               ...   \n",
       "112645  1a29b476fee25c95fbafc67c5ac95cf8  17ddf5dd5d51696bb3d7c6291687be6f   \n",
       "112646  d52a67c98be1cf6a5c84435bd38d095d  e7b71a9017aa05c9a7fd292d714858e8   \n",
       "112647  e9f50caf99f032f0bf3c55141f019d99  5e28dfe12db7fb50a4b2f691faecea5e   \n",
       "112648  73c2643a0a458b49f58cea58833b192e  56b18e2166679b8a959d72dd06da27f9   \n",
       "112649  84732c5050c01db9b23e19ba39899398  274fa6071e5e17fe303b9748641082c8   \n",
       "\n",
       "                                order_id order_purchase_timestamp  total_price  \n",
       "0       00e7ee1b050b8499577073aeb2a297a1               2017-05-16       146.87  \n",
       "1       29150127e6685892b6eab3eec79f59c7               2018-01-12       335.48  \n",
       "2       b2059ed67ce144a36e2aa97d2c9e9ad2               2018-05-19       157.73  \n",
       "3       951670f92359f4fe4a63112aa7306eba               2018-03-13       173.30  \n",
       "4       6b7d50bd145f6fc7f33cebabd7e49d0f               2018-07-29       252.25  \n",
       "...                                  ...                      ...          ...  \n",
       "112645  6760e20addcf0121e9d58f2f1ff14298               2018-04-07        88.78  \n",
       "112646  9ec0c8947d973db4f4e8dcf1fbfa8f1b               2018-04-04       129.06  \n",
       "112647  fed4434add09a6f332ea398efd656a5c               2018-04-08        56.04  \n",
       "112648  e31ec91cea1ecf97797787471f98a8c2               2017-11-03       711.07  \n",
       "112649  28db69209a75e59f20ccbb5c36a20b90               2017-12-19        21.77  \n",
       "\n",
       "[112279 rows x 5 columns]"
      ]
     },
     "metadata": {},
     "output_type": "display_data"
    }
   ],
   "source": [
    "# Affichage des première et dernières lignes\n",
    "display(df_features)"
   ]
  },
  {
   "cell_type": "code",
   "execution_count": 17,
   "id": "b6a9f538-296a-4191-a0bd-a26d054038ec",
   "metadata": {},
   "outputs": [
    {
     "data": {
      "text/plain": [
       "customer_unique_id          0.0\n",
       "customer_id                 0.0\n",
       "order_id                    0.0\n",
       "order_purchase_timestamp    0.0\n",
       "total_price                 0.0\n",
       "dtype: float64"
      ]
     },
     "metadata": {},
     "output_type": "display_data"
    }
   ],
   "source": [
    "# Vérification des données manquantes\n",
    "display(df_features.isna().mean())"
   ]
  },
  {
   "cell_type": "code",
   "execution_count": 18,
   "id": "dd4beb73-338a-44a4-884c-392c4d9d17ab",
   "metadata": {},
   "outputs": [
    {
     "data": {
      "text/plain": [
       "95121"
      ]
     },
     "metadata": {},
     "output_type": "display_data"
    }
   ],
   "source": [
    "# Nombre de clients : doit être égal à 95121 (cf Notebook 2)\n",
    "display(df_features['customer_unique_id'].nunique())"
   ]
  },
  {
   "cell_type": "markdown",
   "id": "f172eb75-1a54-45de-bb7c-5b83fc4d8743",
   "metadata": {},
   "source": [
    "# 4 TROUVER TITRE"
   ]
  },
  {
   "cell_type": "markdown",
   "id": "afcc4bfd-1164-4af9-ae36-7508fe8aaca5",
   "metadata": {},
   "source": [
    "## 4.1 Liste des labels de clusters au 31/08/2018"
   ]
  },
  {
   "cell_type": "code",
   "execution_count": 19,
   "id": "02360a51-4a84-4a24-bcb8-1e5eebe0646f",
   "metadata": {},
   "outputs": [],
   "source": [
    "last_date = '2018-08-31'"
   ]
  },
  {
   "cell_type": "code",
   "execution_count": 20,
   "id": "8257fb1d-6b62-4f1a-b071-c1510340a7a0",
   "metadata": {},
   "outputs": [
    {
     "data": {
      "text/html": [
       "<div>\n",
       "<style scoped>\n",
       "    .dataframe tbody tr th:only-of-type {\n",
       "        vertical-align: middle;\n",
       "    }\n",
       "\n",
       "    .dataframe tbody tr th {\n",
       "        vertical-align: top;\n",
       "    }\n",
       "\n",
       "    .dataframe thead th {\n",
       "        text-align: right;\n",
       "    }\n",
       "</style>\n",
       "<table border=\"1\" class=\"dataframe\">\n",
       "  <thead>\n",
       "    <tr style=\"text-align: right;\">\n",
       "      <th></th>\n",
       "      <th>customer_unique_id</th>\n",
       "      <th>Récence</th>\n",
       "      <th>Fréquence</th>\n",
       "      <th>Montant</th>\n",
       "    </tr>\n",
       "  </thead>\n",
       "  <tbody>\n",
       "    <tr>\n",
       "      <th>0</th>\n",
       "      <td>0000366f3b9a7992bf8c76cfdf3221e2</td>\n",
       "      <td>111</td>\n",
       "      <td>0</td>\n",
       "      <td>141.90</td>\n",
       "    </tr>\n",
       "    <tr>\n",
       "      <th>1</th>\n",
       "      <td>0000b849f77a49e4a4ce2b2a4ca5be3f</td>\n",
       "      <td>114</td>\n",
       "      <td>0</td>\n",
       "      <td>27.19</td>\n",
       "    </tr>\n",
       "    <tr>\n",
       "      <th>2</th>\n",
       "      <td>0000f46a3911fa3c0805444483337064</td>\n",
       "      <td>537</td>\n",
       "      <td>0</td>\n",
       "      <td>86.22</td>\n",
       "    </tr>\n",
       "    <tr>\n",
       "      <th>3</th>\n",
       "      <td>0000f6ccb0745a6a4b88665a16c9f078</td>\n",
       "      <td>321</td>\n",
       "      <td>0</td>\n",
       "      <td>43.62</td>\n",
       "    </tr>\n",
       "    <tr>\n",
       "      <th>4</th>\n",
       "      <td>0004aac84e0df4da2b147fca70cf8255</td>\n",
       "      <td>288</td>\n",
       "      <td>0</td>\n",
       "      <td>196.89</td>\n",
       "    </tr>\n",
       "    <tr>\n",
       "      <th>...</th>\n",
       "      <td>...</td>\n",
       "      <td>...</td>\n",
       "      <td>...</td>\n",
       "      <td>...</td>\n",
       "    </tr>\n",
       "    <tr>\n",
       "      <th>95116</th>\n",
       "      <td>fffcf5a5ff07b0908bd4e2dbc735a684</td>\n",
       "      <td>447</td>\n",
       "      <td>1</td>\n",
       "      <td>2067.42</td>\n",
       "    </tr>\n",
       "    <tr>\n",
       "      <th>95117</th>\n",
       "      <td>fffea47cd6d3cc0a88bd621562a9d061</td>\n",
       "      <td>262</td>\n",
       "      <td>0</td>\n",
       "      <td>84.58</td>\n",
       "    </tr>\n",
       "    <tr>\n",
       "      <th>95118</th>\n",
       "      <td>ffff371b4d645b6ecea244b27531430a</td>\n",
       "      <td>568</td>\n",
       "      <td>0</td>\n",
       "      <td>112.46</td>\n",
       "    </tr>\n",
       "    <tr>\n",
       "      <th>95119</th>\n",
       "      <td>ffff5962728ec6157033ef9805bacc48</td>\n",
       "      <td>119</td>\n",
       "      <td>0</td>\n",
       "      <td>133.69</td>\n",
       "    </tr>\n",
       "    <tr>\n",
       "      <th>95120</th>\n",
       "      <td>ffffd2657e2aad2907e67c3e9daecbeb</td>\n",
       "      <td>484</td>\n",
       "      <td>0</td>\n",
       "      <td>71.56</td>\n",
       "    </tr>\n",
       "  </tbody>\n",
       "</table>\n",
       "<p>95121 rows × 4 columns</p>\n",
       "</div>"
      ],
      "text/plain": [
       "                     customer_unique_id  Récence  Fréquence  Montant\n",
       "0      0000366f3b9a7992bf8c76cfdf3221e2      111          0   141.90\n",
       "1      0000b849f77a49e4a4ce2b2a4ca5be3f      114          0    27.19\n",
       "2      0000f46a3911fa3c0805444483337064      537          0    86.22\n",
       "3      0000f6ccb0745a6a4b88665a16c9f078      321          0    43.62\n",
       "4      0004aac84e0df4da2b147fca70cf8255      288          0   196.89\n",
       "...                                 ...      ...        ...      ...\n",
       "95116  fffcf5a5ff07b0908bd4e2dbc735a684      447          1  2067.42\n",
       "95117  fffea47cd6d3cc0a88bd621562a9d061      262          0    84.58\n",
       "95118  ffff371b4d645b6ecea244b27531430a      568          0   112.46\n",
       "95119  ffff5962728ec6157033ef9805bacc48      119          0   133.69\n",
       "95120  ffffd2657e2aad2907e67c3e9daecbeb      484          0    71.56\n",
       "\n",
       "[95121 rows x 4 columns]"
      ]
     },
     "execution_count": 20,
     "metadata": {},
     "output_type": "execute_result"
    }
   ],
   "source": [
    "df_last_features = get_RFM_features(df_features, last_date)\n",
    "df_last_features"
   ]
  },
  {
   "cell_type": "code",
   "execution_count": 21,
   "id": "75223a30-3d14-48fa-9845-a986b7c68035",
   "metadata": {},
   "outputs": [
    {
     "data": {
      "text/html": [
       "<div>\n",
       "<style scoped>\n",
       "    .dataframe tbody tr th:only-of-type {\n",
       "        vertical-align: middle;\n",
       "    }\n",
       "\n",
       "    .dataframe tbody tr th {\n",
       "        vertical-align: top;\n",
       "    }\n",
       "\n",
       "    .dataframe thead th {\n",
       "        text-align: right;\n",
       "    }\n",
       "</style>\n",
       "<table border=\"1\" class=\"dataframe\">\n",
       "  <thead>\n",
       "    <tr style=\"text-align: right;\">\n",
       "      <th></th>\n",
       "      <th>customer_unique_id</th>\n",
       "      <th>Récence</th>\n",
       "      <th>Fréquence</th>\n",
       "      <th>Montant</th>\n",
       "      <th>Récence_minmax</th>\n",
       "      <th>Fréquence_minmax</th>\n",
       "      <th>Montant_class</th>\n",
       "      <th>Montant_class_minmax</th>\n",
       "    </tr>\n",
       "  </thead>\n",
       "  <tbody>\n",
       "    <tr>\n",
       "      <th>0</th>\n",
       "      <td>0000366f3b9a7992bf8c76cfdf3221e2</td>\n",
       "      <td>111</td>\n",
       "      <td>0</td>\n",
       "      <td>141.90</td>\n",
       "      <td>0.184692</td>\n",
       "      <td>0</td>\n",
       "      <td>3</td>\n",
       "      <td>0.375</td>\n",
       "    </tr>\n",
       "    <tr>\n",
       "      <th>1</th>\n",
       "      <td>0000b849f77a49e4a4ce2b2a4ca5be3f</td>\n",
       "      <td>114</td>\n",
       "      <td>0</td>\n",
       "      <td>27.19</td>\n",
       "      <td>0.189684</td>\n",
       "      <td>0</td>\n",
       "      <td>1</td>\n",
       "      <td>0.125</td>\n",
       "    </tr>\n",
       "    <tr>\n",
       "      <th>2</th>\n",
       "      <td>0000f46a3911fa3c0805444483337064</td>\n",
       "      <td>537</td>\n",
       "      <td>0</td>\n",
       "      <td>86.22</td>\n",
       "      <td>0.893511</td>\n",
       "      <td>0</td>\n",
       "      <td>2</td>\n",
       "      <td>0.250</td>\n",
       "    </tr>\n",
       "    <tr>\n",
       "      <th>3</th>\n",
       "      <td>0000f6ccb0745a6a4b88665a16c9f078</td>\n",
       "      <td>321</td>\n",
       "      <td>0</td>\n",
       "      <td>43.62</td>\n",
       "      <td>0.534110</td>\n",
       "      <td>0</td>\n",
       "      <td>1</td>\n",
       "      <td>0.125</td>\n",
       "    </tr>\n",
       "    <tr>\n",
       "      <th>4</th>\n",
       "      <td>0004aac84e0df4da2b147fca70cf8255</td>\n",
       "      <td>288</td>\n",
       "      <td>0</td>\n",
       "      <td>196.89</td>\n",
       "      <td>0.479201</td>\n",
       "      <td>0</td>\n",
       "      <td>4</td>\n",
       "      <td>0.500</td>\n",
       "    </tr>\n",
       "    <tr>\n",
       "      <th>...</th>\n",
       "      <td>...</td>\n",
       "      <td>...</td>\n",
       "      <td>...</td>\n",
       "      <td>...</td>\n",
       "      <td>...</td>\n",
       "      <td>...</td>\n",
       "      <td>...</td>\n",
       "      <td>...</td>\n",
       "    </tr>\n",
       "    <tr>\n",
       "      <th>95116</th>\n",
       "      <td>fffcf5a5ff07b0908bd4e2dbc735a684</td>\n",
       "      <td>447</td>\n",
       "      <td>1</td>\n",
       "      <td>2067.42</td>\n",
       "      <td>0.743760</td>\n",
       "      <td>1</td>\n",
       "      <td>8</td>\n",
       "      <td>1.000</td>\n",
       "    </tr>\n",
       "    <tr>\n",
       "      <th>95117</th>\n",
       "      <td>fffea47cd6d3cc0a88bd621562a9d061</td>\n",
       "      <td>262</td>\n",
       "      <td>0</td>\n",
       "      <td>84.58</td>\n",
       "      <td>0.435940</td>\n",
       "      <td>0</td>\n",
       "      <td>2</td>\n",
       "      <td>0.250</td>\n",
       "    </tr>\n",
       "    <tr>\n",
       "      <th>95118</th>\n",
       "      <td>ffff371b4d645b6ecea244b27531430a</td>\n",
       "      <td>568</td>\n",
       "      <td>0</td>\n",
       "      <td>112.46</td>\n",
       "      <td>0.945092</td>\n",
       "      <td>0</td>\n",
       "      <td>3</td>\n",
       "      <td>0.375</td>\n",
       "    </tr>\n",
       "    <tr>\n",
       "      <th>95119</th>\n",
       "      <td>ffff5962728ec6157033ef9805bacc48</td>\n",
       "      <td>119</td>\n",
       "      <td>0</td>\n",
       "      <td>133.69</td>\n",
       "      <td>0.198003</td>\n",
       "      <td>0</td>\n",
       "      <td>3</td>\n",
       "      <td>0.375</td>\n",
       "    </tr>\n",
       "    <tr>\n",
       "      <th>95120</th>\n",
       "      <td>ffffd2657e2aad2907e67c3e9daecbeb</td>\n",
       "      <td>484</td>\n",
       "      <td>0</td>\n",
       "      <td>71.56</td>\n",
       "      <td>0.805324</td>\n",
       "      <td>0</td>\n",
       "      <td>2</td>\n",
       "      <td>0.250</td>\n",
       "    </tr>\n",
       "  </tbody>\n",
       "</table>\n",
       "<p>95121 rows × 8 columns</p>\n",
       "</div>"
      ],
      "text/plain": [
       "                     customer_unique_id  Récence  Fréquence  Montant  \\\n",
       "0      0000366f3b9a7992bf8c76cfdf3221e2      111          0   141.90   \n",
       "1      0000b849f77a49e4a4ce2b2a4ca5be3f      114          0    27.19   \n",
       "2      0000f46a3911fa3c0805444483337064      537          0    86.22   \n",
       "3      0000f6ccb0745a6a4b88665a16c9f078      321          0    43.62   \n",
       "4      0004aac84e0df4da2b147fca70cf8255      288          0   196.89   \n",
       "...                                 ...      ...        ...      ...   \n",
       "95116  fffcf5a5ff07b0908bd4e2dbc735a684      447          1  2067.42   \n",
       "95117  fffea47cd6d3cc0a88bd621562a9d061      262          0    84.58   \n",
       "95118  ffff371b4d645b6ecea244b27531430a      568          0   112.46   \n",
       "95119  ffff5962728ec6157033ef9805bacc48      119          0   133.69   \n",
       "95120  ffffd2657e2aad2907e67c3e9daecbeb      484          0    71.56   \n",
       "\n",
       "       Récence_minmax  Fréquence_minmax Montant_class  Montant_class_minmax  \n",
       "0            0.184692                 0             3                 0.375  \n",
       "1            0.189684                 0             1                 0.125  \n",
       "2            0.893511                 0             2                 0.250  \n",
       "3            0.534110                 0             1                 0.125  \n",
       "4            0.479201                 0             4                 0.500  \n",
       "...               ...               ...           ...                   ...  \n",
       "95116        0.743760                 1             8                 1.000  \n",
       "95117        0.435940                 0             2                 0.250  \n",
       "95118        0.945092                 0             3                 0.375  \n",
       "95119        0.198003                 0             3                 0.375  \n",
       "95120        0.805324                 0             2                 0.250  \n",
       "\n",
       "[95121 rows x 8 columns]"
      ]
     },
     "execution_count": 21,
     "metadata": {},
     "output_type": "execute_result"
    }
   ],
   "source": [
    "df_last_transformed_features, _, _ = add_transformed_RFM_features(df_last_features)\n",
    "df_last_transformed_features"
   ]
  },
  {
   "cell_type": "code",
   "execution_count": 22,
   "id": "9ddcfe68-76bf-4d6c-a9da-3bc548f37f75",
   "metadata": {},
   "outputs": [],
   "source": [
    "X = df_last_transformed_features[['Récence_minmax', 'Fréquence_minmax', 'Montant_class_minmax']]"
   ]
  },
  {
   "cell_type": "code",
   "execution_count": 23,
   "id": "8859881b-e7f8-4fd3-9055-cf95113635a0",
   "metadata": {},
   "outputs": [
    {
     "data": {
      "text/plain": [
       "array([3, 3, 4, ..., 4, 3, 4])"
      ]
     },
     "execution_count": 23,
     "metadata": {},
     "output_type": "execute_result"
    }
   ],
   "source": [
    "real_labels = get_kmeans_labels(X, 6)\n",
    "real_labels"
   ]
  },
  {
   "cell_type": "markdown",
   "id": "5cb229f5-140f-40c4-96d8-f2a4b4980118",
   "metadata": {},
   "source": [
    "## 4.2 Calculs des scores ARI"
   ]
  },
  {
   "cell_type": "code",
   "execution_count": 40,
   "id": "9bd9d797-5f4f-4623-a4e7-6c7c22af16ae",
   "metadata": {},
   "outputs": [],
   "source": [
    "ari_threshold = 0.7\n",
    "delay_in_days = simul_frequency = 14\n",
    "ari_results = []\n",
    "ari_score = 1"
   ]
  },
  {
   "cell_type": "code",
   "execution_count": 41,
   "id": "f988aea6-d6d3-48c8-a3b1-25a0b650aeb8",
   "metadata": {},
   "outputs": [
    {
     "name": "stdout",
     "output_type": "stream",
     "text": [
      "Simulation à J-14 : score ARI = 0.7119321568636154\n",
      "Simulation à J-28 : score ARI = 0.7299116947737196\n",
      "Simulation à J-42 : score ARI = 0.47644476112256573\n"
     ]
    }
   ],
   "source": [
    "while ari_score > ari_threshold:\n",
    "    # Calcul de la date de simulation\n",
    "    simul_date = get_date_x_days_before(last_date, delay_in_days)\n",
    "\n",
    "    # Récupération des features RFM jusqu'à la date de simulation\n",
    "    df_simul_RFM_features = get_RFM_features(df_features, simul_date)\n",
    "\n",
    "    # Ajout des features transformées et récupération des transformers\n",
    "    df_simul_RFM_features, recence_scaler, montant_scaler = add_transformed_RFM_features(df_simul_RFM_features)\n",
    "\n",
    "    # Fit KMeans sur données de simulation\n",
    "    X = df_simul_RFM_features[['Récence_minmax', 'Fréquence_minmax', 'Montant_class_minmax']]\n",
    "    simul_kmeans = KMeans(n_clusters=6, random_state=0).fit(X)\n",
    "\n",
    "    # Préparation dataset pour prédictions (utilisation des transformers récupérés)\n",
    "    df_predict_RFM_features, _, _ = add_transformed_RFM_features(df_last_features, recence_scaler, montant_scaler)\n",
    "\n",
    "    # Récupération des labels prédits\n",
    "    X = df_predict_RFM_features[['Récence_minmax', 'Fréquence_minmax', 'Montant_class_minmax']]\n",
    "    predict_labels = simul_kmeans.predict(X)\n",
    "\n",
    "    # Calcul du score ARI\n",
    "    ari_score = adjusted_rand_score(real_labels, predict_labels)\n",
    "\n",
    "    # Mise à jour de la liste des résultats\n",
    "    ari_results.append((delay_in_days, ari_score))\n",
    "    print(f\"Simulation à J-{delay_in_days} : score ARI = {ari_score}\")\n",
    "\n",
    "    # Mise à jour du délai de simulation\n",
    "    delay_in_days += simul_frequency   "
   ]
  },
  {
   "cell_type": "code",
   "execution_count": null,
   "id": "c06cffbc-1c12-4835-9035-bac14cac4af9",
   "metadata": {},
   "outputs": [],
   "source": []
  }
 ],
 "metadata": {
  "kernelspec": {
   "display_name": "Python 3 (ipykernel)",
   "language": "python",
   "name": "python3"
  },
  "language_info": {
   "codemirror_mode": {
    "name": "ipython",
    "version": 3
   },
   "file_extension": ".py",
   "mimetype": "text/x-python",
   "name": "python",
   "nbconvert_exporter": "python",
   "pygments_lexer": "ipython3",
   "version": "3.11.8"
  }
 },
 "nbformat": 4,
 "nbformat_minor": 5
}
