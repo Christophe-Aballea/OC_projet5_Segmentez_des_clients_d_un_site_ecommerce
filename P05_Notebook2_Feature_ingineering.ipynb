{
 "cells": [
  {
   "cell_type": "markdown",
   "id": "f85c73ed-379c-4e13-b76e-a30c882fbf9b",
   "metadata": {},
   "source": [
    "## <span style=\"color:green\">**Version en cours**</span>"
   ]
  },
  {
   "cell_type": "markdown",
   "id": "b9883035-52f7-49c4-8b77-add837a74210",
   "metadata": {},
   "source": [
    "# Segmentez des clients d'un site e-commerce\n",
    "## Notebook 2 : Feature ingineering\n",
    "OpenClassrooms - Parcours Data Scientist - Projet 05  "
   ]
  },
  {
   "cell_type": "markdown",
   "id": "eefe05a5-3f2d-4e83-9e10-f07db8110246",
   "metadata": {},
   "source": [
    "## Présentation du projet"
   ]
  },
  {
   "cell_type": "markdown",
   "id": "25c91bb2-fbab-4dcb-ae88-b676e5b3d7ae",
   "metadata": {},
   "source": [
    "**Contexte**  \n"
   ]
  },
  {
   "cell_type": "markdown",
   "id": "4d2423a5-c9f1-4c27-aeb3-82e06fb00bb7",
   "metadata": {},
   "source": [
    "* Olist est une entreprise brésilienne qui propose une solution de vente sur les marketplaces en ligne.  \n",
    "* Dans un premier temps il est demandé de réaliser quelques requêtes pour le dashboard à partir de la base de données SQLite d'Olist.  \n",
    "* La mission principale est de fournir aux équipes d'e-commerce d'Olist une **segmentation des clients** qu’elles pourront utiliser au quotidien pour leurs campagnes de communication."
   ]
  },
  {
   "cell_type": "markdown",
   "id": "475b6616-a03d-41fb-81be-6afddf87702d",
   "metadata": {},
   "source": [
    "**Démarche globale**  \n",
    "* Requêtes SQL pour le dashboard (cf Notebook 1)  \n",
    "* **Feature ingineering** : c'est l'objet de ce notebook\n",
    "* Tests de modèles de clustering (Notebook 3)  \n",
    "* Simulation d'un contrat de maintenace (Notebbok 4)  "
   ]
  },
  {
   "cell_type": "markdown",
   "id": "fb3d1fbe-4a89-4efc-bb20-8e1ff26fe994",
   "metadata": {},
   "source": [
    "**Feature ingineering**  \n",
    "* Objectif :\n",
    "   * Préparer un dataset qui servira de base aux algorithmes de clustering testés à l'étape suivante  \n",
    "   * Chaque ligne représentera un client, chaque colonne une feature caractérisant les clients\n",
    "* Préparation des données pour les algorithmes envisagés (KMeans, DBSCAN, Agglomerative Hierarchical Clustering) :\n",
    "   * Élimination des valeurs manquantes\n",
    "   * Traitement des valeurs aberrantes\n",
    "   * Normalisation / standardisation\n",
    "   * Encodage des variables catégorielles\n",
    "* Sélection des features pour réaliser une segmentation des clients de type RFM :\n",
    "   * **R**écence : Nombre de jours écoulés depuis le dernier achat  \n",
    "   * **F**réquence : Nombre total d'achats effectués par un client sur une période donnée  \n",
    "   * **M**ontant : Montant total dépensé par un client  "
   ]
  },
  {
   "cell_type": "markdown",
   "id": "14455e89-ea28-4542-bc30-ac5b6cbac1ae",
   "metadata": {},
   "source": [
    "## Sommaire  \n",
    "**Préparation de l'environnement**  \n",
    "* Environnement virtuel\n",
    "* Import des modules\n",
    "* Fonctions\n",
    "\n",
    "**Chargement des données**\n",
    "* Schéma relationnel   \n",
    "* Création des dataframes des tables"
   ]
  },
  {
   "cell_type": "markdown",
   "id": "6bd81983-7922-408b-8410-2d10871293f0",
   "metadata": {},
   "source": [
    "# 1 Préparation de l'environnement"
   ]
  },
  {
   "cell_type": "markdown",
   "id": "aca5d398-3f3c-4646-b903-6e54968b30b3",
   "metadata": {},
   "source": [
    "## 1.1 Environnement virtuel"
   ]
  },
  {
   "cell_type": "code",
   "execution_count": 1,
   "id": "0cf1bbd4-94e6-4e68-b02e-077f05cac794",
   "metadata": {},
   "outputs": [
    {
     "name": "stdout",
     "output_type": "stream",
     "text": [
      "Environnement virtuel : C:\\Users\\chrab\\anaconda3\\envs\\opc5\n"
     ]
    }
   ],
   "source": [
    "# Vérification environnement virtuel\n",
    "envs = !conda env list\n",
    "print(f\"Environnement virtuel : {[e for e in envs if '*' in e][0].split('*')[1].strip()}\")"
   ]
  },
  {
   "cell_type": "markdown",
   "id": "b241df5b-4c21-4252-b7c4-b369583a741b",
   "metadata": {},
   "source": [
    "## 1.2 Import des modules"
   ]
  },
  {
   "cell_type": "code",
   "execution_count": 2,
   "id": "3482119c-62c1-46e2-a4d9-078efbaf6145",
   "metadata": {},
   "outputs": [],
   "source": [
    "# Installation des librairies\n",
    "!pip install pandas --quiet\n",
    "!pip install numpy --quiet\n",
    "!pip install matplotlib --quiet\n",
    "!pip install seaborn --quiet"
   ]
  },
  {
   "cell_type": "code",
   "execution_count": 3,
   "id": "ff1a126f-ebe4-4e3e-8def-c6dadae601b0",
   "metadata": {},
   "outputs": [],
   "source": [
    "# Import des modules\n",
    "import os\n",
    "import pandas as pd\n",
    "import numpy as np\n",
    "import sqlite3\n",
    "import matplotlib.pyplot as plt\n",
    "import seaborn as sns"
   ]
  },
  {
   "cell_type": "markdown",
   "id": "4c429f5a-398b-499b-bade-965583bb5c1d",
   "metadata": {},
   "source": [
    "## 1.3 Fonctions"
   ]
  },
  {
   "cell_type": "code",
   "execution_count": 4,
   "id": "392e6df0-3450-45e2-ac4d-ba6134517d50",
   "metadata": {},
   "outputs": [],
   "source": [
    "# Renvoit le résultat d'une requête SQL\n",
    "def query_result(query: str, all_rows: bool=True):\n",
    "    with sqlite3.connect('olist.db') as conn:\n",
    "        cursor = conn.cursor()\n",
    "        cursor.execute(query)\n",
    "        if all_rows:\n",
    "            result = cursor.fetchall()\n",
    "        else:\n",
    "            result = cursor.fetchone()\n",
    "            if len(result) == 1:\n",
    "                result = result[0]\n",
    "    return result"
   ]
  },
  {
   "cell_type": "code",
   "execution_count": 5,
   "id": "e91e3ee8-3618-4dcf-8bc1-465185124cd6",
   "metadata": {},
   "outputs": [],
   "source": [
    "# Renvoit le résultat d'une requête SQL sous forme de dataframe\n",
    "def f_query_result(query: str):\n",
    "    \"\"\"Renvoit un dataframe contenant le résultat de la requête SQL passée en paramètre sous forme d'un string\n",
    "    Le fichier de la BDD SQLite 'olist.db' doit être présent dans le répertoire courant.\n",
    "    \"\"\"\n",
    "    with sqlite3.connect('olist.db') as conn:\n",
    "        df = pd.read_sql_query(query, conn)\n",
    "    return df"
   ]
  },
  {
   "cell_type": "code",
   "execution_count": 6,
   "id": "7aee7880-c058-4e1c-bbf4-2ae3dd7062e3",
   "metadata": {},
   "outputs": [],
   "source": [
    "def create_dataframe_and_csv_if_not_exist_from_table(tablename: str):\n",
    "    \"\"\"Renvoit un dataframe contenant le contenu de la table passée en paramètre sous forme d'un string\n",
    "    - Si le fichier csv de la table df_{tablename}.csv n'existe pas :\n",
    "        * Utilisation de la fonction 'f_query_result' pour récupérer le contenu de la table dans un dataframe\n",
    "        * Enregistrement du fichier csv\n",
    "    - Si le fichier csv existe, lecture de son contenu dans un dataframe\n",
    "    \"\"\"\n",
    "    filename = f\"df_{tablename}.csv\"\n",
    "    if not os.path.exists(filename):\n",
    "        query = f'SELECT * FROM {tablename};'\n",
    "        df = f_query_result(query)\n",
    "        df.drop(columns='index', inplace=True)\n",
    "        df.to_csv(filename, index=False)\n",
    "    else:\n",
    "        df = pd.read_csv(filename)\n",
    "    return df"
   ]
  },
  {
   "cell_type": "code",
   "execution_count": 7,
   "id": "227d042b-06b1-41af-8a07-11a9aef87aa7",
   "metadata": {},
   "outputs": [],
   "source": [
    "# Description des champs d'une table de la BDD SQLite 'olist.db' (à base de requêtes SQL)\n",
    "def describe_table(table_name: str, fields=None):\n",
    "    \"\"\"Examine :\n",
    "       - les champs compris dans la liste 'fields' de la table 'table_name'\n",
    "       - ou tous les champs si 'fields' n'est pas renseigné\n",
    "    Renvoit un dataframe 'df_infos' composé des variables :\n",
    "       - 'Colonne' : nom des variables de df\n",
    "       - 'Type' : type de la colonne\n",
    "       - 'Valeurs uniques' : nombre de valeurs unique de la colonne\n",
    "       - 'Valeurs manquantes' : nombre de valeurs manquantes de la colonne\n",
    "       - '% valeurs manquantes' : pourcentage de valeurs manquantes de la colonne\n",
    "       - 'Doublons' : nombre de valeurs non uniques (doublons) de la colonne\n",
    "    \"\"\"\n",
    "    # Préparation des colonnes du dataframe de descriptions\n",
    "    df_names, df_types, df_unique_values, df_duplicates, df_missing_values, df_percentage_missing = [], [], [], [], [], []\n",
    "    \n",
    "    # Récupération de la liste des champs de la table\n",
    "    pragma = query_result(f\"PRAGMA table_info({table_name});\")\n",
    "    table_fields = [row[1] for row in pragma]\n",
    "\n",
    "    # Constitution de la liste des champs à décrire\n",
    "    if fields is None:\n",
    "        fields = [field for field in table_fields if field != 'index']\n",
    "    elif isinstance(fields, str):\n",
    "        fields = [fields]\n",
    "        \n",
    "    # Récupération/calculs des informations descriptives\n",
    "    total_rows = query_result(f\"SELECT COUNT(*) FROM {table_name};\", False)\n",
    "    for field_index, field_name in enumerate(table_fields):\n",
    "        if field_name in fields:\n",
    "            field_type = pragma[field_index][2]\n",
    "            unique_values = query_result(f\"SELECT COUNT(DISTINCT {field_name}) FROM {table_name};\", False)\n",
    "            non_null_values = query_result(f\"SELECT COUNT({field_name}) FROM {table_name};\", False)\n",
    "            duplicates = non_null_values - unique_values\n",
    "            missing_values = total_rows - non_null_values\n",
    "            percentage_missing = (missing_values / total_rows) * 100 if total_rows > 0 else 0\n",
    "            percentage_missing = str(round(percentage_missing, 2)) + ' %'\n",
    "\n",
    "            df_names.append(field_name)\n",
    "            df_types.append(field_type)\n",
    "            df_unique_values.append(unique_values)\n",
    "            df_duplicates.append(duplicates)\n",
    "            df_missing_values.append(missing_values)\n",
    "            df_percentage_missing.append(percentage_missing)\n",
    "\n",
    "    # Céation du dataframe de description\n",
    "    df_infos = pd.DataFrame({\n",
    "        'Colonne': df_names,\n",
    "        'Type': df_types,\n",
    "        'Valeurs uniques': df_unique_values,\n",
    "        'Doublons': df_duplicates,\n",
    "        'Valeurs manquantes': df_missing_values,\n",
    "        '% valeurs manquantes': df_percentage_missing\n",
    "    }).reset_index(drop=True)\n",
    "\n",
    "    return df_infos"
   ]
  },
  {
   "cell_type": "code",
   "execution_count": 8,
   "id": "adfdb8ed-b6b9-44d9-9e05-459c810ecbb1",
   "metadata": {},
   "outputs": [],
   "source": [
    "# Description des variables d'un dataframe\n",
    "def get_dataframe_infos(df):\n",
    "    \"\"\"Examine le dataframe (ou la series) 'df' fourni en paramètre et renvoit un dataframe 'df_infos' composé des variables :\n",
    "       - 'Colonne' : nom des variables de df\n",
    "       - 'Type' : type de la colonne\n",
    "       - 'Valeurs uniques' : nombre de valeurs unique de la colonne\n",
    "       - 'Valeurs manquantes' : nombre de valeurs manquantes de la colonne\n",
    "       - '% valeurs manquantes' : pourcentage de valeurs manquantes de la colonne\n",
    "       - 'Doublons' : nombre de valeurs non uniques (doublons) de la colonne\n",
    "    \"\"\"\n",
    "    if isinstance(df, pd.Series):\n",
    "        df = df.to_frame()\n",
    "    number_of_rows = df.shape[0]\n",
    "    col_names = df.columns\n",
    "    col_types = df.dtypes\n",
    "    unique_values = df.nunique()\n",
    "    missing_values = df.isnull().sum()\n",
    "    non_missing_values = number_of_rows - missing_values\n",
    "    duplicate_values = non_missing_values - unique_values\n",
    "\n",
    "    df_infos = pd.DataFrame({\n",
    "        'Colonne': col_names,\n",
    "        'Type': col_types,\n",
    "        'Valeurs uniques': unique_values,\n",
    "        'Doublons': duplicate_values,\n",
    "        'Valeurs manquantes': missing_values,\n",
    "        '% valeurs manquantes': round((missing_values / number_of_rows) * 100, 2).astype(str) + \" %\"\n",
    "    }).reset_index(drop=True)\n",
    "\n",
    "    return df_infos"
   ]
  },
  {
   "cell_type": "code",
   "execution_count": 9,
   "id": "60702da0-cd6c-469d-bbc4-a89d308585d1",
   "metadata": {},
   "outputs": [],
   "source": [
    "# Transforme les types des variables d'un dataframe\n",
    "def transform_data_types(df, transformations):\n",
    "    # Conversion en type string ou category si le nbre de valeurs uniques est faible\n",
    "    if 'to_string' in transformations:\n",
    "        for column in transformations['to_string']:\n",
    "            if df[column].nunique() / len(df[column]) < 0.02:\n",
    "                df[column] = df[column].astype('category')\n",
    "            else:\n",
    "                df[column] = df[column].astype(str)\n",
    "            df[column] = df[column].replace('None', np.nan)\n",
    "    \n",
    "    # Conversion en dates avec gestion NaT\n",
    "    if 'to_date' in transformations:\n",
    "        if len(df[transformations['to_date']].iloc[0]) <= 10 :\n",
    "            for column in transformations['to_date']:\n",
    "                df[column] = pd.to_datetime(df[column], errors='coerce')\n",
    "        else:\n",
    "            for column in transformations['to_date']:\n",
    "                df[column] = pd.to_datetime(df[column], errors='coerce').dt.round('s')\n",
    "   \n",
    "    # Conversion en entier avec gestion NaN\n",
    "    if 'to_integer' in transformations:\n",
    "        for col in transformations['to_integer']:\n",
    "            df[col] = pd.to_numeric(df[col], errors='coerce').astype('Int64')\n",
    "\n",
    "    # Conversion en flottants\n",
    "    if 'to_float' in transformations:\n",
    "        for col in transformations['to_float']:\n",
    "            df[col] = pd.to_numeric(df[col], errors='coerce').astype(float)\n",
    "    \n",
    "    return df"
   ]
  },
  {
   "cell_type": "code",
   "execution_count": 10,
   "id": "56fc029b-d51f-420f-8cbd-15cc98767a09",
   "metadata": {},
   "outputs": [],
   "source": [
    "# Affiche l'histogramme et le boxplot d'une feature\n",
    "def plot_distribution(dataframe, feature, x_label, y_label, x_tick_angle=None):\n",
    "    fig, axs = plt.subplots(2, 1, figsize=(6, 4.5), gridspec_kw={'height_ratios': [3, 1]}, sharex=True)\n",
    "    plt.subplots_adjust(hspace=0.05)  # Ajuste l'espace entre les graphiques\n",
    "    \n",
    "    # Histogramme\n",
    "    sns.histplot(dataframe[feature], bins=50, kde=True, ax=axs[0])\n",
    "    axs[0].set_title(f'Distribution {feature}', pad=10)\n",
    "    axs[0].set_xlabel('')  # Supprime le label de l'axe x pour l'histogramme\n",
    "    axs[0].set_ylabel(y_label)\n",
    "    axs[0].grid(linewidth=0.25)\n",
    "    \n",
    "    # Boxplot\n",
    "    sns.boxplot(x=dataframe[feature], ax=axs[1])\n",
    "    axs[1].set_xlabel(x_label)\n",
    "    axs[1].set_yticks([])  # Supprime les ticks de l'axe y pour le boxplot\n",
    "\n",
    "    if x_tick_angle is not None:\n",
    "        for axis in axs:\n",
    "            for label in axis.get_xticklabels():\n",
    "                label.set_rotation(x_tick_angle)\n",
    "\n",
    "    plt.show()"
   ]
  },
  {
   "cell_type": "markdown",
   "id": "db9d09d6-6f59-4efa-a196-f205d04ed909",
   "metadata": {},
   "source": [
    "# 2 Chargement des données"
   ]
  },
  {
   "cell_type": "markdown",
   "id": "0952d2b8-948b-4cc0-9d77-ab2efc93defd",
   "metadata": {},
   "source": [
    "## 2.1 Schéma relationnel"
   ]
  },
  {
   "cell_type": "markdown",
   "id": "dee3ac09-b0a4-4a6a-aa35-8dfac56d29cf",
   "metadata": {},
   "source": [
    "La réalisation des quelques requêtes pour le dashboard (Notebook 1) a été l'occasion d'étudier les relations entre les tables de la BDD Olist et d'établir le schema relationnel :"
   ]
  },
  {
   "cell_type": "markdown",
   "id": "a364a382-016f-4e50-9186-6ef81d1533b1",
   "metadata": {},
   "source": [
    "![shema relationnel](schema_relationnel_olist.png \"Shéma relationnel BDD olist\")"
   ]
  },
  {
   "cell_type": "markdown",
   "id": "b554dcfd-101d-4813-9ffa-9ae28cd02396",
   "metadata": {},
   "source": [
    "## 2.2 Création des dataframes des tables"
   ]
  },
  {
   "cell_type": "markdown",
   "id": "3a041277-48d6-4848-b36f-6cd4e7b282ce",
   "metadata": {},
   "source": [
    "* Chargement des fichiers csv dans le dataframe correspondant  \n",
    "* Si le fichier csv n'existe pas, il est créé après avoir lu le contenu de la table dans la BDD"
   ]
  },
  {
   "cell_type": "code",
   "execution_count": 11,
   "id": "bb8d9266-1bdc-49a2-96a7-64ba60fdcdaf",
   "metadata": {},
   "outputs": [],
   "source": [
    "df_customers = create_dataframe_and_csv_if_not_exist_from_table('customers')\n",
    "df_orders = create_dataframe_and_csv_if_not_exist_from_table('orders')\n",
    "df_order_pymts = create_dataframe_and_csv_if_not_exist_from_table('order_pymts')\n",
    "df_order_items = create_dataframe_and_csv_if_not_exist_from_table('order_items')\n",
    "df_order_reviews = create_dataframe_and_csv_if_not_exist_from_table('order_reviews')\n",
    "# df_geoloc = create_dataframe_and_csv_if_not_exist_from_table('geoloc')\n",
    "# df_products = create_dataframe_and_csv_if_not_exist_from_table('products')\n",
    "# df_sellers = create_dataframe_and_csv_if_not_exist_from_table('sellers')\n",
    "# df_translation = create_dataframe_and_csv_if_not_exist_from_table('translation')"
   ]
  },
  {
   "cell_type": "markdown",
   "id": "63949266-07bd-4c0f-8100-4ec8ba4f285d",
   "metadata": {},
   "source": [
    "# 3 Création des features"
   ]
  },
  {
   "cell_type": "markdown",
   "id": "e21c4f03-dbf8-4939-872d-a9212988731a",
   "metadata": {},
   "source": [
    "## 3.1 Préparation du dataframe pour les modèles"
   ]
  },
  {
   "cell_type": "markdown",
   "id": "d684b21b-f593-45af-b2cc-b06374059614",
   "metadata": {},
   "source": [
    "* Seuls les clients ayant validé une commande (même si celle-ci n'est pas encore payée ni livrée) seront pris en compte\n",
    "* Le dataframe devra comprendre une ligne par client  \n",
    "* Le champ `customer_unique_id` de la table `customers` identifie les clients de manière unique"
   ]
  },
  {
   "cell_type": "markdown",
   "id": "d00a54c2-6cb2-4b25-b0ae-8974874f2395",
   "metadata": {},
   "source": [
    "* Affichage des informations de la table `customers` :"
   ]
  },
  {
   "cell_type": "code",
   "execution_count": 12,
   "id": "b86faaa7-7ffd-408c-9eaf-698e8835fc2d",
   "metadata": {},
   "outputs": [
    {
     "data": {
      "text/html": [
       "<div>\n",
       "<style scoped>\n",
       "    .dataframe tbody tr th:only-of-type {\n",
       "        vertical-align: middle;\n",
       "    }\n",
       "\n",
       "    .dataframe tbody tr th {\n",
       "        vertical-align: top;\n",
       "    }\n",
       "\n",
       "    .dataframe thead th {\n",
       "        text-align: right;\n",
       "    }\n",
       "</style>\n",
       "<table border=\"1\" class=\"dataframe\">\n",
       "  <thead>\n",
       "    <tr style=\"text-align: right;\">\n",
       "      <th></th>\n",
       "      <th>Colonne</th>\n",
       "      <th>Type</th>\n",
       "      <th>Valeurs uniques</th>\n",
       "      <th>Doublons</th>\n",
       "      <th>Valeurs manquantes</th>\n",
       "      <th>% valeurs manquantes</th>\n",
       "    </tr>\n",
       "  </thead>\n",
       "  <tbody>\n",
       "    <tr>\n",
       "      <th>0</th>\n",
       "      <td>customer_id</td>\n",
       "      <td>TEXT</td>\n",
       "      <td>99441</td>\n",
       "      <td>0</td>\n",
       "      <td>0</td>\n",
       "      <td>0.0 %</td>\n",
       "    </tr>\n",
       "    <tr>\n",
       "      <th>1</th>\n",
       "      <td>customer_unique_id</td>\n",
       "      <td>TEXT</td>\n",
       "      <td>96096</td>\n",
       "      <td>3345</td>\n",
       "      <td>0</td>\n",
       "      <td>0.0 %</td>\n",
       "    </tr>\n",
       "    <tr>\n",
       "      <th>2</th>\n",
       "      <td>customer_zip_code_prefix</td>\n",
       "      <td>BIGINT</td>\n",
       "      <td>14994</td>\n",
       "      <td>84447</td>\n",
       "      <td>0</td>\n",
       "      <td>0.0 %</td>\n",
       "    </tr>\n",
       "    <tr>\n",
       "      <th>3</th>\n",
       "      <td>customer_city</td>\n",
       "      <td>TEXT</td>\n",
       "      <td>4119</td>\n",
       "      <td>95322</td>\n",
       "      <td>0</td>\n",
       "      <td>0.0 %</td>\n",
       "    </tr>\n",
       "    <tr>\n",
       "      <th>4</th>\n",
       "      <td>customer_state</td>\n",
       "      <td>TEXT</td>\n",
       "      <td>27</td>\n",
       "      <td>99414</td>\n",
       "      <td>0</td>\n",
       "      <td>0.0 %</td>\n",
       "    </tr>\n",
       "  </tbody>\n",
       "</table>\n",
       "</div>"
      ],
      "text/plain": [
       "                    Colonne    Type  Valeurs uniques  Doublons  \\\n",
       "0               customer_id    TEXT            99441         0   \n",
       "1        customer_unique_id    TEXT            96096      3345   \n",
       "2  customer_zip_code_prefix  BIGINT            14994     84447   \n",
       "3             customer_city    TEXT             4119     95322   \n",
       "4            customer_state    TEXT               27     99414   \n",
       "\n",
       "   Valeurs manquantes % valeurs manquantes  \n",
       "0                   0                0.0 %  \n",
       "1                   0                0.0 %  \n",
       "2                   0                0.0 %  \n",
       "3                   0                0.0 %  \n",
       "4                   0                0.0 %  "
      ]
     },
     "metadata": {},
     "output_type": "display_data"
    }
   ],
   "source": [
    "# Version table SQLite\n",
    "display(describe_table('customers'))"
   ]
  },
  {
   "cell_type": "code",
   "execution_count": 13,
   "id": "4ba9194f-6a46-42bc-9d32-56be1f41e30c",
   "metadata": {},
   "outputs": [
    {
     "data": {
      "text/html": [
       "<div>\n",
       "<style scoped>\n",
       "    .dataframe tbody tr th:only-of-type {\n",
       "        vertical-align: middle;\n",
       "    }\n",
       "\n",
       "    .dataframe tbody tr th {\n",
       "        vertical-align: top;\n",
       "    }\n",
       "\n",
       "    .dataframe thead th {\n",
       "        text-align: right;\n",
       "    }\n",
       "</style>\n",
       "<table border=\"1\" class=\"dataframe\">\n",
       "  <thead>\n",
       "    <tr style=\"text-align: right;\">\n",
       "      <th></th>\n",
       "      <th>Colonne</th>\n",
       "      <th>Type</th>\n",
       "      <th>Valeurs uniques</th>\n",
       "      <th>Doublons</th>\n",
       "      <th>Valeurs manquantes</th>\n",
       "      <th>% valeurs manquantes</th>\n",
       "    </tr>\n",
       "  </thead>\n",
       "  <tbody>\n",
       "    <tr>\n",
       "      <th>0</th>\n",
       "      <td>customer_id</td>\n",
       "      <td>object</td>\n",
       "      <td>99441</td>\n",
       "      <td>0</td>\n",
       "      <td>0</td>\n",
       "      <td>0.0 %</td>\n",
       "    </tr>\n",
       "    <tr>\n",
       "      <th>1</th>\n",
       "      <td>customer_unique_id</td>\n",
       "      <td>object</td>\n",
       "      <td>96096</td>\n",
       "      <td>3345</td>\n",
       "      <td>0</td>\n",
       "      <td>0.0 %</td>\n",
       "    </tr>\n",
       "    <tr>\n",
       "      <th>2</th>\n",
       "      <td>customer_zip_code_prefix</td>\n",
       "      <td>int64</td>\n",
       "      <td>14994</td>\n",
       "      <td>84447</td>\n",
       "      <td>0</td>\n",
       "      <td>0.0 %</td>\n",
       "    </tr>\n",
       "    <tr>\n",
       "      <th>3</th>\n",
       "      <td>customer_city</td>\n",
       "      <td>object</td>\n",
       "      <td>4119</td>\n",
       "      <td>95322</td>\n",
       "      <td>0</td>\n",
       "      <td>0.0 %</td>\n",
       "    </tr>\n",
       "    <tr>\n",
       "      <th>4</th>\n",
       "      <td>customer_state</td>\n",
       "      <td>object</td>\n",
       "      <td>27</td>\n",
       "      <td>99414</td>\n",
       "      <td>0</td>\n",
       "      <td>0.0 %</td>\n",
       "    </tr>\n",
       "  </tbody>\n",
       "</table>\n",
       "</div>"
      ],
      "text/plain": [
       "                    Colonne    Type  Valeurs uniques  Doublons  \\\n",
       "0               customer_id  object            99441         0   \n",
       "1        customer_unique_id  object            96096      3345   \n",
       "2  customer_zip_code_prefix   int64            14994     84447   \n",
       "3             customer_city  object             4119     95322   \n",
       "4            customer_state  object               27     99414   \n",
       "\n",
       "   Valeurs manquantes % valeurs manquantes  \n",
       "0                   0                0.0 %  \n",
       "1                   0                0.0 %  \n",
       "2                   0                0.0 %  \n",
       "3                   0                0.0 %  \n",
       "4                   0                0.0 %  "
      ]
     },
     "metadata": {},
     "output_type": "display_data"
    }
   ],
   "source": [
    "# Version dataframe pandas\n",
    "display(get_dataframe_infos(df_customers))"
   ]
  },
  {
   "cell_type": "markdown",
   "id": "03cddd37-ead2-43df-8d80-436efa57234e",
   "metadata": {},
   "source": [
    "* Affichage de quelques lignes"
   ]
  },
  {
   "cell_type": "code",
   "execution_count": 14,
   "id": "80403f56-0256-4ec8-9e54-afcb592ff272",
   "metadata": {},
   "outputs": [
    {
     "data": {
      "text/html": [
       "<div>\n",
       "<style scoped>\n",
       "    .dataframe tbody tr th:only-of-type {\n",
       "        vertical-align: middle;\n",
       "    }\n",
       "\n",
       "    .dataframe tbody tr th {\n",
       "        vertical-align: top;\n",
       "    }\n",
       "\n",
       "    .dataframe thead th {\n",
       "        text-align: right;\n",
       "    }\n",
       "</style>\n",
       "<table border=\"1\" class=\"dataframe\">\n",
       "  <thead>\n",
       "    <tr style=\"text-align: right;\">\n",
       "      <th></th>\n",
       "      <th>order_id</th>\n",
       "      <th>customer_id</th>\n",
       "      <th>order_status</th>\n",
       "      <th>order_purchase_timestamp</th>\n",
       "      <th>order_approved_at</th>\n",
       "      <th>order_delivered_carrier_date</th>\n",
       "      <th>order_delivered_customer_date</th>\n",
       "      <th>order_estimated_delivery_date</th>\n",
       "    </tr>\n",
       "  </thead>\n",
       "  <tbody>\n",
       "    <tr>\n",
       "      <th>0</th>\n",
       "      <td>e481f51cbdc54678b7cc49136f2d6af7</td>\n",
       "      <td>9ef432eb6251297304e76186b10a928d</td>\n",
       "      <td>delivered</td>\n",
       "      <td>2017-10-02 10:56:33</td>\n",
       "      <td>2017-10-02 11:07:15</td>\n",
       "      <td>2017-10-04 19:55:00</td>\n",
       "      <td>2017-10-10 21:25:13</td>\n",
       "      <td>2017-10-18 00:00:00</td>\n",
       "    </tr>\n",
       "    <tr>\n",
       "      <th>1</th>\n",
       "      <td>53cdb2fc8bc7dce0b6741e2150273451</td>\n",
       "      <td>b0830fb4747a6c6d20dea0b8c802d7ef</td>\n",
       "      <td>delivered</td>\n",
       "      <td>2018-07-24 20:41:37</td>\n",
       "      <td>2018-07-26 03:24:27</td>\n",
       "      <td>2018-07-26 14:31:00</td>\n",
       "      <td>2018-08-07 15:27:45</td>\n",
       "      <td>2018-08-13 00:00:00</td>\n",
       "    </tr>\n",
       "    <tr>\n",
       "      <th>2</th>\n",
       "      <td>47770eb9100c2d0c44946d9cf07ec65d</td>\n",
       "      <td>41ce2a54c0b03bf3443c3d931a367089</td>\n",
       "      <td>delivered</td>\n",
       "      <td>2018-08-08 08:38:49</td>\n",
       "      <td>2018-08-08 08:55:23</td>\n",
       "      <td>2018-08-08 13:50:00</td>\n",
       "      <td>2018-08-17 18:06:29</td>\n",
       "      <td>2018-09-04 00:00:00</td>\n",
       "    </tr>\n",
       "    <tr>\n",
       "      <th>3</th>\n",
       "      <td>949d5b44dbf5de918fe9c16f97b45f8a</td>\n",
       "      <td>f88197465ea7920adcdbec7375364d82</td>\n",
       "      <td>delivered</td>\n",
       "      <td>2017-11-18 19:28:06</td>\n",
       "      <td>2017-11-18 19:45:59</td>\n",
       "      <td>2017-11-22 13:39:59</td>\n",
       "      <td>2017-12-02 00:28:42</td>\n",
       "      <td>2017-12-15 00:00:00</td>\n",
       "    </tr>\n",
       "    <tr>\n",
       "      <th>4</th>\n",
       "      <td>ad21c59c0840e6cb83a9ceb5573f8159</td>\n",
       "      <td>8ab97904e6daea8866dbdbc4fb7aad2c</td>\n",
       "      <td>delivered</td>\n",
       "      <td>2018-02-13 21:18:39</td>\n",
       "      <td>2018-02-13 22:20:29</td>\n",
       "      <td>2018-02-14 19:46:34</td>\n",
       "      <td>2018-02-16 18:17:02</td>\n",
       "      <td>2018-02-26 00:00:00</td>\n",
       "    </tr>\n",
       "    <tr>\n",
       "      <th>...</th>\n",
       "      <td>...</td>\n",
       "      <td>...</td>\n",
       "      <td>...</td>\n",
       "      <td>...</td>\n",
       "      <td>...</td>\n",
       "      <td>...</td>\n",
       "      <td>...</td>\n",
       "      <td>...</td>\n",
       "    </tr>\n",
       "    <tr>\n",
       "      <th>99436</th>\n",
       "      <td>9c5dedf39a927c1b2549525ed64a053c</td>\n",
       "      <td>39bd1228ee8140590ac3aca26f2dfe00</td>\n",
       "      <td>delivered</td>\n",
       "      <td>2017-03-09 09:54:05</td>\n",
       "      <td>2017-03-09 09:54:05</td>\n",
       "      <td>2017-03-10 11:18:03</td>\n",
       "      <td>2017-03-17 15:08:01</td>\n",
       "      <td>2017-03-28 00:00:00</td>\n",
       "    </tr>\n",
       "    <tr>\n",
       "      <th>99437</th>\n",
       "      <td>63943bddc261676b46f01ca7ac2f7bd8</td>\n",
       "      <td>1fca14ff2861355f6e5f14306ff977a7</td>\n",
       "      <td>delivered</td>\n",
       "      <td>2018-02-06 12:58:58</td>\n",
       "      <td>2018-02-06 13:10:37</td>\n",
       "      <td>2018-02-07 23:22:42</td>\n",
       "      <td>2018-02-28 17:37:56</td>\n",
       "      <td>2018-03-02 00:00:00</td>\n",
       "    </tr>\n",
       "    <tr>\n",
       "      <th>99438</th>\n",
       "      <td>83c1379a015df1e13d02aae0204711ab</td>\n",
       "      <td>1aa71eb042121263aafbe80c1b562c9c</td>\n",
       "      <td>delivered</td>\n",
       "      <td>2017-08-27 14:46:43</td>\n",
       "      <td>2017-08-27 15:04:16</td>\n",
       "      <td>2017-08-28 20:52:26</td>\n",
       "      <td>2017-09-21 11:24:17</td>\n",
       "      <td>2017-09-27 00:00:00</td>\n",
       "    </tr>\n",
       "    <tr>\n",
       "      <th>99439</th>\n",
       "      <td>11c177c8e97725db2631073c19f07b62</td>\n",
       "      <td>b331b74b18dc79bcdf6532d51e1637c1</td>\n",
       "      <td>delivered</td>\n",
       "      <td>2018-01-08 21:28:27</td>\n",
       "      <td>2018-01-08 21:36:21</td>\n",
       "      <td>2018-01-12 15:35:03</td>\n",
       "      <td>2018-01-25 23:32:54</td>\n",
       "      <td>2018-02-15 00:00:00</td>\n",
       "    </tr>\n",
       "    <tr>\n",
       "      <th>99440</th>\n",
       "      <td>66dea50a8b16d9b4dee7af250b4be1a5</td>\n",
       "      <td>edb027a75a1449115f6b43211ae02a24</td>\n",
       "      <td>delivered</td>\n",
       "      <td>2018-03-08 20:57:30</td>\n",
       "      <td>2018-03-09 11:20:28</td>\n",
       "      <td>2018-03-09 22:11:59</td>\n",
       "      <td>2018-03-16 13:08:30</td>\n",
       "      <td>2018-04-03 00:00:00</td>\n",
       "    </tr>\n",
       "  </tbody>\n",
       "</table>\n",
       "<p>99441 rows × 8 columns</p>\n",
       "</div>"
      ],
      "text/plain": [
       "                               order_id                       customer_id  \\\n",
       "0      e481f51cbdc54678b7cc49136f2d6af7  9ef432eb6251297304e76186b10a928d   \n",
       "1      53cdb2fc8bc7dce0b6741e2150273451  b0830fb4747a6c6d20dea0b8c802d7ef   \n",
       "2      47770eb9100c2d0c44946d9cf07ec65d  41ce2a54c0b03bf3443c3d931a367089   \n",
       "3      949d5b44dbf5de918fe9c16f97b45f8a  f88197465ea7920adcdbec7375364d82   \n",
       "4      ad21c59c0840e6cb83a9ceb5573f8159  8ab97904e6daea8866dbdbc4fb7aad2c   \n",
       "...                                 ...                               ...   \n",
       "99436  9c5dedf39a927c1b2549525ed64a053c  39bd1228ee8140590ac3aca26f2dfe00   \n",
       "99437  63943bddc261676b46f01ca7ac2f7bd8  1fca14ff2861355f6e5f14306ff977a7   \n",
       "99438  83c1379a015df1e13d02aae0204711ab  1aa71eb042121263aafbe80c1b562c9c   \n",
       "99439  11c177c8e97725db2631073c19f07b62  b331b74b18dc79bcdf6532d51e1637c1   \n",
       "99440  66dea50a8b16d9b4dee7af250b4be1a5  edb027a75a1449115f6b43211ae02a24   \n",
       "\n",
       "      order_status order_purchase_timestamp    order_approved_at  \\\n",
       "0        delivered      2017-10-02 10:56:33  2017-10-02 11:07:15   \n",
       "1        delivered      2018-07-24 20:41:37  2018-07-26 03:24:27   \n",
       "2        delivered      2018-08-08 08:38:49  2018-08-08 08:55:23   \n",
       "3        delivered      2017-11-18 19:28:06  2017-11-18 19:45:59   \n",
       "4        delivered      2018-02-13 21:18:39  2018-02-13 22:20:29   \n",
       "...            ...                      ...                  ...   \n",
       "99436    delivered      2017-03-09 09:54:05  2017-03-09 09:54:05   \n",
       "99437    delivered      2018-02-06 12:58:58  2018-02-06 13:10:37   \n",
       "99438    delivered      2017-08-27 14:46:43  2017-08-27 15:04:16   \n",
       "99439    delivered      2018-01-08 21:28:27  2018-01-08 21:36:21   \n",
       "99440    delivered      2018-03-08 20:57:30  2018-03-09 11:20:28   \n",
       "\n",
       "      order_delivered_carrier_date order_delivered_customer_date  \\\n",
       "0              2017-10-04 19:55:00           2017-10-10 21:25:13   \n",
       "1              2018-07-26 14:31:00           2018-08-07 15:27:45   \n",
       "2              2018-08-08 13:50:00           2018-08-17 18:06:29   \n",
       "3              2017-11-22 13:39:59           2017-12-02 00:28:42   \n",
       "4              2018-02-14 19:46:34           2018-02-16 18:17:02   \n",
       "...                            ...                           ...   \n",
       "99436          2017-03-10 11:18:03           2017-03-17 15:08:01   \n",
       "99437          2018-02-07 23:22:42           2018-02-28 17:37:56   \n",
       "99438          2017-08-28 20:52:26           2017-09-21 11:24:17   \n",
       "99439          2018-01-12 15:35:03           2018-01-25 23:32:54   \n",
       "99440          2018-03-09 22:11:59           2018-03-16 13:08:30   \n",
       "\n",
       "      order_estimated_delivery_date  \n",
       "0               2017-10-18 00:00:00  \n",
       "1               2018-08-13 00:00:00  \n",
       "2               2018-09-04 00:00:00  \n",
       "3               2017-12-15 00:00:00  \n",
       "4               2018-02-26 00:00:00  \n",
       "...                             ...  \n",
       "99436           2017-03-28 00:00:00  \n",
       "99437           2018-03-02 00:00:00  \n",
       "99438           2017-09-27 00:00:00  \n",
       "99439           2018-02-15 00:00:00  \n",
       "99440           2018-04-03 00:00:00  \n",
       "\n",
       "[99441 rows x 8 columns]"
      ]
     },
     "metadata": {},
     "output_type": "display_data"
    }
   ],
   "source": [
    "display(df_orders)"
   ]
  },
  {
   "cell_type": "markdown",
   "id": "325027f4-a11f-4a4c-a194-6d5f2f7467cb",
   "metadata": {},
   "source": [
    "* Il n'y a pas de données manquantes \n",
    "* Création du dataframe avec les valeurs uniques de `customer_unique_id`"
   ]
  },
  {
   "cell_type": "code",
   "execution_count": 15,
   "id": "d796ee4d-e693-45ca-b3eb-d339040873f5",
   "metadata": {},
   "outputs": [
    {
     "data": {
      "text/html": [
       "<div>\n",
       "<style scoped>\n",
       "    .dataframe tbody tr th:only-of-type {\n",
       "        vertical-align: middle;\n",
       "    }\n",
       "\n",
       "    .dataframe tbody tr th {\n",
       "        vertical-align: top;\n",
       "    }\n",
       "\n",
       "    .dataframe thead th {\n",
       "        text-align: right;\n",
       "    }\n",
       "</style>\n",
       "<table border=\"1\" class=\"dataframe\">\n",
       "  <thead>\n",
       "    <tr style=\"text-align: right;\">\n",
       "      <th></th>\n",
       "      <th>customer_unique_id</th>\n",
       "      <th>nombre_de_commandes_non_validees</th>\n",
       "    </tr>\n",
       "  </thead>\n",
       "  <tbody>\n",
       "  </tbody>\n",
       "</table>\n",
       "</div>"
      ],
      "text/plain": [
       "Empty DataFrame\n",
       "Columns: [customer_unique_id, nombre_de_commandes_non_validees]\n",
       "Index: []"
      ]
     },
     "metadata": {},
     "output_type": "display_data"
    }
   ],
   "source": [
    "# Y-a-t-il des 'customer_unique_id' avec des commandes non validées ?\n",
    "query = \"\"\"SELECT customer_unique_id, COUNT(o.order_id) AS nombre_de_commandes_non_validees\n",
    "FROM customers c\n",
    "LEFT JOIN orders o\n",
    "ON o.customer_id = c.customer_id\n",
    "WHERE order_purchase_timestamp IS NULL\n",
    "GROUP BY customer_unique_id\n",
    "ORDER BY nombre_de_commandes_non_validees;\n",
    "\"\"\"\n",
    "result = f_query_result(query)\n",
    "display(result)"
   ]
  },
  {
   "cell_type": "markdown",
   "id": "91b5ecca-826e-44e3-8cdf-08f00a41999f",
   "metadata": {},
   "source": [
    "* Visiblement, aucun client n'est enregistré s'il n'a pas validé sa commande\n",
    "* Utilisation du champ `customer_unique_id` de la table `customers` comme première colonne du dataframe `df_features`"
   ]
  },
  {
   "cell_type": "code",
   "execution_count": 16,
   "id": "ac36e4f7-2ce1-4834-90ec-f804e055c9be",
   "metadata": {},
   "outputs": [],
   "source": [
    "# Création du dataframe 'df_features'\n",
    "df_features = pd.DataFrame({'customer_id': df_customers['customer_unique_id'].unique()})"
   ]
  },
  {
   "cell_type": "markdown",
   "id": "a1c72959-318f-489f-bc86-12cc645131cb",
   "metadata": {},
   "source": [
    "* Affichage de quelques lignes"
   ]
  },
  {
   "cell_type": "code",
   "execution_count": 17,
   "id": "eb06e5fa-45de-46c9-9902-c512da497f83",
   "metadata": {},
   "outputs": [
    {
     "data": {
      "text/html": [
       "<div>\n",
       "<style scoped>\n",
       "    .dataframe tbody tr th:only-of-type {\n",
       "        vertical-align: middle;\n",
       "    }\n",
       "\n",
       "    .dataframe tbody tr th {\n",
       "        vertical-align: top;\n",
       "    }\n",
       "\n",
       "    .dataframe thead th {\n",
       "        text-align: right;\n",
       "    }\n",
       "</style>\n",
       "<table border=\"1\" class=\"dataframe\">\n",
       "  <thead>\n",
       "    <tr style=\"text-align: right;\">\n",
       "      <th></th>\n",
       "      <th>customer_id</th>\n",
       "    </tr>\n",
       "  </thead>\n",
       "  <tbody>\n",
       "    <tr>\n",
       "      <th>0</th>\n",
       "      <td>861eff4711a542e4b93843c6dd7febb0</td>\n",
       "    </tr>\n",
       "    <tr>\n",
       "      <th>1</th>\n",
       "      <td>290c77bc529b7ac935b93aa66c333dc3</td>\n",
       "    </tr>\n",
       "    <tr>\n",
       "      <th>2</th>\n",
       "      <td>060e732b5b29e8181a18229c7b0b2b5e</td>\n",
       "    </tr>\n",
       "    <tr>\n",
       "      <th>3</th>\n",
       "      <td>259dac757896d24d7702b9acbbff3f3c</td>\n",
       "    </tr>\n",
       "    <tr>\n",
       "      <th>4</th>\n",
       "      <td>345ecd01c38d18a9036ed96c73b8d066</td>\n",
       "    </tr>\n",
       "    <tr>\n",
       "      <th>...</th>\n",
       "      <td>...</td>\n",
       "    </tr>\n",
       "    <tr>\n",
       "      <th>96091</th>\n",
       "      <td>1a29b476fee25c95fbafc67c5ac95cf8</td>\n",
       "    </tr>\n",
       "    <tr>\n",
       "      <th>96092</th>\n",
       "      <td>d52a67c98be1cf6a5c84435bd38d095d</td>\n",
       "    </tr>\n",
       "    <tr>\n",
       "      <th>96093</th>\n",
       "      <td>e9f50caf99f032f0bf3c55141f019d99</td>\n",
       "    </tr>\n",
       "    <tr>\n",
       "      <th>96094</th>\n",
       "      <td>73c2643a0a458b49f58cea58833b192e</td>\n",
       "    </tr>\n",
       "    <tr>\n",
       "      <th>96095</th>\n",
       "      <td>84732c5050c01db9b23e19ba39899398</td>\n",
       "    </tr>\n",
       "  </tbody>\n",
       "</table>\n",
       "<p>96096 rows × 1 columns</p>\n",
       "</div>"
      ],
      "text/plain": [
       "                            customer_id\n",
       "0      861eff4711a542e4b93843c6dd7febb0\n",
       "1      290c77bc529b7ac935b93aa66c333dc3\n",
       "2      060e732b5b29e8181a18229c7b0b2b5e\n",
       "3      259dac757896d24d7702b9acbbff3f3c\n",
       "4      345ecd01c38d18a9036ed96c73b8d066\n",
       "...                                 ...\n",
       "96091  1a29b476fee25c95fbafc67c5ac95cf8\n",
       "96092  d52a67c98be1cf6a5c84435bd38d095d\n",
       "96093  e9f50caf99f032f0bf3c55141f019d99\n",
       "96094  73c2643a0a458b49f58cea58833b192e\n",
       "96095  84732c5050c01db9b23e19ba39899398\n",
       "\n",
       "[96096 rows x 1 columns]"
      ]
     },
     "metadata": {},
     "output_type": "display_data"
    }
   ],
   "source": [
    "display(df_features)"
   ]
  },
  {
   "cell_type": "markdown",
   "id": "b4be34b8-8ef0-4395-8121-6ca87d2c6420",
   "metadata": {},
   "source": [
    "## 3.2 Feature `Récence`"
   ]
  },
  {
   "cell_type": "markdown",
   "id": "a0174c83-5dff-4caf-a76d-4df7c47295ac",
   "metadata": {},
   "source": [
    "* Récence : nombre de jours écoulés depuis le dernier achat  \n",
    "* La date de référence sera celle du dernier achat (`orders.order_purchase_timestamp`)  \n",
    "* Une rapide analyse exploratoire de la table `orders` sera réalisée au préalable"
   ]
  },
  {
   "cell_type": "markdown",
   "id": "4bb4742d-002b-4e07-9be7-0feaa8dc871b",
   "metadata": {},
   "source": [
    "### 3.2.1 Analyse de la table `orders`"
   ]
  },
  {
   "cell_type": "markdown",
   "id": "0c7b0d1f-7f3f-4053-9f5d-42a2f4692018",
   "metadata": {},
   "source": [
    "* Affichage des informations de la table `orders` :"
   ]
  },
  {
   "cell_type": "code",
   "execution_count": 18,
   "id": "527e62b5-3332-482e-b83d-b2e4e8fada78",
   "metadata": {},
   "outputs": [
    {
     "data": {
      "text/html": [
       "<div>\n",
       "<style scoped>\n",
       "    .dataframe tbody tr th:only-of-type {\n",
       "        vertical-align: middle;\n",
       "    }\n",
       "\n",
       "    .dataframe tbody tr th {\n",
       "        vertical-align: top;\n",
       "    }\n",
       "\n",
       "    .dataframe thead th {\n",
       "        text-align: right;\n",
       "    }\n",
       "</style>\n",
       "<table border=\"1\" class=\"dataframe\">\n",
       "  <thead>\n",
       "    <tr style=\"text-align: right;\">\n",
       "      <th></th>\n",
       "      <th>Colonne</th>\n",
       "      <th>Type</th>\n",
       "      <th>Valeurs uniques</th>\n",
       "      <th>Doublons</th>\n",
       "      <th>Valeurs manquantes</th>\n",
       "      <th>% valeurs manquantes</th>\n",
       "    </tr>\n",
       "  </thead>\n",
       "  <tbody>\n",
       "    <tr>\n",
       "      <th>0</th>\n",
       "      <td>order_id</td>\n",
       "      <td>TEXT</td>\n",
       "      <td>99441</td>\n",
       "      <td>0</td>\n",
       "      <td>0</td>\n",
       "      <td>0.0 %</td>\n",
       "    </tr>\n",
       "    <tr>\n",
       "      <th>1</th>\n",
       "      <td>customer_id</td>\n",
       "      <td>TEXT</td>\n",
       "      <td>99441</td>\n",
       "      <td>0</td>\n",
       "      <td>0</td>\n",
       "      <td>0.0 %</td>\n",
       "    </tr>\n",
       "    <tr>\n",
       "      <th>2</th>\n",
       "      <td>order_status</td>\n",
       "      <td>TEXT</td>\n",
       "      <td>8</td>\n",
       "      <td>99433</td>\n",
       "      <td>0</td>\n",
       "      <td>0.0 %</td>\n",
       "    </tr>\n",
       "    <tr>\n",
       "      <th>3</th>\n",
       "      <td>order_purchase_timestamp</td>\n",
       "      <td>TEXT</td>\n",
       "      <td>98875</td>\n",
       "      <td>566</td>\n",
       "      <td>0</td>\n",
       "      <td>0.0 %</td>\n",
       "    </tr>\n",
       "    <tr>\n",
       "      <th>4</th>\n",
       "      <td>order_approved_at</td>\n",
       "      <td>TEXT</td>\n",
       "      <td>90733</td>\n",
       "      <td>8548</td>\n",
       "      <td>160</td>\n",
       "      <td>0.16 %</td>\n",
       "    </tr>\n",
       "    <tr>\n",
       "      <th>5</th>\n",
       "      <td>order_delivered_carrier_date</td>\n",
       "      <td>TEXT</td>\n",
       "      <td>81018</td>\n",
       "      <td>16640</td>\n",
       "      <td>1783</td>\n",
       "      <td>1.79 %</td>\n",
       "    </tr>\n",
       "    <tr>\n",
       "      <th>6</th>\n",
       "      <td>order_delivered_customer_date</td>\n",
       "      <td>TEXT</td>\n",
       "      <td>95664</td>\n",
       "      <td>812</td>\n",
       "      <td>2965</td>\n",
       "      <td>2.98 %</td>\n",
       "    </tr>\n",
       "    <tr>\n",
       "      <th>7</th>\n",
       "      <td>order_estimated_delivery_date</td>\n",
       "      <td>TEXT</td>\n",
       "      <td>459</td>\n",
       "      <td>98982</td>\n",
       "      <td>0</td>\n",
       "      <td>0.0 %</td>\n",
       "    </tr>\n",
       "  </tbody>\n",
       "</table>\n",
       "</div>"
      ],
      "text/plain": [
       "                         Colonne  Type  Valeurs uniques  Doublons  \\\n",
       "0                       order_id  TEXT            99441         0   \n",
       "1                    customer_id  TEXT            99441         0   \n",
       "2                   order_status  TEXT                8     99433   \n",
       "3       order_purchase_timestamp  TEXT            98875       566   \n",
       "4              order_approved_at  TEXT            90733      8548   \n",
       "5   order_delivered_carrier_date  TEXT            81018     16640   \n",
       "6  order_delivered_customer_date  TEXT            95664       812   \n",
       "7  order_estimated_delivery_date  TEXT              459     98982   \n",
       "\n",
       "   Valeurs manquantes % valeurs manquantes  \n",
       "0                   0                0.0 %  \n",
       "1                   0                0.0 %  \n",
       "2                   0                0.0 %  \n",
       "3                   0                0.0 %  \n",
       "4                 160               0.16 %  \n",
       "5                1783               1.79 %  \n",
       "6                2965               2.98 %  \n",
       "7                   0                0.0 %  "
      ]
     },
     "metadata": {},
     "output_type": "display_data"
    }
   ],
   "source": [
    "# Version table SQLite\n",
    "display(describe_table('orders'))"
   ]
  },
  {
   "cell_type": "code",
   "execution_count": 19,
   "id": "8daf1614-1c0a-4fa2-b023-f9c7c9a05082",
   "metadata": {},
   "outputs": [
    {
     "data": {
      "text/html": [
       "<div>\n",
       "<style scoped>\n",
       "    .dataframe tbody tr th:only-of-type {\n",
       "        vertical-align: middle;\n",
       "    }\n",
       "\n",
       "    .dataframe tbody tr th {\n",
       "        vertical-align: top;\n",
       "    }\n",
       "\n",
       "    .dataframe thead th {\n",
       "        text-align: right;\n",
       "    }\n",
       "</style>\n",
       "<table border=\"1\" class=\"dataframe\">\n",
       "  <thead>\n",
       "    <tr style=\"text-align: right;\">\n",
       "      <th></th>\n",
       "      <th>Colonne</th>\n",
       "      <th>Type</th>\n",
       "      <th>Valeurs uniques</th>\n",
       "      <th>Doublons</th>\n",
       "      <th>Valeurs manquantes</th>\n",
       "      <th>% valeurs manquantes</th>\n",
       "    </tr>\n",
       "  </thead>\n",
       "  <tbody>\n",
       "    <tr>\n",
       "      <th>0</th>\n",
       "      <td>order_id</td>\n",
       "      <td>object</td>\n",
       "      <td>99441</td>\n",
       "      <td>0</td>\n",
       "      <td>0</td>\n",
       "      <td>0.0 %</td>\n",
       "    </tr>\n",
       "    <tr>\n",
       "      <th>1</th>\n",
       "      <td>customer_id</td>\n",
       "      <td>object</td>\n",
       "      <td>99441</td>\n",
       "      <td>0</td>\n",
       "      <td>0</td>\n",
       "      <td>0.0 %</td>\n",
       "    </tr>\n",
       "    <tr>\n",
       "      <th>2</th>\n",
       "      <td>order_status</td>\n",
       "      <td>object</td>\n",
       "      <td>8</td>\n",
       "      <td>99433</td>\n",
       "      <td>0</td>\n",
       "      <td>0.0 %</td>\n",
       "    </tr>\n",
       "    <tr>\n",
       "      <th>3</th>\n",
       "      <td>order_purchase_timestamp</td>\n",
       "      <td>object</td>\n",
       "      <td>98875</td>\n",
       "      <td>566</td>\n",
       "      <td>0</td>\n",
       "      <td>0.0 %</td>\n",
       "    </tr>\n",
       "    <tr>\n",
       "      <th>4</th>\n",
       "      <td>order_approved_at</td>\n",
       "      <td>object</td>\n",
       "      <td>90733</td>\n",
       "      <td>8548</td>\n",
       "      <td>160</td>\n",
       "      <td>0.16 %</td>\n",
       "    </tr>\n",
       "    <tr>\n",
       "      <th>5</th>\n",
       "      <td>order_delivered_carrier_date</td>\n",
       "      <td>object</td>\n",
       "      <td>81018</td>\n",
       "      <td>16640</td>\n",
       "      <td>1783</td>\n",
       "      <td>1.79 %</td>\n",
       "    </tr>\n",
       "    <tr>\n",
       "      <th>6</th>\n",
       "      <td>order_delivered_customer_date</td>\n",
       "      <td>object</td>\n",
       "      <td>95664</td>\n",
       "      <td>812</td>\n",
       "      <td>2965</td>\n",
       "      <td>2.98 %</td>\n",
       "    </tr>\n",
       "    <tr>\n",
       "      <th>7</th>\n",
       "      <td>order_estimated_delivery_date</td>\n",
       "      <td>object</td>\n",
       "      <td>459</td>\n",
       "      <td>98982</td>\n",
       "      <td>0</td>\n",
       "      <td>0.0 %</td>\n",
       "    </tr>\n",
       "  </tbody>\n",
       "</table>\n",
       "</div>"
      ],
      "text/plain": [
       "                         Colonne    Type  Valeurs uniques  Doublons  \\\n",
       "0                       order_id  object            99441         0   \n",
       "1                    customer_id  object            99441         0   \n",
       "2                   order_status  object                8     99433   \n",
       "3       order_purchase_timestamp  object            98875       566   \n",
       "4              order_approved_at  object            90733      8548   \n",
       "5   order_delivered_carrier_date  object            81018     16640   \n",
       "6  order_delivered_customer_date  object            95664       812   \n",
       "7  order_estimated_delivery_date  object              459     98982   \n",
       "\n",
       "   Valeurs manquantes % valeurs manquantes  \n",
       "0                   0                0.0 %  \n",
       "1                   0                0.0 %  \n",
       "2                   0                0.0 %  \n",
       "3                   0                0.0 %  \n",
       "4                 160               0.16 %  \n",
       "5                1783               1.79 %  \n",
       "6                2965               2.98 %  \n",
       "7                   0                0.0 %  "
      ]
     },
     "metadata": {},
     "output_type": "display_data"
    }
   ],
   "source": [
    "# Version dataframe pandas\n",
    "display(get_dataframe_infos(df_orders))"
   ]
  },
  {
   "cell_type": "markdown",
   "id": "b9d14273-4991-4725-9850-9daf25924a73",
   "metadata": {},
   "source": [
    "* Affichage de quelques lignes"
   ]
  },
  {
   "cell_type": "code",
   "execution_count": 20,
   "id": "30cea7a3-f7a3-4611-afd2-2ca250807c7d",
   "metadata": {},
   "outputs": [
    {
     "data": {
      "text/html": [
       "<div>\n",
       "<style scoped>\n",
       "    .dataframe tbody tr th:only-of-type {\n",
       "        vertical-align: middle;\n",
       "    }\n",
       "\n",
       "    .dataframe tbody tr th {\n",
       "        vertical-align: top;\n",
       "    }\n",
       "\n",
       "    .dataframe thead th {\n",
       "        text-align: right;\n",
       "    }\n",
       "</style>\n",
       "<table border=\"1\" class=\"dataframe\">\n",
       "  <thead>\n",
       "    <tr style=\"text-align: right;\">\n",
       "      <th></th>\n",
       "      <th>order_id</th>\n",
       "      <th>customer_id</th>\n",
       "      <th>order_status</th>\n",
       "      <th>order_purchase_timestamp</th>\n",
       "      <th>order_approved_at</th>\n",
       "      <th>order_delivered_carrier_date</th>\n",
       "      <th>order_delivered_customer_date</th>\n",
       "      <th>order_estimated_delivery_date</th>\n",
       "    </tr>\n",
       "  </thead>\n",
       "  <tbody>\n",
       "    <tr>\n",
       "      <th>0</th>\n",
       "      <td>e481f51cbdc54678b7cc49136f2d6af7</td>\n",
       "      <td>9ef432eb6251297304e76186b10a928d</td>\n",
       "      <td>delivered</td>\n",
       "      <td>2017-10-02 10:56:33</td>\n",
       "      <td>2017-10-02 11:07:15</td>\n",
       "      <td>2017-10-04 19:55:00</td>\n",
       "      <td>2017-10-10 21:25:13</td>\n",
       "      <td>2017-10-18 00:00:00</td>\n",
       "    </tr>\n",
       "    <tr>\n",
       "      <th>1</th>\n",
       "      <td>53cdb2fc8bc7dce0b6741e2150273451</td>\n",
       "      <td>b0830fb4747a6c6d20dea0b8c802d7ef</td>\n",
       "      <td>delivered</td>\n",
       "      <td>2018-07-24 20:41:37</td>\n",
       "      <td>2018-07-26 03:24:27</td>\n",
       "      <td>2018-07-26 14:31:00</td>\n",
       "      <td>2018-08-07 15:27:45</td>\n",
       "      <td>2018-08-13 00:00:00</td>\n",
       "    </tr>\n",
       "    <tr>\n",
       "      <th>2</th>\n",
       "      <td>47770eb9100c2d0c44946d9cf07ec65d</td>\n",
       "      <td>41ce2a54c0b03bf3443c3d931a367089</td>\n",
       "      <td>delivered</td>\n",
       "      <td>2018-08-08 08:38:49</td>\n",
       "      <td>2018-08-08 08:55:23</td>\n",
       "      <td>2018-08-08 13:50:00</td>\n",
       "      <td>2018-08-17 18:06:29</td>\n",
       "      <td>2018-09-04 00:00:00</td>\n",
       "    </tr>\n",
       "    <tr>\n",
       "      <th>3</th>\n",
       "      <td>949d5b44dbf5de918fe9c16f97b45f8a</td>\n",
       "      <td>f88197465ea7920adcdbec7375364d82</td>\n",
       "      <td>delivered</td>\n",
       "      <td>2017-11-18 19:28:06</td>\n",
       "      <td>2017-11-18 19:45:59</td>\n",
       "      <td>2017-11-22 13:39:59</td>\n",
       "      <td>2017-12-02 00:28:42</td>\n",
       "      <td>2017-12-15 00:00:00</td>\n",
       "    </tr>\n",
       "    <tr>\n",
       "      <th>4</th>\n",
       "      <td>ad21c59c0840e6cb83a9ceb5573f8159</td>\n",
       "      <td>8ab97904e6daea8866dbdbc4fb7aad2c</td>\n",
       "      <td>delivered</td>\n",
       "      <td>2018-02-13 21:18:39</td>\n",
       "      <td>2018-02-13 22:20:29</td>\n",
       "      <td>2018-02-14 19:46:34</td>\n",
       "      <td>2018-02-16 18:17:02</td>\n",
       "      <td>2018-02-26 00:00:00</td>\n",
       "    </tr>\n",
       "    <tr>\n",
       "      <th>...</th>\n",
       "      <td>...</td>\n",
       "      <td>...</td>\n",
       "      <td>...</td>\n",
       "      <td>...</td>\n",
       "      <td>...</td>\n",
       "      <td>...</td>\n",
       "      <td>...</td>\n",
       "      <td>...</td>\n",
       "    </tr>\n",
       "    <tr>\n",
       "      <th>99436</th>\n",
       "      <td>9c5dedf39a927c1b2549525ed64a053c</td>\n",
       "      <td>39bd1228ee8140590ac3aca26f2dfe00</td>\n",
       "      <td>delivered</td>\n",
       "      <td>2017-03-09 09:54:05</td>\n",
       "      <td>2017-03-09 09:54:05</td>\n",
       "      <td>2017-03-10 11:18:03</td>\n",
       "      <td>2017-03-17 15:08:01</td>\n",
       "      <td>2017-03-28 00:00:00</td>\n",
       "    </tr>\n",
       "    <tr>\n",
       "      <th>99437</th>\n",
       "      <td>63943bddc261676b46f01ca7ac2f7bd8</td>\n",
       "      <td>1fca14ff2861355f6e5f14306ff977a7</td>\n",
       "      <td>delivered</td>\n",
       "      <td>2018-02-06 12:58:58</td>\n",
       "      <td>2018-02-06 13:10:37</td>\n",
       "      <td>2018-02-07 23:22:42</td>\n",
       "      <td>2018-02-28 17:37:56</td>\n",
       "      <td>2018-03-02 00:00:00</td>\n",
       "    </tr>\n",
       "    <tr>\n",
       "      <th>99438</th>\n",
       "      <td>83c1379a015df1e13d02aae0204711ab</td>\n",
       "      <td>1aa71eb042121263aafbe80c1b562c9c</td>\n",
       "      <td>delivered</td>\n",
       "      <td>2017-08-27 14:46:43</td>\n",
       "      <td>2017-08-27 15:04:16</td>\n",
       "      <td>2017-08-28 20:52:26</td>\n",
       "      <td>2017-09-21 11:24:17</td>\n",
       "      <td>2017-09-27 00:00:00</td>\n",
       "    </tr>\n",
       "    <tr>\n",
       "      <th>99439</th>\n",
       "      <td>11c177c8e97725db2631073c19f07b62</td>\n",
       "      <td>b331b74b18dc79bcdf6532d51e1637c1</td>\n",
       "      <td>delivered</td>\n",
       "      <td>2018-01-08 21:28:27</td>\n",
       "      <td>2018-01-08 21:36:21</td>\n",
       "      <td>2018-01-12 15:35:03</td>\n",
       "      <td>2018-01-25 23:32:54</td>\n",
       "      <td>2018-02-15 00:00:00</td>\n",
       "    </tr>\n",
       "    <tr>\n",
       "      <th>99440</th>\n",
       "      <td>66dea50a8b16d9b4dee7af250b4be1a5</td>\n",
       "      <td>edb027a75a1449115f6b43211ae02a24</td>\n",
       "      <td>delivered</td>\n",
       "      <td>2018-03-08 20:57:30</td>\n",
       "      <td>2018-03-09 11:20:28</td>\n",
       "      <td>2018-03-09 22:11:59</td>\n",
       "      <td>2018-03-16 13:08:30</td>\n",
       "      <td>2018-04-03 00:00:00</td>\n",
       "    </tr>\n",
       "  </tbody>\n",
       "</table>\n",
       "<p>99441 rows × 8 columns</p>\n",
       "</div>"
      ],
      "text/plain": [
       "                               order_id                       customer_id  \\\n",
       "0      e481f51cbdc54678b7cc49136f2d6af7  9ef432eb6251297304e76186b10a928d   \n",
       "1      53cdb2fc8bc7dce0b6741e2150273451  b0830fb4747a6c6d20dea0b8c802d7ef   \n",
       "2      47770eb9100c2d0c44946d9cf07ec65d  41ce2a54c0b03bf3443c3d931a367089   \n",
       "3      949d5b44dbf5de918fe9c16f97b45f8a  f88197465ea7920adcdbec7375364d82   \n",
       "4      ad21c59c0840e6cb83a9ceb5573f8159  8ab97904e6daea8866dbdbc4fb7aad2c   \n",
       "...                                 ...                               ...   \n",
       "99436  9c5dedf39a927c1b2549525ed64a053c  39bd1228ee8140590ac3aca26f2dfe00   \n",
       "99437  63943bddc261676b46f01ca7ac2f7bd8  1fca14ff2861355f6e5f14306ff977a7   \n",
       "99438  83c1379a015df1e13d02aae0204711ab  1aa71eb042121263aafbe80c1b562c9c   \n",
       "99439  11c177c8e97725db2631073c19f07b62  b331b74b18dc79bcdf6532d51e1637c1   \n",
       "99440  66dea50a8b16d9b4dee7af250b4be1a5  edb027a75a1449115f6b43211ae02a24   \n",
       "\n",
       "      order_status order_purchase_timestamp    order_approved_at  \\\n",
       "0        delivered      2017-10-02 10:56:33  2017-10-02 11:07:15   \n",
       "1        delivered      2018-07-24 20:41:37  2018-07-26 03:24:27   \n",
       "2        delivered      2018-08-08 08:38:49  2018-08-08 08:55:23   \n",
       "3        delivered      2017-11-18 19:28:06  2017-11-18 19:45:59   \n",
       "4        delivered      2018-02-13 21:18:39  2018-02-13 22:20:29   \n",
       "...            ...                      ...                  ...   \n",
       "99436    delivered      2017-03-09 09:54:05  2017-03-09 09:54:05   \n",
       "99437    delivered      2018-02-06 12:58:58  2018-02-06 13:10:37   \n",
       "99438    delivered      2017-08-27 14:46:43  2017-08-27 15:04:16   \n",
       "99439    delivered      2018-01-08 21:28:27  2018-01-08 21:36:21   \n",
       "99440    delivered      2018-03-08 20:57:30  2018-03-09 11:20:28   \n",
       "\n",
       "      order_delivered_carrier_date order_delivered_customer_date  \\\n",
       "0              2017-10-04 19:55:00           2017-10-10 21:25:13   \n",
       "1              2018-07-26 14:31:00           2018-08-07 15:27:45   \n",
       "2              2018-08-08 13:50:00           2018-08-17 18:06:29   \n",
       "3              2017-11-22 13:39:59           2017-12-02 00:28:42   \n",
       "4              2018-02-14 19:46:34           2018-02-16 18:17:02   \n",
       "...                            ...                           ...   \n",
       "99436          2017-03-10 11:18:03           2017-03-17 15:08:01   \n",
       "99437          2018-02-07 23:22:42           2018-02-28 17:37:56   \n",
       "99438          2017-08-28 20:52:26           2017-09-21 11:24:17   \n",
       "99439          2018-01-12 15:35:03           2018-01-25 23:32:54   \n",
       "99440          2018-03-09 22:11:59           2018-03-16 13:08:30   \n",
       "\n",
       "      order_estimated_delivery_date  \n",
       "0               2017-10-18 00:00:00  \n",
       "1               2018-08-13 00:00:00  \n",
       "2               2018-09-04 00:00:00  \n",
       "3               2017-12-15 00:00:00  \n",
       "4               2018-02-26 00:00:00  \n",
       "...                             ...  \n",
       "99436           2017-03-28 00:00:00  \n",
       "99437           2018-03-02 00:00:00  \n",
       "99438           2017-09-27 00:00:00  \n",
       "99439           2018-02-15 00:00:00  \n",
       "99440           2018-04-03 00:00:00  \n",
       "\n",
       "[99441 rows x 8 columns]"
      ]
     },
     "metadata": {},
     "output_type": "display_data"
    }
   ],
   "source": [
    "display(df_orders)"
   ]
  },
  {
   "cell_type": "markdown",
   "id": "d4c85b19-2eda-48a3-ba28-79e3962671ce",
   "metadata": {},
   "source": [
    "* Les variables `order_purchase_timestamp`, `order_approved_at`, `order_delivered_carrier_date`, `order_delivered_customer_date`, `order_estimated_delivery_date` doivent être transformées en type `date`  \n",
    "* La variable `order_status` pourra être transformée en type `string`, car la fonction `tansform_data_type()` est prévue pour convertir automatiquement en type `category` lorsque le nombre de modalités est faible  \n",
    "* A noter **160** valeurs manquantes pour la variable `order_approved_at`"
   ]
  },
  {
   "cell_type": "markdown",
   "id": "eac3b074-cd35-45f0-a2f5-6e688279fa05",
   "metadata": {},
   "source": [
    "* Conversions de type"
   ]
  },
  {
   "cell_type": "code",
   "execution_count": 21,
   "id": "181c6d50-b6ba-40f6-a993-b6fa46fb40e2",
   "metadata": {},
   "outputs": [],
   "source": [
    "# Dictionnaire de conversion\n",
    "to_transform = {\n",
    "    'to_string': ['order_id', 'customer_id', 'order_status'],\n",
    "    'to_date': ['order_purchase_timestamp',\n",
    "                'order_approved_at',\n",
    "                'order_delivered_carrier_date',\n",
    "                'order_delivered_customer_date',\n",
    "                'order_estimated_delivery_date']\n",
    "}\n",
    "\n",
    "# Conversions\n",
    "df_orders = transform_data_types(df_orders, to_transform)"
   ]
  },
  {
   "cell_type": "markdown",
   "id": "15fd67e8-2a49-46a3-ba3d-f07831eacbcf",
   "metadata": {},
   "source": [
    "* Vérification des conversions"
   ]
  },
  {
   "cell_type": "code",
   "execution_count": 22,
   "id": "23002a41-4130-4c1a-b117-74db13fbc468",
   "metadata": {},
   "outputs": [
    {
     "data": {
      "text/html": [
       "<div>\n",
       "<style scoped>\n",
       "    .dataframe tbody tr th:only-of-type {\n",
       "        vertical-align: middle;\n",
       "    }\n",
       "\n",
       "    .dataframe tbody tr th {\n",
       "        vertical-align: top;\n",
       "    }\n",
       "\n",
       "    .dataframe thead th {\n",
       "        text-align: right;\n",
       "    }\n",
       "</style>\n",
       "<table border=\"1\" class=\"dataframe\">\n",
       "  <thead>\n",
       "    <tr style=\"text-align: right;\">\n",
       "      <th></th>\n",
       "      <th>Colonne</th>\n",
       "      <th>Type</th>\n",
       "      <th>Valeurs uniques</th>\n",
       "      <th>Doublons</th>\n",
       "      <th>Valeurs manquantes</th>\n",
       "      <th>% valeurs manquantes</th>\n",
       "    </tr>\n",
       "  </thead>\n",
       "  <tbody>\n",
       "    <tr>\n",
       "      <th>0</th>\n",
       "      <td>order_id</td>\n",
       "      <td>object</td>\n",
       "      <td>99441</td>\n",
       "      <td>0</td>\n",
       "      <td>0</td>\n",
       "      <td>0.0 %</td>\n",
       "    </tr>\n",
       "    <tr>\n",
       "      <th>1</th>\n",
       "      <td>customer_id</td>\n",
       "      <td>object</td>\n",
       "      <td>99441</td>\n",
       "      <td>0</td>\n",
       "      <td>0</td>\n",
       "      <td>0.0 %</td>\n",
       "    </tr>\n",
       "    <tr>\n",
       "      <th>2</th>\n",
       "      <td>order_status</td>\n",
       "      <td>category</td>\n",
       "      <td>8</td>\n",
       "      <td>99433</td>\n",
       "      <td>0</td>\n",
       "      <td>0.0 %</td>\n",
       "    </tr>\n",
       "    <tr>\n",
       "      <th>3</th>\n",
       "      <td>order_purchase_timestamp</td>\n",
       "      <td>datetime64[ns]</td>\n",
       "      <td>98875</td>\n",
       "      <td>566</td>\n",
       "      <td>0</td>\n",
       "      <td>0.0 %</td>\n",
       "    </tr>\n",
       "    <tr>\n",
       "      <th>4</th>\n",
       "      <td>order_approved_at</td>\n",
       "      <td>datetime64[ns]</td>\n",
       "      <td>90733</td>\n",
       "      <td>8548</td>\n",
       "      <td>160</td>\n",
       "      <td>0.16 %</td>\n",
       "    </tr>\n",
       "    <tr>\n",
       "      <th>5</th>\n",
       "      <td>order_delivered_carrier_date</td>\n",
       "      <td>datetime64[ns]</td>\n",
       "      <td>81018</td>\n",
       "      <td>16640</td>\n",
       "      <td>1783</td>\n",
       "      <td>1.79 %</td>\n",
       "    </tr>\n",
       "    <tr>\n",
       "      <th>6</th>\n",
       "      <td>order_delivered_customer_date</td>\n",
       "      <td>datetime64[ns]</td>\n",
       "      <td>95664</td>\n",
       "      <td>812</td>\n",
       "      <td>2965</td>\n",
       "      <td>2.98 %</td>\n",
       "    </tr>\n",
       "    <tr>\n",
       "      <th>7</th>\n",
       "      <td>order_estimated_delivery_date</td>\n",
       "      <td>datetime64[ns]</td>\n",
       "      <td>459</td>\n",
       "      <td>98982</td>\n",
       "      <td>0</td>\n",
       "      <td>0.0 %</td>\n",
       "    </tr>\n",
       "  </tbody>\n",
       "</table>\n",
       "</div>"
      ],
      "text/plain": [
       "                         Colonne            Type  Valeurs uniques  Doublons  \\\n",
       "0                       order_id          object            99441         0   \n",
       "1                    customer_id          object            99441         0   \n",
       "2                   order_status        category                8     99433   \n",
       "3       order_purchase_timestamp  datetime64[ns]            98875       566   \n",
       "4              order_approved_at  datetime64[ns]            90733      8548   \n",
       "5   order_delivered_carrier_date  datetime64[ns]            81018     16640   \n",
       "6  order_delivered_customer_date  datetime64[ns]            95664       812   \n",
       "7  order_estimated_delivery_date  datetime64[ns]              459     98982   \n",
       "\n",
       "   Valeurs manquantes % valeurs manquantes  \n",
       "0                   0                0.0 %  \n",
       "1                   0                0.0 %  \n",
       "2                   0                0.0 %  \n",
       "3                   0                0.0 %  \n",
       "4                 160               0.16 %  \n",
       "5                1783               1.79 %  \n",
       "6                2965               2.98 %  \n",
       "7                   0                0.0 %  "
      ]
     },
     "metadata": {},
     "output_type": "display_data"
    }
   ],
   "source": [
    "display(get_dataframe_infos(df_orders))"
   ]
  },
  {
   "cell_type": "markdown",
   "id": "17911f12-6958-4a0e-8694-868e18245bfc",
   "metadata": {},
   "source": [
    "* Distribution et valeurs aberrantes de la variable `order_purchase_timestamp`"
   ]
  },
  {
   "cell_type": "code",
   "execution_count": 23,
   "id": "db6830d4-ba21-4690-82fb-21554124c702",
   "metadata": {},
   "outputs": [
    {
     "data": {
      "image/png": "[encoded data removed]",
      "text/plain": [
       "<Figure size 600x450 with 2 Axes>"
      ]
     },
     "metadata": {},
     "output_type": "display_data"
    }
   ],
   "source": [
    "# Affichage histogramme et boxplot\n",
    "plot_distribution(df_orders, 'order_purchase_timestamp', x_label='', y_label='Nombre de commandes', x_tick_angle=45)"
   ]
  },
  {
   "cell_type": "markdown",
   "id": "c474feb8-4e0b-4c86-9844-5a996c3a144b",
   "metadata": {},
   "source": [
    "* Valeurs aberrantes\n",
    "   * Certaines commandes ont été passées **avant janvier 2017**, or il est précisé :\n",
    "      > *\"Pour cette mission, Olist vous fournit une base de données anonymisée comportant des informations sur l’historique des commandes, les produits achetés, les commentaires de satisfaction, et la localisation des clients **depuis janvier 2017**.\"*  \n",
    "   * Il n'y a pas de valeurs aberrantes en fin de période, dans le sens ou il n'y a pas de dates d'achat après le 3ème quatile + 1.5 x l'IQR, mais on constate **une chute du nombre de commandes**.  "
   ]
  },
  {
   "cell_type": "markdown",
   "id": "a8fb246f-75af-401f-85df-5a1a91958d26",
   "metadata": {},
   "source": [
    "* Les commandes passées avant le 1er janvier 2017 devront être exclues\n",
    "* Quelle que soit la raison de la chute du nombre de commandes en fin de période, il sera préférable d'exclure les données de cette période"
   ]
  },
  {
   "cell_type": "markdown",
   "id": "d078cbdd-3650-4d03-b4a6-c11b518689e8",
   "metadata": {},
   "source": [
    "### 3.2.3 Recherche du dernier mois bien renseigné"
   ]
  },
  {
   "cell_type": "markdown",
   "id": "a353a4f4-ef23-4f83-8703-d294b10a1b1c",
   "metadata": {},
   "source": [
    "* Répartition mensuelles des commandes "
   ]
  },
  {
   "cell_type": "code",
   "execution_count": 24,
   "id": "1ff3a094-7440-4a1f-b39f-0ee6fa14ff7b",
   "metadata": {},
   "outputs": [
    {
     "data": {
      "image/png": "[encoded data removed]",
      "text/plain": [
       "<Figure size 1100x500 with 1 Axes>"
      ]
     },
     "metadata": {},
     "output_type": "display_data"
    }
   ],
   "source": [
    "# Ajout de la colonne 'year_month'\n",
    "df_orders['year_month'] = df_orders['order_purchase_timestamp'].dt.to_period('M')\n",
    "\n",
    "# Nombre de commandes passées pour chaque valeur de 'year_month'\n",
    "df_orders_by_year_month = df_orders.groupby('year_month')['order_id'].count().reset_index()\n",
    "\n",
    "# Affichage barplot\n",
    "plt.figure(figsize=(11, 5))\n",
    "sns.barplot(data=df_orders_by_year_month, x='year_month', y='order_id')\n",
    "plt.xticks(rotation=45)\n",
    "plt.xlabel('Date d\\'achat')\n",
    "plt.ylabel('Nombre de commandes')\n",
    "plt.title('Répartition mensuelle des commandes', pad=10)\n",
    "plt.show()"
   ]
  },
  {
   "cell_type": "markdown",
   "id": "59bfa97d-9cf5-426f-a52d-9ffdd034bb52",
   "metadata": {},
   "source": [
    "* On constate un fort décrochage à partir du mois de septembre 2018"
   ]
  },
  {
   "cell_type": "markdown",
   "id": "172e0535-d7bf-415a-b6eb-bb257a79a889",
   "metadata": {},
   "source": [
    "### 3.2.2 Exclusion des commandes antérieures à janvier 2017 ou postérieures à août 2018"
   ]
  },
  {
   "cell_type": "markdown",
   "id": "ecd5127e-8e12-4e9c-bcc8-79fe055b4fab",
   "metadata": {},
   "source": [
    "**Démarche**  \n",
    "*Les lignes correspondantes aux commandes datées d'avant janvier 2017 ou d'après août 2018 seront supprimées des dataframes*  \n",
    "* Récupération des `order_id` des commandes passées avant janvier 2017 ou après août 2018  \n",
    "* Suppression des reviews dans le dataframe `df_reviews`  \n",
    "* Suppression des réglements dans le dataframe `df_pymts`\n",
    "* Suppression des produits dans le dataframe `df_order_items`\n",
    "* Suppression des clients dans le dataframe `df_customers`  \n",
    "* Suppression des commandes dans le dataframe `df_orders`  \n",
    "* Reconstitution du dataframe `df_features`"
   ]
  },
  {
   "cell_type": "markdown",
   "id": "811a0ed1-0878-4633-bd58-b2a3ed477d47",
   "metadata": {},
   "source": [
    "#### 3.2.2.1 Récupération des `order_id` des commandes passées avant le 1er janvier 2017 ou après le 31 août 2018"
   ]
  },
  {
   "cell_type": "code",
   "execution_count": 25,
   "id": "7d5ae8fe-fe28-441f-b41a-291214e813c1",
   "metadata": {},
   "outputs": [],
   "source": [
    "exclusion_period_mask = (df_orders['order_purchase_timestamp'] < '2017-01-01') | (df_orders['order_purchase_timestamp'] > '2018-08-31')\n",
    "order_ids_to_exclude = df_orders.loc[exclusion_period_mask, 'order_id']"
   ]
  },
  {
   "cell_type": "code",
   "execution_count": 26,
   "id": "bfd609e6-54b4-4a2e-8078-0e03485d6f10",
   "metadata": {},
   "outputs": [
    {
     "name": "stdout",
     "output_type": "stream",
     "text": [
      "350 commandes ont été passées avant janvier 2017 ou après août 2018\n"
     ]
    }
   ],
   "source": [
    "print(f\"{order_ids_to_exclude.shape[0]} commandes ont été passées avant janvier 2017 ou après août 2018\")"
   ]
  },
  {
   "cell_type": "markdown",
   "id": "aa1e3e0c-669d-4125-bf90-2625a9931d71",
   "metadata": {},
   "source": [
    "#### 3.2.2.2 Suppression des reviews dans le dataframe `df_order_reviews`"
   ]
  },
  {
   "cell_type": "code",
   "execution_count": 27,
   "id": "5a9a7a80-f04f-4463-91c3-9fcc826c2954",
   "metadata": {},
   "outputs": [
    {
     "name": "stdout",
     "output_type": "stream",
     "text": [
      "346 reviews ont été supprimées.\n"
     ]
    }
   ],
   "source": [
    "# Nombre de reviews avant\n",
    "number_of_reviews = df_order_reviews.shape[0]\n",
    "\n",
    "# Suppression\n",
    "df_order_reviews = df_order_reviews[~df_order_reviews['order_id'].isin(order_ids_to_exclude)]\n",
    "\n",
    "# Résultat\n",
    "print(f\"{number_of_reviews - df_order_reviews.shape[0]} reviews ont été supprimées.\")"
   ]
  },
  {
   "cell_type": "markdown",
   "id": "0643ca7a-99ea-4c3f-8ea6-661a4ec8a5f3",
   "metadata": {},
   "source": [
    "#### 3.2.2.3 Suppression des réglements dans le dataframe `df_order_pymts`"
   ]
  },
  {
   "cell_type": "code",
   "execution_count": 28,
   "id": "df38c76f-bfd9-4c36-85c8-186ee6f03224",
   "metadata": {},
   "outputs": [
    {
     "name": "stdout",
     "output_type": "stream",
     "text": [
      "367 réglements ont été supprimés.\n"
     ]
    }
   ],
   "source": [
    "# Nombre de réglements avant\n",
    "number_of_payments = df_order_pymts.shape[0]\n",
    "\n",
    "# Suppression\n",
    "df_order_pymts = df_order_pymts[~df_order_pymts['order_id'].isin(order_ids_to_exclude)]\n",
    "\n",
    "# Résultat\n",
    "print(f\"{number_of_payments - df_order_pymts.shape[0]} réglements ont été supprimés.\")"
   ]
  },
  {
   "cell_type": "markdown",
   "id": "cca9cb03-d994-489d-8278-3f3c164e8779",
   "metadata": {},
   "source": [
    "#### 3.2.2.4 Suppression des unités de produits achetés dans le dataframe `df_order_items`"
   ]
  },
  {
   "cell_type": "code",
   "execution_count": 29,
   "id": "7d03fb88-c5d9-43b0-af7d-5d90b597dd24",
   "metadata": {},
   "outputs": [
    {
     "name": "stdout",
     "output_type": "stream",
     "text": [
      "371 unités de produits achetés ont été supprimées.\n"
     ]
    }
   ],
   "source": [
    "# Nombre d'unités de produits avant\n",
    "number_of_order_items = df_order_items.shape[0]\n",
    "\n",
    "# Suppression\n",
    "df_order_items = df_order_items[~df_order_items['order_id'].isin(order_ids_to_exclude)]\n",
    "\n",
    "# Résultat\n",
    "print(f\"{number_of_order_items - df_order_items.shape[0]} unités de produits achetés ont été supprimées.\")"
   ]
  },
  {
   "cell_type": "markdown",
   "id": "46a7eecf-200f-49c3-a3de-1d3ca6d23719",
   "metadata": {},
   "source": [
    "#### 3.2.2.5 Suppression des clients dans le dataframe `df_customers`"
   ]
  },
  {
   "cell_type": "code",
   "execution_count": 30,
   "id": "b3bdf9c7-8a8d-42db-b5ee-745717f4e20d",
   "metadata": {},
   "outputs": [],
   "source": [
    "# Récupération des 'customer_id'\n",
    "customer_ids_to_exclude = df_orders.loc[exclusion_period_mask, 'customer_id']"
   ]
  },
  {
   "cell_type": "code",
   "execution_count": 31,
   "id": "0139a4f6-7081-472f-94f1-e67a348f0f65",
   "metadata": {},
   "outputs": [
    {
     "name": "stdout",
     "output_type": "stream",
     "text": [
      "323 clients ont été supprimées.\n"
     ]
    }
   ],
   "source": [
    "# Nombre clients avant\n",
    "number_of_customers = df_customers['customer_unique_id'].nunique()\n",
    "\n",
    "# Suppression\n",
    "df_customers = df_customers[~df_customers['customer_id'].isin(customer_ids_to_exclude)]\n",
    "\n",
    "# Résultat\n",
    "print(f\"{number_of_customers - df_customers['customer_unique_id'].nunique()} clients ont été supprimées.\")"
   ]
  },
  {
   "cell_type": "markdown",
   "id": "6f3bea8a-ce14-4017-9722-3d85d66cb596",
   "metadata": {},
   "source": [
    "#### 3.2.2.6 Suppression des commandes dans le dataframe `orders`"
   ]
  },
  {
   "cell_type": "code",
   "execution_count": 32,
   "id": "a5d9f1ae-2096-422f-99b3-dfab486a012e",
   "metadata": {},
   "outputs": [
    {
     "name": "stdout",
     "output_type": "stream",
     "text": [
      "350 commandes ont été supprimées.\n"
     ]
    }
   ],
   "source": [
    "# Nombre de commandes avant\n",
    "number_of_orders = df_orders.shape[0]\n",
    "\n",
    "# Suppression\n",
    "df_orders = df_orders.loc[~exclusion_period_mask]\n",
    "\n",
    "# Résultat\n",
    "print(f\"{number_of_orders - df_orders.shape[0]} commandes ont été supprimées.\")"
   ]
  },
  {
   "cell_type": "markdown",
   "id": "fcc541f8-b67b-4973-9dac-860fe25603d0",
   "metadata": {},
   "source": [
    "#### 3.2.2.6 Reconstitution du dataframe `df_features`"
   ]
  },
  {
   "cell_type": "code",
   "execution_count": 33,
   "id": "4a049ac5-da45-4835-8254-9b58be368b32",
   "metadata": {},
   "outputs": [],
   "source": [
    "df_features = pd.DataFrame({'customer_unique_id': df_customers['customer_unique_id'].unique()})"
   ]
  },
  {
   "cell_type": "code",
   "execution_count": 34,
   "id": "d0a9d84f-ac7a-4c15-8f6a-2e084ceb665d",
   "metadata": {},
   "outputs": [
    {
     "data": {
      "text/html": [
       "<div>\n",
       "<style scoped>\n",
       "    .dataframe tbody tr th:only-of-type {\n",
       "        vertical-align: middle;\n",
       "    }\n",
       "\n",
       "    .dataframe tbody tr th {\n",
       "        vertical-align: top;\n",
       "    }\n",
       "\n",
       "    .dataframe thead th {\n",
       "        text-align: right;\n",
       "    }\n",
       "</style>\n",
       "<table border=\"1\" class=\"dataframe\">\n",
       "  <thead>\n",
       "    <tr style=\"text-align: right;\">\n",
       "      <th></th>\n",
       "      <th>customer_unique_id</th>\n",
       "    </tr>\n",
       "  </thead>\n",
       "  <tbody>\n",
       "    <tr>\n",
       "      <th>0</th>\n",
       "      <td>861eff4711a542e4b93843c6dd7febb0</td>\n",
       "    </tr>\n",
       "    <tr>\n",
       "      <th>1</th>\n",
       "      <td>290c77bc529b7ac935b93aa66c333dc3</td>\n",
       "    </tr>\n",
       "    <tr>\n",
       "      <th>2</th>\n",
       "      <td>060e732b5b29e8181a18229c7b0b2b5e</td>\n",
       "    </tr>\n",
       "    <tr>\n",
       "      <th>3</th>\n",
       "      <td>259dac757896d24d7702b9acbbff3f3c</td>\n",
       "    </tr>\n",
       "    <tr>\n",
       "      <th>4</th>\n",
       "      <td>345ecd01c38d18a9036ed96c73b8d066</td>\n",
       "    </tr>\n",
       "    <tr>\n",
       "      <th>...</th>\n",
       "      <td>...</td>\n",
       "    </tr>\n",
       "    <tr>\n",
       "      <th>95768</th>\n",
       "      <td>1a29b476fee25c95fbafc67c5ac95cf8</td>\n",
       "    </tr>\n",
       "    <tr>\n",
       "      <th>95769</th>\n",
       "      <td>d52a67c98be1cf6a5c84435bd38d095d</td>\n",
       "    </tr>\n",
       "    <tr>\n",
       "      <th>95770</th>\n",
       "      <td>e9f50caf99f032f0bf3c55141f019d99</td>\n",
       "    </tr>\n",
       "    <tr>\n",
       "      <th>95771</th>\n",
       "      <td>73c2643a0a458b49f58cea58833b192e</td>\n",
       "    </tr>\n",
       "    <tr>\n",
       "      <th>95772</th>\n",
       "      <td>84732c5050c01db9b23e19ba39899398</td>\n",
       "    </tr>\n",
       "  </tbody>\n",
       "</table>\n",
       "<p>95773 rows × 1 columns</p>\n",
       "</div>"
      ],
      "text/plain": [
       "                     customer_unique_id\n",
       "0      861eff4711a542e4b93843c6dd7febb0\n",
       "1      290c77bc529b7ac935b93aa66c333dc3\n",
       "2      060e732b5b29e8181a18229c7b0b2b5e\n",
       "3      259dac757896d24d7702b9acbbff3f3c\n",
       "4      345ecd01c38d18a9036ed96c73b8d066\n",
       "...                                 ...\n",
       "95768  1a29b476fee25c95fbafc67c5ac95cf8\n",
       "95769  d52a67c98be1cf6a5c84435bd38d095d\n",
       "95770  e9f50caf99f032f0bf3c55141f019d99\n",
       "95771  73c2643a0a458b49f58cea58833b192e\n",
       "95772  84732c5050c01db9b23e19ba39899398\n",
       "\n",
       "[95773 rows x 1 columns]"
      ]
     },
     "metadata": {},
     "output_type": "display_data"
    }
   ],
   "source": [
    "display(df_features)"
   ]
  },
  {
   "cell_type": "markdown",
   "id": "15a3c71e-50d8-457c-8587-3c2c6c844ca4",
   "metadata": {},
   "source": [
    "* La base de données comptabilise **95 773 clients** ayant passé au moins une commande entre janvier 2017 et août 2018."
   ]
  },
  {
   "cell_type": "markdown",
   "id": "c3ebeaf5-b588-43be-ae0b-35e5d8b40fb1",
   "metadata": {},
   "source": [
    "### 3.2.4 Calcul de la feature `Récence`"
   ]
  },
  {
   "cell_type": "code",
   "execution_count": 35,
   "id": "fa859144-0cb6-46a8-9728-0e91c7539d62",
   "metadata": {},
   "outputs": [],
   "source": [
    "# Merge des features 'customer_unique_id' et 'order_purchase_timestamp' \n",
    "df_purchase_timestamp = pd.merge(df_orders[['customer_id', 'order_purchase_timestamp']], df_customers[['customer_id', 'customer_unique_id']], on='customer_id', how='left')"
   ]
  },
  {
   "cell_type": "code",
   "execution_count": 36,
   "id": "309e9b3d-43bf-47a2-adb9-2d776bd379a3",
   "metadata": {},
   "outputs": [],
   "source": [
    "# Récupération de la date de dernier achat de chaque 'customer_unique_id'\n",
    "last_purchase_dates = df_purchase_timestamp.groupby(['customer_unique_id']).agg(\n",
    "    last_purchase_timestamp = ('order_purchase_timestamp', 'max')\n",
    ").reset_index()"
   ]
  },
  {
   "cell_type": "code",
   "execution_count": 37,
   "id": "1251e22c-104c-45a7-b582-1c2f5faff86e",
   "metadata": {},
   "outputs": [],
   "source": [
    "# Conversion de la date de référence au format datetime \"YYYY-MM-DD 00:00:00\"\n",
    "last_order_date = pd.to_datetime('2018-08-31')\n",
    "\n",
    "# Conversion de la date de dernier achat au format datetime \"YYYY-MM-DD 00:00:00\"\n",
    "last_purchase_dates['last_purchase_timestamp'] = last_purchase_dates['last_purchase_timestamp'].dt.normalize()"
   ]
  },
  {
   "cell_type": "code",
   "execution_count": 38,
   "id": "e6a9e7a6-1bd8-4983-baa3-d167184e968f",
   "metadata": {},
   "outputs": [],
   "source": [
    "# Calcul de la feature 'Récence'\n",
    "last_purchase_dates['Récence'] = (last_order_date - last_purchase_dates['last_purchase_timestamp']).dt.days"
   ]
  },
  {
   "cell_type": "code",
   "execution_count": 39,
   "id": "9193e943-2bb0-4bcf-9f99-9ca562276598",
   "metadata": {},
   "outputs": [],
   "source": [
    "# Ajout de la feature 'Récence' au dataframe 'df_features'\n",
    "df_features = pd.merge(df_features, last_purchase_dates[['customer_unique_id', 'Récence']], on='customer_unique_id')"
   ]
  },
  {
   "cell_type": "code",
   "execution_count": 40,
   "id": "d9e1c18f-ac62-444f-8546-2d430f63b9c9",
   "metadata": {},
   "outputs": [
    {
     "data": {
      "text/html": [
       "<div>\n",
       "<style scoped>\n",
       "    .dataframe tbody tr th:only-of-type {\n",
       "        vertical-align: middle;\n",
       "    }\n",
       "\n",
       "    .dataframe tbody tr th {\n",
       "        vertical-align: top;\n",
       "    }\n",
       "\n",
       "    .dataframe thead th {\n",
       "        text-align: right;\n",
       "    }\n",
       "</style>\n",
       "<table border=\"1\" class=\"dataframe\">\n",
       "  <thead>\n",
       "    <tr style=\"text-align: right;\">\n",
       "      <th></th>\n",
       "      <th>customer_unique_id</th>\n",
       "      <th>Récence</th>\n",
       "    </tr>\n",
       "  </thead>\n",
       "  <tbody>\n",
       "    <tr>\n",
       "      <th>22899</th>\n",
       "      <td>3158fc4f60ca92412de397461b64cee3</td>\n",
       "      <td>1</td>\n",
       "    </tr>\n",
       "    <tr>\n",
       "      <th>52025</th>\n",
       "      <td>230a1e9f42924d41f37fd22a1d4a9707</td>\n",
       "      <td>1</td>\n",
       "    </tr>\n",
       "    <tr>\n",
       "      <th>3471</th>\n",
       "      <td>91544d22848a922381b73b5e21ad58ff</td>\n",
       "      <td>1</td>\n",
       "    </tr>\n",
       "    <tr>\n",
       "      <th>30363</th>\n",
       "      <td>eb240714223915add224beff2d844e53</td>\n",
       "      <td>1</td>\n",
       "    </tr>\n",
       "    <tr>\n",
       "      <th>47451</th>\n",
       "      <td>0c6d7218d5f3fa14514fd29865269993</td>\n",
       "      <td>2</td>\n",
       "    </tr>\n",
       "    <tr>\n",
       "      <th>...</th>\n",
       "      <td>...</td>\n",
       "      <td>...</td>\n",
       "    </tr>\n",
       "    <tr>\n",
       "      <th>41083</th>\n",
       "      <td>ef89f6e31311594d74becf9e18c73693</td>\n",
       "      <td>603</td>\n",
       "    </tr>\n",
       "    <tr>\n",
       "      <th>14564</th>\n",
       "      <td>da9c90677b1963eca1cf8a14c338cf6e</td>\n",
       "      <td>603</td>\n",
       "    </tr>\n",
       "    <tr>\n",
       "      <th>41988</th>\n",
       "      <td>29a63a400c3ca9982907ce8de1f19527</td>\n",
       "      <td>603</td>\n",
       "    </tr>\n",
       "    <tr>\n",
       "      <th>18388</th>\n",
       "      <td>d753459418d268407f19b64be28e3c5a</td>\n",
       "      <td>603</td>\n",
       "    </tr>\n",
       "    <tr>\n",
       "      <th>48032</th>\n",
       "      <td>83e7958a94bd7f74a9414d8782f87628</td>\n",
       "      <td>603</td>\n",
       "    </tr>\n",
       "  </tbody>\n",
       "</table>\n",
       "<p>95773 rows × 2 columns</p>\n",
       "</div>"
      ],
      "text/plain": [
       "                     customer_unique_id  Récence\n",
       "22899  3158fc4f60ca92412de397461b64cee3        1\n",
       "52025  230a1e9f42924d41f37fd22a1d4a9707        1\n",
       "3471   91544d22848a922381b73b5e21ad58ff        1\n",
       "30363  eb240714223915add224beff2d844e53        1\n",
       "47451  0c6d7218d5f3fa14514fd29865269993        2\n",
       "...                                 ...      ...\n",
       "41083  ef89f6e31311594d74becf9e18c73693      603\n",
       "14564  da9c90677b1963eca1cf8a14c338cf6e      603\n",
       "41988  29a63a400c3ca9982907ce8de1f19527      603\n",
       "18388  d753459418d268407f19b64be28e3c5a      603\n",
       "48032  83e7958a94bd7f74a9414d8782f87628      603\n",
       "\n",
       "[95773 rows x 2 columns]"
      ]
     },
     "metadata": {},
     "output_type": "display_data"
    }
   ],
   "source": [
    "# Affichage de quelques exemples\n",
    "display(df_features.sort_values('Récence'))"
   ]
  },
  {
   "cell_type": "markdown",
   "id": "e5353f7f-95b5-4e17-9109-d75c3afb944e",
   "metadata": {},
   "source": [
    "## 3.3 Feature `Fréquence`"
   ]
  },
  {
   "cell_type": "markdown",
   "id": "9eb6bb37-46c2-48ea-9d73-155d0e739a27",
   "metadata": {},
   "source": [
    "* Fréquence : nombre total d'achats effectués par un client sur une période donnée  \n",
    "* La période choisie doit refléter le cycle d'achat des clients et permettre de distinguer les clients réguliers des clients occasionnels  "
   ]
  },
  {
   "cell_type": "markdown",
   "id": "da740285-125e-42fb-bc70-d5c4591091b7",
   "metadata": {},
   "source": [
    "### 3.3.1 Détermination de la période"
   ]
  },
  {
   "cell_type": "markdown",
   "id": "0a1f3e41-58a5-4f62-bda5-bd5d52531897",
   "metadata": {},
   "source": [
    "* Répartition mensuelles de commandes"
   ]
  },
  {
   "cell_type": "code",
   "execution_count": 41,
   "id": "0fb1b71c-d503-45fb-b794-d5df2832d0c5",
   "metadata": {},
   "outputs": [
    {
     "data": {
      "image/png": "[encoded data removed]",
      "text/plain": [
       "<Figure size 1100x500 with 1 Axes>"
      ]
     },
     "metadata": {},
     "output_type": "display_data"
    }
   ],
   "source": [
    "# Nombre de commandes passées pour chaque valeur de 'year_month'\n",
    "df_orders_by_year_month = df_orders.groupby('year_month')['order_id'].count().reset_index()\n",
    "\n",
    "# Affichage barplot\n",
    "plt.figure(figsize=(11, 5))\n",
    "sns.barplot(data=df_orders_by_year_month, x='year_month', y='order_id')\n",
    "plt.xticks(rotation=45)\n",
    "plt.xlabel('Date d\\'achat')\n",
    "plt.ylabel('Nombre de commandes')\n",
    "plt.title('Répartition mensuelle des commandes', pad=10)\n",
    "plt.show()"
   ]
  },
  {
   "cell_type": "markdown",
   "id": "366483da-d6a5-4e24-9231-dbcea3589824",
   "metadata": {},
   "source": [
    "* Nombre de commandes par clients"
   ]
  },
  {
   "cell_type": "code",
   "execution_count": 42,
   "id": "435a2c60-974d-4ff8-9718-122a18d4f53f",
   "metadata": {},
   "outputs": [
    {
     "data": {
      "text/html": [
       "<div>\n",
       "<style scoped>\n",
       "    .dataframe tbody tr th:only-of-type {\n",
       "        vertical-align: middle;\n",
       "    }\n",
       "\n",
       "    .dataframe tbody tr th {\n",
       "        vertical-align: top;\n",
       "    }\n",
       "\n",
       "    .dataframe thead th {\n",
       "        text-align: right;\n",
       "    }\n",
       "</style>\n",
       "<table border=\"1\" class=\"dataframe\">\n",
       "  <thead>\n",
       "    <tr style=\"text-align: right;\">\n",
       "      <th></th>\n",
       "      <th>Nombre de clients</th>\n",
       "      <th>% de clients</th>\n",
       "      <th>Nombre de commandes</th>\n",
       "    </tr>\n",
       "  </thead>\n",
       "  <tbody>\n",
       "    <tr>\n",
       "      <th>0</th>\n",
       "      <td>92798</td>\n",
       "      <td>96.894</td>\n",
       "      <td>1</td>\n",
       "    </tr>\n",
       "    <tr>\n",
       "      <th>1</th>\n",
       "      <td>2728</td>\n",
       "      <td>2.848</td>\n",
       "      <td>2</td>\n",
       "    </tr>\n",
       "    <tr>\n",
       "      <th>2</th>\n",
       "      <td>198</td>\n",
       "      <td>0.207</td>\n",
       "      <td>3</td>\n",
       "    </tr>\n",
       "    <tr>\n",
       "      <th>3</th>\n",
       "      <td>30</td>\n",
       "      <td>0.031</td>\n",
       "      <td>4</td>\n",
       "    </tr>\n",
       "    <tr>\n",
       "      <th>4</th>\n",
       "      <td>8</td>\n",
       "      <td>0.008</td>\n",
       "      <td>5</td>\n",
       "    </tr>\n",
       "    <tr>\n",
       "      <th>5</th>\n",
       "      <td>6</td>\n",
       "      <td>0.006</td>\n",
       "      <td>6</td>\n",
       "    </tr>\n",
       "    <tr>\n",
       "      <th>6</th>\n",
       "      <td>3</td>\n",
       "      <td>0.003</td>\n",
       "      <td>7</td>\n",
       "    </tr>\n",
       "    <tr>\n",
       "      <th>7</th>\n",
       "      <td>1</td>\n",
       "      <td>0.001</td>\n",
       "      <td>9</td>\n",
       "    </tr>\n",
       "    <tr>\n",
       "      <th>8</th>\n",
       "      <td>1</td>\n",
       "      <td>0.001</td>\n",
       "      <td>17</td>\n",
       "    </tr>\n",
       "  </tbody>\n",
       "</table>\n",
       "</div>"
      ],
      "text/plain": [
       "   Nombre de clients  % de clients  Nombre de commandes\n",
       "0              92798        96.894                    1\n",
       "1               2728         2.848                    2\n",
       "2                198         0.207                    3\n",
       "3                 30         0.031                    4\n",
       "4                  8         0.008                    5\n",
       "5                  6         0.006                    6\n",
       "6                  3         0.003                    7\n",
       "7                  1         0.001                    9\n",
       "8                  1         0.001                   17"
      ]
     },
     "execution_count": 42,
     "metadata": {},
     "output_type": "execute_result"
    }
   ],
   "source": [
    "# Nombre de commandes par 'customer_unique_id'\n",
    "# Dans les tables 'orders' et 'customers', le champ 'customer_id' représente une commande\n",
    "number_of_orders_by_customer = df_customers.groupby('customer_unique_id')['customer_id'].count().reset_index()\n",
    "\n",
    "# Nombre de clients pour chaque \"Nombre de commandes\"\n",
    "number_of_customers_by_number_of_orders = number_of_orders_by_customer.groupby('customer_id')['customer_unique_id'].count().reset_index()\n",
    "\n",
    "# Changement de noms aux colonnes pour plus de clarté\n",
    "number_of_customers_by_number_of_orders = number_of_customers_by_number_of_orders.rename(columns={'customer_id': 'Nombre de commandes', 'customer_unique_id': 'Nombre de clients'})\n",
    "\n",
    "# Calcul du pourcentage de clients\n",
    "number_of_customers = df_features.shape[0]\n",
    "number_of_customers_by_number_of_orders['% de clients'] = round((number_of_customers_by_number_of_orders['Nombre de clients'] / number_of_customers) * 100, 3)\n",
    "\n",
    "# Affichage dans l'ordre logique des colonnes\n",
    "number_of_customers_by_number_of_orders[['Nombre de clients', '% de clients', 'Nombre de commandes']]"
   ]
  },
  {
   "cell_type": "markdown",
   "id": "43f29569-151d-4377-af53-8070a6819971",
   "metadata": {},
   "source": [
    "* Les commandes sont en augmentation jusqu'en novembre 2017, puis en relative stagnation\n",
    "* La période disponible est relativement courte : un peu plus d'un an et demi\n",
    "* La plupart des clients n'ont fait qu'un seul achat sur cette période  "
   ]
  },
  {
   "cell_type": "markdown",
   "id": "65a3d1c7-081a-4d14-abcf-406b3ba599c2",
   "metadata": {},
   "source": [
    "* Compte-tenu de ces éléments, je choisi de calculer la feature `Fréquence` sur l'intégralité de la période disponible"
   ]
  },
  {
   "cell_type": "markdown",
   "id": "ccd69853-5465-48a4-b604-964537841ac8",
   "metadata": {},
   "source": [
    "### 3.3.2 Calcul de la feature `Fréquence`"
   ]
  },
  {
   "cell_type": "markdown",
   "id": "00040729-a3dc-41bb-999c-55fa2962f50e",
   "metadata": {},
   "source": [
    "* Étant donné que seulement un peu plus de **3 %** des clients n'ont passé qu'une seule commande sur la période, je choisi de binariser la feature `Fréquence` :\n",
    "   * Un score de **0** sera attribué aux clients n'ayant effectué qu'**une commande**  \n",
    "   * Un score de **1** sera attribué aux clents ayant passé **2 commandes ou plus**"
   ]
  },
  {
   "cell_type": "code",
   "execution_count": 43,
   "id": "bde941d9-eca5-4e87-b250-5e5b152ab390",
   "metadata": {},
   "outputs": [],
   "source": [
    "# Fusion des dataframes 'df_features' et 'number_of_orders_by_customer'\n",
    "df_features = pd.merge(df_features, number_of_orders_by_customer, on='customer_unique_id', how='inner')\n",
    "\n",
    "# Changement de nom à la colonne 'customer_id' qui contient le nombre de commandes passées\n",
    "df_features.rename(columns={'customer_id': 'Fréquence'}, inplace=True)"
   ]
  },
  {
   "cell_type": "code",
   "execution_count": 44,
   "id": "66ee7deb-c1a0-407e-ba83-da9c8a5c28fe",
   "metadata": {},
   "outputs": [],
   "source": [
    "# Masque de séléction des clients ayant passé une seule commande\n",
    "only_one_order_mask = df_features['Fréquence'] == 1"
   ]
  },
  {
   "cell_type": "code",
   "execution_count": 45,
   "id": "efea0584-2797-498e-b920-dccbcde2690e",
   "metadata": {},
   "outputs": [],
   "source": [
    "# Attribution du score de Fréquence 0 aux clients ayant passé une seule commande\n",
    "df_features.loc[only_one_order_mask, 'Fréquence'] = 0\n",
    "\n",
    "# Attribution du score de Fréquence 1 aux autres clients\n",
    "df_features.loc[~only_one_order_mask, 'Fréquence'] = 1"
   ]
  },
  {
   "cell_type": "markdown",
   "id": "42a2484c-b23a-429a-a61c-e4dab610f23c",
   "metadata": {},
   "source": [
    "* Affichage de quelques clients"
   ]
  },
  {
   "cell_type": "code",
   "execution_count": 46,
   "id": "38484be0-205e-42ce-82b1-4fc015dc809c",
   "metadata": {},
   "outputs": [
    {
     "data": {
      "text/html": [
       "<div>\n",
       "<style scoped>\n",
       "    .dataframe tbody tr th:only-of-type {\n",
       "        vertical-align: middle;\n",
       "    }\n",
       "\n",
       "    .dataframe tbody tr th {\n",
       "        vertical-align: top;\n",
       "    }\n",
       "\n",
       "    .dataframe thead th {\n",
       "        text-align: right;\n",
       "    }\n",
       "</style>\n",
       "<table border=\"1\" class=\"dataframe\">\n",
       "  <thead>\n",
       "    <tr style=\"text-align: right;\">\n",
       "      <th></th>\n",
       "      <th>customer_unique_id</th>\n",
       "      <th>Récence</th>\n",
       "      <th>Fréquence</th>\n",
       "    </tr>\n",
       "  </thead>\n",
       "  <tbody>\n",
       "    <tr>\n",
       "      <th>0</th>\n",
       "      <td>861eff4711a542e4b93843c6dd7febb0</td>\n",
       "      <td>472</td>\n",
       "      <td>0</td>\n",
       "    </tr>\n",
       "    <tr>\n",
       "      <th>63772</th>\n",
       "      <td>aa1a036afef8181797a6e3f8b96d91b8</td>\n",
       "      <td>165</td>\n",
       "      <td>0</td>\n",
       "    </tr>\n",
       "    <tr>\n",
       "      <th>63771</th>\n",
       "      <td>08f77862a18100d978ece3564a80366d</td>\n",
       "      <td>210</td>\n",
       "      <td>0</td>\n",
       "    </tr>\n",
       "    <tr>\n",
       "      <th>63770</th>\n",
       "      <td>797ecfd850b58e0855e2222bb59fcdd1</td>\n",
       "      <td>133</td>\n",
       "      <td>0</td>\n",
       "    </tr>\n",
       "    <tr>\n",
       "      <th>63769</th>\n",
       "      <td>f851601132fd95d1bc72825fdc1653a6</td>\n",
       "      <td>127</td>\n",
       "      <td>0</td>\n",
       "    </tr>\n",
       "    <tr>\n",
       "      <th>...</th>\n",
       "      <td>...</td>\n",
       "      <td>...</td>\n",
       "      <td>...</td>\n",
       "    </tr>\n",
       "    <tr>\n",
       "      <th>84660</th>\n",
       "      <td>c45ece361aab055ea6c55b61eb2d99c0</td>\n",
       "      <td>333</td>\n",
       "      <td>1</td>\n",
       "    </tr>\n",
       "    <tr>\n",
       "      <th>26936</th>\n",
       "      <td>b7741f7ec50ab6bcd52ab08ea8f214d9</td>\n",
       "      <td>218</td>\n",
       "      <td>1</td>\n",
       "    </tr>\n",
       "    <tr>\n",
       "      <th>42248</th>\n",
       "      <td>4754e3b66497719a91b36268ed9c5718</td>\n",
       "      <td>266</td>\n",
       "      <td>1</td>\n",
       "    </tr>\n",
       "    <tr>\n",
       "      <th>19702</th>\n",
       "      <td>54eb010282ed1c4a38e101aa8b9aca37</td>\n",
       "      <td>8</td>\n",
       "      <td>1</td>\n",
       "    </tr>\n",
       "    <tr>\n",
       "      <th>44126</th>\n",
       "      <td>7a311d62282fa63be12b02aef2fd21d1</td>\n",
       "      <td>213</td>\n",
       "      <td>1</td>\n",
       "    </tr>\n",
       "  </tbody>\n",
       "</table>\n",
       "<p>95773 rows × 3 columns</p>\n",
       "</div>"
      ],
      "text/plain": [
       "                     customer_unique_id  Récence  Fréquence\n",
       "0      861eff4711a542e4b93843c6dd7febb0      472          0\n",
       "63772  aa1a036afef8181797a6e3f8b96d91b8      165          0\n",
       "63771  08f77862a18100d978ece3564a80366d      210          0\n",
       "63770  797ecfd850b58e0855e2222bb59fcdd1      133          0\n",
       "63769  f851601132fd95d1bc72825fdc1653a6      127          0\n",
       "...                                 ...      ...        ...\n",
       "84660  c45ece361aab055ea6c55b61eb2d99c0      333          1\n",
       "26936  b7741f7ec50ab6bcd52ab08ea8f214d9      218          1\n",
       "42248  4754e3b66497719a91b36268ed9c5718      266          1\n",
       "19702  54eb010282ed1c4a38e101aa8b9aca37        8          1\n",
       "44126  7a311d62282fa63be12b02aef2fd21d1      213          1\n",
       "\n",
       "[95773 rows x 3 columns]"
      ]
     },
     "execution_count": 46,
     "metadata": {},
     "output_type": "execute_result"
    }
   ],
   "source": [
    "df_features.sort_values('Fréquence')"
   ]
  },
  {
   "cell_type": "markdown",
   "id": "127487f7-c9b8-432c-a5b7-da4d0f08886c",
   "metadata": {},
   "source": [
    "* Vérification"
   ]
  },
  {
   "cell_type": "code",
   "execution_count": 47,
   "id": "e9b37274-778c-4708-93ba-e276d420b9f1",
   "metadata": {},
   "outputs": [
    {
     "data": {
      "text/html": [
       "<div>\n",
       "<style scoped>\n",
       "    .dataframe tbody tr th:only-of-type {\n",
       "        vertical-align: middle;\n",
       "    }\n",
       "\n",
       "    .dataframe tbody tr th {\n",
       "        vertical-align: top;\n",
       "    }\n",
       "\n",
       "    .dataframe thead th {\n",
       "        text-align: right;\n",
       "    }\n",
       "</style>\n",
       "<table border=\"1\" class=\"dataframe\">\n",
       "  <thead>\n",
       "    <tr style=\"text-align: right;\">\n",
       "      <th></th>\n",
       "      <th>count</th>\n",
       "    </tr>\n",
       "    <tr>\n",
       "      <th>Fréquence</th>\n",
       "      <th></th>\n",
       "    </tr>\n",
       "  </thead>\n",
       "  <tbody>\n",
       "    <tr>\n",
       "      <th>0</th>\n",
       "      <td>92798</td>\n",
       "    </tr>\n",
       "    <tr>\n",
       "      <th>1</th>\n",
       "      <td>2975</td>\n",
       "    </tr>\n",
       "  </tbody>\n",
       "</table>\n",
       "</div>"
      ],
      "text/plain": [
       "           count\n",
       "Fréquence       \n",
       "0          92798\n",
       "1           2975"
      ]
     },
     "execution_count": 47,
     "metadata": {},
     "output_type": "execute_result"
    }
   ],
   "source": [
    "# Nombre de clients avec un score de Fréquence à 0\n",
    "df_features['Fréquence'].value_counts().to_frame()"
   ]
  },
  {
   "cell_type": "markdown",
   "id": "b7ef80fe-7f34-4fcc-a369-e163c1ae65d5",
   "metadata": {},
   "source": [
    "Il y a bien **92 798 clients** qui n'ont passé qu'une seule commande"
   ]
  },
  {
   "cell_type": "code",
   "execution_count": null,
   "id": "4b2bc715-4ba9-46ae-8f8c-7b55dacbe771",
   "metadata": {},
   "outputs": [],
   "source": []
  },
  {
   "cell_type": "code",
   "execution_count": null,
   "id": "635e4a76-1035-4d46-a3fb-c8d636dbb57a",
   "metadata": {},
   "outputs": [],
   "source": []
  },
  {
   "cell_type": "code",
   "execution_count": null,
   "id": "3f5e1bce-43ca-4945-9ffc-f4bfa9acd2fc",
   "metadata": {},
   "outputs": [],
   "source": []
  },
  {
   "cell_type": "code",
   "execution_count": null,
   "id": "b27570e8-71e7-4bc7-9a52-a52ca4a9bd13",
   "metadata": {},
   "outputs": [],
   "source": []
  },
  {
   "cell_type": "code",
   "execution_count": null,
   "id": "8cf430f7-27f1-497d-a101-29fb179deacd",
   "metadata": {},
   "outputs": [],
   "source": []
  },
  {
   "cell_type": "code",
   "execution_count": null,
   "id": "428ba7be-a08b-4987-93a4-a300710e3591",
   "metadata": {},
   "outputs": [],
   "source": []
  },
  {
   "cell_type": "code",
   "execution_count": null,
   "id": "8f685cfd-9e3c-4619-9e96-92b6395963cb",
   "metadata": {},
   "outputs": [],
   "source": []
  },
  {
   "cell_type": "code",
   "execution_count": null,
   "id": "3e152631-eafd-4518-9910-cbb28ecb6d40",
   "metadata": {},
   "outputs": [],
   "source": []
  },
  {
   "cell_type": "code",
   "execution_count": null,
   "id": "c08a2dd8-efe4-4422-bbe8-406902d79bb8",
   "metadata": {},
   "outputs": [],
   "source": []
  },
  {
   "cell_type": "markdown",
   "id": "316ae3d0-3ac2-44b4-b354-4c03a106f91c",
   "metadata": {},
   "source": [
    "# <span style=\"color:red\">**Élements de la version précédente - A ignorer**</span>"
   ]
  },
  {
   "cell_type": "markdown",
   "id": "21a26907-c9ab-4cfa-900c-2cefbaa1845e",
   "metadata": {},
   "source": [
    "# 2 Analyse exploratoire"
   ]
  },
  {
   "cell_type": "markdown",
   "id": "769fb32b-f2a0-4b45-893c-8e82a3be1a26",
   "metadata": {},
   "source": [
    "L'objectif est de réaliser une **segmentation des clients**.  \n",
    "Je vais donc porter une attention particulière sur les champs me permettant de calculer des scores par client :  \n",
    "* **Récence** : date de la dernière commande => `orders.order_approved_at` ?  \n",
    "* **Fréquence** : nombre total de commandes => `customers.customer_id`, `orders.order_id` ou `orders.customer_id` ?  \n",
    "* **Montant** : valeur totale des achats => `order_items.price` (+ `order_items.freight` ?), `order_pymts.payment_value` ?  \n",
    "* **Panier moyen** : valeur moyenne d'une commande => Montant total / nombre de commandes  \n",
    "* **Score de satisfaction** : notes de satisfaction => `order_reviews.review_score` (comment compléter les manquants : KNN ?)\n",
    "* **Motif d'insatisfation** ??? Si pertinent, comment obtenir cette info ? \n",
    "* **Délai de livraison** : `orders.order_delivered_customer_date` - `orders.order_purchase_timestamp` ? `orders.order_delivered_customer_date` - `orders.order_approved_at` ?\n",
    "* **Retard de livraison** : `orders.order_delivered_customer_date` - `orders.estimated_delivery_date`\n",
    "* **Situation géographique du client** ??? Y aurait-il des différences selon les régions ?\n",
    "* **Distance par rapport au vendeur** ??? Si pertinent comment gérer les commandes regroupant plusieurs vendeurs ? La moyenne des distances serait pertinente ?\n",
    "* **Échelonnement** : nombre moyen d'échéances pour payer une commande => `order_pymts.payment_installments` / nombre de commandes : pertinent ???"
   ]
  },
  {
   "cell_type": "markdown",
   "id": "6775839a-50d0-4914-a4cc-c6bc1191e538",
   "metadata": {},
   "source": [
    "## 2.2 Analyses univariées"
   ]
  },
  {
   "cell_type": "markdown",
   "id": "496125d2-97d8-4d07-8c0f-ba72e3d2ff37",
   "metadata": {},
   "source": [
    "* Utilisation des fonctions :\n",
    "   * `describe_table('nom_table')` : récupère et calcule le nom des champs, leur type, le nombre de valeurs uniques, de doublons, de valeurs manquantes directement sur la table, en SQL, puis renvoie un dataframe\n",
    "   * `f_query_result('query')` : exécute une requête SQL et renvoie un dataframe\n",
    "   * `get_df_infos(dataframe)` : renvoie un dataframe avec les mêmes informations que `describe_table()`, mais calculées en python à partir d'un dataframe\n",
    "* Toutes les tables de la BDD contiennent un champ `index` qui sera supprimé à chaque récupération sous forme de dataframe, pour ne pas faire double-emploi"
   ]
  },
  {
   "cell_type": "markdown",
   "id": "fa6f28ab-cb7c-4a41-a0f9-838aaa234308",
   "metadata": {},
   "source": [
    "### 2.2.1 Table `orders`"
   ]
  },
  {
   "cell_type": "code",
   "execution_count": null,
   "id": "33f238ef-53f4-4588-9a37-db9517c4a6e8",
   "metadata": {},
   "outputs": [],
   "source": [
    "# Affichage de quelques lignes\n",
    "display(df_orders)"
   ]
  },
  {
   "cell_type": "code",
   "execution_count": null,
   "id": "a63bbdc6-d783-451f-91cd-ed91b7d5a819",
   "metadata": {},
   "outputs": [],
   "source": [
    "# Description des champs de la table\n",
    "display(describe_table('orders'))"
   ]
  },
  {
   "cell_type": "code",
   "execution_count": null,
   "id": "52ec2872-3da7-4c7f-977b-0c48e7c1b80f",
   "metadata": {},
   "outputs": [],
   "source": [
    "# Description des variables du dataframe\n",
    "display(get_dataframe_infos(df_orders))"
   ]
  },
  {
   "cell_type": "markdown",
   "id": "3b9bd43d-ec32-4c1b-a03c-b9d96de9117b",
   "metadata": {},
   "source": [
    "* Hormis les types, les informations relevées sont strictement identiques👍🏼\n",
    "* Toutes les colonnes de la table sont de type `TEXT`, et transformées en type `OBJECT` via l'import en dataframe\n",
    "* Les variables doivent être converties dans les bons types"
   ]
  },
  {
   "cell_type": "code",
   "execution_count": null,
   "id": "0aad3c73-63fb-40cb-b96a-3900c7109dad",
   "metadata": {},
   "outputs": [],
   "source": [
    "# Dictionnaire de conversion\n",
    "to_transform = {\n",
    "    'to_string': ['order_id', 'customer_id', 'order_status'],\n",
    "    'to_date': ['order_purchase_timestamp',\n",
    "                'order_approved_at',\n",
    "                'order_delivered_carrier_date',\n",
    "                'order_delivered_customer_date',\n",
    "                'order_estimated_delivery_date']\n",
    "}\n",
    "\n",
    "# Conversions\n",
    "df_orders = transform_data_types(df_orders, to_transform)"
   ]
  },
  {
   "cell_type": "markdown",
   "id": "7930c2b2-4de6-4607-babb-074d5b12cd89",
   "metadata": {},
   "source": [
    "* Verification des transformations"
   ]
  },
  {
   "cell_type": "code",
   "execution_count": null,
   "id": "d2d80ba0-262e-4c02-a1b9-212a5d40e694",
   "metadata": {},
   "outputs": [],
   "source": [
    "# Description des variables du dataframe\n",
    "display(get_dataframe_infos(df_orders))"
   ]
  },
  {
   "cell_type": "code",
   "execution_count": null,
   "id": "54ec7228-e81c-4925-a869-2ef0e4f49bf6",
   "metadata": {},
   "outputs": [],
   "source": [
    "# Principales mesures statistiques\n",
    "df_orders.describe()"
   ]
  },
  {
   "cell_type": "markdown",
   "id": "e43211e9-824a-44dd-b664-78a24f45b669",
   "metadata": {},
   "source": [
    "#### 2.2.1.1 `order_status`"
   ]
  },
  {
   "cell_type": "markdown",
   "id": "3207bc7a-2580-4ab9-8929-b877c8211d55",
   "metadata": {},
   "source": [
    "* Valeurs uniques"
   ]
  },
  {
   "cell_type": "code",
   "execution_count": null,
   "id": "bc0006b3-59e3-48be-8647-936167487f98",
   "metadata": {},
   "outputs": [],
   "source": [
    "df_order_status = df_orders['order_status'].value_counts().to_frame()\n",
    "no_orders = df_orders.shape[0]\n",
    "df_order_status['%'] = round((df_order_status['count'] / no_orders) * 100, 2).astype(str) + ' %'\n",
    "display(df_order_status)"
   ]
  },
  {
   "cell_type": "markdown",
   "id": "a4e274f7-3de7-4295-949f-5f4bfedd4bf4",
   "metadata": {},
   "source": [
    "* La très grande majorité des commandes ont le statut 'delivered' ($97.02 \\%$)  \n",
    "* Les commandes avec un statut différent pourront être supprimées :\n",
    "   * Représentant moins de $3 \\%$ des commandes, sans elles les résultats ne seront pas impactés\n",
    "   * N'étant pas livrées, ces commandes n'auront pas de review, on ne pourra pas calculer le délai de livraison..."
   ]
  },
  {
   "cell_type": "code",
   "execution_count": null,
   "id": "5c5f74a8-d17b-4943-a6df-911135f3875e",
   "metadata": {},
   "outputs": [],
   "source": [
    "# Suppression des commandes non livrées\n",
    "mask = df_orders['order_status'] != 'delivered'\n",
    "df_orders = df_orders.loc[~mask]"
   ]
  },
  {
   "cell_type": "markdown",
   "id": "ec67a00a-10be-4e5e-b9bf-9d929fefbbe4",
   "metadata": {},
   "source": [
    "* La variable `order_status` n'a plus d'intérêt"
   ]
  },
  {
   "cell_type": "code",
   "execution_count": null,
   "id": "8774a600-b60e-4c6b-a720-9a4dee259c98",
   "metadata": {},
   "outputs": [],
   "source": [
    "# Suppression de la variable 'order_status'\n",
    "df_orders = df_orders.drop('order_status', axis=1)"
   ]
  },
  {
   "attachments": {},
   "cell_type": "markdown",
   "id": "bfc7fa45-9b58-4758-8df2-1ae7d98cf707",
   "metadata": {},
   "source": [
    "#### 2.2.1.2 `order_purchase_timestamp`, `order_approved_at`, `order_delivered_carrier_date`, `order_delivered_customer_date`, `order_estimated_delivery_date`"
   ]
  },
  {
   "cell_type": "code",
   "execution_count": null,
   "id": "80fb1e12-b4bb-483f-9329-fbd437c08a51",
   "metadata": {},
   "outputs": [],
   "source": [
    "date_fields = ['order_purchase_timestamp', 'order_approved_at', 'order_delivered_carrier_date', 'order_delivered_customer_date', 'order_estimated_delivery_date']"
   ]
  },
  {
   "cell_type": "code",
   "execution_count": null,
   "id": "34816370-113f-4e7e-ba5e-4360b32c1776",
   "metadata": {},
   "outputs": [],
   "source": [
    "display(get_dataframe_infos(df_orders[date_fields]))"
   ]
  },
  {
   "cell_type": "markdown",
   "id": "8138e5bd-ce65-4d36-9633-16187d334ba2",
   "metadata": {},
   "source": [
    "* Quelles sont les commandes sans date d'approbation ?"
   ]
  },
  {
   "cell_type": "code",
   "execution_count": null,
   "id": "fc951f14-8eb8-4156-82a2-d73f2b7b352e",
   "metadata": {},
   "outputs": [],
   "source": [
    "wo_approbation_mask = df_orders['order_approved_at'].isna()\n",
    "display(df_orders.loc[wo_approbation_mask])"
   ]
  },
  {
   "cell_type": "code",
   "execution_count": null,
   "id": "87b71a12-dcd9-4d68-8e97-36c46b643635",
   "metadata": {},
   "outputs": [],
   "source": [
    "# Date des première et dernière commandes sans dates d'approbation\n",
    "wo_approbation_start_date = df_orders.loc[wo_approbation_mask, 'order_purchase_timestamp'].min()\n",
    "wo_approbation_end_date = df_orders.loc[wo_approbation_mask, 'order_purchase_timestamp'].max()\n",
    "display(wo_approbation_start_date)\n",
    "display(wo_approbation_end_date)"
   ]
  },
  {
   "cell_type": "markdown",
   "id": "888ee850-9956-44cb-ba23-bbb7f489f850",
   "metadata": {},
   "source": [
    "* Il semblerait qu'il y ait eu un souci sur une période d'un mois, entre les 19 janvier et 19 février 2017\n",
    "* Stratégie pour remplacer ces valeurs manquantes :\n",
    "   * Calculer le délai moyen entre la date de validation du paiement `order_approved_at` et la date de dépôt au livreur `order_delivered_carrier_at`\n",
    "   * Si ce délai est relativement constant sur une courte période avant et après la période problématique, l'appliquer en s'assurant que la date calculée ne soit pas antérieure à la date d'achat `order_approved_at`"
   ]
  },
  {
   "cell_type": "code",
   "execution_count": null,
   "id": "7ea656fd-ede7-4864-bc62-dec2fd79dddc",
   "metadata": {},
   "outputs": [],
   "source": [
    "# Affichage de toutes les commandes de la période "
   ]
  },
  {
   "cell_type": "code",
   "execution_count": null,
   "id": "e440a608-6f6c-4577-a376-15575440978e",
   "metadata": {},
   "outputs": [],
   "source": [
    "period_mask = (df_orders['order_purchase_timestamp'] >= wo_approbation_start_date) & \\\n",
    "              (df_orders['order_purchase_timestamp'] <= wo_approbation_end_date)\n",
    "df_orders.loc[period_mask]"
   ]
  },
  {
   "cell_type": "markdown",
   "id": "db7bf7bb-e4a8-43ef-8ed9-e8c257e16591",
   "metadata": {},
   "source": [
    "* 1720 commandes de cette même période ne sont pas concernées par le problème  \n",
    "* Le délai moyen sera calculé sur cette période"
   ]
  },
  {
   "cell_type": "code",
   "execution_count": null,
   "id": "960bc001-0f06-4719-84f1-e2d50f843c6e",
   "metadata": {},
   "outputs": [],
   "source": [
    "# Dates de début et de fin\n",
    "start_date = df_orders.loc[mask, 'order_purchase_timestamp'].min()\n",
    "end_date = df_orders.loc[mask, 'order_purchase_timestamp'].max()"
   ]
  },
  {
   "cell_type": "code",
   "execution_count": null,
   "id": "2a73338c-5b96-4bd2-b93f-514a9b2b303c",
   "metadata": {},
   "outputs": [],
   "source": [
    "# Création d'une colonne contenant le délai en heures entre la date d'approbation et la date de dépôt au livreur\n",
    "df_orders['approval_delay'] = (df_orders['order_delivered_carrier_date'] - df_orders['order_approved_at']).dt.total_seconds() / 3600\n",
    "\n",
    "# Calculer le délai moyen en heures\n",
    "average_delay_hours = df_orders.loc[period_mask, 'approval_delay'].mean()\n",
    "\n",
    "print(f\"Le délai moyen de mise en livraison est de {average_delay_hours} heures.\")"
   ]
  },
  {
   "cell_type": "code",
   "execution_count": null,
   "id": "352ec907-ff04-4af9-9161-00e5248e5bd4",
   "metadata": {},
   "outputs": [],
   "source": [
    "# Affichage des statistiques\n",
    "df_orders.loc[period_mask, 'approval_delay'].to_frame().describe()"
   ]
  },
  {
   "cell_type": "markdown",
   "id": "6762b877-ba40-421c-982e-e4044bba22fe",
   "metadata": {},
   "source": [
    "* Avec délai minimum de **-163 heures**, un maximum de **1 318 heures** et un écart-type de **107 heures**, prendre une valeur moyenne n'aurait aucun sens  \n",
    "*(Y-a-t-il des commandes qui sont mises en livraison avant validation du paiement ?)*"
   ]
  },
  {
   "cell_type": "markdown",
   "id": "22d0cf35-bdf1-4484-9115-9a514d238183",
   "metadata": {},
   "source": [
    "* Le délai entre la validation du paiement et la mise en livraison est-il plus stable ?"
   ]
  },
  {
   "cell_type": "code",
   "execution_count": null,
   "id": "cd17aaee-435b-4f9c-bc5b-470208ee09d6",
   "metadata": {},
   "outputs": [],
   "source": [
    "# Création d'une colonne contenant le délai en heures entre la date d'achat et la date de validation du paiement\n",
    "df_orders['shipping_preparation_delay'] = (df_orders['order_approved_at'] - df_orders['order_purchase_timestamp']).dt.total_seconds() / 3600\n",
    "\n",
    "# Calculer le délai moyen en heures\n",
    "average_delay_hours = df_orders.loc[period_mask, 'shipping_preparation_delay'].mean()\n",
    "\n",
    "print(f\"Le délai moyen de validation du paiement est de {average_delay_hours} heures.\")"
   ]
  },
  {
   "cell_type": "code",
   "execution_count": null,
   "id": "4e3dd69d-0999-4245-baa9-64b03866b9e7",
   "metadata": {},
   "outputs": [],
   "source": [
    "# Affichage des statistiques\n",
    "df_orders.loc[period_mask, 'shipping_preparation_delay'].to_frame().describe()"
   ]
  },
  {
   "cell_type": "markdown",
   "id": "8f89075f-22eb-41bc-8739-444f901b45ae",
   "metadata": {},
   "source": [
    "* Avec délai minimum de **quelques minutes**, un maximum de **267 heures** et un écart-type de **21 heures**, prendre une valeur moyenne n'aurait pas plus de sens"
   ]
  },
  {
   "cell_type": "markdown",
   "id": "e6ca8070-36b8-4131-98c5-34c28160ffe6",
   "metadata": {},
   "source": [
    "* Abandon de la tentative de correction des valeurs manquantes, et suppression des 14 commandes concernées (0.01 % du nombre total de commandes)"
   ]
  },
  {
   "cell_type": "code",
   "execution_count": null,
   "id": "ce7a265b-18c8-4de5-8726-25ac81f03fc8",
   "metadata": {},
   "outputs": [],
   "source": [
    "# Suppression des commandes sans `order_approved_date`\n",
    "df_orders = df_orders.loc[~wo_approbation_mask]"
   ]
  },
  {
   "cell_type": "code",
   "execution_count": null,
   "id": "5c51d5e9-29ad-4008-aa85-fc4c507da9de",
   "metadata": {},
   "outputs": [],
   "source": [
    "# Mise à jour des infos\n",
    "display(get_dataframe_infos(df_orders[date_fields]))"
   ]
  },
  {
   "cell_type": "markdown",
   "id": "76dbd966-a411-43ad-a3ff-e285da6cb22e",
   "metadata": {},
   "source": [
    "* Suppression des 2 commandes sans date de mise en livraison  \n",
    "* Suppression des 8 commandes non encore livrées"
   ]
  },
  {
   "cell_type": "code",
   "execution_count": null,
   "id": "dfb91069-2c64-491d-9205-c94138ef9854",
   "metadata": {},
   "outputs": [],
   "source": [
    "# Suppression\n",
    "mask = (df_orders['order_delivered_carrier_date'].isna()) | (df_orders['order_delivered_customer_date'].isna())\n",
    "df_orders = df_orders.loc[~mask]"
   ]
  },
  {
   "cell_type": "markdown",
   "id": "fee08981-2c32-4374-bcde-44f39f6e2d2b",
   "metadata": {},
   "source": [
    "* Graphiques des distributions"
   ]
  },
  {
   "cell_type": "code",
   "execution_count": null,
   "id": "123afb89-5b86-49fa-b822-2ce251d18a85",
   "metadata": {},
   "outputs": [],
   "source": [
    "date_fields = ['order_purchase_timestamp', 'order_approved_at', 'order_delivered_carrier_date', 'order_delivered_customer_date', 'order_estimated_delivery_date']"
   ]
  },
  {
   "cell_type": "code",
   "execution_count": null,
   "id": "083bcac2-7187-40ae-ad29-e76d609d6fc1",
   "metadata": {},
   "outputs": [],
   "source": [
    "for feature in date_fields:\n",
    "    plot_distribution(df_orders, feature, 'Nombre de commandes', '', x_tick_angle=45)\n",
    "    print()"
   ]
  },
  {
   "cell_type": "markdown",
   "id": "17cb5bd0-8d83-465e-a8d4-eed1d26fe466",
   "metadata": {},
   "source": [
    "* Les répartitions des distributions se ressemblent fortement, il est probable que ces variables soient fortement corrélées entre elles.\n",
    "* Ce serait logique puisque ces dates correspondent à des événement qui s'enchaînent (achat -> validation du paiement -> mise en livraison...)"
   ]
  },
  {
   "cell_type": "markdown",
   "id": "c3f87138-03c6-4d6f-8214-88befca90c4d",
   "metadata": {},
   "source": [
    "### 2.2.2 Table `order_items`"
   ]
  },
  {
   "cell_type": "code",
   "execution_count": null,
   "id": "ef11b134-7f1b-44e8-9915-a348e893ed13",
   "metadata": {},
   "outputs": [],
   "source": [
    "# Affichage de quelques lignes\n",
    "display(df_order_items)"
   ]
  },
  {
   "cell_type": "code",
   "execution_count": null,
   "id": "23da9058-034c-4cc9-b71f-711ed57eb082",
   "metadata": {},
   "outputs": [],
   "source": [
    "# Description des champs de la table\n",
    "display(describe_table('order_items'))"
   ]
  },
  {
   "cell_type": "code",
   "execution_count": null,
   "id": "3981685e-6366-4f38-8bde-e55d698c5ee1",
   "metadata": {},
   "outputs": [],
   "source": [
    "# Description des variables du dataframe\n",
    "display(get_dataframe_infos(df_order_items))"
   ]
  },
  {
   "cell_type": "markdown",
   "id": "72460b79-509a-4dc9-acb2-4edc07b4855d",
   "metadata": {},
   "source": [
    "* Hormis les types, les informations relevées sont strictement identiques👍🏼\n",
    "* Aucune valeur n'est manquante\n",
    "* Les variables `order_id`, `product_id`, `seller_id` et `shipping_limit_date` doivent être converties dans les bons types\n",
    "* Les lignes de commandes correspondant aux commandes supprimées dans la table `orders`, doivent être aussi supprimées"
   ]
  },
  {
   "cell_type": "code",
   "execution_count": null,
   "id": "648c0b17-edf0-4efa-9ddb-09edb2c89045",
   "metadata": {},
   "outputs": [],
   "source": [
    "# Dictionnaire de conversion\n",
    "to_transform = {\n",
    "    'to_string': ['order_id', 'product_id', 'seller_id'],\n",
    "    'to_date': ['shipping_limit_date']\n",
    "}\n",
    "\n",
    "# Conversions\n",
    "df_order_items = transform_data_types(df_order_items, to_transform)"
   ]
  },
  {
   "cell_type": "markdown",
   "id": "b6223900-5466-4dce-bfef-7c3431d4b194",
   "metadata": {},
   "source": [
    "* Vérification des transformations"
   ]
  },
  {
   "cell_type": "code",
   "execution_count": null,
   "id": "7e08ef4c-1e0a-4381-8466-d395d9f7821a",
   "metadata": {},
   "outputs": [],
   "source": [
    "display(get_dataframe_infos(df_order_items))"
   ]
  },
  {
   "cell_type": "markdown",
   "id": "556105ce-d97a-4e46-9f03-151c9610066a",
   "metadata": {},
   "source": [
    "* Suppression des lignes de commandes sans commande"
   ]
  },
  {
   "cell_type": "code",
   "execution_count": null,
   "id": "a775b8ce-4ca6-4b82-ab54-3d926ed814f1",
   "metadata": {},
   "outputs": [],
   "source": [
    "# Récupération des 'order_id' de la table 'orders'\n",
    "valid_order_ids = df_orders['order_id'].unique()"
   ]
  },
  {
   "cell_type": "code",
   "execution_count": null,
   "id": "f2acf591-96e1-40b3-9773-13ff96ca5a8c",
   "metadata": {},
   "outputs": [],
   "source": [
    "# Filtre sur les 'order_id' valides\n",
    "valid_orders_mask = df_order_items['order_id'].isin(valid_order_ids)"
   ]
  },
  {
   "cell_type": "code",
   "execution_count": null,
   "id": "b6b987e8-8485-40ca-800d-14cef576272d",
   "metadata": {},
   "outputs": [],
   "source": [
    "# Suppression des lignes de 'df_order_items' ne correspondant pas à une commande valide dans 'df_orders'\n",
    "df_order_items = df_order_items.loc[valid_orders_mask]"
   ]
  },
  {
   "cell_type": "markdown",
   "id": "4f5ea702-fbaa-458f-b61a-f0db1a94418d",
   "metadata": {},
   "source": [
    "* Mise à jour de la descriptions des variables"
   ]
  },
  {
   "cell_type": "code",
   "execution_count": null,
   "id": "d277502d-00c9-4213-91f8-6a82a59bdc7a",
   "metadata": {},
   "outputs": [],
   "source": [
    "# Description des variables du dataframe\n",
    "display(get_dataframe_infos(df_order_items))"
   ]
  },
  {
   "cell_type": "code",
   "execution_count": null,
   "id": "d4b6a4a3-2c6a-422b-9f4d-a65500ec5d98",
   "metadata": {},
   "outputs": [],
   "source": [
    "# Principales mesures statistiques\n",
    "df_order_items.describe()"
   ]
  },
  {
   "cell_type": "markdown",
   "id": "dfc4571c-01b9-4e6b-884c-af1ee5ebdfce",
   "metadata": {},
   "source": [
    "#### 2.2.2.1 `order_item_id`"
   ]
  },
  {
   "cell_type": "markdown",
   "id": "2b93813e-4d7f-4498-aca7-4769e5f2057e",
   "metadata": {},
   "source": [
    "Cette variable représente le numéro de séquence des produits d'une une commande  \n",
    "Si un même produit est vendu 2 fois dans une même commande, on aura 2 lignes pour ce produit dans `order_items`, avec `order_item_id` allant de 1 à 2  \n",
    "* Exemple :  "
   ]
  },
  {
   "cell_type": "code",
   "execution_count": null,
   "id": "ae675835-102c-467f-9a73-ea1f9eb19a6b",
   "metadata": {},
   "outputs": [],
   "source": [
    "# Récupération d'une commande contenant 3 unités, avec au moins 2 produits différents\n",
    "mask = df_order_items['order_item_id'] == 3\n",
    "three_units_order_id = df_order_items.loc[mask, 'order_id'].to_list()[3]\n",
    "\n",
    "# Affichage des produits de la commande\n",
    "mask = df_order_items['order_id'] == three_units_order_id\n",
    "df_order_items.loc[mask]"
   ]
  },
  {
   "cell_type": "markdown",
   "id": "4e4ca682-edcd-4fcf-af77-3a2ac7c6987b",
   "metadata": {},
   "source": [
    "* Création d'un dataframe regroupant les informations suivantes :\n",
    "   * `order_id`  \n",
    "   * `product_id`\n",
    "   * max(`order_item_id`) : donnera le nombre d'unités achetées du produit\n",
    "   * sum(`price`) : prix total du produit X quantité achetée  \n",
    "   * sum(`freight`) : frais de transport X quantité achetée"
   ]
  },
  {
   "cell_type": "code",
   "execution_count": null,
   "id": "b4269426-363b-4e58-8216-253cd138158a",
   "metadata": {},
   "outputs": [],
   "source": [
    "# Création dataframe 'df_order_products'\n",
    "df_order_products = df_order_items.groupby(['order_id', 'product_id']).agg(\n",
    "    total_units = ('order_item_id', 'count'),  # Nombre total d'unités achetées pour chaque produit\n",
    "    total_price = ('price', 'sum'),          # Prix total pour chaque produit\n",
    "    total_freight = ('freight_value', 'sum') # Frais de transport total pour chaque produit\n",
    ").reset_index()"
   ]
  },
  {
   "cell_type": "code",
   "execution_count": null,
   "id": "c95e117a-b11a-4603-b9fc-8f5540136f9a",
   "metadata": {},
   "outputs": [],
   "source": [
    "# Affichage pour vérification\n",
    "display(df_order_products)"
   ]
  },
  {
   "cell_type": "code",
   "execution_count": null,
   "id": "b4417e7f-cba1-4ba2-a6d6-3b418c576ecc",
   "metadata": {},
   "outputs": [],
   "source": [
    "# Affichage de la commande prise en exemple\n",
    "mask = df_order_products['order_id'] == three_units_order_id\n",
    "df_order_products.loc[mask]"
   ]
  },
  {
   "cell_type": "markdown",
   "id": "ce4db061-1b80-4ad2-95d8-644bc172c084",
   "metadata": {},
   "source": [
    "* Combien de produits différents sont achetés par commande ?\n",
    "* Combien d'unités totales de produits sont achetés par commande ?"
   ]
  },
  {
   "cell_type": "code",
   "execution_count": null,
   "id": "cc8816a3-fb8b-4490-a308-f6692e69d325",
   "metadata": {},
   "outputs": [],
   "source": [
    "# Dataframe d'aggrégation\n",
    "df_order_summary = df_order_products.groupby('order_id').agg(\n",
    "    number_of_product_ids = ('product_id', 'nunique'),  # Compte le nombre unique de product_id par commande\n",
    "    number_of_total_units = ('total_units', 'sum'),     # Somme toutes les unités pour chaque commande\n",
    "    total_price = ('total_price', 'sum'),               # Montant total de la commande, hors frais de livraison\n",
    "    total_freight = ('total_freight', 'sum')            # Montant total des frais de livraison\n",
    ").reset_index()\n",
    "\n",
    "# Noms des features crées\n",
    "df_order_summary.columns = ['order_id', 'number_of_product_ids', 'number_of_total_units', 'total_price', 'total_freight']\n",
    "\n",
    "# Ajout du montant total de la commande\n",
    "df_order_summary['total_order'] = df_order_summary['total_price'] + df_order_summary['total_freight']"
   ]
  },
  {
   "cell_type": "code",
   "execution_count": null,
   "id": "a3a9b4d7-e890-417a-ba75-d54ec4cb6132",
   "metadata": {},
   "outputs": [],
   "source": [
    "# Afficher pour vérification\n",
    "display(df_order_summary)"
   ]
  },
  {
   "cell_type": "code",
   "execution_count": null,
   "id": "63fa9b44-24f7-4715-ac42-fc4a094c8def",
   "metadata": {},
   "outputs": [],
   "source": [
    "# Affichage de la commande prise en exemple\n",
    "mask = df_order_summary['order_id'] == three_units_order_id\n",
    "df_order_summary.loc[mask]"
   ]
  },
  {
   "cell_type": "markdown",
   "id": "2705fa0c-705c-4e56-b86c-92b03e858fd2",
   "metadata": {},
   "source": [
    "* Nombres de produits achetés par commandes (1 produit = 1 `product_id`)"
   ]
  },
  {
   "cell_type": "code",
   "execution_count": null,
   "id": "c7d44e4b-2e0b-4ec6-bb31-ed7d56ac6b98",
   "metadata": {},
   "outputs": [],
   "source": [
    "dft = df_order_summary['number_of_product_ids'].value_counts().to_frame()\n",
    "dft.columns = ['number_of_orders']\n",
    "number_of_products = df_order_summary['number_of_product_ids'].count()\n",
    "dft['%'] = round((dft['number_of_orders'] / number_of_products) * 100, 3).astype(str) + ' %'\n",
    "display(dft)"
   ]
  },
  {
   "cell_type": "markdown",
   "id": "2aa14ec1-b043-4c6a-bcb9-f9067c108501",
   "metadata": {},
   "source": [
    "* La grande majorité des commandes (environ **97 %**) contient **1 seul produit** (même s'il est acheté dans une quantité > 1)\n",
    "* Seulement environ **2.9 %** des commandes contiennent **2 produits**\n",
    "* **Moins de 0.5 %** des commandes incluent **3 produits ou plus**"
   ]
  },
  {
   "cell_type": "markdown",
   "id": "ac508634-91c5-46e6-9878-fe701918ba3a",
   "metadata": {},
   "source": [
    "* Nombres d'articles achetés par commandes (1 article = 1 unité, quelque soit le `product_id`)"
   ]
  },
  {
   "cell_type": "code",
   "execution_count": null,
   "id": "c47d96ba-bd53-470a-bb5c-1d38321b42f8",
   "metadata": {},
   "outputs": [],
   "source": [
    "dft = df_order_summary['number_of_total_units'].value_counts().to_frame()\n",
    "dft.columns = ['number_of_orders']\n",
    "number_of_units = df_order_summary['number_of_total_units'].count()\n",
    "dft['%'] = round((dft['number_of_orders'] / number_of_units) * 100, 3).astype(str) + ' %'\n",
    "display(dft.sort_values(by='number_of_total_units'))"
   ]
  },
  {
   "cell_type": "markdown",
   "id": "3f6f37f5-217b-41e7-b416-7b55b94c3392",
   "metadata": {},
   "source": [
    "* La grande majorité des commandes (environ **90 %**) contient **1 seul articke**  \n",
    "* Seulement environ **8 %** des commandes contiennent **2 articles** (2 produits différents ou un même produit acheté en quantité 2)  \n",
    "* Environ **2.3 %** des commandes incluent **3 articles ou plus**"
   ]
  },
  {
   "cell_type": "markdown",
   "id": "b6fa60e7-07db-4615-80f2-18701c92b3ff",
   "metadata": {},
   "source": [
    "#### 2.2.2.2 `shipping_limit_date`"
   ]
  },
  {
   "cell_type": "markdown",
   "id": "4bc654cd-0bc1-4efc-b0f6-fb58965e0ce7",
   "metadata": {},
   "source": [
    "Date limite à laquelle le vendeur doit remettre la commande au partenaire logistique pour l'expédition"
   ]
  },
  {
   "cell_type": "code",
   "execution_count": null,
   "id": "df90f6e3-1ed4-48ee-826e-c177006618df",
   "metadata": {},
   "outputs": [],
   "source": [
    "# Affichage de la distibution\n",
    "plot_distribution(df_order_items, 'shipping_limit_date', 'Nombre de produits', '', x_tick_angle=45)"
   ]
  },
  {
   "cell_type": "markdown",
   "id": "d531604c-32c7-4456-a981-c0a6eeaf21e8",
   "metadata": {},
   "source": [
    "* Quelle est ce produit qui a une date limite de dépôt chez le livreur en 2020 ?"
   ]
  },
  {
   "cell_type": "code",
   "execution_count": null,
   "id": "1fe6cdd5-0347-4374-9df5-dac7cbc1e7b4",
   "metadata": {},
   "outputs": [],
   "source": [
    "# Affichage dans `order_items`\n",
    "mask = df_order_items['shipping_limit_date'] == df_order_items['shipping_limit_date'].max()\n",
    "df_order_items.loc[mask]"
   ]
  },
  {
   "cell_type": "code",
   "execution_count": null,
   "id": "917c3ed8-1cd6-41d6-b3cd-b06ca9833603",
   "metadata": {},
   "outputs": [],
   "source": [
    "# Affichage dans `orders`\n",
    "weird_product_order_id = df_order_items.loc[mask, 'order_id'].iloc[0]\n",
    "wp_mask = df_orders['order_id'] == weird_product_order_id\n",
    "df_orders.loc[wp_mask]"
   ]
  },
  {
   "cell_type": "markdown",
   "id": "270f2a2d-c27b-45fa-8ed5-ef50666c1e62",
   "metadata": {},
   "source": [
    "* Cette commande a une `shipping_limit_date` à '2020-04-09 **22:35:08**' et un `order_purchase_timestamp` à '2017-05-24 **22:35:08**'\n",
    "* On peut raisonnablement supposer qu'il s'agit d'une erreur de saisie dans la `shipping_limit_date` puisqu'en les heures sont identiques à la seconde près\n",
    "* Ne corriger que l'année mettrait cependant une date d'achat au **24 mai 2017** pour une date limite d'expédition au **9 avril 2017**, ce qui serait incohérent\n",
    "* Sans possibilité d'avoir plus d'information sur la réelle date limite d'expédition, suppression de la commande concernée"
   ]
  },
  {
   "cell_type": "markdown",
   "id": "0ba684b9-779a-4730-9492-3487b4991a0d",
   "metadata": {},
   "source": [
    "* Suppressions dans 'df_orders' et 'df_order_items'"
   ]
  },
  {
   "cell_type": "code",
   "execution_count": null,
   "id": "4c71ade4-f24b-4424-8eb0-60dc3fa2e127",
   "metadata": {},
   "outputs": [],
   "source": [
    "# Suppression dans 'df_orders' et 'df_order_items'\n",
    "df_orders = df_orders[df_orders['order_id'] != weird_product_order_id]\n",
    "df_order_items = df_order_items[df_order_items['order_id'] != weird_product_order_id]"
   ]
  },
  {
   "cell_type": "markdown",
   "id": "f147344c-3a4f-4846-8f75-a3ae26c58763",
   "metadata": {},
   "source": [
    "* Version SQL pour suppression dans les table, commentée volontairement, à mettre en oeuvre si :\n",
    "   * le feature ingineering se fait en SQL  \n",
    "   * après sauvegarde de la BDD"
   ]
  },
  {
   "cell_type": "code",
   "execution_count": null,
   "id": "3be4b2bc-ba37-4ae0-af58-d4f111aa9e9b",
   "metadata": {},
   "outputs": [],
   "source": [
    "# Suppression des tables `orders` et `order_items`\n",
    "# for table_name in ('orders', 'order_items'):\n",
    "#     query = f\"DELETE FROM {table_name} WHERE order_id = '{weid_product_order_id}';\"\n",
    "#     with sqlite3.connect('olist.db') as conn:\n",
    "#         cursor = conn.cursor()\n",
    "#         cursor.execute(query)"
   ]
  },
  {
   "cell_type": "markdown",
   "id": "117c0654-7489-402f-bde6-97f0bc665ccc",
   "metadata": {},
   "source": [
    "* Affichage de la distribution après correction"
   ]
  },
  {
   "cell_type": "code",
   "execution_count": null,
   "id": "aaf8b113-41d1-4272-81bc-db18dcfb0940",
   "metadata": {},
   "outputs": [],
   "source": [
    "# Affichage de la distibution après correction\n",
    "plot_distribution(df_order_items, 'shipping_limit_date', 'Nombre de produits', '', x_tick_angle=45)"
   ]
  },
  {
   "cell_type": "markdown",
   "id": "fc02f1c2-785c-47ac-a244-65afd9cba120",
   "metadata": {},
   "source": [
    "* Cette distribution ressemble logiquement aux distributions des variables `order_purchase_timestamp`, `order_approved_at`, `order_delivered_carrier_date`, `order_delivered_customer_date` et `order_estimated_delivery_date` du dataframes `orders`"
   ]
  },
  {
   "cell_type": "markdown",
   "id": "0a9ee7f9-f6b5-42cf-9cfc-355e915e5451",
   "metadata": {},
   "source": [
    "#### 2.2.2.3 `price`"
   ]
  },
  {
   "cell_type": "markdown",
   "id": "7665f362-68c0-4e37-ba1b-2a3759e4a454",
   "metadata": {},
   "source": [
    "Prix unitaire d'un produit"
   ]
  },
  {
   "cell_type": "markdown",
   "id": "3c7e7433-634f-48f5-9113-7ceaf6f8fa73",
   "metadata": {},
   "source": [
    "* Distribution\n",
    "  * L'affichage de la distribution a peu de sens puisqu'un même produit acheté X fois dans une même commande verra son effectif augmenté de X\n",
    "  * Le boxplot peut cepandant faire apparaître des valeurs extrêmes"
   ]
  },
  {
   "cell_type": "code",
   "execution_count": null,
   "id": "dfb82aa9-44dc-475c-b9e0-331f14e972a8",
   "metadata": {},
   "outputs": [],
   "source": [
    "# Affichage histogramme et boxplot\n",
    "plot_distribution(df_order_items, 'price', 'Reals', \"Nombre d'unités achetés\")"
   ]
  },
  {
   "cell_type": "code",
   "execution_count": null,
   "id": "fa653143-8a38-45e6-92c4-715b1f6213f5",
   "metadata": {},
   "outputs": [],
   "source": [
    "# Principales mesures statistiques\n",
    "df_order_items['price'].to_frame().describe()"
   ]
  },
  {
   "cell_type": "markdown",
   "id": "43184b99-040c-40fb-aef5-11e783b94522",
   "metadata": {},
   "source": [
    "> Sur la période 2016 - 2018, 1 euro valait entre 3.2326 réals au minimum et 4.9181 au maximum  \n",
    "> *(Source : [exchange_rates.org](https://www.exchange-rates.org/fr/historique/eur-brl-2018))*"
   ]
  },
  {
   "cell_type": "markdown",
   "id": "351bf73b-6b75-4158-854d-7c1c4fb0816b",
   "metadata": {},
   "source": [
    "* Prix du produit le plus cher en euros"
   ]
  },
  {
   "cell_type": "code",
   "execution_count": null,
   "id": "02d612d7-8bf3-49c6-815b-566be0030df3",
   "metadata": {},
   "outputs": [],
   "source": [
    "# Calcul du prix du produit le plus cher\n",
    "high_price = df_order_items['price'].max()\n",
    "print(f\"Prix du produit le plus cher : {high_price}\")\n",
    "print(f\"Soit entre {high_price // 4.9181} et {high_price // 3.2326} €\")"
   ]
  },
  {
   "cell_type": "markdown",
   "id": "c595f488-fda3-4ca5-917b-067353d9e070",
   "metadata": {},
   "source": [
    "* Le nom des produits n'étant pas disponible dans la BDD, peu de vérifications sont possibles\n",
    "* Le montant maximum ne semble pas aberrant sur un site de vente en ligne, d'autant plus que la distribution montre un intervalle interquartile étroit, avec une médiane proche de 0"
   ]
  },
  {
   "cell_type": "markdown",
   "id": "384f5aa2-fa49-45d6-bf00-cab1ac54e258",
   "metadata": {},
   "source": [
    "#### 2.2.2.4 `freight_value`"
   ]
  },
  {
   "cell_type": "markdown",
   "id": "3e0a5c1e-6068-4ee6-9204-764f59d4e738",
   "metadata": {},
   "source": [
    "Frais de livraison unitaire d'un produit"
   ]
  },
  {
   "cell_type": "code",
   "execution_count": null,
   "id": "d11b08cc-37b9-4cff-a30b-c8a4cd78f34b",
   "metadata": {},
   "outputs": [],
   "source": [
    "# Affichage histogramme et boxplot\n",
    "plot_distribution(df_order_items, 'freight_value', 'Reals', \"Nombre d'unités achetés\")"
   ]
  },
  {
   "cell_type": "code",
   "execution_count": null,
   "id": "0ff545d9-fac9-46e2-b297-453570605277",
   "metadata": {},
   "outputs": [],
   "source": [
    "# Principales mesures statistiques\n",
    "df_order_items['freight_value'].to_frame().describe()"
   ]
  },
  {
   "cell_type": "markdown",
   "id": "857cd224-e2c9-41f5-98cf-ef34444f3090",
   "metadata": {},
   "source": [
    "* La distribution ressemble logiquement à celle de la variable `price`  \n",
    "* Les montants son logiquement proportionnellement plus faibles"
   ]
  },
  {
   "cell_type": "markdown",
   "id": "0d500863-a293-42b6-b0ce-8bdd4bc614d6",
   "metadata": {},
   "source": [
    "* Certaines commandes ont des frais de livraison à 0"
   ]
  },
  {
   "cell_type": "code",
   "execution_count": null,
   "id": "34d0aae0-a0f8-4e70-889f-7099fad4199f",
   "metadata": {},
   "outputs": [],
   "source": [
    "# Affichage des commandes avec frais de livraison à 0\n",
    "free_freight_value_mask = df_order_items['freight_value'] == 0\n",
    "display(df_order_items.loc[free_freight_value_mask].sort_values('price'))"
   ]
  },
  {
   "cell_type": "code",
   "execution_count": null,
   "id": "f7ecab27-070e-49f6-b897-461da2875bcb",
   "metadata": {},
   "outputs": [],
   "source": [
    "percentage_of_rows = round((len(df_order_items.loc[free_freight_value_mask]) / df_order_items.shape[0]) * 100, 2)\n",
    "print(f\"{percentage_of_rows} % des lignes du dataframe sont concernées\")"
   ]
  },
  {
   "cell_type": "markdown",
   "id": "e621fffc-1df9-4a16-8351-921d8421c744",
   "metadata": {},
   "source": [
    "* Très peu de produits ont bénéficié d'un prix de livraison à 0\n",
    "* L'observation des quelques exemples montre des `product_id` et `seller_id` identiques\n",
    "* Il pourrait s'agir de promotions sur certains produits et/ou des offres de certains vendeurs  \n",
    "* La livraison gratuite est une pratique commerciale courante\n",
    "* Rien d'inquiétant"
   ]
  },
  {
   "cell_type": "markdown",
   "id": "929a13ba-e490-44a7-8e1a-8ec176a708c8",
   "metadata": {},
   "source": [
    "### 2.2.3 Table `order_pymts`"
   ]
  },
  {
   "cell_type": "code",
   "execution_count": null,
   "id": "1d797513-1935-461a-8e24-0b9ff633970d",
   "metadata": {},
   "outputs": [],
   "source": [
    "# Description des champs de la table\n",
    "display(describe_table('order_pymts'))"
   ]
  },
  {
   "cell_type": "code",
   "execution_count": null,
   "id": "5660c81e-a361-4df2-8fae-146958fbfce5",
   "metadata": {},
   "outputs": [],
   "source": [
    "# Description des variables du dataframe\n",
    "display(get_dataframe_infos(df_order_pymts))"
   ]
  },
  {
   "cell_type": "markdown",
   "id": "db798a37-0943-4fdc-abfc-af6fed0765e5",
   "metadata": {},
   "source": [
    "* Hormis les types, les informations relevées sont strictement identiques👍🏼\n",
    "* Aucune valeur n'est manquante👍🏼\n",
    "* Les variables `order_id`, et `payment_type` doivent être converties dans les bons types"
   ]
  },
  {
   "cell_type": "markdown",
   "id": "5c2b38e2-a1e1-4cb1-8d05-f9b9b601e130",
   "metadata": {},
   "source": [
    "* Suppression des commandes supprimées précédemment de `df_orders`"
   ]
  },
  {
   "cell_type": "code",
   "execution_count": null,
   "id": "a9816ec0-795d-4eda-9b4e-419dd72c5534",
   "metadata": {},
   "outputs": [],
   "source": [
    "# Récupération des 'order_id' de la table 'orders'\n",
    "valid_order_ids = df_orders['order_id'].unique()"
   ]
  },
  {
   "cell_type": "code",
   "execution_count": null,
   "id": "07ab9d9d-796d-4745-abc0-9de97ed6e01e",
   "metadata": {},
   "outputs": [],
   "source": [
    "# Filtre sur les 'order_id' valides\n",
    "valid_orders_mask = df_order_pymts['order_id'].isin(valid_order_ids)"
   ]
  },
  {
   "cell_type": "code",
   "execution_count": null,
   "id": "8a3224ba-a3f9-4963-9db2-14152ca36c3e",
   "metadata": {},
   "outputs": [],
   "source": [
    "# Suppression des lignes de 'df_order_pymts' ne correspondant pas à une commande valide dans 'df_orders'\n",
    "df_order_pymts = df_order_pymts.loc[valid_orders_mask]"
   ]
  },
  {
   "cell_type": "markdown",
   "id": "67f98dd2-9472-4d15-aa8c-bdfcd248f7d0",
   "metadata": {},
   "source": [
    "* Transformation des types de données"
   ]
  },
  {
   "cell_type": "code",
   "execution_count": null,
   "id": "cf38efc5-1f2e-4ece-a4f0-7a91eac71b40",
   "metadata": {},
   "outputs": [],
   "source": [
    "# Dictionnaire de conversion\n",
    "to_transform = {'to_string': ['order_id', 'payment_type']}\n",
    "\n",
    "# Conversions\n",
    "df_order_pymts = transform_data_types(df_order_pymts, to_transform)"
   ]
  },
  {
   "cell_type": "code",
   "execution_count": null,
   "id": "e575a42e-1d9a-4561-9040-33b2b244a23a",
   "metadata": {},
   "outputs": [],
   "source": [
    "# Vérification des conversions\n",
    "display(get_dataframe_infos(df_order_pymts))"
   ]
  },
  {
   "cell_type": "code",
   "execution_count": null,
   "id": "17240b20-d012-4b28-82b3-556947dc5630",
   "metadata": {},
   "outputs": [],
   "source": [
    "# Affichage de quelques lignes\n",
    "display(df_order_pymts)"
   ]
  },
  {
   "cell_type": "markdown",
   "id": "08237bc7-5689-45f8-bad0-85ae4b3bd2ca",
   "metadata": {},
   "source": [
    "#### 2.2.3.1 `payment_type`"
   ]
  },
  {
   "cell_type": "markdown",
   "id": "8b22bb58-8cab-4629-aa50-15f7d1f32f83",
   "metadata": {},
   "source": [
    "Cette variable indique le moyen de paiement utilisé"
   ]
  },
  {
   "cell_type": "markdown",
   "id": "e4a6d408-2169-43ee-8993-6c76c2596811",
   "metadata": {},
   "source": [
    "* Valeurs uniques"
   ]
  },
  {
   "cell_type": "code",
   "execution_count": null,
   "id": "93f5d173-cf48-47d0-a719-901323141fb4",
   "metadata": {},
   "outputs": [],
   "source": [
    "# Répartition des moyens de paiement utilisés\n",
    "dft = df_order_pymts['payment_type'].value_counts().to_frame()\n",
    "number_of_rows = df_order_pymts.shape[0]\n",
    "dft['%'] = round((dft['count'] / number_of_rows) * 100, 2)\n",
    "dft = dft.reset_index()\n",
    "display(dft)"
   ]
  },
  {
   "cell_type": "code",
   "execution_count": null,
   "id": "bd75ff73-17c1-4b6a-8d13-2fdd6512e954",
   "metadata": {},
   "outputs": [],
   "source": [
    "# Répartition des moyens de paiement utilisés\n",
    "colors = sns.color_palette('pastel')[0:5]\n",
    "plt.title('Répartition des moyens de paiement')\n",
    "plt.pie(dft['count'], labels=dft['payment_type'], colors = colors, autopct='%.2f%%')\n",
    "plt.show()"
   ]
  },
  {
   "cell_type": "markdown",
   "id": "a8ff487f-19c4-41cb-befe-f28df878cfb1",
   "metadata": {},
   "source": [
    "* Attention, si on peut raisonablement estimer que la grande majorité des commandes sont réglées par CB, les pourcentages concernent les **réglements** et non les commandes.\n",
    "* En effet, une commande peut être payée en plusieurs fois et avec plusieurs moyens de règlement\n",
    "* Exemple de la commande d'`order_id` 'ccf804e764ed5650cd8759557269dc13' :"
   ]
  },
  {
   "cell_type": "code",
   "execution_count": null,
   "id": "557d37d7-431e-47d1-8ba4-e0fe52fb38fa",
   "metadata": {},
   "outputs": [],
   "source": [
    "mask = df_order_pymts['order_id'] == 'ccf804e764ed5650cd8759557269dc13'\n",
    "df_order_pymts.loc[mask]"
   ]
  },
  {
   "cell_type": "markdown",
   "id": "1a77f61f-0ee4-4dfc-b356-b1b050e22e91",
   "metadata": {},
   "source": [
    "#### 2.2.3.2 `payment_sequential`"
   ]
  },
  {
   "cell_type": "markdown",
   "id": "69949878-7bd6-4ff5-9798-84af28ca0d36",
   "metadata": {},
   "source": [
    "Cette variable identifie le nombre de méthodes de paiement utilisées pour une seule commande  \n",
    "   * Le client peut utiliser une méthode de paiement différent pour chaque échéance s'il paye en plusieurs fois\n",
    "   * Chaque voucher est considéré comme un moyen de paiement différent (voir exemple précédent)"
   ]
  },
  {
   "cell_type": "markdown",
   "id": "d7f0f53d-7cdd-4482-aaeb-70131c33d446",
   "metadata": {},
   "source": [
    "* Valeurs uniques"
   ]
  },
  {
   "cell_type": "code",
   "execution_count": null,
   "id": "68cb4b2b-182f-408b-a221-efaf3321c8f4",
   "metadata": {},
   "outputs": [],
   "source": [
    "# récupération du nombre de méthodes de paiement par commande\n",
    "dft = df_order_pymts.groupby('order_id').agg(\n",
    "    number_of_payment_methods = ('payment_sequential', 'max')\n",
    ").reset_index()"
   ]
  },
  {
   "cell_type": "code",
   "execution_count": null,
   "id": "8c48a103-8f17-4ff0-9728-4a0f2fcdcf14",
   "metadata": {},
   "outputs": [],
   "source": [
    "dft2 = dft['number_of_payment_methods'].value_counts().to_frame()\n",
    "total = dft2['count'].sum()\n",
    "dft2['%'] = (dft2['count'] / total) * 100\n",
    "dft2 = dft2.reset_index()\n",
    "display(dft2)"
   ]
  },
  {
   "cell_type": "markdown",
   "id": "b021b16c-5dd6-4872-b081-ce228122931d",
   "metadata": {},
   "source": [
    "* La grande majorité des commandes (environ **97 %**) sont payées avec **1 seule méthode de règlement**  \n",
    "* Seulement environ **2,5 %** des commandes sont payées en **2 méthode de réglement**  \n",
    "* Environ **0,6 %** des commandes sont payées avec **3 méthodes de règlement ou plus**\n",
    "* La commande montré en exemple précédemment a été réglée avec **26 méthodes différentes**  "
   ]
  },
  {
   "cell_type": "markdown",
   "id": "f040bbc4-3eb9-45e9-8b23-fb5402a26c27",
   "metadata": {},
   "source": [
    "#### 2.2.3.3 `payment_installments`"
   ]
  },
  {
   "cell_type": "markdown",
   "id": "bfb3c3aa-8d1a-49d2-b41c-1cb296dc2d15",
   "metadata": {},
   "source": [
    "Nombre d'échéances choisies par le client pour payer une commande"
   ]
  },
  {
   "cell_type": "markdown",
   "id": "f448818e-a1c4-4737-a468-9a373aac636e",
   "metadata": {},
   "source": [
    "* Valeurs uniques"
   ]
  },
  {
   "cell_type": "code",
   "execution_count": null,
   "id": "96aa5439-762e-48dd-82f0-14d3f078e0d9",
   "metadata": {},
   "outputs": [],
   "source": [
    "# récupération du nombre d'échéances par commande\n",
    "dft = df_order_pymts.groupby('order_id').agg(\n",
    "    number_of_installments = ('payment_installments', 'max')\n",
    ").reset_index()"
   ]
  },
  {
   "cell_type": "code",
   "execution_count": null,
   "id": "00536117-52cd-4105-9244-d6ae7f955cc1",
   "metadata": {},
   "outputs": [],
   "source": [
    "dft2 = dft['number_of_installments'].value_counts().to_frame()\n",
    "total = dft2['count'].sum()\n",
    "dft2['%'] = (dft2['count'] / total) * 100\n",
    "dft2 = dft2.reset_index().sort_values('number_of_installments')\n",
    "display(dft2)"
   ]
  },
  {
   "cell_type": "code",
   "execution_count": null,
   "id": "62eece32-f54f-4c61-a2ef-416b9944677a",
   "metadata": {},
   "outputs": [],
   "source": [
    "# Barplot de répartition \n",
    "plt.figure(figsize=(8, 4))\n",
    "sns.barplot(data=dft2, x='number_of_installments', y='count')\n",
    "plt.title('Répartition du nombre de commandes par nombre d\\'échéances', pad=10)\n",
    "plt.xlabel('Nombre d\\'échéances')\n",
    "plt.ylabel('Nombre de commandes')\n",
    "plt.show()"
   ]
  },
  {
   "cell_type": "code",
   "execution_count": null,
   "id": "4d1e7dcd-eed2-4389-ae71-f8897e77c63f",
   "metadata": {},
   "outputs": [],
   "source": [
    "# Calcul du pourcentage de commandes payées avec un nombre d'échéances compris entre 2 et 10\n",
    "mask = (dft2['number_of_installments'] >= 2) & ((dft2['number_of_installments'] <= 10))\n",
    "percentage = round(dft2.loc[mask, '%'].sum(), 2)\n",
    "print(f\"{percentage} % des commandes sont payées avec un nombre d'échéances compris entre 2 et 10\")"
   ]
  },
  {
   "cell_type": "markdown",
   "id": "e643a6e5-4be3-44b8-84a2-61d4128e064c",
   "metadata": {},
   "source": [
    "* Le nombre d'échéances va de **0** à **24** : quelles commandes ont 0 échéance ?\n",
    "* **48,5 %** des commandes n'ont pas fait l'objet d'un échéancier (règlement en 1 fois)\n",
    "* **51.14 %** des commandes sont payées avec un nombre d'échéances compris entre 2 et 10"
   ]
  },
  {
   "cell_type": "markdown",
   "id": "b49bd513-26df-40e5-ad3c-121b7366b016",
   "metadata": {},
   "source": [
    "* Quelles sont les commandes avec un nombre d'échéances à 0 ?"
   ]
  },
  {
   "cell_type": "code",
   "execution_count": null,
   "id": "3476b49b-a899-430c-b81c-2d896b81c521",
   "metadata": {},
   "outputs": [],
   "source": [
    "no_payment_installments_mask = df_order_pymts['payment_installments'] == 0\n",
    "no_payment_installments_order_ids = df_order_pymts.loc[no_payment_installments_mask, 'order_id'].to_list()\n",
    "display(df_order_pymts.loc[no_payment_installments_mask])"
   ]
  },
  {
   "cell_type": "markdown",
   "id": "7e49897b-03d5-4f94-a4a6-3eeb620a4871",
   "metadata": {},
   "source": [
    "* Il s'agit probablement d'une erreur de saisie"
   ]
  },
  {
   "cell_type": "code",
   "execution_count": null,
   "id": "db00594f-1dcb-44a3-a54a-b266be9cb655",
   "metadata": {},
   "outputs": [],
   "source": [
    "# Correction\n",
    "df_order_pymts.loc[no_payment_installments_mask, 'payment_installments'] = 1"
   ]
  },
  {
   "cell_type": "code",
   "execution_count": null,
   "id": "dfbe448b-c195-4ba0-b8b3-628943da84c8",
   "metadata": {},
   "outputs": [],
   "source": [
    "# Affichage des commandes concernées pour vérification\n",
    "display(df_order_pymts.loc[no_payment_installments_mask])"
   ]
  },
  {
   "cell_type": "markdown",
   "id": "789754f2-a102-4b50-858f-096f22eb2fb7",
   "metadata": {},
   "source": [
    "### 2.2.4 Table `order_reviews`"
   ]
  },
  {
   "cell_type": "code",
   "execution_count": null,
   "id": "6672450d-d157-440c-82c7-a47a740cc16e",
   "metadata": {},
   "outputs": [],
   "source": [
    "# Description des champs de la table\n",
    "display(describe_table('order_reviews'))"
   ]
  },
  {
   "cell_type": "code",
   "execution_count": null,
   "id": "4c04320f-19fd-4c09-971c-6f27bea5257a",
   "metadata": {},
   "outputs": [],
   "source": [
    "# Description des variables du dataframe\n",
    "display(get_dataframe_infos(df_order_reviews))"
   ]
  },
  {
   "cell_type": "markdown",
   "id": "bb6dc163-bc07-46d3-8f48-00049f81f08e",
   "metadata": {},
   "source": [
    "* Hormis les types, les informations relevées sont strictement identiques👍🏼\n",
    "* **88 %** de `review_comment_title` et **59 %** de `review_comment_message` sont manquants\n",
    "* Les variables doivent être converties dans les bons types"
   ]
  },
  {
   "cell_type": "markdown",
   "id": "969fb27a-5c24-47b6-a4ce-e836f752067f",
   "metadata": {},
   "source": [
    "* Suppression des commandes supprimées précédemment de `df_orders`"
   ]
  },
  {
   "cell_type": "code",
   "execution_count": null,
   "id": "c3d9b21c-4765-4579-aa1f-4b0f53cb886f",
   "metadata": {},
   "outputs": [],
   "source": [
    "# Récupération des 'order_id' de la table 'orders'\n",
    "valid_order_ids = df_orders['order_id'].unique()"
   ]
  },
  {
   "cell_type": "code",
   "execution_count": null,
   "id": "83d05e9b-ae8a-492e-b7ca-99fd849a332e",
   "metadata": {},
   "outputs": [],
   "source": [
    "# Filtre sur les 'order_id' valides\n",
    "valid_orders_mask = df_order_reviews['order_id'].isin(valid_order_ids)"
   ]
  },
  {
   "cell_type": "code",
   "execution_count": null,
   "id": "1fa86ff5-b86b-4bb5-909b-e02c4702c1a4",
   "metadata": {},
   "outputs": [],
   "source": [
    "# Suppression des lignes de 'df_order_pymts' ne correspondant pas à une commande valide dans 'df_orders'\n",
    "df_order_reviews = df_order_reviews.loc[valid_orders_mask]"
   ]
  },
  {
   "cell_type": "markdown",
   "id": "35f1c702-d236-46d3-8b25-93330c44e8ba",
   "metadata": {},
   "source": [
    "* Transformation des types de données"
   ]
  },
  {
   "cell_type": "code",
   "execution_count": null,
   "id": "d45e847f-3c89-4e9a-8a55-3754218302f0",
   "metadata": {},
   "outputs": [],
   "source": [
    "# Dictionnaire de conversion\n",
    "to_transform = {\n",
    "    'to_string': ['review_id', 'order_id','review_comment_title', 'review_comment_message'],\n",
    "    'to_date': ['review_creation_date', 'review_answer_timestamp']\n",
    "}\n",
    "\n",
    "# Conversions\n",
    "df_order_reviews = transform_data_types(df_order_reviews, to_transform)"
   ]
  },
  {
   "cell_type": "code",
   "execution_count": null,
   "id": "54e81dee-d21f-4296-836c-537d9964d145",
   "metadata": {},
   "outputs": [],
   "source": [
    "# Vérification des conversions\n",
    "display(get_dataframe_infos(df_order_reviews))"
   ]
  },
  {
   "cell_type": "code",
   "execution_count": null,
   "id": "2a5afd9c-d33f-4b01-9f35-83d1c83efb71",
   "metadata": {},
   "outputs": [],
   "source": [
    "# Affichage de quelques lignes\n",
    "display(df_order_reviews)"
   ]
  },
  {
   "cell_type": "markdown",
   "id": "11deb7ec-5fbb-47e8-bc58-95d5c6b3c101",
   "metadata": {},
   "source": [
    "#### 2.2.4.1 `review_score`"
   ]
  },
  {
   "cell_type": "markdown",
   "id": "a33a1712-22ee-44a3-bfab-db4985050fe7",
   "metadata": {},
   "source": [
    "Cette variable indique la note de satisfaction (de 1 à 5) donnée par l'acheteur, en réponse à une enquête de satisfaction"
   ]
  },
  {
   "cell_type": "markdown",
   "id": "235695fb-4ce6-4f77-9f0f-73e851fcccb9",
   "metadata": {},
   "source": [
    "* Pourcentage de commandes évaluées"
   ]
  },
  {
   "cell_type": "code",
   "execution_count": null,
   "id": "43b65e41-4ddf-4177-8b40-2b9a7768810b",
   "metadata": {},
   "outputs": [],
   "source": [
    "# Pourcentage de commandes évaluées\n",
    "number_of_orders = df_orders['order_id'].nunique()\n",
    "number_of_evaluated_orders = df_order_reviews['order_id'].nunique()\n",
    "print(f\"Environ {round((number_of_evaluated_orders / number_of_orders) * 100)} % des commandes ont été évaluées par les acheteurs.\")"
   ]
  },
  {
   "cell_type": "markdown",
   "id": "7f79428f-d707-40eb-8f93-c8aa79744711",
   "metadata": {},
   "source": [
    "* Répatition des scores"
   ]
  },
  {
   "cell_type": "code",
   "execution_count": null,
   "id": "03e39bed-c69d-48b0-9551-2244431017ec",
   "metadata": {},
   "outputs": [],
   "source": [
    "# Répartition des review_score\n",
    "dft = df_order_reviews['review_score'].value_counts().to_frame()\n",
    "number_of_rows = df_order_reviews.shape[0]\n",
    "dft['%'] = round((dft['count'] / number_of_rows) * 100, 2)\n",
    "dft = dft.reset_index()\n",
    "display(dft)"
   ]
  },
  {
   "cell_type": "code",
   "execution_count": null,
   "id": "a6462e09-cd00-451e-bd08-5fb691553579",
   "metadata": {},
   "outputs": [],
   "source": [
    "# Répartition des scores\n",
    "colors = sns.color_palette('pastel')[0:5]\n",
    "plt.title('Répartition des scores')\n",
    "plt.pie(dft['count'], labels=dft['review_score'], colors = colors, autopct='%.2f%%')\n",
    "plt.show()"
   ]
  },
  {
   "cell_type": "markdown",
   "id": "5405dd3d-f7a2-48d1-8b8b-f74320ab0f56",
   "metadata": {},
   "source": [
    "***Cette répartition ne tient compte que des commandes évaluées***"
   ]
  },
  {
   "cell_type": "markdown",
   "id": "b2df4546-b670-42e9-8f2b-ff3c67a145a7",
   "metadata": {},
   "source": [
    "#### 2.2.4.2 `review_comment_title`, `review_comment_message`"
   ]
  },
  {
   "cell_type": "markdown",
   "id": "b6121eac-034e-47cc-ba2f-12059bea8833",
   "metadata": {},
   "source": [
    "Titres et commentaires de notation"
   ]
  },
  {
   "cell_type": "markdown",
   "id": "ce9ce05b-cf43-4898-9d4a-e91e2b87191b",
   "metadata": {},
   "source": [
    "* Affichage de quelques exemples"
   ]
  },
  {
   "cell_type": "code",
   "execution_count": null,
   "id": "798ccb5f-e494-4212-b059-82bf9117edb0",
   "metadata": {},
   "outputs": [],
   "source": [
    "mask = (df_order_reviews['review_comment_title'].notna()) & (df_order_reviews['review_comment_message'].notna())\n",
    "display(df_order_reviews.loc[mask])"
   ]
  },
  {
   "cell_type": "markdown",
   "id": "8dc83ab8-8066-4ec3-bb75-f857203a3d20",
   "metadata": {},
   "source": [
    "* Les titres et commentaires sont libres et en portugais\n",
    "* Ces variables ne seront pas utilisées  "
   ]
  },
  {
   "cell_type": "markdown",
   "id": "40f6ab4f-f878-4974-b43c-f326cc64d7eb",
   "metadata": {},
   "source": [
    "#### 2.2.4.3 `review_creation_date`, `review_answer_timestamp`"
   ]
  },
  {
   "cell_type": "markdown",
   "id": "fd2cf8fa-53b6-40ff-b2ca-97390c9ff972",
   "metadata": {},
   "source": [
    "Date d'envoi de l'enquête de satisfaction, date et heure de réponse à l'enquête par le client"
   ]
  },
  {
   "cell_type": "code",
   "execution_count": null,
   "id": "5f71a9fe-7b6a-48c4-b038-77363b06acc9",
   "metadata": {},
   "outputs": [],
   "source": [
    "# Affichage des distibutions\n",
    "plot_distribution(df_order_reviews, 'review_creation_date', 'Nombre d\\'enquêtes de satisfaction', '', x_tick_angle=45)\n",
    "plot_distribution(df_order_reviews, 'review_answer_timestamp', 'Nombre de notations', '', x_tick_angle=45)"
   ]
  },
  {
   "cell_type": "markdown",
   "id": "72076b37-d2f9-4eca-b7a7-5bd628a99928",
   "metadata": {},
   "source": [
    "### 2.2.5 Table `products`"
   ]
  },
  {
   "cell_type": "code",
   "execution_count": null,
   "id": "3627e08f-8efa-43ba-859d-eb0dc2976497",
   "metadata": {},
   "outputs": [],
   "source": [
    "# Description des champs de la table\n",
    "display(describe_table('products'))"
   ]
  },
  {
   "cell_type": "code",
   "execution_count": null,
   "id": "b39f7572-fc4d-4d3e-aa6f-6f1c2813d9f1",
   "metadata": {},
   "outputs": [],
   "source": [
    "# Description des variables du dataframe\n",
    "display(get_dataframe_infos(df_products))"
   ]
  },
  {
   "cell_type": "markdown",
   "id": "28ec889e-2cf2-4d00-8388-abf5a9873b87",
   "metadata": {},
   "source": [
    "* Hormis les types, les informations relevées sont strictement identiques👍🏼\n",
    "* Il manque les noms, catégories, descriptions et nombres de photos de **610** produits"
   ]
  },
  {
   "cell_type": "markdown",
   "id": "9af3f0ca-94e6-4825-aa81-5b0d9a9dfa6e",
   "metadata": {},
   "source": [
    "* Transformation des types de données"
   ]
  },
  {
   "cell_type": "code",
   "execution_count": null,
   "id": "b7499041-f214-48b1-9060-c9b1fa894850",
   "metadata": {},
   "outputs": [],
   "source": [
    "# Dictionnaire de conversion\n",
    "to_transform = {'to_string': ['product_id', 'product_category_name']}\n",
    "\n",
    "# Conversions\n",
    "df_products = transform_data_types(df_products, to_transform)"
   ]
  },
  {
   "cell_type": "code",
   "execution_count": null,
   "id": "b343044b-4cd3-4452-9597-1092ebad8acc",
   "metadata": {},
   "outputs": [],
   "source": [
    "# Vérification des conversions\n",
    "display(get_dataframe_infos(df_products))"
   ]
  },
  {
   "cell_type": "code",
   "execution_count": null,
   "id": "ace4ef05-5c34-4209-97aa-e55443b16db6",
   "metadata": {},
   "outputs": [],
   "source": [
    "# Affichage de quelques lignes\n",
    "display(df_products)"
   ]
  },
  {
   "cell_type": "markdown",
   "id": "5fef9851-afb7-4ae2-bb83-104dcd26ca3a",
   "metadata": {},
   "source": [
    "* Seul le nom de la catégorie peut être pertinent pour l'étude\n",
    "* Ce nom peut être obtenu en anglais via la table `translation`"
   ]
  },
  {
   "cell_type": "markdown",
   "id": "6e42ee79-2715-451e-8932-9565b68f4469",
   "metadata": {},
   "source": [
    "* Récupération de la table `translation`"
   ]
  },
  {
   "cell_type": "code",
   "execution_count": null,
   "id": "250e7b82-2fe0-4e0b-82ab-a4d9fdce887a",
   "metadata": {},
   "outputs": [],
   "source": [
    "# Récupération de tout le contenu de la table translation dans un dataframe\n",
    "df_translation = f_query_result(\"SELECT * FROM translation;\").drop('index', axis=1)"
   ]
  },
  {
   "cell_type": "code",
   "execution_count": null,
   "id": "40a39015-df15-4426-8441-6068274aee17",
   "metadata": {},
   "outputs": [],
   "source": [
    "# Description des champs de la table\n",
    "display(describe_table('translation'))"
   ]
  },
  {
   "cell_type": "markdown",
   "id": "dd772299-2d10-4594-ba83-8f4944066af2",
   "metadata": {},
   "source": [
    "* Ajout de la variable `product_category_name_english` dans le dataframe `df_products`"
   ]
  },
  {
   "cell_type": "code",
   "execution_count": null,
   "id": "54891fa4-927b-4f6f-a7ab-aadf25a96f0d",
   "metadata": {},
   "outputs": [],
   "source": [
    "# Merge des dataframes sur la variable 'product_category_name'\n",
    "df_products = pd.merge(df_products, df_translation, on='product_category_name', how='left')"
   ]
  },
  {
   "cell_type": "code",
   "execution_count": null,
   "id": "f9a87f19-b415-442a-94d1-33ae6471d63c",
   "metadata": {},
   "outputs": [],
   "source": [
    "display(get_dataframe_infos(df_products[['product_category_name', 'product_category_name_english']]))"
   ]
  },
  {
   "cell_type": "markdown",
   "id": "0d8dd1d0-3fa6-4cfd-850d-fd5ce676ebf6",
   "metadata": {},
   "source": [
    "* Affichage des noms de catégories de produits avec `product_category_name` et sans `product_category_name_english` (catégories non traduites)"
   ]
  },
  {
   "cell_type": "code",
   "execution_count": null,
   "id": "13aa1492-ff6f-4b11-96f2-df2150c28f3a",
   "metadata": {},
   "outputs": [],
   "source": [
    "mask = (df_products['product_category_name_english'].isna()) & (df_products['product_category_name'].notna())\n",
    "df_products.loc[mask, 'product_category_name'].unique()"
   ]
  },
  {
   "cell_type": "markdown",
   "id": "f4a51977-b72a-4a68-88e6-804f529c9155",
   "metadata": {},
   "source": [
    "* 'portateis_cozinha_e_preparadores_de_alimentos' peut être traduit en anglais par : 'portable-kitchen-and-food-preparation-devices'"
   ]
  },
  {
   "cell_type": "markdown",
   "id": "8c0e2932-6029-4c0e-87c2-46bc65566258",
   "metadata": {},
   "source": [
    "* Mise à jour des traductions"
   ]
  },
  {
   "cell_type": "code",
   "execution_count": null,
   "id": "0f0b43ff-a6db-44d8-a2d6-39f59c4e4c88",
   "metadata": {},
   "outputs": [],
   "source": [
    "# pc_gamer\n",
    "mask = df_products['product_category_name'] == 'pc_gamer'\n",
    "df_products.loc[mask, 'product_category_name_english'] = 'pc_gamer'"
   ]
  },
  {
   "cell_type": "code",
   "execution_count": null,
   "id": "c708f0e4-0648-49b7-8fa2-d4894bdca6df",
   "metadata": {},
   "outputs": [],
   "source": [
    "# portateis_cozinha_e_preparadores_de_alimentos\n",
    "mask = df_products['product_category_name'] == 'portateis_cozinha_e_preparadores_de_alimentos'\n",
    "df_products.loc[mask, 'product_category_name_english'] = 'portable-kitchen-and-food-preparation-devices'"
   ]
  },
  {
   "cell_type": "code",
   "execution_count": null,
   "id": "7cdb5714-bc33-4fbc-847c-e05fcf97ee58",
   "metadata": {},
   "outputs": [],
   "source": [
    "display(get_dataframe_infos(df_products[['product_category_name', 'product_category_name_english']]))"
   ]
  },
  {
   "cell_type": "markdown",
   "id": "06da067c-2b29-4f4e-884a-96536ddd463f",
   "metadata": {},
   "source": [
    "## 2.3 Analyses bivariées"
   ]
  },
  {
   "cell_type": "markdown",
   "id": "1814df79-6730-4436-9218-d72ab94c52e2",
   "metadata": {},
   "source": [
    "> * Vérifier les relations entre tables : tous les `orders.order_id` ont-ils un `customers.customer_id` correspondant ? ... ... ..."
   ]
  }
 ],
 "metadata": {
  "kernelspec": {
   "display_name": "Python 3 (ipykernel)",
   "language": "python",
   "name": "python3"
  },
  "language_info": {
   "codemirror_mode": {
    "name": "ipython",
    "version": 3
   },
   "file_extension": ".py",
   "mimetype": "text/x-python",
   "name": "python",
   "nbconvert_exporter": "python",
   "pygments_lexer": "ipython3",
   "version": "3.11.8"
  }
 },
 "nbformat": 4,
 "nbformat_minor": 5
}
