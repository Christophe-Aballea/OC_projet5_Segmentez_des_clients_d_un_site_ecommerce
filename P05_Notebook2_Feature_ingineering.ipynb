{
 "cells": [
  {
   "cell_type": "markdown",
   "id": "f85c73ed-379c-4e13-b76e-a30c882fbf9b",
   "metadata": {},
   "source": [
    "## <span style=\"color:green\">**Version en cours**</span>"
   ]
  },
  {
   "cell_type": "markdown",
   "id": "b9883035-52f7-49c4-8b77-add837a74210",
   "metadata": {},
   "source": [
    "# Segmentez des clients d'un site e-commerce\n",
    "## Notebook 2 : Feature ingineering\n",
    "OpenClassrooms - Parcours Data Scientist - Projet 05  "
   ]
  },
  {
   "cell_type": "markdown",
   "id": "eefe05a5-3f2d-4e83-9e10-f07db8110246",
   "metadata": {},
   "source": [
    "## Présentation du projet"
   ]
  },
  {
   "cell_type": "markdown",
   "id": "25c91bb2-fbab-4dcb-ae88-b676e5b3d7ae",
   "metadata": {},
   "source": [
    "**Contexte**  \n"
   ]
  },
  {
   "cell_type": "markdown",
   "id": "4d2423a5-c9f1-4c27-aeb3-82e06fb00bb7",
   "metadata": {},
   "source": [
    "* Olist est une entreprise brésilienne qui propose une solution de vente sur les marketplaces en ligne.  \n",
    "* Dans un premier temps il est demandé de réaliser quelques requêtes pour le dashboard à partir de la base de données SQLite d'Olist.  \n",
    "* La mission principale est de fournir aux équipes d'e-commerce d'Olist une **segmentation des clients** qu’elles pourront utiliser au quotidien pour leurs campagnes de communication."
   ]
  },
  {
   "cell_type": "markdown",
   "id": "475b6616-a03d-41fb-81be-6afddf87702d",
   "metadata": {},
   "source": [
    "**Démarche globale**  \n",
    "* Requêtes SQL pour le dashboard (cf Notebook 1)  \n",
    "* **Feature ingineering** : c'est l'objet de ce notebook\n",
    "* Tests de modèles de clustering (Notebook 3)  \n",
    "* Simulation d'un contrat de maintenace (Notebbok 4)  "
   ]
  },
  {
   "cell_type": "markdown",
   "id": "fb3d1fbe-4a89-4efc-bb20-8e1ff26fe994",
   "metadata": {},
   "source": [
    "**Feature ingineering**  \n",
    "* Objectif :\n",
    "   * Préparer un dataset qui servira de base aux algorithmes de clustering testés à l'étape suivante  \n",
    "   * Chaque ligne représentera un client, chaque colonne une feature caractérisant les clients\n",
    "* Préparation des données pour les algorithmes envisagés (KMeans, DBSCAN, Agglomerative Hierarchical Clustering) :\n",
    "   * Élimination des valeurs manquantes\n",
    "   * Traitement des valeurs aberrantes\n",
    "   * Normalisation / standardisation\n",
    "   * Encodage des variables catégorielles\n",
    "* Sélection des features pour réaliser une segmentation des clients de type RFM :\n",
    "   * **R**écence : Nombre de jours écoulés depuis le dernier achat  \n",
    "   * **F**réquence : Nombre total d'achats effectués par un client sur une période donnée  \n",
    "   * **M**ontant : Montant total dépensé par un client  "
   ]
  },
  {
   "cell_type": "markdown",
   "id": "14455e89-ea28-4542-bc30-ac5b6cbac1ae",
   "metadata": {},
   "source": [
    "## Sommaire  \n",
    "**Préparation de l'environnement**  \n",
    "* Environnement virtuel\n",
    "* Import des modules\n",
    "* Fonctions\n",
    "\n",
    "**Chargement des données**\n",
    "* Schéma relationnel   \n",
    "* Création des dataframes"
   ]
  },
  {
   "cell_type": "markdown",
   "id": "6bd81983-7922-408b-8410-2d10871293f0",
   "metadata": {},
   "source": [
    "# 1 Préparation de l'environnement"
   ]
  },
  {
   "cell_type": "markdown",
   "id": "aca5d398-3f3c-4646-b903-6e54968b30b3",
   "metadata": {},
   "source": [
    "## 1.1 Environnement virtuel"
   ]
  },
  {
   "cell_type": "code",
   "execution_count": 1,
   "id": "0cf1bbd4-94e6-4e68-b02e-077f05cac794",
   "metadata": {},
   "outputs": [
    {
     "name": "stdout",
     "output_type": "stream",
     "text": [
      "Environnement virtuel : C:\\Users\\chrab\\anaconda3\\envs\\opc5\n"
     ]
    }
   ],
   "source": [
    "# Vérification environnement virtuel\n",
    "envs = !conda env list\n",
    "print(f\"Environnement virtuel : {[e for e in envs if '*' in e][0].split('*')[1].strip()}\")"
   ]
  },
  {
   "cell_type": "markdown",
   "id": "b241df5b-4c21-4252-b7c4-b369583a741b",
   "metadata": {},
   "source": [
    "## 1.2 Import des modules"
   ]
  },
  {
   "cell_type": "code",
   "execution_count": 2,
   "id": "3482119c-62c1-46e2-a4d9-078efbaf6145",
   "metadata": {},
   "outputs": [],
   "source": [
    "# Installation des librairies\n",
    "!pip install pandas --quiet\n",
    "!pip install numpy --quiet\n",
    "!pip install matplotlib --quiet\n",
    "!pip install seaborn --quiet"
   ]
  },
  {
   "cell_type": "code",
   "execution_count": 3,
   "id": "ff1a126f-ebe4-4e3e-8def-c6dadae601b0",
   "metadata": {},
   "outputs": [],
   "source": [
    "# Import des modules\n",
    "import os\n",
    "import pandas as pd\n",
    "import numpy as np\n",
    "import sqlite3\n",
    "import matplotlib.pyplot as plt\n",
    "import seaborn as sns"
   ]
  },
  {
   "cell_type": "markdown",
   "id": "4c429f5a-398b-499b-bade-965583bb5c1d",
   "metadata": {},
   "source": [
    "## 1.3 Fonctions"
   ]
  },
  {
   "cell_type": "code",
   "execution_count": 4,
   "id": "e91e3ee8-3618-4dcf-8bc1-465185124cd6",
   "metadata": {},
   "outputs": [],
   "source": [
    "# Renvoit le résultat d'une requête SQL sous forme de dataframe\n",
    "def f_query_result(query: str):\n",
    "    \"\"\"Renvoit un dataframe contenant le résultat de la requête SQL passée en paramètre sous forme d'un string\n",
    "    Le fichier de la BDD SQLite 'olist.db' doit être présent dans le répertoire courant.\n",
    "    \"\"\"\n",
    "    with sqlite3.connect('olist.db') as conn:\n",
    "        df = pd.read_sql_query(query, conn)\n",
    "    return df"
   ]
  },
  {
   "cell_type": "code",
   "execution_count": 5,
   "id": "7aee7880-c058-4e1c-bbf4-2ae3dd7062e3",
   "metadata": {},
   "outputs": [],
   "source": [
    "def create_dataframe_and_csv_if_not_exist_from_table(tablename: str):\n",
    "    \"\"\"Renvoit un dataframe contenant le contenu de la table passée en paramètre sous forme d'un string\n",
    "    - Si le fichier csv de la table df_{tablename}.csv n'existe pas :\n",
    "        * Utilisation de la fonction 'f_query_result' pour récupérer le contenu de la table dans un dataframe\n",
    "        * Enregistrement du fichier csv\n",
    "    - Si le fichier csv existe, lecture de son contenu dans un dataframe\n",
    "    \"\"\"\n",
    "    filename = f\"df_{tablename}.csv\"\n",
    "    if not os.path.exists(filename):\n",
    "        query = f'SELECT * FROM {tablename};'\n",
    "        df = f_query_result(query)\n",
    "        df.drop(columns='index', inplace=True)\n",
    "        df.to_csv(filename, index=False)\n",
    "    else:\n",
    "        df = pd.read_csv(filename)\n",
    "    return df"
   ]
  },
  {
   "cell_type": "code",
   "execution_count": 6,
   "id": "227d042b-06b1-41af-8a07-11a9aef87aa7",
   "metadata": {},
   "outputs": [],
   "source": [
    "# Description des champs d'une table de la BDD SQLite 'olist.db' (à base de requêtes SQL)\n",
    "def describe_table(table_name: str, fields=None):\n",
    "    \"\"\"Examine :\n",
    "       - les champs compris dans la liste 'fields' de la table 'table_name'\n",
    "       - ou tous les champs si 'fields' n'est pas renseigné\n",
    "    Renvoit un dataframe 'df_infos' composé des variables :\n",
    "       - 'Colonne' : nom des variables de df\n",
    "       - 'Type' : type de la colonne\n",
    "       - 'Valeurs uniques' : nombre de valeurs unique de la colonne\n",
    "       - 'Valeurs manquantes' : nombre de valeurs manquantes de la colonne\n",
    "       - '% valeurs manquantes' : pourcentage de valeurs manquantes de la colonne\n",
    "       - 'Doublons' : nombre de valeurs non uniques (doublons) de la colonne\n",
    "    \"\"\"\n",
    "    # Préparation des colonnes du dataframe de descriptions\n",
    "    df_names, df_types, df_unique_values, df_duplicates, df_missing_values, df_percentage_missing = [], [], [], [], [], []\n",
    "    \n",
    "    # Récupération de la liste des champs de la table\n",
    "    pragma = query_result(f\"PRAGMA table_info({table_name});\")\n",
    "    table_fields = [row[1] for row in pragma]\n",
    "\n",
    "    # Constitution de la liste des champs à décrire\n",
    "    if fields is None:\n",
    "        fields = [field for field in table_fields if field != 'index']\n",
    "    elif isinstance(fields, str):\n",
    "        fields = [fields]\n",
    "        \n",
    "    # Récupération/calculs des informations descriptives\n",
    "    total_rows = query_result(f\"SELECT COUNT(*) FROM {table_name};\", False)\n",
    "    for field_index, field_name in enumerate(table_fields):\n",
    "        if field_name in fields:\n",
    "            field_type = pragma[field_index][2]\n",
    "            unique_values = query_result(f\"SELECT COUNT(DISTINCT {field_name}) FROM {table_name};\", False)\n",
    "            non_null_values = query_result(f\"SELECT COUNT({field_name}) FROM {table_name};\", False)\n",
    "            duplicates = non_null_values - unique_values\n",
    "            missing_values = total_rows - non_null_values\n",
    "            percentage_missing = (missing_values / total_rows) * 100 if total_rows > 0 else 0\n",
    "            percentage_missing = str(round(percentage_missing, 2)) + ' %'\n",
    "\n",
    "            df_names.append(field_name)\n",
    "            df_types.append(field_type)\n",
    "            df_unique_values.append(unique_values)\n",
    "            df_duplicates.append(duplicates)\n",
    "            df_missing_values.append(missing_values)\n",
    "            df_percentage_missing.append(percentage_missing)\n",
    "\n",
    "    # Céation du dataframe de description\n",
    "    df_infos = pd.DataFrame({\n",
    "        'Colonne': df_names,\n",
    "        'Type': df_types,\n",
    "        'Valeurs uniques': df_unique_values,\n",
    "        'Doublons': df_duplicates,\n",
    "        'Valeurs manquantes': df_missing_values,\n",
    "        '% valeurs manquantes': df_percentage_missing\n",
    "    }).reset_index(drop=True)\n",
    "\n",
    "    return df_infos"
   ]
  },
  {
   "cell_type": "code",
   "execution_count": 7,
   "id": "adfdb8ed-b6b9-44d9-9e05-459c810ecbb1",
   "metadata": {},
   "outputs": [],
   "source": [
    "# Description des variables d'un dataframe\n",
    "def get_dataframe_infos(df):\n",
    "    \"\"\"Examine le dataframe (ou la series) 'df' fourni en paramètre et renvoit un dataframe 'df_infos' composé des variables :\n",
    "       - 'Colonne' : nom des variables de df\n",
    "       - 'Type' : type de la colonne\n",
    "       - 'Valeurs uniques' : nombre de valeurs unique de la colonne\n",
    "       - 'Valeurs manquantes' : nombre de valeurs manquantes de la colonne\n",
    "       - '% valeurs manquantes' : pourcentage de valeurs manquantes de la colonne\n",
    "       - 'Doublons' : nombre de valeurs non uniques (doublons) de la colonne\n",
    "    \"\"\"\n",
    "    if isinstance(df, pd.Series):\n",
    "        df = df.to_frame()\n",
    "    number_of_rows = df.shape[0]\n",
    "    col_names = df.columns\n",
    "    col_types = df.dtypes\n",
    "    unique_values = df.nunique()\n",
    "    missing_values = df.isnull().sum()\n",
    "    non_missing_values = number_of_rows - missing_values\n",
    "    duplicate_values = non_missing_values - unique_values\n",
    "\n",
    "    df_infos = pd.DataFrame({\n",
    "        'Colonne': col_names,\n",
    "        'Type': col_types,\n",
    "        'Valeurs uniques': unique_values,\n",
    "        'Doublons': duplicate_values,\n",
    "        'Valeurs manquantes': missing_values,\n",
    "        '% valeurs manquantes': round((missing_values / number_of_rows) * 100, 2).astype(str) + \" %\"\n",
    "    }).reset_index(drop=True)\n",
    "\n",
    "    return df_infos"
   ]
  },
  {
   "cell_type": "markdown",
   "id": "db9d09d6-6f59-4efa-a196-f205d04ed909",
   "metadata": {},
   "source": [
    "# 2 Chargement des données"
   ]
  },
  {
   "cell_type": "markdown",
   "id": "0952d2b8-948b-4cc0-9d77-ab2efc93defd",
   "metadata": {},
   "source": [
    "## 2.1 Schéma relationnel"
   ]
  },
  {
   "cell_type": "markdown",
   "id": "dee3ac09-b0a4-4a6a-aa35-8dfac56d29cf",
   "metadata": {},
   "source": [
    "La réalisation des quelques requêtes pour le dashboard (Notebook 1) a été l'occasion d'étudier les relations entre les tables de la BDD Olist et d'établir le schema relationnel :"
   ]
  },
  {
   "cell_type": "markdown",
   "id": "a364a382-016f-4e50-9186-6ef81d1533b1",
   "metadata": {},
   "source": [
    "![shema relationnel](schema_relationnel_olist.png \"Shéma relationnel BDD olist\")"
   ]
  },
  {
   "cell_type": "markdown",
   "id": "b554dcfd-101d-4813-9ffa-9ae28cd02396",
   "metadata": {},
   "source": [
    "## 2.2 Création des dataframes"
   ]
  },
  {
   "cell_type": "markdown",
   "id": "3a041277-48d6-4848-b36f-6cd4e7b282ce",
   "metadata": {},
   "source": [
    "* Chargement des fichiers csv dans le dataframe correspondant  \n",
    "* Si le fichier csv n'existe pas, il est créé après avoir lu le contenu de la table dans la BDD"
   ]
  },
  {
   "cell_type": "code",
   "execution_count": 8,
   "id": "bb8d9266-1bdc-49a2-96a7-64ba60fdcdaf",
   "metadata": {},
   "outputs": [],
   "source": [
    "df_customers = create_dataframe_and_csv_if_not_exist_from_table('customers')\n",
    "df_orders = create_dataframe_and_csv_if_not_exist_from_table('orders')\n",
    "df_order_pymts = create_dataframe_and_csv_if_not_exist_from_table('order_pymts')\n",
    "# df_geoloc = create_dataframe_and_csv_if_not_exist_from_table('geoloc')\n",
    "# df_order_items = create_dataframe_and_csv_if_not_exist_from_table('order_items')\n",
    "# df_order_reviews = create_dataframe_and_csv_if_not_exist_from_table('order_reviews')\n",
    "# df_products = create_dataframe_and_csv_if_not_exist_from_table('products')\n",
    "# df_sellers = create_dataframe_and_csv_if_not_exist_from_table('sellers')\n",
    "# df_translation = create_dataframe_and_csv_if_not_exist_from_table('translation')"
   ]
  },
  {
   "cell_type": "code",
   "execution_count": null,
   "id": "8d8e9323-e3c7-4ae2-8e53-3ccb66413a69",
   "metadata": {},
   "outputs": [],
   "source": []
  },
  {
   "cell_type": "code",
   "execution_count": null,
   "id": "321f201b-b35b-4e2d-bb7a-e78d0f470353",
   "metadata": {},
   "outputs": [],
   "source": []
  },
  {
   "cell_type": "code",
   "execution_count": null,
   "id": "c857ad88-a574-4b86-bf4b-4bf5235a0056",
   "metadata": {},
   "outputs": [],
   "source": []
  },
  {
   "cell_type": "code",
   "execution_count": null,
   "id": "1d08f4af-b0cb-4215-9bd2-ad4ee45b4e04",
   "metadata": {},
   "outputs": [],
   "source": []
  },
  {
   "cell_type": "code",
   "execution_count": null,
   "id": "b86faaa7-7ffd-408c-9eaf-698e8835fc2d",
   "metadata": {},
   "outputs": [],
   "source": []
  },
  {
   "cell_type": "code",
   "execution_count": null,
   "id": "4ba9194f-6a46-42bc-9d32-56be1f41e30c",
   "metadata": {},
   "outputs": [],
   "source": []
  },
  {
   "cell_type": "code",
   "execution_count": null,
   "id": "8ed24c42-10cf-4dbd-8402-ed20f4ffa986",
   "metadata": {},
   "outputs": [],
   "source": []
  },
  {
   "cell_type": "code",
   "execution_count": null,
   "id": "80403f56-0256-4ec8-9e54-afcb592ff272",
   "metadata": {},
   "outputs": [],
   "source": []
  },
  {
   "cell_type": "markdown",
   "id": "316ae3d0-3ac2-44b4-b354-4c03a106f91c",
   "metadata": {},
   "source": [
    "# <span style=\"color:red\">**Élements de la version précédente - A ignorer**</span>"
   ]
  },
  {
   "cell_type": "markdown",
   "id": "243660d7-798e-44ed-afc7-63073aa96da8",
   "metadata": {},
   "source": [
    "## 1.3 Fonctions"
   ]
  },
  {
   "cell_type": "code",
   "execution_count": null,
   "id": "392e6df0-3450-45e2-ac4d-ba6134517d50",
   "metadata": {},
   "outputs": [],
   "source": [
    "# Renvoit le résultat d'une requête SQL\n",
    "def query_result(query: str, all_rows: bool=True):\n",
    "    with sqlite3.connect('olist.db') as conn:\n",
    "        cursor = conn.cursor()\n",
    "        cursor.execute(query)\n",
    "        if all_rows:\n",
    "            result = cursor.fetchall()\n",
    "        else:\n",
    "            result = cursor.fetchone()\n",
    "            if len(result) == 1:\n",
    "                result = result[0]\n",
    "    return result"
   ]
  },
  {
   "cell_type": "code",
   "execution_count": null,
   "id": "60702da0-cd6c-469d-bbc4-a89d308585d1",
   "metadata": {},
   "outputs": [],
   "source": [
    "# Transforme les types des variables d'un dataframe\n",
    "def transform_data_types(df, transformations):\n",
    "    # Conversion en type string ou category si le nbre de valeurs uniques est faible\n",
    "    if 'to_string' in transformations:\n",
    "        for column in transformations['to_string']:\n",
    "            if df[column].nunique() / len(df[column]) < 0.02:\n",
    "                df[column] = df[column].astype('category')\n",
    "            else:\n",
    "                df[column] = df[column].astype(str)\n",
    "            df[column] = df[column].replace('None', np.nan)\n",
    "    \n",
    "    # Conversion en dates avec gestion NaT\n",
    "    if 'to_date' in transformations:\n",
    "        if len(df[transformations['to_date']].iloc[0]) <= 10 :\n",
    "            for column in transformations['to_date']:\n",
    "                df[column] = pd.to_datetime(df[column], errors='coerce')\n",
    "        else:\n",
    "            for column in transformations['to_date']:\n",
    "                df[column] = pd.to_datetime(df[column], errors='coerce').dt.round('s')\n",
    "   \n",
    "    # Conversion en entier avec gestion NaN\n",
    "    if 'to_integer' in transformations:\n",
    "        for col in transformations['to_integer']:\n",
    "            df[col] = pd.to_numeric(df[col], errors='coerce').astype('Int64')\n",
    "\n",
    "    # Conversion en flottants\n",
    "    if 'to_float' in transformations:\n",
    "        for col in transformations['to_float']:\n",
    "            df[col] = pd.to_numeric(df[col], errors='coerce').astype(float)\n",
    "    \n",
    "    return df"
   ]
  },
  {
   "cell_type": "code",
   "execution_count": null,
   "id": "56fc029b-d51f-420f-8cbd-15cc98767a09",
   "metadata": {},
   "outputs": [],
   "source": [
    "# Affiche l'histogramme et le boxplot d'une feature\n",
    "def plot_distribution(dataframe, feature, x_label, y_label, x_tick_angle=None):\n",
    "    fig, axs = plt.subplots(2, 1, figsize=(6, 4.5), gridspec_kw={'height_ratios': [3, 1]}, sharex=True)\n",
    "    plt.subplots_adjust(hspace=0.05)  # Ajuste l'espace entre les graphiques\n",
    "    \n",
    "    # Histogramme\n",
    "    sns.histplot(dataframe[feature], bins=50, kde=True, ax=axs[0])\n",
    "    axs[0].set_title(f'Distribution {feature}', pad=10)\n",
    "    axs[0].set_xlabel('')  # Supprime le label de l'axe x pour l'histogramme\n",
    "    axs[0].set_ylabel(y_label)\n",
    "    axs[0].grid(linewidth=0.25)\n",
    "    \n",
    "    # Boxplot\n",
    "    sns.boxplot(x=dataframe[feature], ax=axs[1])\n",
    "    axs[1].set_xlabel(x_label)\n",
    "    axs[1].set_yticks([])  # Supprime les ticks de l'axe y pour le boxplot\n",
    "\n",
    "    if x_tick_angle is not None:\n",
    "        for axis in axs:\n",
    "            for label in axis.get_xticklabels():\n",
    "                label.set_rotation(x_tick_angle)\n",
    "\n",
    "    plt.show()"
   ]
  },
  {
   "cell_type": "markdown",
   "id": "21a26907-c9ab-4cfa-900c-2cefbaa1845e",
   "metadata": {},
   "source": [
    "# 2 Analyse exploratoire"
   ]
  },
  {
   "cell_type": "markdown",
   "id": "769fb32b-f2a0-4b45-893c-8e82a3be1a26",
   "metadata": {},
   "source": [
    "L'objectif est de réaliser une **segmentation des clients**.  \n",
    "Je vais donc porter une attention particulière sur les champs me permettant de calculer des scores par client :  \n",
    "* **Récence** : date de la dernière commande => `orders.order_approved_at` ?  \n",
    "* **Fréquence** : nombre total de commandes => `customers.customer_id`, `orders.order_id` ou `orders.customer_id` ?  \n",
    "* **Montant** : valeur totale des achats => `order_items.price` (+ `order_items.freight` ?), `order_pymts.payment_value` ?  \n",
    "* **Panier moyen** : valeur moyenne d'une commande => Montant total / nombre de commandes  \n",
    "* **Score de satisfaction** : notes de satisfaction => `order_reviews.review_score` (comment compléter les manquants : KNN ?)\n",
    "* **Motif d'insatisfation** ??? Si pertinent, comment obtenir cette info ? \n",
    "* **Délai de livraison** : `orders.order_delivered_customer_date` - `orders.order_purchase_timestamp` ? `orders.order_delivered_customer_date` - `orders.order_approved_at` ?\n",
    "* **Retard de livraison** : `orders.order_delivered_customer_date` - `orders.estimated_delivery_date`\n",
    "* **Situation géographique du client** ??? Y aurait-il des différences selon les régions ?\n",
    "* **Distance par rapport au vendeur** ??? Si pertinent comment gérer les commandes regroupant plusieurs vendeurs ? La moyenne des distances serait pertinente ?\n",
    "* **Échelonnement** : nombre moyen d'échéances pour payer une commande => `order_pymts.payment_installments` / nombre de commandes : pertinent ???"
   ]
  },
  {
   "cell_type": "markdown",
   "id": "6775839a-50d0-4914-a4cc-c6bc1191e538",
   "metadata": {},
   "source": [
    "## 2.2 Analyses univariées"
   ]
  },
  {
   "cell_type": "markdown",
   "id": "496125d2-97d8-4d07-8c0f-ba72e3d2ff37",
   "metadata": {},
   "source": [
    "* Utilisation des fonctions :\n",
    "   * `describe_table('nom_table')` : récupère et calcule le nom des champs, leur type, le nombre de valeurs uniques, de doublons, de valeurs manquantes directement sur la table, en SQL, puis renvoie un dataframe\n",
    "   * `f_query_result('query')` : exécute une requête SQL et renvoie un dataframe\n",
    "   * `get_df_infos(dataframe)` : renvoie un dataframe avec les mêmes informations que `describe_table()`, mais calculées en python à partir d'un dataframe\n",
    "* Toutes les tables de la BDD contiennent un champ `index` qui sera supprimé à chaque récupération sous forme de dataframe, pour ne pas faire double-emploi"
   ]
  },
  {
   "cell_type": "markdown",
   "id": "fa6f28ab-cb7c-4a41-a0f9-838aaa234308",
   "metadata": {},
   "source": [
    "### 2.2.1 Table `orders`"
   ]
  },
  {
   "cell_type": "code",
   "execution_count": null,
   "id": "33f238ef-53f4-4588-9a37-db9517c4a6e8",
   "metadata": {},
   "outputs": [],
   "source": [
    "# Affichage de quelques lignes\n",
    "display(df_orders)"
   ]
  },
  {
   "cell_type": "code",
   "execution_count": null,
   "id": "a63bbdc6-d783-451f-91cd-ed91b7d5a819",
   "metadata": {},
   "outputs": [],
   "source": [
    "# Description des champs de la table\n",
    "display(describe_table('orders'))"
   ]
  },
  {
   "cell_type": "code",
   "execution_count": null,
   "id": "52ec2872-3da7-4c7f-977b-0c48e7c1b80f",
   "metadata": {},
   "outputs": [],
   "source": [
    "# Description des variables du dataframe\n",
    "display(get_dataframe_infos(df_orders))"
   ]
  },
  {
   "cell_type": "markdown",
   "id": "3b9bd43d-ec32-4c1b-a03c-b9d96de9117b",
   "metadata": {},
   "source": [
    "* Hormis les types, les informations relevées sont strictement identiques👍🏼\n",
    "* Toutes les colonnes de la table sont de type `TEXT`, et transformées en type `OBJECT` via l'import en dataframe\n",
    "* Les variables doivent être converties dans les bons types"
   ]
  },
  {
   "cell_type": "code",
   "execution_count": null,
   "id": "0aad3c73-63fb-40cb-b96a-3900c7109dad",
   "metadata": {},
   "outputs": [],
   "source": [
    "# Dictionnaire de conversion\n",
    "to_transform = {\n",
    "    'to_string': ['order_id', 'customer_id', 'order_status'],\n",
    "    'to_date': ['order_purchase_timestamp',\n",
    "                'order_approved_at',\n",
    "                'order_delivered_carrier_date',\n",
    "                'order_delivered_customer_date',\n",
    "                'order_estimated_delivery_date']\n",
    "}\n",
    "\n",
    "# Conversions\n",
    "df_orders = transform_data_types(df_orders, to_transform)"
   ]
  },
  {
   "cell_type": "markdown",
   "id": "7930c2b2-4de6-4607-babb-074d5b12cd89",
   "metadata": {},
   "source": [
    "* Verification des transformations"
   ]
  },
  {
   "cell_type": "code",
   "execution_count": null,
   "id": "d2d80ba0-262e-4c02-a1b9-212a5d40e694",
   "metadata": {},
   "outputs": [],
   "source": [
    "# Description des variables du dataframe\n",
    "display(get_dataframe_infos(df_orders))"
   ]
  },
  {
   "cell_type": "code",
   "execution_count": null,
   "id": "54ec7228-e81c-4925-a869-2ef0e4f49bf6",
   "metadata": {},
   "outputs": [],
   "source": [
    "# Principales mesures statistiques\n",
    "df_orders.describe()"
   ]
  },
  {
   "cell_type": "markdown",
   "id": "e43211e9-824a-44dd-b664-78a24f45b669",
   "metadata": {},
   "source": [
    "#### 2.2.1.1 `order_status`"
   ]
  },
  {
   "cell_type": "markdown",
   "id": "3207bc7a-2580-4ab9-8929-b877c8211d55",
   "metadata": {},
   "source": [
    "* Valeurs uniques"
   ]
  },
  {
   "cell_type": "code",
   "execution_count": null,
   "id": "bc0006b3-59e3-48be-8647-936167487f98",
   "metadata": {},
   "outputs": [],
   "source": [
    "df_order_status = df_orders['order_status'].value_counts().to_frame()\n",
    "no_orders = df_orders.shape[0]\n",
    "df_order_status['%'] = round((df_order_status['count'] / no_orders) * 100, 2).astype(str) + ' %'\n",
    "display(df_order_status)"
   ]
  },
  {
   "cell_type": "markdown",
   "id": "a4e274f7-3de7-4295-949f-5f4bfedd4bf4",
   "metadata": {},
   "source": [
    "* La très grande majorité des commandes ont le statut 'delivered' ($97.02 \\%$)  \n",
    "* Les commandes avec un statut différent pourront être supprimées :\n",
    "   * Représentant moins de $3 \\%$ des commandes, sans elles les résultats ne seront pas impactés\n",
    "   * N'étant pas livrées, ces commandes n'auront pas de review, on ne pourra pas calculer le délai de livraison..."
   ]
  },
  {
   "cell_type": "code",
   "execution_count": null,
   "id": "5c5f74a8-d17b-4943-a6df-911135f3875e",
   "metadata": {},
   "outputs": [],
   "source": [
    "# Suppression des commandes non livrées\n",
    "mask = df_orders['order_status'] != 'delivered'\n",
    "df_orders = df_orders.loc[~mask]"
   ]
  },
  {
   "cell_type": "markdown",
   "id": "ec67a00a-10be-4e5e-b9bf-9d929fefbbe4",
   "metadata": {},
   "source": [
    "* La variable `order_status` n'a plus d'intérêt"
   ]
  },
  {
   "cell_type": "code",
   "execution_count": null,
   "id": "8774a600-b60e-4c6b-a720-9a4dee259c98",
   "metadata": {},
   "outputs": [],
   "source": [
    "# Suppression de la variable 'order_status'\n",
    "df_orders = df_orders.drop('order_status', axis=1)"
   ]
  },
  {
   "attachments": {},
   "cell_type": "markdown",
   "id": "bfc7fa45-9b58-4758-8df2-1ae7d98cf707",
   "metadata": {},
   "source": [
    "#### 2.2.1.2 `order_purchase_timestamp`, `order_approved_at`, `order_delivered_carrier_date`, `order_delivered_customer_date`, `order_estimated_delivery_date`"
   ]
  },
  {
   "cell_type": "code",
   "execution_count": null,
   "id": "80fb1e12-b4bb-483f-9329-fbd437c08a51",
   "metadata": {},
   "outputs": [],
   "source": [
    "date_fields = ['order_purchase_timestamp', 'order_approved_at', 'order_delivered_carrier_date', 'order_delivered_customer_date', 'order_estimated_delivery_date']"
   ]
  },
  {
   "cell_type": "code",
   "execution_count": null,
   "id": "34816370-113f-4e7e-ba5e-4360b32c1776",
   "metadata": {},
   "outputs": [],
   "source": [
    "display(get_dataframe_infos(df_orders[date_fields]))"
   ]
  },
  {
   "cell_type": "markdown",
   "id": "8138e5bd-ce65-4d36-9633-16187d334ba2",
   "metadata": {},
   "source": [
    "* Quelles sont les commandes sans date d'approbation ?"
   ]
  },
  {
   "cell_type": "code",
   "execution_count": null,
   "id": "fc951f14-8eb8-4156-82a2-d73f2b7b352e",
   "metadata": {},
   "outputs": [],
   "source": [
    "wo_approbation_mask = df_orders['order_approved_at'].isna()\n",
    "display(df_orders.loc[wo_approbation_mask])"
   ]
  },
  {
   "cell_type": "code",
   "execution_count": null,
   "id": "87b71a12-dcd9-4d68-8e97-36c46b643635",
   "metadata": {},
   "outputs": [],
   "source": [
    "# Date des première et dernière commandes sans dates d'approbation\n",
    "wo_approbation_start_date = df_orders.loc[wo_approbation_mask, 'order_purchase_timestamp'].min()\n",
    "wo_approbation_end_date = df_orders.loc[wo_approbation_mask, 'order_purchase_timestamp'].max()\n",
    "display(wo_approbation_start_date)\n",
    "display(wo_approbation_end_date)"
   ]
  },
  {
   "cell_type": "markdown",
   "id": "888ee850-9956-44cb-ba23-bbb7f489f850",
   "metadata": {},
   "source": [
    "* Il semblerait qu'il y ait eu un souci sur une période d'un mois, entre les 19 janvier et 19 février 2017\n",
    "* Stratégie pour remplacer ces valeurs manquantes :\n",
    "   * Calculer le délai moyen entre la date de validation du paiement `order_approved_at` et la date de dépôt au livreur `order_delivered_carrier_at`\n",
    "   * Si ce délai est relativement constant sur une courte période avant et après la période problématique, l'appliquer en s'assurant que la date calculée ne soit pas antérieure à la date d'achat `order_approved_at`"
   ]
  },
  {
   "cell_type": "code",
   "execution_count": null,
   "id": "7ea656fd-ede7-4864-bc62-dec2fd79dddc",
   "metadata": {},
   "outputs": [],
   "source": [
    "# Affichage de toutes les commandes de la période "
   ]
  },
  {
   "cell_type": "code",
   "execution_count": null,
   "id": "e440a608-6f6c-4577-a376-15575440978e",
   "metadata": {},
   "outputs": [],
   "source": [
    "period_mask = (df_orders['order_purchase_timestamp'] >= wo_approbation_start_date) & \\\n",
    "              (df_orders['order_purchase_timestamp'] <= wo_approbation_end_date)\n",
    "df_orders.loc[period_mask]"
   ]
  },
  {
   "cell_type": "markdown",
   "id": "db7bf7bb-e4a8-43ef-8ed9-e8c257e16591",
   "metadata": {},
   "source": [
    "* 1720 commandes de cette même période ne sont pas concernées par le problème  \n",
    "* Le délai moyen sera calculé sur cette période"
   ]
  },
  {
   "cell_type": "code",
   "execution_count": null,
   "id": "960bc001-0f06-4719-84f1-e2d50f843c6e",
   "metadata": {},
   "outputs": [],
   "source": [
    "# Dates de début et de fin\n",
    "start_date = df_orders.loc[mask, 'order_purchase_timestamp'].min()\n",
    "end_date = df_orders.loc[mask, 'order_purchase_timestamp'].max()"
   ]
  },
  {
   "cell_type": "code",
   "execution_count": null,
   "id": "2a73338c-5b96-4bd2-b93f-514a9b2b303c",
   "metadata": {},
   "outputs": [],
   "source": [
    "# Création d'une colonne contenant le délai en heures entre la date d'approbation et la date de dépôt au livreur\n",
    "df_orders['approval_delay'] = (df_orders['order_delivered_carrier_date'] - df_orders['order_approved_at']).dt.total_seconds() / 3600\n",
    "\n",
    "# Calculer le délai moyen en heures\n",
    "average_delay_hours = df_orders.loc[period_mask, 'approval_delay'].mean()\n",
    "\n",
    "print(f\"Le délai moyen de mise en livraison est de {average_delay_hours} heures.\")"
   ]
  },
  {
   "cell_type": "code",
   "execution_count": null,
   "id": "352ec907-ff04-4af9-9161-00e5248e5bd4",
   "metadata": {},
   "outputs": [],
   "source": [
    "# Affichage des statistiques\n",
    "df_orders.loc[period_mask, 'approval_delay'].to_frame().describe()"
   ]
  },
  {
   "cell_type": "markdown",
   "id": "6762b877-ba40-421c-982e-e4044bba22fe",
   "metadata": {},
   "source": [
    "* Avec délai minimum de **-163 heures**, un maximum de **1 318 heures** et un écart-type de **107 heures**, prendre une valeur moyenne n'aurait aucun sens  \n",
    "*(Y-a-t-il des commandes qui sont mises en livraison avant validation du paiement ?)*"
   ]
  },
  {
   "cell_type": "markdown",
   "id": "22d0cf35-bdf1-4484-9115-9a514d238183",
   "metadata": {},
   "source": [
    "* Le délai entre la validation du paiement et la mise en livraison est-il plus stable ?"
   ]
  },
  {
   "cell_type": "code",
   "execution_count": null,
   "id": "cd17aaee-435b-4f9c-bc5b-470208ee09d6",
   "metadata": {},
   "outputs": [],
   "source": [
    "# Création d'une colonne contenant le délai en heures entre la date d'achat et la date de validation du paiement\n",
    "df_orders['shipping_preparation_delay'] = (df_orders['order_approved_at'] - df_orders['order_purchase_timestamp']).dt.total_seconds() / 3600\n",
    "\n",
    "# Calculer le délai moyen en heures\n",
    "average_delay_hours = df_orders.loc[period_mask, 'shipping_preparation_delay'].mean()\n",
    "\n",
    "print(f\"Le délai moyen de validation du paiement est de {average_delay_hours} heures.\")"
   ]
  },
  {
   "cell_type": "code",
   "execution_count": null,
   "id": "4e3dd69d-0999-4245-baa9-64b03866b9e7",
   "metadata": {},
   "outputs": [],
   "source": [
    "# Affichage des statistiques\n",
    "df_orders.loc[period_mask, 'shipping_preparation_delay'].to_frame().describe()"
   ]
  },
  {
   "cell_type": "markdown",
   "id": "8f89075f-22eb-41bc-8739-444f901b45ae",
   "metadata": {},
   "source": [
    "* Avec délai minimum de **quelques minutes**, un maximum de **267 heures** et un écart-type de **21 heures**, prendre une valeur moyenne n'aurait pas plus de sens"
   ]
  },
  {
   "cell_type": "markdown",
   "id": "e6ca8070-36b8-4131-98c5-34c28160ffe6",
   "metadata": {},
   "source": [
    "* Abandon de la tentative de correction des valeurs manquantes, et suppression des 14 commandes concernées (0.01 % du nombre total de commandes)"
   ]
  },
  {
   "cell_type": "code",
   "execution_count": null,
   "id": "ce7a265b-18c8-4de5-8726-25ac81f03fc8",
   "metadata": {},
   "outputs": [],
   "source": [
    "# Suppression des commandes sans `order_approved_date`\n",
    "df_orders = df_orders.loc[~wo_approbation_mask]"
   ]
  },
  {
   "cell_type": "code",
   "execution_count": null,
   "id": "5c51d5e9-29ad-4008-aa85-fc4c507da9de",
   "metadata": {},
   "outputs": [],
   "source": [
    "# Mise à jour des infos\n",
    "display(get_dataframe_infos(df_orders[date_fields]))"
   ]
  },
  {
   "cell_type": "markdown",
   "id": "76dbd966-a411-43ad-a3ff-e285da6cb22e",
   "metadata": {},
   "source": [
    "* Suppression des 2 commandes sans date de mise en livraison  \n",
    "* Suppression des 8 commandes non encore livrées"
   ]
  },
  {
   "cell_type": "code",
   "execution_count": null,
   "id": "dfb91069-2c64-491d-9205-c94138ef9854",
   "metadata": {},
   "outputs": [],
   "source": [
    "# Suppression\n",
    "mask = (df_orders['order_delivered_carrier_date'].isna()) | (df_orders['order_delivered_customer_date'].isna())\n",
    "df_orders = df_orders.loc[~mask]"
   ]
  },
  {
   "cell_type": "markdown",
   "id": "fee08981-2c32-4374-bcde-44f39f6e2d2b",
   "metadata": {},
   "source": [
    "* Graphiques des distributions"
   ]
  },
  {
   "cell_type": "code",
   "execution_count": null,
   "id": "123afb89-5b86-49fa-b822-2ce251d18a85",
   "metadata": {},
   "outputs": [],
   "source": [
    "date_fields = ['order_purchase_timestamp', 'order_approved_at', 'order_delivered_carrier_date', 'order_delivered_customer_date', 'order_estimated_delivery_date']"
   ]
  },
  {
   "cell_type": "code",
   "execution_count": null,
   "id": "083bcac2-7187-40ae-ad29-e76d609d6fc1",
   "metadata": {},
   "outputs": [],
   "source": [
    "for feature in date_fields:\n",
    "    plot_distribution(df_orders, feature, 'Nombre de commandes', '', x_tick_angle=45)\n",
    "    print()"
   ]
  },
  {
   "cell_type": "markdown",
   "id": "17cb5bd0-8d83-465e-a8d4-eed1d26fe466",
   "metadata": {},
   "source": [
    "* Les répartitions des distributions se ressemblent fortement, il est probable que ces variables soient fortement corrélées entre elles.\n",
    "* Ce serait logique puisque ces dates correspondent à des événement qui s'enchaînent (achat -> validation du paiement -> mise en livraison...)"
   ]
  },
  {
   "cell_type": "markdown",
   "id": "c3f87138-03c6-4d6f-8214-88befca90c4d",
   "metadata": {},
   "source": [
    "### 2.2.2 Table `order_items`"
   ]
  },
  {
   "cell_type": "code",
   "execution_count": null,
   "id": "ef11b134-7f1b-44e8-9915-a348e893ed13",
   "metadata": {},
   "outputs": [],
   "source": [
    "# Affichage de quelques lignes\n",
    "display(df_order_items)"
   ]
  },
  {
   "cell_type": "code",
   "execution_count": null,
   "id": "23da9058-034c-4cc9-b71f-711ed57eb082",
   "metadata": {},
   "outputs": [],
   "source": [
    "# Description des champs de la table\n",
    "display(describe_table('order_items'))"
   ]
  },
  {
   "cell_type": "code",
   "execution_count": null,
   "id": "3981685e-6366-4f38-8bde-e55d698c5ee1",
   "metadata": {},
   "outputs": [],
   "source": [
    "# Description des variables du dataframe\n",
    "display(get_dataframe_infos(df_order_items))"
   ]
  },
  {
   "cell_type": "markdown",
   "id": "72460b79-509a-4dc9-acb2-4edc07b4855d",
   "metadata": {},
   "source": [
    "* Hormis les types, les informations relevées sont strictement identiques👍🏼\n",
    "* Aucune valeur n'est manquante\n",
    "* Les variables `order_id`, `product_id`, `seller_id` et `shipping_limit_date` doivent être converties dans les bons types\n",
    "* Les lignes de commandes correspondant aux commandes supprimées dans la table `orders`, doivent être aussi supprimées"
   ]
  },
  {
   "cell_type": "code",
   "execution_count": null,
   "id": "648c0b17-edf0-4efa-9ddb-09edb2c89045",
   "metadata": {},
   "outputs": [],
   "source": [
    "# Dictionnaire de conversion\n",
    "to_transform = {\n",
    "    'to_string': ['order_id', 'product_id', 'seller_id'],\n",
    "    'to_date': ['shipping_limit_date']\n",
    "}\n",
    "\n",
    "# Conversions\n",
    "df_order_items = transform_data_types(df_order_items, to_transform)"
   ]
  },
  {
   "cell_type": "markdown",
   "id": "b6223900-5466-4dce-bfef-7c3431d4b194",
   "metadata": {},
   "source": [
    "* Vérification des transformations"
   ]
  },
  {
   "cell_type": "code",
   "execution_count": null,
   "id": "7e08ef4c-1e0a-4381-8466-d395d9f7821a",
   "metadata": {},
   "outputs": [],
   "source": [
    "display(get_dataframe_infos(df_order_items))"
   ]
  },
  {
   "cell_type": "markdown",
   "id": "556105ce-d97a-4e46-9f03-151c9610066a",
   "metadata": {},
   "source": [
    "* Suppression des lignes de commandes sans commande"
   ]
  },
  {
   "cell_type": "code",
   "execution_count": null,
   "id": "a775b8ce-4ca6-4b82-ab54-3d926ed814f1",
   "metadata": {},
   "outputs": [],
   "source": [
    "# Récupération des 'order_id' de la table 'orders'\n",
    "valid_order_ids = df_orders['order_id'].unique()"
   ]
  },
  {
   "cell_type": "code",
   "execution_count": null,
   "id": "f2acf591-96e1-40b3-9773-13ff96ca5a8c",
   "metadata": {},
   "outputs": [],
   "source": [
    "# Filtre sur les 'order_id' valides\n",
    "valid_orders_mask = df_order_items['order_id'].isin(valid_order_ids)"
   ]
  },
  {
   "cell_type": "code",
   "execution_count": null,
   "id": "b6b987e8-8485-40ca-800d-14cef576272d",
   "metadata": {},
   "outputs": [],
   "source": [
    "# Suppression des lignes de 'df_order_items' ne correspondant pas à une commande valide dans 'df_orders'\n",
    "df_order_items = df_order_items.loc[valid_orders_mask]"
   ]
  },
  {
   "cell_type": "markdown",
   "id": "4f5ea702-fbaa-458f-b61a-f0db1a94418d",
   "metadata": {},
   "source": [
    "* Mise à jour de la descriptions des variables"
   ]
  },
  {
   "cell_type": "code",
   "execution_count": null,
   "id": "d277502d-00c9-4213-91f8-6a82a59bdc7a",
   "metadata": {},
   "outputs": [],
   "source": [
    "# Description des variables du dataframe\n",
    "display(get_dataframe_infos(df_order_items))"
   ]
  },
  {
   "cell_type": "code",
   "execution_count": null,
   "id": "d4b6a4a3-2c6a-422b-9f4d-a65500ec5d98",
   "metadata": {},
   "outputs": [],
   "source": [
    "# Principales mesures statistiques\n",
    "df_order_items.describe()"
   ]
  },
  {
   "cell_type": "markdown",
   "id": "dfc4571c-01b9-4e6b-884c-af1ee5ebdfce",
   "metadata": {},
   "source": [
    "#### 2.2.2.1 `order_item_id`"
   ]
  },
  {
   "cell_type": "markdown",
   "id": "2b93813e-4d7f-4498-aca7-4769e5f2057e",
   "metadata": {},
   "source": [
    "Cette variable représente le numéro de séquence des produits d'une une commande  \n",
    "Si un même produit est vendu 2 fois dans une même commande, on aura 2 lignes pour ce produit dans `order_items`, avec `order_item_id` allant de 1 à 2  \n",
    "* Exemple :  "
   ]
  },
  {
   "cell_type": "code",
   "execution_count": null,
   "id": "ae675835-102c-467f-9a73-ea1f9eb19a6b",
   "metadata": {},
   "outputs": [],
   "source": [
    "# Récupération d'une commande contenant 3 unités, avec au moins 2 produits différents\n",
    "mask = df_order_items['order_item_id'] == 3\n",
    "three_units_order_id = df_order_items.loc[mask, 'order_id'].to_list()[3]\n",
    "\n",
    "# Affichage des produits de la commande\n",
    "mask = df_order_items['order_id'] == three_units_order_id\n",
    "df_order_items.loc[mask]"
   ]
  },
  {
   "cell_type": "markdown",
   "id": "4e4ca682-edcd-4fcf-af77-3a2ac7c6987b",
   "metadata": {},
   "source": [
    "* Création d'un dataframe regroupant les informations suivantes :\n",
    "   * `order_id`  \n",
    "   * `product_id`\n",
    "   * max(`order_item_id`) : donnera le nombre d'unités achetées du produit\n",
    "   * sum(`price`) : prix total du produit X quantité achetée  \n",
    "   * sum(`freight`) : frais de transport X quantité achetée"
   ]
  },
  {
   "cell_type": "code",
   "execution_count": null,
   "id": "b4269426-363b-4e58-8216-253cd138158a",
   "metadata": {},
   "outputs": [],
   "source": [
    "# Création dataframe 'df_order_products'\n",
    "df_order_products = df_order_items.groupby(['order_id', 'product_id']).agg(\n",
    "    total_units = ('order_item_id', 'count'),  # Nombre total d'unités achetées pour chaque produit\n",
    "    total_price = ('price', 'sum'),          # Prix total pour chaque produit\n",
    "    total_freight = ('freight_value', 'sum') # Frais de transport total pour chaque produit\n",
    ").reset_index()"
   ]
  },
  {
   "cell_type": "code",
   "execution_count": null,
   "id": "c95e117a-b11a-4603-b9fc-8f5540136f9a",
   "metadata": {},
   "outputs": [],
   "source": [
    "# Affichage pour vérification\n",
    "display(df_order_products)"
   ]
  },
  {
   "cell_type": "code",
   "execution_count": null,
   "id": "b4417e7f-cba1-4ba2-a6d6-3b418c576ecc",
   "metadata": {},
   "outputs": [],
   "source": [
    "# Affichage de la commande prise en exemple\n",
    "mask = df_order_products['order_id'] == three_units_order_id\n",
    "df_order_products.loc[mask]"
   ]
  },
  {
   "cell_type": "markdown",
   "id": "ce4db061-1b80-4ad2-95d8-644bc172c084",
   "metadata": {},
   "source": [
    "* Combien de produits différents sont achetés par commande ?\n",
    "* Combien d'unités totales de produits sont achetés par commande ?"
   ]
  },
  {
   "cell_type": "code",
   "execution_count": null,
   "id": "cc8816a3-fb8b-4490-a308-f6692e69d325",
   "metadata": {},
   "outputs": [],
   "source": [
    "# Dataframe d'aggrégation\n",
    "df_order_summary = df_order_products.groupby('order_id').agg(\n",
    "    number_of_product_ids = ('product_id', 'nunique'),  # Compte le nombre unique de product_id par commande\n",
    "    number_of_total_units = ('total_units', 'sum'),     # Somme toutes les unités pour chaque commande\n",
    "    total_price = ('total_price', 'sum'),               # Montant total de la commande, hors frais de livraison\n",
    "    total_freight = ('total_freight', 'sum')            # Montant total des frais de livraison\n",
    ").reset_index()\n",
    "\n",
    "# Noms des features crées\n",
    "df_order_summary.columns = ['order_id', 'number_of_product_ids', 'number_of_total_units', 'total_price', 'total_freight']\n",
    "\n",
    "# Ajout du montant total de la commande\n",
    "df_order_summary['total_order'] = df_order_summary['total_price'] + df_order_summary['total_freight']"
   ]
  },
  {
   "cell_type": "code",
   "execution_count": null,
   "id": "a3a9b4d7-e890-417a-ba75-d54ec4cb6132",
   "metadata": {},
   "outputs": [],
   "source": [
    "# Afficher pour vérification\n",
    "display(df_order_summary)"
   ]
  },
  {
   "cell_type": "code",
   "execution_count": null,
   "id": "63fa9b44-24f7-4715-ac42-fc4a094c8def",
   "metadata": {},
   "outputs": [],
   "source": [
    "# Affichage de la commande prise en exemple\n",
    "mask = df_order_summary['order_id'] == three_units_order_id\n",
    "df_order_summary.loc[mask]"
   ]
  },
  {
   "cell_type": "markdown",
   "id": "2705fa0c-705c-4e56-b86c-92b03e858fd2",
   "metadata": {},
   "source": [
    "* Nombres de produits achetés par commandes (1 produit = 1 `product_id`)"
   ]
  },
  {
   "cell_type": "code",
   "execution_count": null,
   "id": "c7d44e4b-2e0b-4ec6-bb31-ed7d56ac6b98",
   "metadata": {},
   "outputs": [],
   "source": [
    "dft = df_order_summary['number_of_product_ids'].value_counts().to_frame()\n",
    "dft.columns = ['number_of_orders']\n",
    "number_of_products = df_order_summary['number_of_product_ids'].count()\n",
    "dft['%'] = round((dft['number_of_orders'] / number_of_products) * 100, 3).astype(str) + ' %'\n",
    "display(dft)"
   ]
  },
  {
   "cell_type": "markdown",
   "id": "2aa14ec1-b043-4c6a-bcb9-f9067c108501",
   "metadata": {},
   "source": [
    "* La grande majorité des commandes (environ **97 %**) contient **1 seul produit** (même s'il est acheté dans une quantité > 1)\n",
    "* Seulement environ **2.9 %** des commandes contiennent **2 produits**\n",
    "* **Moins de 0.5 %** des commandes incluent **3 produits ou plus**"
   ]
  },
  {
   "cell_type": "markdown",
   "id": "ac508634-91c5-46e6-9878-fe701918ba3a",
   "metadata": {},
   "source": [
    "* Nombres d'articles achetés par commandes (1 article = 1 unité, quelque soit le `product_id`)"
   ]
  },
  {
   "cell_type": "code",
   "execution_count": null,
   "id": "c47d96ba-bd53-470a-bb5c-1d38321b42f8",
   "metadata": {},
   "outputs": [],
   "source": [
    "dft = df_order_summary['number_of_total_units'].value_counts().to_frame()\n",
    "dft.columns = ['number_of_orders']\n",
    "number_of_units = df_order_summary['number_of_total_units'].count()\n",
    "dft['%'] = round((dft['number_of_orders'] / number_of_units) * 100, 3).astype(str) + ' %'\n",
    "display(dft.sort_values(by='number_of_total_units'))"
   ]
  },
  {
   "cell_type": "markdown",
   "id": "3f6f37f5-217b-41e7-b416-7b55b94c3392",
   "metadata": {},
   "source": [
    "* La grande majorité des commandes (environ **90 %**) contient **1 seul articke**  \n",
    "* Seulement environ **8 %** des commandes contiennent **2 articles** (2 produits différents ou un même produit acheté en quantité 2)  \n",
    "* Environ **2.3 %** des commandes incluent **3 articles ou plus**"
   ]
  },
  {
   "cell_type": "markdown",
   "id": "b6fa60e7-07db-4615-80f2-18701c92b3ff",
   "metadata": {},
   "source": [
    "#### 2.2.2.2 `shipping_limit_date`"
   ]
  },
  {
   "cell_type": "markdown",
   "id": "4bc654cd-0bc1-4efc-b0f6-fb58965e0ce7",
   "metadata": {},
   "source": [
    "Date limite à laquelle le vendeur doit remettre la commande au partenaire logistique pour l'expédition"
   ]
  },
  {
   "cell_type": "code",
   "execution_count": null,
   "id": "df90f6e3-1ed4-48ee-826e-c177006618df",
   "metadata": {},
   "outputs": [],
   "source": [
    "# Affichage de la distibution\n",
    "plot_distribution(df_order_items, 'shipping_limit_date', 'Nombre de produits', '', x_tick_angle=45)"
   ]
  },
  {
   "cell_type": "markdown",
   "id": "d531604c-32c7-4456-a981-c0a6eeaf21e8",
   "metadata": {},
   "source": [
    "* Quelle est ce produit qui a une date limite de dépôt chez le livreur en 2020 ?"
   ]
  },
  {
   "cell_type": "code",
   "execution_count": null,
   "id": "1fe6cdd5-0347-4374-9df5-dac7cbc1e7b4",
   "metadata": {},
   "outputs": [],
   "source": [
    "# Affichage dans `order_items`\n",
    "mask = df_order_items['shipping_limit_date'] == df_order_items['shipping_limit_date'].max()\n",
    "df_order_items.loc[mask]"
   ]
  },
  {
   "cell_type": "code",
   "execution_count": null,
   "id": "917c3ed8-1cd6-41d6-b3cd-b06ca9833603",
   "metadata": {},
   "outputs": [],
   "source": [
    "# Affichage dans `orders`\n",
    "weird_product_order_id = df_order_items.loc[mask, 'order_id'].iloc[0]\n",
    "wp_mask = df_orders['order_id'] == weird_product_order_id\n",
    "df_orders.loc[wp_mask]"
   ]
  },
  {
   "cell_type": "markdown",
   "id": "270f2a2d-c27b-45fa-8ed5-ef50666c1e62",
   "metadata": {},
   "source": [
    "* Cette commande a une `shipping_limit_date` à '2020-04-09 **22:35:08**' et un `order_purchase_timestamp` à '2017-05-24 **22:35:08**'\n",
    "* On peut raisonnablement supposer qu'il s'agit d'une erreur de saisie dans la `shipping_limit_date` puisqu'en les heures sont identiques à la seconde près\n",
    "* Ne corriger que l'année mettrait cependant une date d'achat au **24 mai 2017** pour une date limite d'expédition au **9 avril 2017**, ce qui serait incohérent\n",
    "* Sans possibilité d'avoir plus d'information sur la réelle date limite d'expédition, suppression de la commande concernée"
   ]
  },
  {
   "cell_type": "markdown",
   "id": "0ba684b9-779a-4730-9492-3487b4991a0d",
   "metadata": {},
   "source": [
    "* Suppressions dans 'df_orders' et 'df_order_items'"
   ]
  },
  {
   "cell_type": "code",
   "execution_count": null,
   "id": "4c71ade4-f24b-4424-8eb0-60dc3fa2e127",
   "metadata": {},
   "outputs": [],
   "source": [
    "# Suppression dans 'df_orders' et 'df_order_items'\n",
    "df_orders = df_orders[df_orders['order_id'] != weird_product_order_id]\n",
    "df_order_items = df_order_items[df_order_items['order_id'] != weird_product_order_id]"
   ]
  },
  {
   "cell_type": "markdown",
   "id": "f147344c-3a4f-4846-8f75-a3ae26c58763",
   "metadata": {},
   "source": [
    "* Version SQL pour suppression dans les table, commentée volontairement, à mettre en oeuvre si :\n",
    "   * le feature ingineering se fait en SQL  \n",
    "   * après sauvegarde de la BDD"
   ]
  },
  {
   "cell_type": "code",
   "execution_count": null,
   "id": "3be4b2bc-ba37-4ae0-af58-d4f111aa9e9b",
   "metadata": {},
   "outputs": [],
   "source": [
    "# Suppression des tables `orders` et `order_items`\n",
    "# for table_name in ('orders', 'order_items'):\n",
    "#     query = f\"DELETE FROM {table_name} WHERE order_id = '{weid_product_order_id}';\"\n",
    "#     with sqlite3.connect('olist.db') as conn:\n",
    "#         cursor = conn.cursor()\n",
    "#         cursor.execute(query)"
   ]
  },
  {
   "cell_type": "markdown",
   "id": "117c0654-7489-402f-bde6-97f0bc665ccc",
   "metadata": {},
   "source": [
    "* Affichage de la distribution après correction"
   ]
  },
  {
   "cell_type": "code",
   "execution_count": null,
   "id": "aaf8b113-41d1-4272-81bc-db18dcfb0940",
   "metadata": {},
   "outputs": [],
   "source": [
    "# Affichage de la distibution après correction\n",
    "plot_distribution(df_order_items, 'shipping_limit_date', 'Nombre de produits', '', x_tick_angle=45)"
   ]
  },
  {
   "cell_type": "markdown",
   "id": "fc02f1c2-785c-47ac-a244-65afd9cba120",
   "metadata": {},
   "source": [
    "* Cette distribution ressemble logiquement aux distributions des variables `order_purchase_timestamp`, `order_approved_at`, `order_delivered_carrier_date`, `order_delivered_customer_date` et `order_estimated_delivery_date` du dataframes `orders`"
   ]
  },
  {
   "cell_type": "markdown",
   "id": "0a9ee7f9-f6b5-42cf-9cfc-355e915e5451",
   "metadata": {},
   "source": [
    "#### 2.2.2.3 `price`"
   ]
  },
  {
   "cell_type": "markdown",
   "id": "7665f362-68c0-4e37-ba1b-2a3759e4a454",
   "metadata": {},
   "source": [
    "Prix unitaire d'un produit"
   ]
  },
  {
   "cell_type": "markdown",
   "id": "3c7e7433-634f-48f5-9113-7ceaf6f8fa73",
   "metadata": {},
   "source": [
    "* Distribution\n",
    "  * L'affichage de la distribution a peu de sens puisqu'un même produit acheté X fois dans une même commande verra son effectif augmenté de X\n",
    "  * Le boxplot peut cepandant faire apparaître des valeurs extrêmes"
   ]
  },
  {
   "cell_type": "code",
   "execution_count": null,
   "id": "dfb82aa9-44dc-475c-b9e0-331f14e972a8",
   "metadata": {},
   "outputs": [],
   "source": [
    "# Affichage histogramme et boxplot\n",
    "plot_distribution(df_order_items, 'price', 'Reals', \"Nombre d'unités achetés\")"
   ]
  },
  {
   "cell_type": "code",
   "execution_count": null,
   "id": "fa653143-8a38-45e6-92c4-715b1f6213f5",
   "metadata": {},
   "outputs": [],
   "source": [
    "# Principales mesures statistiques\n",
    "df_order_items['price'].to_frame().describe()"
   ]
  },
  {
   "cell_type": "markdown",
   "id": "43184b99-040c-40fb-aef5-11e783b94522",
   "metadata": {},
   "source": [
    "> Sur la période 2016 - 2018, 1 euro valait entre 3.2326 réals au minimum et 4.9181 au maximum  \n",
    "> *(Source : [exchange_rates.org](https://www.exchange-rates.org/fr/historique/eur-brl-2018))*"
   ]
  },
  {
   "cell_type": "markdown",
   "id": "351bf73b-6b75-4158-854d-7c1c4fb0816b",
   "metadata": {},
   "source": [
    "* Prix du produit le plus cher en euros"
   ]
  },
  {
   "cell_type": "code",
   "execution_count": null,
   "id": "02d612d7-8bf3-49c6-815b-566be0030df3",
   "metadata": {},
   "outputs": [],
   "source": [
    "# Calcul du prix du produit le plus cher\n",
    "high_price = df_order_items['price'].max()\n",
    "print(f\"Prix du produit le plus cher : {high_price}\")\n",
    "print(f\"Soit entre {high_price // 4.9181} et {high_price // 3.2326} €\")"
   ]
  },
  {
   "cell_type": "markdown",
   "id": "c595f488-fda3-4ca5-917b-067353d9e070",
   "metadata": {},
   "source": [
    "* Le nom des produits n'étant pas disponible dans la BDD, peu de vérifications sont possibles\n",
    "* Le montant maximum ne semble pas aberrant sur un site de vente en ligne, d'autant plus que la distribution montre un intervalle interquartile étroit, avec une médiane proche de 0"
   ]
  },
  {
   "cell_type": "markdown",
   "id": "384f5aa2-fa49-45d6-bf00-cab1ac54e258",
   "metadata": {},
   "source": [
    "#### 2.2.2.4 `freight_value`"
   ]
  },
  {
   "cell_type": "markdown",
   "id": "3e0a5c1e-6068-4ee6-9204-764f59d4e738",
   "metadata": {},
   "source": [
    "Frais de livraison unitaire d'un produit"
   ]
  },
  {
   "cell_type": "code",
   "execution_count": null,
   "id": "d11b08cc-37b9-4cff-a30b-c8a4cd78f34b",
   "metadata": {},
   "outputs": [],
   "source": [
    "# Affichage histogramme et boxplot\n",
    "plot_distribution(df_order_items, 'freight_value', 'Reals', \"Nombre d'unités achetés\")"
   ]
  },
  {
   "cell_type": "code",
   "execution_count": null,
   "id": "0ff545d9-fac9-46e2-b297-453570605277",
   "metadata": {},
   "outputs": [],
   "source": [
    "# Principales mesures statistiques\n",
    "df_order_items['freight_value'].to_frame().describe()"
   ]
  },
  {
   "cell_type": "markdown",
   "id": "857cd224-e2c9-41f5-98cf-ef34444f3090",
   "metadata": {},
   "source": [
    "* La distribution ressemble logiquement à celle de la variable `price`  \n",
    "* Les montants son logiquement proportionnellement plus faibles"
   ]
  },
  {
   "cell_type": "markdown",
   "id": "0d500863-a293-42b6-b0ce-8bdd4bc614d6",
   "metadata": {},
   "source": [
    "* Certaines commandes ont des frais de livraison à 0"
   ]
  },
  {
   "cell_type": "code",
   "execution_count": null,
   "id": "34d0aae0-a0f8-4e70-889f-7099fad4199f",
   "metadata": {},
   "outputs": [],
   "source": [
    "# Affichage des commandes avec frais de livraison à 0\n",
    "free_freight_value_mask = df_order_items['freight_value'] == 0\n",
    "display(df_order_items.loc[free_freight_value_mask].sort_values('price'))"
   ]
  },
  {
   "cell_type": "code",
   "execution_count": null,
   "id": "f7ecab27-070e-49f6-b897-461da2875bcb",
   "metadata": {},
   "outputs": [],
   "source": [
    "percentage_of_rows = round((len(df_order_items.loc[free_freight_value_mask]) / df_order_items.shape[0]) * 100, 2)\n",
    "print(f\"{percentage_of_rows} % des lignes du dataframe sont concernées\")"
   ]
  },
  {
   "cell_type": "markdown",
   "id": "e621fffc-1df9-4a16-8351-921d8421c744",
   "metadata": {},
   "source": [
    "* Très peu de produits ont bénéficié d'un prix de livraison à 0\n",
    "* L'observation des quelques exemples montre des `product_id` et `seller_id` identiques\n",
    "* Il pourrait s'agir de promotions sur certains produits et/ou des offres de certains vendeurs  \n",
    "* La livraison gratuite est une pratique commerciale courante\n",
    "* Rien d'inquiétant"
   ]
  },
  {
   "cell_type": "markdown",
   "id": "929a13ba-e490-44a7-8e1a-8ec176a708c8",
   "metadata": {},
   "source": [
    "### 2.2.3 Table `order_pymts`"
   ]
  },
  {
   "cell_type": "code",
   "execution_count": null,
   "id": "1d797513-1935-461a-8e24-0b9ff633970d",
   "metadata": {},
   "outputs": [],
   "source": [
    "# Description des champs de la table\n",
    "display(describe_table('order_pymts'))"
   ]
  },
  {
   "cell_type": "code",
   "execution_count": null,
   "id": "5660c81e-a361-4df2-8fae-146958fbfce5",
   "metadata": {},
   "outputs": [],
   "source": [
    "# Description des variables du dataframe\n",
    "display(get_dataframe_infos(df_order_pymts))"
   ]
  },
  {
   "cell_type": "markdown",
   "id": "db798a37-0943-4fdc-abfc-af6fed0765e5",
   "metadata": {},
   "source": [
    "* Hormis les types, les informations relevées sont strictement identiques👍🏼\n",
    "* Aucune valeur n'est manquante👍🏼\n",
    "* Les variables `order_id`, et `payment_type` doivent être converties dans les bons types"
   ]
  },
  {
   "cell_type": "markdown",
   "id": "5c2b38e2-a1e1-4cb1-8d05-f9b9b601e130",
   "metadata": {},
   "source": [
    "* Suppression des commandes supprimées précédemment de `df_orders`"
   ]
  },
  {
   "cell_type": "code",
   "execution_count": null,
   "id": "a9816ec0-795d-4eda-9b4e-419dd72c5534",
   "metadata": {},
   "outputs": [],
   "source": [
    "# Récupération des 'order_id' de la table 'orders'\n",
    "valid_order_ids = df_orders['order_id'].unique()"
   ]
  },
  {
   "cell_type": "code",
   "execution_count": null,
   "id": "07ab9d9d-796d-4745-abc0-9de97ed6e01e",
   "metadata": {},
   "outputs": [],
   "source": [
    "# Filtre sur les 'order_id' valides\n",
    "valid_orders_mask = df_order_pymts['order_id'].isin(valid_order_ids)"
   ]
  },
  {
   "cell_type": "code",
   "execution_count": null,
   "id": "8a3224ba-a3f9-4963-9db2-14152ca36c3e",
   "metadata": {},
   "outputs": [],
   "source": [
    "# Suppression des lignes de 'df_order_pymts' ne correspondant pas à une commande valide dans 'df_orders'\n",
    "df_order_pymts = df_order_pymts.loc[valid_orders_mask]"
   ]
  },
  {
   "cell_type": "markdown",
   "id": "67f98dd2-9472-4d15-aa8c-bdfcd248f7d0",
   "metadata": {},
   "source": [
    "* Transformation des types de données"
   ]
  },
  {
   "cell_type": "code",
   "execution_count": null,
   "id": "cf38efc5-1f2e-4ece-a4f0-7a91eac71b40",
   "metadata": {},
   "outputs": [],
   "source": [
    "# Dictionnaire de conversion\n",
    "to_transform = {'to_string': ['order_id', 'payment_type']}\n",
    "\n",
    "# Conversions\n",
    "df_order_pymts = transform_data_types(df_order_pymts, to_transform)"
   ]
  },
  {
   "cell_type": "code",
   "execution_count": null,
   "id": "e575a42e-1d9a-4561-9040-33b2b244a23a",
   "metadata": {},
   "outputs": [],
   "source": [
    "# Vérification des conversions\n",
    "display(get_dataframe_infos(df_order_pymts))"
   ]
  },
  {
   "cell_type": "code",
   "execution_count": null,
   "id": "17240b20-d012-4b28-82b3-556947dc5630",
   "metadata": {},
   "outputs": [],
   "source": [
    "# Affichage de quelques lignes\n",
    "display(df_order_pymts)"
   ]
  },
  {
   "cell_type": "markdown",
   "id": "08237bc7-5689-45f8-bad0-85ae4b3bd2ca",
   "metadata": {},
   "source": [
    "#### 2.2.3.1 `payment_type`"
   ]
  },
  {
   "cell_type": "markdown",
   "id": "8b22bb58-8cab-4629-aa50-15f7d1f32f83",
   "metadata": {},
   "source": [
    "Cette variable indique le moyen de paiement utilisé"
   ]
  },
  {
   "cell_type": "markdown",
   "id": "e4a6d408-2169-43ee-8993-6c76c2596811",
   "metadata": {},
   "source": [
    "* Valeurs uniques"
   ]
  },
  {
   "cell_type": "code",
   "execution_count": null,
   "id": "93f5d173-cf48-47d0-a719-901323141fb4",
   "metadata": {},
   "outputs": [],
   "source": [
    "# Répartition des moyens de paiement utilisés\n",
    "dft = df_order_pymts['payment_type'].value_counts().to_frame()\n",
    "number_of_rows = df_order_pymts.shape[0]\n",
    "dft['%'] = round((dft['count'] / number_of_rows) * 100, 2)\n",
    "dft = dft.reset_index()\n",
    "display(dft)"
   ]
  },
  {
   "cell_type": "code",
   "execution_count": null,
   "id": "bd75ff73-17c1-4b6a-8d13-2fdd6512e954",
   "metadata": {},
   "outputs": [],
   "source": [
    "# Répartition des moyens de paiement utilisés\n",
    "colors = sns.color_palette('pastel')[0:5]\n",
    "plt.title('Répartition des moyens de paiement')\n",
    "plt.pie(dft['count'], labels=dft['payment_type'], colors = colors, autopct='%.2f%%')\n",
    "plt.show()"
   ]
  },
  {
   "cell_type": "markdown",
   "id": "a8ff487f-19c4-41cb-befe-f28df878cfb1",
   "metadata": {},
   "source": [
    "* Attention, si on peut raisonablement estimer que la grande majorité des commandes sont réglées par CB, les pourcentages concernent les **réglements** et non les commandes.\n",
    "* En effet, une commande peut être payée en plusieurs fois et avec plusieurs moyens de règlement\n",
    "* Exemple de la commande d'`order_id` 'ccf804e764ed5650cd8759557269dc13' :"
   ]
  },
  {
   "cell_type": "code",
   "execution_count": null,
   "id": "557d37d7-431e-47d1-8ba4-e0fe52fb38fa",
   "metadata": {},
   "outputs": [],
   "source": [
    "mask = df_order_pymts['order_id'] == 'ccf804e764ed5650cd8759557269dc13'\n",
    "df_order_pymts.loc[mask]"
   ]
  },
  {
   "cell_type": "markdown",
   "id": "1a77f61f-0ee4-4dfc-b356-b1b050e22e91",
   "metadata": {},
   "source": [
    "#### 2.2.3.2 `payment_sequential`"
   ]
  },
  {
   "cell_type": "markdown",
   "id": "69949878-7bd6-4ff5-9798-84af28ca0d36",
   "metadata": {},
   "source": [
    "Cette variable identifie le nombre de méthodes de paiement utilisées pour une seule commande  \n",
    "   * Le client peut utiliser une méthode de paiement différent pour chaque échéance s'il paye en plusieurs fois\n",
    "   * Chaque voucher est considéré comme un moyen de paiement différent (voir exemple précédent)"
   ]
  },
  {
   "cell_type": "markdown",
   "id": "d7f0f53d-7cdd-4482-aaeb-70131c33d446",
   "metadata": {},
   "source": [
    "* Valeurs uniques"
   ]
  },
  {
   "cell_type": "code",
   "execution_count": null,
   "id": "68cb4b2b-182f-408b-a221-efaf3321c8f4",
   "metadata": {},
   "outputs": [],
   "source": [
    "# récupération du nombre de méthodes de paiement par commande\n",
    "dft = df_order_pymts.groupby('order_id').agg(\n",
    "    number_of_payment_methods = ('payment_sequential', 'max')\n",
    ").reset_index()"
   ]
  },
  {
   "cell_type": "code",
   "execution_count": null,
   "id": "8c48a103-8f17-4ff0-9728-4a0f2fcdcf14",
   "metadata": {},
   "outputs": [],
   "source": [
    "dft2 = dft['number_of_payment_methods'].value_counts().to_frame()\n",
    "total = dft2['count'].sum()\n",
    "dft2['%'] = (dft2['count'] / total) * 100\n",
    "dft2 = dft2.reset_index()\n",
    "display(dft2)"
   ]
  },
  {
   "cell_type": "markdown",
   "id": "b021b16c-5dd6-4872-b081-ce228122931d",
   "metadata": {},
   "source": [
    "* La grande majorité des commandes (environ **97 %**) sont payées avec **1 seule méthode de règlement**  \n",
    "* Seulement environ **2,5 %** des commandes sont payées en **2 méthode de réglement**  \n",
    "* Environ **0,6 %** des commandes sont payées avec **3 méthodes de règlement ou plus**\n",
    "* La commande montré en exemple précédemment a été réglée avec **26 méthodes différentes**  "
   ]
  },
  {
   "cell_type": "markdown",
   "id": "f040bbc4-3eb9-45e9-8b23-fb5402a26c27",
   "metadata": {},
   "source": [
    "#### 2.2.3.3 `payment_installments`"
   ]
  },
  {
   "cell_type": "markdown",
   "id": "bfb3c3aa-8d1a-49d2-b41c-1cb296dc2d15",
   "metadata": {},
   "source": [
    "Nombre d'échéances choisies par le client pour payer une commande"
   ]
  },
  {
   "cell_type": "markdown",
   "id": "f448818e-a1c4-4737-a468-9a373aac636e",
   "metadata": {},
   "source": [
    "* Valeurs uniques"
   ]
  },
  {
   "cell_type": "code",
   "execution_count": null,
   "id": "96aa5439-762e-48dd-82f0-14d3f078e0d9",
   "metadata": {},
   "outputs": [],
   "source": [
    "# récupération du nombre d'échéances par commande\n",
    "dft = df_order_pymts.groupby('order_id').agg(\n",
    "    number_of_installments = ('payment_installments', 'max')\n",
    ").reset_index()"
   ]
  },
  {
   "cell_type": "code",
   "execution_count": null,
   "id": "00536117-52cd-4105-9244-d6ae7f955cc1",
   "metadata": {},
   "outputs": [],
   "source": [
    "dft2 = dft['number_of_installments'].value_counts().to_frame()\n",
    "total = dft2['count'].sum()\n",
    "dft2['%'] = (dft2['count'] / total) * 100\n",
    "dft2 = dft2.reset_index().sort_values('number_of_installments')\n",
    "display(dft2)"
   ]
  },
  {
   "cell_type": "code",
   "execution_count": null,
   "id": "62eece32-f54f-4c61-a2ef-416b9944677a",
   "metadata": {},
   "outputs": [],
   "source": [
    "# Barplot de répartition \n",
    "plt.figure(figsize=(8, 4))\n",
    "sns.barplot(data=dft2, x='number_of_installments', y='count')\n",
    "plt.title('Répartition du nombre de commandes par nombre d\\'échéances', pad=10)\n",
    "plt.xlabel('Nombre d\\'échéances')\n",
    "plt.ylabel('Nombre de commandes')\n",
    "plt.show()"
   ]
  },
  {
   "cell_type": "code",
   "execution_count": null,
   "id": "4d1e7dcd-eed2-4389-ae71-f8897e77c63f",
   "metadata": {},
   "outputs": [],
   "source": [
    "# Calcul du pourcentage de commandes payées avec un nombre d'échéances compris entre 2 et 10\n",
    "mask = (dft2['number_of_installments'] >= 2) & ((dft2['number_of_installments'] <= 10))\n",
    "percentage = round(dft2.loc[mask, '%'].sum(), 2)\n",
    "print(f\"{percentage} % des commandes sont payées avec un nombre d'échéances compris entre 2 et 10\")"
   ]
  },
  {
   "cell_type": "markdown",
   "id": "e643a6e5-4be3-44b8-84a2-61d4128e064c",
   "metadata": {},
   "source": [
    "* Le nombre d'échéances va de **0** à **24** : quelles commandes ont 0 échéance ?\n",
    "* **48,5 %** des commandes n'ont pas fait l'objet d'un échéancier (règlement en 1 fois)\n",
    "* **51.14 %** des commandes sont payées avec un nombre d'échéances compris entre 2 et 10"
   ]
  },
  {
   "cell_type": "markdown",
   "id": "b49bd513-26df-40e5-ad3c-121b7366b016",
   "metadata": {},
   "source": [
    "* Quelles sont les commandes avec un nombre d'échéances à 0 ?"
   ]
  },
  {
   "cell_type": "code",
   "execution_count": null,
   "id": "3476b49b-a899-430c-b81c-2d896b81c521",
   "metadata": {},
   "outputs": [],
   "source": [
    "no_payment_installments_mask = df_order_pymts['payment_installments'] == 0\n",
    "no_payment_installments_order_ids = df_order_pymts.loc[no_payment_installments_mask, 'order_id'].to_list()\n",
    "display(df_order_pymts.loc[no_payment_installments_mask])"
   ]
  },
  {
   "cell_type": "markdown",
   "id": "7e49897b-03d5-4f94-a4a6-3eeb620a4871",
   "metadata": {},
   "source": [
    "* Il s'agit probablement d'une erreur de saisie"
   ]
  },
  {
   "cell_type": "code",
   "execution_count": null,
   "id": "db00594f-1dcb-44a3-a54a-b266be9cb655",
   "metadata": {},
   "outputs": [],
   "source": [
    "# Correction\n",
    "df_order_pymts.loc[no_payment_installments_mask, 'payment_installments'] = 1"
   ]
  },
  {
   "cell_type": "code",
   "execution_count": null,
   "id": "dfbe448b-c195-4ba0-b8b3-628943da84c8",
   "metadata": {},
   "outputs": [],
   "source": [
    "# Affichage des commandes concernées pour vérification\n",
    "display(df_order_pymts.loc[no_payment_installments_mask])"
   ]
  },
  {
   "cell_type": "markdown",
   "id": "789754f2-a102-4b50-858f-096f22eb2fb7",
   "metadata": {},
   "source": [
    "### 2.2.4 Table `order_reviews`"
   ]
  },
  {
   "cell_type": "code",
   "execution_count": null,
   "id": "6672450d-d157-440c-82c7-a47a740cc16e",
   "metadata": {},
   "outputs": [],
   "source": [
    "# Description des champs de la table\n",
    "display(describe_table('order_reviews'))"
   ]
  },
  {
   "cell_type": "code",
   "execution_count": null,
   "id": "4c04320f-19fd-4c09-971c-6f27bea5257a",
   "metadata": {},
   "outputs": [],
   "source": [
    "# Description des variables du dataframe\n",
    "display(get_dataframe_infos(df_order_reviews))"
   ]
  },
  {
   "cell_type": "markdown",
   "id": "bb6dc163-bc07-46d3-8f48-00049f81f08e",
   "metadata": {},
   "source": [
    "* Hormis les types, les informations relevées sont strictement identiques👍🏼\n",
    "* **88 %** de `review_comment_title` et **59 %** de `review_comment_message` sont manquants\n",
    "* Les variables doivent être converties dans les bons types"
   ]
  },
  {
   "cell_type": "markdown",
   "id": "969fb27a-5c24-47b6-a4ce-e836f752067f",
   "metadata": {},
   "source": [
    "* Suppression des commandes supprimées précédemment de `df_orders`"
   ]
  },
  {
   "cell_type": "code",
   "execution_count": null,
   "id": "c3d9b21c-4765-4579-aa1f-4b0f53cb886f",
   "metadata": {},
   "outputs": [],
   "source": [
    "# Récupération des 'order_id' de la table 'orders'\n",
    "valid_order_ids = df_orders['order_id'].unique()"
   ]
  },
  {
   "cell_type": "code",
   "execution_count": null,
   "id": "83d05e9b-ae8a-492e-b7ca-99fd849a332e",
   "metadata": {},
   "outputs": [],
   "source": [
    "# Filtre sur les 'order_id' valides\n",
    "valid_orders_mask = df_order_reviews['order_id'].isin(valid_order_ids)"
   ]
  },
  {
   "cell_type": "code",
   "execution_count": null,
   "id": "1fa86ff5-b86b-4bb5-909b-e02c4702c1a4",
   "metadata": {},
   "outputs": [],
   "source": [
    "# Suppression des lignes de 'df_order_pymts' ne correspondant pas à une commande valide dans 'df_orders'\n",
    "df_order_reviews = df_order_reviews.loc[valid_orders_mask]"
   ]
  },
  {
   "cell_type": "markdown",
   "id": "35f1c702-d236-46d3-8b25-93330c44e8ba",
   "metadata": {},
   "source": [
    "* Transformation des types de données"
   ]
  },
  {
   "cell_type": "code",
   "execution_count": null,
   "id": "d45e847f-3c89-4e9a-8a55-3754218302f0",
   "metadata": {},
   "outputs": [],
   "source": [
    "# Dictionnaire de conversion\n",
    "to_transform = {\n",
    "    'to_string': ['review_id', 'order_id','review_comment_title', 'review_comment_message'],\n",
    "    'to_date': ['review_creation_date', 'review_answer_timestamp']\n",
    "}\n",
    "\n",
    "# Conversions\n",
    "df_order_reviews = transform_data_types(df_order_reviews, to_transform)"
   ]
  },
  {
   "cell_type": "code",
   "execution_count": null,
   "id": "54e81dee-d21f-4296-836c-537d9964d145",
   "metadata": {},
   "outputs": [],
   "source": [
    "# Vérification des conversions\n",
    "display(get_dataframe_infos(df_order_reviews))"
   ]
  },
  {
   "cell_type": "code",
   "execution_count": null,
   "id": "2a5afd9c-d33f-4b01-9f35-83d1c83efb71",
   "metadata": {},
   "outputs": [],
   "source": [
    "# Affichage de quelques lignes\n",
    "display(df_order_reviews)"
   ]
  },
  {
   "cell_type": "markdown",
   "id": "11deb7ec-5fbb-47e8-bc58-95d5c6b3c101",
   "metadata": {},
   "source": [
    "#### 2.2.4.1 `review_score`"
   ]
  },
  {
   "cell_type": "markdown",
   "id": "a33a1712-22ee-44a3-bfab-db4985050fe7",
   "metadata": {},
   "source": [
    "Cette variable indique la note de satisfaction (de 1 à 5) donnée par l'acheteur, en réponse à une enquête de satisfaction"
   ]
  },
  {
   "cell_type": "markdown",
   "id": "235695fb-4ce6-4f77-9f0f-73e851fcccb9",
   "metadata": {},
   "source": [
    "* Pourcentage de commandes évaluées"
   ]
  },
  {
   "cell_type": "code",
   "execution_count": null,
   "id": "43b65e41-4ddf-4177-8b40-2b9a7768810b",
   "metadata": {},
   "outputs": [],
   "source": [
    "# Pourcentage de commandes évaluées\n",
    "number_of_orders = df_orders['order_id'].nunique()\n",
    "number_of_evaluated_orders = df_order_reviews['order_id'].nunique()\n",
    "print(f\"Environ {round((number_of_evaluated_orders / number_of_orders) * 100)} % des commandes ont été évaluées par les acheteurs.\")"
   ]
  },
  {
   "cell_type": "markdown",
   "id": "7f79428f-d707-40eb-8f93-c8aa79744711",
   "metadata": {},
   "source": [
    "* Répatition des scores"
   ]
  },
  {
   "cell_type": "code",
   "execution_count": null,
   "id": "03e39bed-c69d-48b0-9551-2244431017ec",
   "metadata": {},
   "outputs": [],
   "source": [
    "# Répartition des review_score\n",
    "dft = df_order_reviews['review_score'].value_counts().to_frame()\n",
    "number_of_rows = df_order_reviews.shape[0]\n",
    "dft['%'] = round((dft['count'] / number_of_rows) * 100, 2)\n",
    "dft = dft.reset_index()\n",
    "display(dft)"
   ]
  },
  {
   "cell_type": "code",
   "execution_count": null,
   "id": "a6462e09-cd00-451e-bd08-5fb691553579",
   "metadata": {},
   "outputs": [],
   "source": [
    "# Répartition des scores\n",
    "colors = sns.color_palette('pastel')[0:5]\n",
    "plt.title('Répartition des scores')\n",
    "plt.pie(dft['count'], labels=dft['review_score'], colors = colors, autopct='%.2f%%')\n",
    "plt.show()"
   ]
  },
  {
   "cell_type": "markdown",
   "id": "5405dd3d-f7a2-48d1-8b8b-f74320ab0f56",
   "metadata": {},
   "source": [
    "***Cette répartition ne tient compte que des commandes évaluées***"
   ]
  },
  {
   "cell_type": "markdown",
   "id": "b2df4546-b670-42e9-8f2b-ff3c67a145a7",
   "metadata": {},
   "source": [
    "#### 2.2.4.2 `review_comment_title`, `review_comment_message`"
   ]
  },
  {
   "cell_type": "markdown",
   "id": "b6121eac-034e-47cc-ba2f-12059bea8833",
   "metadata": {},
   "source": [
    "Titres et commentaires de notation"
   ]
  },
  {
   "cell_type": "markdown",
   "id": "ce9ce05b-cf43-4898-9d4a-e91e2b87191b",
   "metadata": {},
   "source": [
    "* Affichage de quelques exemples"
   ]
  },
  {
   "cell_type": "code",
   "execution_count": null,
   "id": "798ccb5f-e494-4212-b059-82bf9117edb0",
   "metadata": {},
   "outputs": [],
   "source": [
    "mask = (df_order_reviews['review_comment_title'].notna()) & (df_order_reviews['review_comment_message'].notna())\n",
    "display(df_order_reviews.loc[mask])"
   ]
  },
  {
   "cell_type": "markdown",
   "id": "8dc83ab8-8066-4ec3-bb75-f857203a3d20",
   "metadata": {},
   "source": [
    "* Les titres et commentaires sont libres et en portugais\n",
    "* Ces variables ne seront pas utilisées  "
   ]
  },
  {
   "cell_type": "markdown",
   "id": "40f6ab4f-f878-4974-b43c-f326cc64d7eb",
   "metadata": {},
   "source": [
    "#### 2.2.4.3 `review_creation_date`, `review_answer_timestamp`"
   ]
  },
  {
   "cell_type": "markdown",
   "id": "fd2cf8fa-53b6-40ff-b2ca-97390c9ff972",
   "metadata": {},
   "source": [
    "Date d'envoi de l'enquête de satisfaction, date et heure de réponse à l'enquête par le client"
   ]
  },
  {
   "cell_type": "code",
   "execution_count": null,
   "id": "5f71a9fe-7b6a-48c4-b038-77363b06acc9",
   "metadata": {},
   "outputs": [],
   "source": [
    "# Affichage des distibutions\n",
    "plot_distribution(df_order_reviews, 'review_creation_date', 'Nombre d\\'enquêtes de satisfaction', '', x_tick_angle=45)\n",
    "plot_distribution(df_order_reviews, 'review_answer_timestamp', 'Nombre de notations', '', x_tick_angle=45)"
   ]
  },
  {
   "cell_type": "markdown",
   "id": "72076b37-d2f9-4eca-b7a7-5bd628a99928",
   "metadata": {},
   "source": [
    "### 2.2.5 Table `products`"
   ]
  },
  {
   "cell_type": "code",
   "execution_count": null,
   "id": "3627e08f-8efa-43ba-859d-eb0dc2976497",
   "metadata": {},
   "outputs": [],
   "source": [
    "# Description des champs de la table\n",
    "display(describe_table('products'))"
   ]
  },
  {
   "cell_type": "code",
   "execution_count": null,
   "id": "b39f7572-fc4d-4d3e-aa6f-6f1c2813d9f1",
   "metadata": {},
   "outputs": [],
   "source": [
    "# Description des variables du dataframe\n",
    "display(get_dataframe_infos(df_products))"
   ]
  },
  {
   "cell_type": "markdown",
   "id": "28ec889e-2cf2-4d00-8388-abf5a9873b87",
   "metadata": {},
   "source": [
    "* Hormis les types, les informations relevées sont strictement identiques👍🏼\n",
    "* Il manque les noms, catégories, descriptions et nombres de photos de **610** produits"
   ]
  },
  {
   "cell_type": "markdown",
   "id": "9af3f0ca-94e6-4825-aa81-5b0d9a9dfa6e",
   "metadata": {},
   "source": [
    "* Transformation des types de données"
   ]
  },
  {
   "cell_type": "code",
   "execution_count": null,
   "id": "b7499041-f214-48b1-9060-c9b1fa894850",
   "metadata": {},
   "outputs": [],
   "source": [
    "# Dictionnaire de conversion\n",
    "to_transform = {'to_string': ['product_id', 'product_category_name']}\n",
    "\n",
    "# Conversions\n",
    "df_products = transform_data_types(df_products, to_transform)"
   ]
  },
  {
   "cell_type": "code",
   "execution_count": null,
   "id": "b343044b-4cd3-4452-9597-1092ebad8acc",
   "metadata": {},
   "outputs": [],
   "source": [
    "# Vérification des conversions\n",
    "display(get_dataframe_infos(df_products))"
   ]
  },
  {
   "cell_type": "code",
   "execution_count": null,
   "id": "ace4ef05-5c34-4209-97aa-e55443b16db6",
   "metadata": {},
   "outputs": [],
   "source": [
    "# Affichage de quelques lignes\n",
    "display(df_products)"
   ]
  },
  {
   "cell_type": "markdown",
   "id": "5fef9851-afb7-4ae2-bb83-104dcd26ca3a",
   "metadata": {},
   "source": [
    "* Seul le nom de la catégorie peut être pertinent pour l'étude\n",
    "* Ce nom peut être obtenu en anglais via la table `translation`"
   ]
  },
  {
   "cell_type": "markdown",
   "id": "6e42ee79-2715-451e-8932-9565b68f4469",
   "metadata": {},
   "source": [
    "* Récupération de la table `translation`"
   ]
  },
  {
   "cell_type": "code",
   "execution_count": null,
   "id": "250e7b82-2fe0-4e0b-82ab-a4d9fdce887a",
   "metadata": {},
   "outputs": [],
   "source": [
    "# Récupération de tout le contenu de la table translation dans un dataframe\n",
    "df_translation = f_query_result(\"SELECT * FROM translation;\").drop('index', axis=1)"
   ]
  },
  {
   "cell_type": "code",
   "execution_count": null,
   "id": "40a39015-df15-4426-8441-6068274aee17",
   "metadata": {},
   "outputs": [],
   "source": [
    "# Description des champs de la table\n",
    "display(describe_table('translation'))"
   ]
  },
  {
   "cell_type": "markdown",
   "id": "dd772299-2d10-4594-ba83-8f4944066af2",
   "metadata": {},
   "source": [
    "* Ajout de la variable `product_category_name_english` dans le dataframe `df_products`"
   ]
  },
  {
   "cell_type": "code",
   "execution_count": null,
   "id": "54891fa4-927b-4f6f-a7ab-aadf25a96f0d",
   "metadata": {},
   "outputs": [],
   "source": [
    "# Merge des dataframes sur la variable 'product_category_name'\n",
    "df_products = pd.merge(df_products, df_translation, on='product_category_name', how='left')"
   ]
  },
  {
   "cell_type": "code",
   "execution_count": null,
   "id": "f9a87f19-b415-442a-94d1-33ae6471d63c",
   "metadata": {},
   "outputs": [],
   "source": [
    "display(get_dataframe_infos(df_products[['product_category_name', 'product_category_name_english']]))"
   ]
  },
  {
   "cell_type": "markdown",
   "id": "0d8dd1d0-3fa6-4cfd-850d-fd5ce676ebf6",
   "metadata": {},
   "source": [
    "* Affichage des noms de catégories de produits avec `product_category_name` et sans `product_category_name_english` (catégories non traduites)"
   ]
  },
  {
   "cell_type": "code",
   "execution_count": null,
   "id": "13aa1492-ff6f-4b11-96f2-df2150c28f3a",
   "metadata": {},
   "outputs": [],
   "source": [
    "mask = (df_products['product_category_name_english'].isna()) & (df_products['product_category_name'].notna())\n",
    "df_products.loc[mask, 'product_category_name'].unique()"
   ]
  },
  {
   "cell_type": "markdown",
   "id": "f4a51977-b72a-4a68-88e6-804f529c9155",
   "metadata": {},
   "source": [
    "* 'portateis_cozinha_e_preparadores_de_alimentos' peut être traduit en anglais par : 'portable-kitchen-and-food-preparation-devices'"
   ]
  },
  {
   "cell_type": "markdown",
   "id": "8c0e2932-6029-4c0e-87c2-46bc65566258",
   "metadata": {},
   "source": [
    "* Mise à jour des traductions"
   ]
  },
  {
   "cell_type": "code",
   "execution_count": null,
   "id": "0f0b43ff-a6db-44d8-a2d6-39f59c4e4c88",
   "metadata": {},
   "outputs": [],
   "source": [
    "# pc_gamer\n",
    "mask = df_products['product_category_name'] == 'pc_gamer'\n",
    "df_products.loc[mask, 'product_category_name_english'] = 'pc_gamer'"
   ]
  },
  {
   "cell_type": "code",
   "execution_count": null,
   "id": "c708f0e4-0648-49b7-8fa2-d4894bdca6df",
   "metadata": {},
   "outputs": [],
   "source": [
    "# portateis_cozinha_e_preparadores_de_alimentos\n",
    "mask = df_products['product_category_name'] == 'portateis_cozinha_e_preparadores_de_alimentos'\n",
    "df_products.loc[mask, 'product_category_name_english'] = 'portable-kitchen-and-food-preparation-devices'"
   ]
  },
  {
   "cell_type": "code",
   "execution_count": null,
   "id": "7cdb5714-bc33-4fbc-847c-e05fcf97ee58",
   "metadata": {},
   "outputs": [],
   "source": [
    "display(get_dataframe_infos(df_products[['product_category_name', 'product_category_name_english']]))"
   ]
  },
  {
   "cell_type": "markdown",
   "id": "06da067c-2b29-4f4e-884a-96536ddd463f",
   "metadata": {},
   "source": [
    "## 2.3 Analyses bivariées"
   ]
  },
  {
   "cell_type": "markdown",
   "id": "1814df79-6730-4436-9218-d72ab94c52e2",
   "metadata": {},
   "source": [
    "> * Vérifier les relations entre tables : tous les `orders.order_id` ont-ils un `customers.customer_id` correspondant ? ... ... ..."
   ]
  }
 ],
 "metadata": {
  "kernelspec": {
   "display_name": "Python 3 (ipykernel)",
   "language": "python",
   "name": "python3"
  },
  "language_info": {
   "codemirror_mode": {
    "name": "ipython",
    "version": 3
   },
   "file_extension": ".py",
   "mimetype": "text/x-python",
   "name": "python",
   "nbconvert_exporter": "python",
   "pygments_lexer": "ipython3",
   "version": "3.11.8"
  }
 },
 "nbformat": 4,
 "nbformat_minor": 5
}
