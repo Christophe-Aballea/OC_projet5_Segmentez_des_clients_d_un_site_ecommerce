{
 "cells": [
  {
   "cell_type": "markdown",
   "id": "f85c73ed-379c-4e13-b76e-a30c882fbf9b",
   "metadata": {},
   "source": [
    "## <span style=\"color:green\">**Version en cours**</span>"
   ]
  },
  {
   "cell_type": "markdown",
   "id": "b9883035-52f7-49c4-8b77-add837a74210",
   "metadata": {},
   "source": [
    "# Segmentez des clients d'un site e-commerce\n",
    "## Notebook 2 : Feature ingineering\n",
    "OpenClassrooms - Parcours Data Scientist - Projet 05  "
   ]
  },
  {
   "cell_type": "markdown",
   "id": "eefe05a5-3f2d-4e83-9e10-f07db8110246",
   "metadata": {},
   "source": [
    "## Présentation du projet"
   ]
  },
  {
   "cell_type": "markdown",
   "id": "25c91bb2-fbab-4dcb-ae88-b676e5b3d7ae",
   "metadata": {},
   "source": [
    "**Contexte**  \n"
   ]
  },
  {
   "cell_type": "markdown",
   "id": "4d2423a5-c9f1-4c27-aeb3-82e06fb00bb7",
   "metadata": {},
   "source": [
    "* Olist est une entreprise brésilienne qui propose une solution de vente sur les marketplaces en ligne.  \n",
    "* Dans un premier temps il est demandé de réaliser quelques requêtes pour le dashboard à partir de la base de données SQLite d'Olist.  \n",
    "* La mission principale est de fournir aux équipes d'e-commerce d'Olist une **segmentation des clients** qu’elles pourront utiliser au quotidien pour leurs campagnes de communication."
   ]
  },
  {
   "cell_type": "markdown",
   "id": "475b6616-a03d-41fb-81be-6afddf87702d",
   "metadata": {},
   "source": [
    "**Démarche globale**  \n",
    "* Requêtes SQL pour le dashboard (cf Notebook 1)  \n",
    "* **Feature ingineering** : c'est l'objet de ce notebook\n",
    "* Tests de modèles de clustering (Notebook 3)  \n",
    "* Simulation d'un contrat de maintenace (Notebbok 4)  "
   ]
  },
  {
   "cell_type": "markdown",
   "id": "fb3d1fbe-4a89-4efc-bb20-8e1ff26fe994",
   "metadata": {},
   "source": [
    "**Feature ingineering**  \n",
    "* Objectif :\n",
    "   * Préparer un dataset qui servira de base aux algorithmes de clustering testés à l'étape suivante  \n",
    "   * Chaque ligne représentera un client, chaque colonne une feature caractérisant les clients\n",
    "* Préparation des données pour les algorithmes envisagés (KMeans, DBSCAN, Agglomerative Hierarchical Clustering) :\n",
    "   * Élimination des valeurs manquantes\n",
    "   * Traitement des valeurs aberrantes\n",
    "   * Normalisation / standardisation\n",
    "   * Encodage des variables catégorielles\n",
    "* Sélection des features pour réaliser une segmentation des clients de type RFM :\n",
    "   * **R**écence : Nombre de jours écoulés depuis le dernier achat  \n",
    "   * **F**réquence : Nombre total d'achats effectués par un client sur une période donnée  \n",
    "   * **M**ontant : Montant total dépensé par un client sur une période donnée  "
   ]
  },
  {
   "cell_type": "markdown",
   "id": "14455e89-ea28-4542-bc30-ac5b6cbac1ae",
   "metadata": {},
   "source": [
    "## Sommaire  \n",
    "**Préparation de l'environnement**  \n",
    "* Environnement virtuel\n",
    "* Import des modules\n",
    "* Fonctions\n",
    "\n",
    "**Chargement des données**\n",
    "* Schéma relationnel   \n",
    "* Création des dataframes des tables\n",
    "\n",
    "**Création des features**  \n",
    "* Feature `Récence`\n",
    "* Feature `Fréquence`\n",
    "* Feature `Montant`\n",
    "* Création du dataframe `df_features`\n",
    "* Normalisation\n",
    "\n",
    "**Finalisation du dataset**  \n",
    "* Aperçu\n",
    "* Mise en forme\n",
    "* Enregistrement"
   ]
  },
  {
   "cell_type": "markdown",
   "id": "6bd81983-7922-408b-8410-2d10871293f0",
   "metadata": {},
   "source": [
    "# 1 Préparation de l'environnement"
   ]
  },
  {
   "cell_type": "markdown",
   "id": "aca5d398-3f3c-4646-b903-6e54968b30b3",
   "metadata": {},
   "source": [
    "## 1.1 Environnement virtuel"
   ]
  },
  {
   "cell_type": "code",
   "execution_count": 1,
   "id": "0cf1bbd4-94e6-4e68-b02e-077f05cac794",
   "metadata": {},
   "outputs": [
    {
     "name": "stdout",
     "output_type": "stream",
     "text": [
      "Environnement virtuel : C:\\Users\\chrab\\anaconda3\\envs\\opc5\n"
     ]
    }
   ],
   "source": [
    "# Vérification environnement virtuel\n",
    "envs = !conda env list\n",
    "print(f\"Environnement virtuel : {[e for e in envs if '*' in e][0].split('*')[1].strip()}\")"
   ]
  },
  {
   "cell_type": "markdown",
   "id": "b241df5b-4c21-4252-b7c4-b369583a741b",
   "metadata": {},
   "source": [
    "## 1.2 Import des modules"
   ]
  },
  {
   "cell_type": "markdown",
   "id": "0dc3e727-811e-445e-ba55-ca09ceaa6329",
   "metadata": {},
   "source": [
    "* Installation conditionnelle des librairies"
   ]
  },
  {
   "cell_type": "code",
   "execution_count": 2,
   "id": "3b786702-9794-4878-ab90-26e27828a1a2",
   "metadata": {},
   "outputs": [],
   "source": [
    "import sys\n",
    "import subprocess\n",
    "import pkg_resources\n",
    "\n",
    "def install_package(package):\n",
    "    \"\"\"Installe une librairie en mode silencieux si elle n'est pas encore installée\"\"\"\n",
    "    try:\n",
    "        pkg_resources.get_distribution(package)\n",
    "    except pkg_resources.DistributionNotFound:\n",
    "        print(f\"Installation {package}... \", end='')\n",
    "        subprocess.check_call([sys.executable, \"-m\", \"pip\", \"install\", package, \"--quiet\"])\n",
    "        print(f\"Terminé.\")\n",
    "    else:\n",
    "        print(f\"{package} est déjà installé.\")"
   ]
  },
  {
   "cell_type": "code",
   "execution_count": 3,
   "id": "0fc119da-c98d-4a2a-9497-8eb5485e3beb",
   "metadata": {},
   "outputs": [
    {
     "name": "stdout",
     "output_type": "stream",
     "text": [
      "pandas est déjà installé.\n",
      "numpy est déjà installé.\n",
      "matplotlib est déjà installé.\n",
      "seaborn est déjà installé.\n",
      "scikit-learn est déjà installé.\n"
     ]
    }
   ],
   "source": [
    "# Installation des librairies\n",
    "install_package('pandas')\n",
    "install_package('numpy')\n",
    "install_package('matplotlib')\n",
    "install_package('seaborn')\n",
    "install_package('scikit-learn')"
   ]
  },
  {
   "cell_type": "markdown",
   "id": "d0d06c45-9130-41c2-bf38-79212ba5a5e6",
   "metadata": {},
   "source": [
    "* Import des modules"
   ]
  },
  {
   "cell_type": "code",
   "execution_count": 4,
   "id": "ff1a126f-ebe4-4e3e-8def-c6dadae601b0",
   "metadata": {},
   "outputs": [],
   "source": [
    "# Import des modules\n",
    "import os\n",
    "import pandas as pd\n",
    "import numpy as np\n",
    "import sqlite3\n",
    "import matplotlib.pyplot as plt\n",
    "import seaborn as sns\n",
    "from sklearn.preprocessing import StandardScaler, MinMaxScaler"
   ]
  },
  {
   "cell_type": "markdown",
   "id": "4c429f5a-398b-499b-bade-965583bb5c1d",
   "metadata": {},
   "source": [
    "## 1.3 Fonctions"
   ]
  },
  {
   "cell_type": "code",
   "execution_count": 5,
   "id": "392e6df0-3450-45e2-ac4d-ba6134517d50",
   "metadata": {},
   "outputs": [],
   "source": [
    "# Renvoit le résultat d'une requête SQL\n",
    "def query_result(query: str, all_rows: bool=True):\n",
    "    with sqlite3.connect('olist.db') as conn:\n",
    "        cursor = conn.cursor()\n",
    "        cursor.execute(query)\n",
    "        if all_rows:\n",
    "            result = cursor.fetchall()\n",
    "        else:\n",
    "            result = cursor.fetchone()\n",
    "            if len(result) == 1:\n",
    "                result = result[0]\n",
    "    return result"
   ]
  },
  {
   "cell_type": "code",
   "execution_count": 6,
   "id": "e91e3ee8-3618-4dcf-8bc1-465185124cd6",
   "metadata": {},
   "outputs": [],
   "source": [
    "# Renvoit le résultat d'une requête SQL sous forme de dataframe\n",
    "def f_query_result(query: str):\n",
    "    \"\"\"Renvoit un dataframe contenant le résultat de la requête SQL passée en paramètre sous forme d'un string\n",
    "    Le fichier de la BDD SQLite 'olist.db' doit être présent dans le répertoire courant.\n",
    "    \"\"\"\n",
    "    with sqlite3.connect('olist.db') as conn:\n",
    "        df = pd.read_sql_query(query, conn)\n",
    "    return df"
   ]
  },
  {
   "cell_type": "code",
   "execution_count": 7,
   "id": "7aee7880-c058-4e1c-bbf4-2ae3dd7062e3",
   "metadata": {},
   "outputs": [],
   "source": [
    "def create_dataframe_and_csv_if_not_exist_from_table(tablename: str):\n",
    "    \"\"\"Renvoit un dataframe contenant le contenu de la table passée en paramètre sous forme d'un string\n",
    "    - Si le fichier csv de la table df_{tablename}.csv n'existe pas :\n",
    "        * Utilisation de la fonction 'f_query_result' pour récupérer le contenu de la table dans un dataframe\n",
    "        * Enregistrement du fichier csv\n",
    "    - Si le fichier csv existe, lecture de son contenu dans un dataframe\n",
    "    \"\"\"\n",
    "    filename = f\"df_{tablename}.csv\"\n",
    "    if not os.path.exists(filename):\n",
    "        query = f'SELECT * FROM {tablename};'\n",
    "        df = f_query_result(query)\n",
    "        df.drop(columns='index', inplace=True)\n",
    "        df.to_csv(filename, index=False)\n",
    "    else:\n",
    "        df = pd.read_csv(filename)\n",
    "    return df"
   ]
  },
  {
   "cell_type": "code",
   "execution_count": 8,
   "id": "227d042b-06b1-41af-8a07-11a9aef87aa7",
   "metadata": {},
   "outputs": [],
   "source": [
    "# Description des champs d'une table de la BDD SQLite 'olist.db' (à base de requêtes SQL)\n",
    "def describe_table(table_name: str, fields=None):\n",
    "    \"\"\"Examine :\n",
    "       - les champs compris dans la liste 'fields' de la table 'table_name'\n",
    "       - ou tous les champs si 'fields' n'est pas renseigné\n",
    "    Renvoit un dataframe 'df_infos' composé des variables :\n",
    "       - 'Colonne' : nom des variables de df\n",
    "       - 'Type' : type de la colonne\n",
    "       - 'Valeurs uniques' : nombre de valeurs unique de la colonne\n",
    "       - 'Valeurs manquantes' : nombre de valeurs manquantes de la colonne\n",
    "       - '% valeurs manquantes' : pourcentage de valeurs manquantes de la colonne\n",
    "       - 'Doublons' : nombre de valeurs non uniques (doublons) de la colonne\n",
    "    \"\"\"\n",
    "    # Préparation des colonnes du dataframe de descriptions\n",
    "    df_names, df_types, df_unique_values, df_duplicates, df_missing_values, df_percentage_missing = [], [], [], [], [], []\n",
    "    \n",
    "    # Récupération de la liste des champs de la table\n",
    "    pragma = query_result(f\"PRAGMA table_info({table_name});\")\n",
    "    table_fields = [row[1] for row in pragma]\n",
    "\n",
    "    # Constitution de la liste des champs à décrire\n",
    "    if fields is None:\n",
    "        fields = [field for field in table_fields if field != 'index']\n",
    "    elif isinstance(fields, str):\n",
    "        fields = [fields]\n",
    "        \n",
    "    # Récupération/calculs des informations descriptives\n",
    "    total_rows = query_result(f\"SELECT COUNT(*) FROM {table_name};\", False)\n",
    "    for field_index, field_name in enumerate(table_fields):\n",
    "        if field_name in fields:\n",
    "            field_type = pragma[field_index][2]\n",
    "            unique_values = query_result(f\"SELECT COUNT(DISTINCT {field_name}) FROM {table_name};\", False)\n",
    "            non_null_values = query_result(f\"SELECT COUNT({field_name}) FROM {table_name};\", False)\n",
    "            duplicates = non_null_values - unique_values\n",
    "            missing_values = total_rows - non_null_values\n",
    "            percentage_missing = (missing_values / total_rows) * 100 if total_rows > 0 else 0\n",
    "            percentage_missing = str(round(percentage_missing, 2)) + ' %'\n",
    "\n",
    "            df_names.append(field_name)\n",
    "            df_types.append(field_type)\n",
    "            df_unique_values.append(unique_values)\n",
    "            df_duplicates.append(duplicates)\n",
    "            df_missing_values.append(missing_values)\n",
    "            df_percentage_missing.append(percentage_missing)\n",
    "\n",
    "    # Céation du dataframe de description\n",
    "    df_infos = pd.DataFrame({\n",
    "        'Colonne': df_names,\n",
    "        'Type': df_types,\n",
    "        'Valeurs uniques': df_unique_values,\n",
    "        'Doublons': df_duplicates,\n",
    "        'Valeurs manquantes': df_missing_values,\n",
    "        '% valeurs manquantes': df_percentage_missing\n",
    "    }).reset_index(drop=True)\n",
    "\n",
    "    return df_infos"
   ]
  },
  {
   "cell_type": "code",
   "execution_count": 9,
   "id": "adfdb8ed-b6b9-44d9-9e05-459c810ecbb1",
   "metadata": {},
   "outputs": [],
   "source": [
    "# Description des variables d'un dataframe\n",
    "def get_dataframe_infos(df):\n",
    "    \"\"\"Examine le dataframe (ou la series) 'df' fourni en paramètre et renvoit un dataframe 'df_infos' composé des variables :\n",
    "       - 'Colonne' : nom des variables de df\n",
    "       - 'Type' : type de la colonne\n",
    "       - 'Valeurs uniques' : nombre de valeurs unique de la colonne\n",
    "       - 'Valeurs manquantes' : nombre de valeurs manquantes de la colonne\n",
    "       - '% valeurs manquantes' : pourcentage de valeurs manquantes de la colonne\n",
    "       - 'Doublons' : nombre de valeurs non uniques (doublons) de la colonne\n",
    "    \"\"\"\n",
    "    if isinstance(df, pd.Series):\n",
    "        df = df.to_frame()\n",
    "    number_of_rows = df.shape[0]\n",
    "    col_names = df.columns\n",
    "    col_types = df.dtypes\n",
    "    unique_values = df.nunique()\n",
    "    missing_values = df.isnull().sum()\n",
    "    non_missing_values = number_of_rows - missing_values\n",
    "    duplicate_values = non_missing_values - unique_values\n",
    "\n",
    "    df_infos = pd.DataFrame({\n",
    "        'Colonne': col_names,\n",
    "        'Type': col_types,\n",
    "        'Valeurs uniques': unique_values,\n",
    "        'Doublons': duplicate_values,\n",
    "        'Valeurs manquantes': missing_values,\n",
    "        '% valeurs manquantes': round((missing_values / number_of_rows) * 100, 2).astype(str) + \" %\"\n",
    "    }).reset_index(drop=True)\n",
    "\n",
    "    return df_infos"
   ]
  },
  {
   "cell_type": "code",
   "execution_count": 10,
   "id": "60702da0-cd6c-469d-bbc4-a89d308585d1",
   "metadata": {},
   "outputs": [],
   "source": [
    "# Transforme les types des variables d'un dataframe\n",
    "def transform_data_types(df, transformations):\n",
    "    # Conversion en type string ou category si le nbre de valeurs uniques est faible\n",
    "    if 'to_string' in transformations:\n",
    "        for column in transformations['to_string']:\n",
    "            if df[column].nunique() / len(df[column]) < 0.02:\n",
    "                df[column] = df[column].astype('category')\n",
    "            else:\n",
    "                df[column] = df[column].astype(str)\n",
    "            df[column] = df[column].replace('None', np.nan)\n",
    "    \n",
    "    # Conversion en dates avec gestion NaT\n",
    "    if 'to_date' in transformations:\n",
    "        if len(df[transformations['to_date']].iloc[0]) <= 10 :\n",
    "            for column in transformations['to_date']:\n",
    "                df[column] = pd.to_datetime(df[column], errors='coerce')\n",
    "        else:\n",
    "            for column in transformations['to_date']:\n",
    "                df[column] = pd.to_datetime(df[column], errors='coerce').dt.round('s')\n",
    "   \n",
    "    # Conversion en entier avec gestion NaN\n",
    "    if 'to_integer' in transformations:\n",
    "        for col in transformations['to_integer']:\n",
    "            df[col] = pd.to_numeric(df[col], errors='coerce').astype('Int64')\n",
    "\n",
    "    # Conversion en flottants\n",
    "    if 'to_float' in transformations:\n",
    "        for col in transformations['to_float']:\n",
    "            df[col] = pd.to_numeric(df[col], errors='coerce').astype(float)\n",
    "    \n",
    "    return df"
   ]
  },
  {
   "cell_type": "code",
   "execution_count": 11,
   "id": "56fc029b-d51f-420f-8cbd-15cc98767a09",
   "metadata": {},
   "outputs": [],
   "source": [
    "# Affiche l'histogramme et le boxplot d'une feature\n",
    "def plot_distribution(dataframe, feature, x_label, y_label, x_tick_angle=None):\n",
    "    fig, axs = plt.subplots(2, 1, figsize=(6, 4.5), gridspec_kw={'height_ratios': [3, 1]}, sharex=True)\n",
    "    plt.subplots_adjust(hspace=0.05)  # Ajuste l'espace entre les graphiques\n",
    "    \n",
    "    # Histogramme\n",
    "    sns.histplot(dataframe[feature], bins=50, kde=True, ax=axs[0])\n",
    "    axs[0].set_title(f'Distribution {feature}', pad=10)\n",
    "    axs[0].set_xlabel('')  # Supprime le label de l'axe x pour l'histogramme\n",
    "    axs[0].set_ylabel(y_label)\n",
    "    axs[0].grid(linewidth=0.25)\n",
    "    \n",
    "    # Boxplot\n",
    "    sns.boxplot(x=dataframe[feature], ax=axs[1])\n",
    "    axs[1].set_xlabel(x_label)\n",
    "    axs[1].set_yticks([])  # Supprime les ticks de l'axe y pour le boxplot\n",
    "\n",
    "    if x_tick_angle is not None:\n",
    "        for axis in axs:\n",
    "            for label in axis.get_xticklabels():\n",
    "                label.set_rotation(x_tick_angle)\n",
    "\n",
    "    plt.show()"
   ]
  },
  {
   "cell_type": "markdown",
   "id": "db9d09d6-6f59-4efa-a196-f205d04ed909",
   "metadata": {},
   "source": [
    "# 2 Chargement des données"
   ]
  },
  {
   "cell_type": "markdown",
   "id": "0952d2b8-948b-4cc0-9d77-ab2efc93defd",
   "metadata": {},
   "source": [
    "## 2.1 Schéma relationnel"
   ]
  },
  {
   "cell_type": "markdown",
   "id": "dee3ac09-b0a4-4a6a-aa35-8dfac56d29cf",
   "metadata": {},
   "source": [
    "La réalisation des quelques requêtes pour le dashboard (Notebook 1) a été l'occasion d'étudier les relations entre les tables de la BDD Olist et d'établir le schema relationnel :"
   ]
  },
  {
   "cell_type": "markdown",
   "id": "a364a382-016f-4e50-9186-6ef81d1533b1",
   "metadata": {},
   "source": [
    "![shema relationnel](schema_relationnel_olist.png \"Shéma relationnel BDD olist\")"
   ]
  },
  {
   "cell_type": "markdown",
   "id": "b554dcfd-101d-4813-9ffa-9ae28cd02396",
   "metadata": {},
   "source": [
    "## 2.2 Création des dataframes des tables"
   ]
  },
  {
   "cell_type": "markdown",
   "id": "3a041277-48d6-4848-b36f-6cd4e7b282ce",
   "metadata": {},
   "source": [
    "* Chargement des fichiers csv dans le dataframe correspondant  \n",
    "* Si le fichier csv n'existe pas, il est créé après avoir lu le contenu de la table dans la BDD"
   ]
  },
  {
   "cell_type": "code",
   "execution_count": 12,
   "id": "bb8d9266-1bdc-49a2-96a7-64ba60fdcdaf",
   "metadata": {},
   "outputs": [],
   "source": [
    "df_customers = create_dataframe_and_csv_if_not_exist_from_table('customers')\n",
    "df_orders = create_dataframe_and_csv_if_not_exist_from_table('orders')\n",
    "df_order_pymts = create_dataframe_and_csv_if_not_exist_from_table('order_pymts')\n",
    "df_order_items = create_dataframe_and_csv_if_not_exist_from_table('order_items')\n",
    "df_order_reviews = create_dataframe_and_csv_if_not_exist_from_table('order_reviews')\n",
    "# df_geoloc = create_dataframe_and_csv_if_not_exist_from_table('geoloc')\n",
    "# df_products = create_dataframe_and_csv_if_not_exist_from_table('products')\n",
    "# df_sellers = create_dataframe_and_csv_if_not_exist_from_table('sellers')\n",
    "# df_translation = create_dataframe_and_csv_if_not_exist_from_table('translation')"
   ]
  },
  {
   "cell_type": "markdown",
   "id": "63949266-07bd-4c0f-8100-4ec8ba4f285d",
   "metadata": {},
   "source": [
    "# 3 Création des features"
   ]
  },
  {
   "cell_type": "markdown",
   "id": "e21c4f03-dbf8-4939-872d-a9212988731a",
   "metadata": {},
   "source": [
    "## 3.1 Préparation du dataframe pour les modèles"
   ]
  },
  {
   "cell_type": "markdown",
   "id": "d684b21b-f593-45af-b2cc-b06374059614",
   "metadata": {},
   "source": [
    "* Seuls les clients ayant validé une commande (même si celle-ci n'est pas encore payée ni livrée) seront pris en compte\n",
    "* Le dataframe devra comprendre une ligne par client  \n",
    "* Le champ `customer_unique_id` de la table `customers` identifie les clients de manière unique"
   ]
  },
  {
   "cell_type": "markdown",
   "id": "d00a54c2-6cb2-4b25-b0ae-8974874f2395",
   "metadata": {},
   "source": [
    "* Affichage des informations de la table `customers` :"
   ]
  },
  {
   "cell_type": "code",
   "execution_count": 13,
   "id": "b86faaa7-7ffd-408c-9eaf-698e8835fc2d",
   "metadata": {},
   "outputs": [
    {
     "data": {
      "text/html": [
       "<div>\n",
       "<style scoped>\n",
       "    .dataframe tbody tr th:only-of-type {\n",
       "        vertical-align: middle;\n",
       "    }\n",
       "\n",
       "    .dataframe tbody tr th {\n",
       "        vertical-align: top;\n",
       "    }\n",
       "\n",
       "    .dataframe thead th {\n",
       "        text-align: right;\n",
       "    }\n",
       "</style>\n",
       "<table border=\"1\" class=\"dataframe\">\n",
       "  <thead>\n",
       "    <tr style=\"text-align: right;\">\n",
       "      <th></th>\n",
       "      <th>Colonne</th>\n",
       "      <th>Type</th>\n",
       "      <th>Valeurs uniques</th>\n",
       "      <th>Doublons</th>\n",
       "      <th>Valeurs manquantes</th>\n",
       "      <th>% valeurs manquantes</th>\n",
       "    </tr>\n",
       "  </thead>\n",
       "  <tbody>\n",
       "    <tr>\n",
       "      <th>0</th>\n",
       "      <td>customer_id</td>\n",
       "      <td>TEXT</td>\n",
       "      <td>99441</td>\n",
       "      <td>0</td>\n",
       "      <td>0</td>\n",
       "      <td>0.0 %</td>\n",
       "    </tr>\n",
       "    <tr>\n",
       "      <th>1</th>\n",
       "      <td>customer_unique_id</td>\n",
       "      <td>TEXT</td>\n",
       "      <td>96096</td>\n",
       "      <td>3345</td>\n",
       "      <td>0</td>\n",
       "      <td>0.0 %</td>\n",
       "    </tr>\n",
       "    <tr>\n",
       "      <th>2</th>\n",
       "      <td>customer_zip_code_prefix</td>\n",
       "      <td>BIGINT</td>\n",
       "      <td>14994</td>\n",
       "      <td>84447</td>\n",
       "      <td>0</td>\n",
       "      <td>0.0 %</td>\n",
       "    </tr>\n",
       "    <tr>\n",
       "      <th>3</th>\n",
       "      <td>customer_city</td>\n",
       "      <td>TEXT</td>\n",
       "      <td>4119</td>\n",
       "      <td>95322</td>\n",
       "      <td>0</td>\n",
       "      <td>0.0 %</td>\n",
       "    </tr>\n",
       "    <tr>\n",
       "      <th>4</th>\n",
       "      <td>customer_state</td>\n",
       "      <td>TEXT</td>\n",
       "      <td>27</td>\n",
       "      <td>99414</td>\n",
       "      <td>0</td>\n",
       "      <td>0.0 %</td>\n",
       "    </tr>\n",
       "  </tbody>\n",
       "</table>\n",
       "</div>"
      ],
      "text/plain": [
       "                    Colonne    Type  Valeurs uniques  Doublons  \\\n",
       "0               customer_id    TEXT            99441         0   \n",
       "1        customer_unique_id    TEXT            96096      3345   \n",
       "2  customer_zip_code_prefix  BIGINT            14994     84447   \n",
       "3             customer_city    TEXT             4119     95322   \n",
       "4            customer_state    TEXT               27     99414   \n",
       "\n",
       "   Valeurs manquantes % valeurs manquantes  \n",
       "0                   0                0.0 %  \n",
       "1                   0                0.0 %  \n",
       "2                   0                0.0 %  \n",
       "3                   0                0.0 %  \n",
       "4                   0                0.0 %  "
      ]
     },
     "metadata": {},
     "output_type": "display_data"
    }
   ],
   "source": [
    "# Version table SQLite\n",
    "display(describe_table('customers'))"
   ]
  },
  {
   "cell_type": "code",
   "execution_count": 14,
   "id": "4ba9194f-6a46-42bc-9d32-56be1f41e30c",
   "metadata": {},
   "outputs": [
    {
     "data": {
      "text/html": [
       "<div>\n",
       "<style scoped>\n",
       "    .dataframe tbody tr th:only-of-type {\n",
       "        vertical-align: middle;\n",
       "    }\n",
       "\n",
       "    .dataframe tbody tr th {\n",
       "        vertical-align: top;\n",
       "    }\n",
       "\n",
       "    .dataframe thead th {\n",
       "        text-align: right;\n",
       "    }\n",
       "</style>\n",
       "<table border=\"1\" class=\"dataframe\">\n",
       "  <thead>\n",
       "    <tr style=\"text-align: right;\">\n",
       "      <th></th>\n",
       "      <th>Colonne</th>\n",
       "      <th>Type</th>\n",
       "      <th>Valeurs uniques</th>\n",
       "      <th>Doublons</th>\n",
       "      <th>Valeurs manquantes</th>\n",
       "      <th>% valeurs manquantes</th>\n",
       "    </tr>\n",
       "  </thead>\n",
       "  <tbody>\n",
       "    <tr>\n",
       "      <th>0</th>\n",
       "      <td>customer_id</td>\n",
       "      <td>object</td>\n",
       "      <td>99441</td>\n",
       "      <td>0</td>\n",
       "      <td>0</td>\n",
       "      <td>0.0 %</td>\n",
       "    </tr>\n",
       "    <tr>\n",
       "      <th>1</th>\n",
       "      <td>customer_unique_id</td>\n",
       "      <td>object</td>\n",
       "      <td>96096</td>\n",
       "      <td>3345</td>\n",
       "      <td>0</td>\n",
       "      <td>0.0 %</td>\n",
       "    </tr>\n",
       "    <tr>\n",
       "      <th>2</th>\n",
       "      <td>customer_zip_code_prefix</td>\n",
       "      <td>int64</td>\n",
       "      <td>14994</td>\n",
       "      <td>84447</td>\n",
       "      <td>0</td>\n",
       "      <td>0.0 %</td>\n",
       "    </tr>\n",
       "    <tr>\n",
       "      <th>3</th>\n",
       "      <td>customer_city</td>\n",
       "      <td>object</td>\n",
       "      <td>4119</td>\n",
       "      <td>95322</td>\n",
       "      <td>0</td>\n",
       "      <td>0.0 %</td>\n",
       "    </tr>\n",
       "    <tr>\n",
       "      <th>4</th>\n",
       "      <td>customer_state</td>\n",
       "      <td>object</td>\n",
       "      <td>27</td>\n",
       "      <td>99414</td>\n",
       "      <td>0</td>\n",
       "      <td>0.0 %</td>\n",
       "    </tr>\n",
       "  </tbody>\n",
       "</table>\n",
       "</div>"
      ],
      "text/plain": [
       "                    Colonne    Type  Valeurs uniques  Doublons  \\\n",
       "0               customer_id  object            99441         0   \n",
       "1        customer_unique_id  object            96096      3345   \n",
       "2  customer_zip_code_prefix   int64            14994     84447   \n",
       "3             customer_city  object             4119     95322   \n",
       "4            customer_state  object               27     99414   \n",
       "\n",
       "   Valeurs manquantes % valeurs manquantes  \n",
       "0                   0                0.0 %  \n",
       "1                   0                0.0 %  \n",
       "2                   0                0.0 %  \n",
       "3                   0                0.0 %  \n",
       "4                   0                0.0 %  "
      ]
     },
     "metadata": {},
     "output_type": "display_data"
    }
   ],
   "source": [
    "# Version dataframe pandas\n",
    "display(get_dataframe_infos(df_customers))"
   ]
  },
  {
   "cell_type": "markdown",
   "id": "03cddd37-ead2-43df-8d80-436efa57234e",
   "metadata": {},
   "source": [
    "* Affichage de quelques lignes"
   ]
  },
  {
   "cell_type": "code",
   "execution_count": 15,
   "id": "80403f56-0256-4ec8-9e54-afcb592ff272",
   "metadata": {},
   "outputs": [
    {
     "data": {
      "text/html": [
       "<div>\n",
       "<style scoped>\n",
       "    .dataframe tbody tr th:only-of-type {\n",
       "        vertical-align: middle;\n",
       "    }\n",
       "\n",
       "    .dataframe tbody tr th {\n",
       "        vertical-align: top;\n",
       "    }\n",
       "\n",
       "    .dataframe thead th {\n",
       "        text-align: right;\n",
       "    }\n",
       "</style>\n",
       "<table border=\"1\" class=\"dataframe\">\n",
       "  <thead>\n",
       "    <tr style=\"text-align: right;\">\n",
       "      <th></th>\n",
       "      <th>order_id</th>\n",
       "      <th>customer_id</th>\n",
       "      <th>order_status</th>\n",
       "      <th>order_purchase_timestamp</th>\n",
       "      <th>order_approved_at</th>\n",
       "      <th>order_delivered_carrier_date</th>\n",
       "      <th>order_delivered_customer_date</th>\n",
       "      <th>order_estimated_delivery_date</th>\n",
       "    </tr>\n",
       "  </thead>\n",
       "  <tbody>\n",
       "    <tr>\n",
       "      <th>0</th>\n",
       "      <td>e481f51cbdc54678b7cc49136f2d6af7</td>\n",
       "      <td>9ef432eb6251297304e76186b10a928d</td>\n",
       "      <td>delivered</td>\n",
       "      <td>2017-10-02 10:56:33</td>\n",
       "      <td>2017-10-02 11:07:15</td>\n",
       "      <td>2017-10-04 19:55:00</td>\n",
       "      <td>2017-10-10 21:25:13</td>\n",
       "      <td>2017-10-18 00:00:00</td>\n",
       "    </tr>\n",
       "    <tr>\n",
       "      <th>1</th>\n",
       "      <td>53cdb2fc8bc7dce0b6741e2150273451</td>\n",
       "      <td>b0830fb4747a6c6d20dea0b8c802d7ef</td>\n",
       "      <td>delivered</td>\n",
       "      <td>2018-07-24 20:41:37</td>\n",
       "      <td>2018-07-26 03:24:27</td>\n",
       "      <td>2018-07-26 14:31:00</td>\n",
       "      <td>2018-08-07 15:27:45</td>\n",
       "      <td>2018-08-13 00:00:00</td>\n",
       "    </tr>\n",
       "    <tr>\n",
       "      <th>2</th>\n",
       "      <td>47770eb9100c2d0c44946d9cf07ec65d</td>\n",
       "      <td>41ce2a54c0b03bf3443c3d931a367089</td>\n",
       "      <td>delivered</td>\n",
       "      <td>2018-08-08 08:38:49</td>\n",
       "      <td>2018-08-08 08:55:23</td>\n",
       "      <td>2018-08-08 13:50:00</td>\n",
       "      <td>2018-08-17 18:06:29</td>\n",
       "      <td>2018-09-04 00:00:00</td>\n",
       "    </tr>\n",
       "    <tr>\n",
       "      <th>3</th>\n",
       "      <td>949d5b44dbf5de918fe9c16f97b45f8a</td>\n",
       "      <td>f88197465ea7920adcdbec7375364d82</td>\n",
       "      <td>delivered</td>\n",
       "      <td>2017-11-18 19:28:06</td>\n",
       "      <td>2017-11-18 19:45:59</td>\n",
       "      <td>2017-11-22 13:39:59</td>\n",
       "      <td>2017-12-02 00:28:42</td>\n",
       "      <td>2017-12-15 00:00:00</td>\n",
       "    </tr>\n",
       "    <tr>\n",
       "      <th>4</th>\n",
       "      <td>ad21c59c0840e6cb83a9ceb5573f8159</td>\n",
       "      <td>8ab97904e6daea8866dbdbc4fb7aad2c</td>\n",
       "      <td>delivered</td>\n",
       "      <td>2018-02-13 21:18:39</td>\n",
       "      <td>2018-02-13 22:20:29</td>\n",
       "      <td>2018-02-14 19:46:34</td>\n",
       "      <td>2018-02-16 18:17:02</td>\n",
       "      <td>2018-02-26 00:00:00</td>\n",
       "    </tr>\n",
       "    <tr>\n",
       "      <th>...</th>\n",
       "      <td>...</td>\n",
       "      <td>...</td>\n",
       "      <td>...</td>\n",
       "      <td>...</td>\n",
       "      <td>...</td>\n",
       "      <td>...</td>\n",
       "      <td>...</td>\n",
       "      <td>...</td>\n",
       "    </tr>\n",
       "    <tr>\n",
       "      <th>99436</th>\n",
       "      <td>9c5dedf39a927c1b2549525ed64a053c</td>\n",
       "      <td>39bd1228ee8140590ac3aca26f2dfe00</td>\n",
       "      <td>delivered</td>\n",
       "      <td>2017-03-09 09:54:05</td>\n",
       "      <td>2017-03-09 09:54:05</td>\n",
       "      <td>2017-03-10 11:18:03</td>\n",
       "      <td>2017-03-17 15:08:01</td>\n",
       "      <td>2017-03-28 00:00:00</td>\n",
       "    </tr>\n",
       "    <tr>\n",
       "      <th>99437</th>\n",
       "      <td>63943bddc261676b46f01ca7ac2f7bd8</td>\n",
       "      <td>1fca14ff2861355f6e5f14306ff977a7</td>\n",
       "      <td>delivered</td>\n",
       "      <td>2018-02-06 12:58:58</td>\n",
       "      <td>2018-02-06 13:10:37</td>\n",
       "      <td>2018-02-07 23:22:42</td>\n",
       "      <td>2018-02-28 17:37:56</td>\n",
       "      <td>2018-03-02 00:00:00</td>\n",
       "    </tr>\n",
       "    <tr>\n",
       "      <th>99438</th>\n",
       "      <td>83c1379a015df1e13d02aae0204711ab</td>\n",
       "      <td>1aa71eb042121263aafbe80c1b562c9c</td>\n",
       "      <td>delivered</td>\n",
       "      <td>2017-08-27 14:46:43</td>\n",
       "      <td>2017-08-27 15:04:16</td>\n",
       "      <td>2017-08-28 20:52:26</td>\n",
       "      <td>2017-09-21 11:24:17</td>\n",
       "      <td>2017-09-27 00:00:00</td>\n",
       "    </tr>\n",
       "    <tr>\n",
       "      <th>99439</th>\n",
       "      <td>11c177c8e97725db2631073c19f07b62</td>\n",
       "      <td>b331b74b18dc79bcdf6532d51e1637c1</td>\n",
       "      <td>delivered</td>\n",
       "      <td>2018-01-08 21:28:27</td>\n",
       "      <td>2018-01-08 21:36:21</td>\n",
       "      <td>2018-01-12 15:35:03</td>\n",
       "      <td>2018-01-25 23:32:54</td>\n",
       "      <td>2018-02-15 00:00:00</td>\n",
       "    </tr>\n",
       "    <tr>\n",
       "      <th>99440</th>\n",
       "      <td>66dea50a8b16d9b4dee7af250b4be1a5</td>\n",
       "      <td>edb027a75a1449115f6b43211ae02a24</td>\n",
       "      <td>delivered</td>\n",
       "      <td>2018-03-08 20:57:30</td>\n",
       "      <td>2018-03-09 11:20:28</td>\n",
       "      <td>2018-03-09 22:11:59</td>\n",
       "      <td>2018-03-16 13:08:30</td>\n",
       "      <td>2018-04-03 00:00:00</td>\n",
       "    </tr>\n",
       "  </tbody>\n",
       "</table>\n",
       "<p>99441 rows × 8 columns</p>\n",
       "</div>"
      ],
      "text/plain": [
       "                               order_id                       customer_id  \\\n",
       "0      e481f51cbdc54678b7cc49136f2d6af7  9ef432eb6251297304e76186b10a928d   \n",
       "1      53cdb2fc8bc7dce0b6741e2150273451  b0830fb4747a6c6d20dea0b8c802d7ef   \n",
       "2      47770eb9100c2d0c44946d9cf07ec65d  41ce2a54c0b03bf3443c3d931a367089   \n",
       "3      949d5b44dbf5de918fe9c16f97b45f8a  f88197465ea7920adcdbec7375364d82   \n",
       "4      ad21c59c0840e6cb83a9ceb5573f8159  8ab97904e6daea8866dbdbc4fb7aad2c   \n",
       "...                                 ...                               ...   \n",
       "99436  9c5dedf39a927c1b2549525ed64a053c  39bd1228ee8140590ac3aca26f2dfe00   \n",
       "99437  63943bddc261676b46f01ca7ac2f7bd8  1fca14ff2861355f6e5f14306ff977a7   \n",
       "99438  83c1379a015df1e13d02aae0204711ab  1aa71eb042121263aafbe80c1b562c9c   \n",
       "99439  11c177c8e97725db2631073c19f07b62  b331b74b18dc79bcdf6532d51e1637c1   \n",
       "99440  66dea50a8b16d9b4dee7af250b4be1a5  edb027a75a1449115f6b43211ae02a24   \n",
       "\n",
       "      order_status order_purchase_timestamp    order_approved_at  \\\n",
       "0        delivered      2017-10-02 10:56:33  2017-10-02 11:07:15   \n",
       "1        delivered      2018-07-24 20:41:37  2018-07-26 03:24:27   \n",
       "2        delivered      2018-08-08 08:38:49  2018-08-08 08:55:23   \n",
       "3        delivered      2017-11-18 19:28:06  2017-11-18 19:45:59   \n",
       "4        delivered      2018-02-13 21:18:39  2018-02-13 22:20:29   \n",
       "...            ...                      ...                  ...   \n",
       "99436    delivered      2017-03-09 09:54:05  2017-03-09 09:54:05   \n",
       "99437    delivered      2018-02-06 12:58:58  2018-02-06 13:10:37   \n",
       "99438    delivered      2017-08-27 14:46:43  2017-08-27 15:04:16   \n",
       "99439    delivered      2018-01-08 21:28:27  2018-01-08 21:36:21   \n",
       "99440    delivered      2018-03-08 20:57:30  2018-03-09 11:20:28   \n",
       "\n",
       "      order_delivered_carrier_date order_delivered_customer_date  \\\n",
       "0              2017-10-04 19:55:00           2017-10-10 21:25:13   \n",
       "1              2018-07-26 14:31:00           2018-08-07 15:27:45   \n",
       "2              2018-08-08 13:50:00           2018-08-17 18:06:29   \n",
       "3              2017-11-22 13:39:59           2017-12-02 00:28:42   \n",
       "4              2018-02-14 19:46:34           2018-02-16 18:17:02   \n",
       "...                            ...                           ...   \n",
       "99436          2017-03-10 11:18:03           2017-03-17 15:08:01   \n",
       "99437          2018-02-07 23:22:42           2018-02-28 17:37:56   \n",
       "99438          2017-08-28 20:52:26           2017-09-21 11:24:17   \n",
       "99439          2018-01-12 15:35:03           2018-01-25 23:32:54   \n",
       "99440          2018-03-09 22:11:59           2018-03-16 13:08:30   \n",
       "\n",
       "      order_estimated_delivery_date  \n",
       "0               2017-10-18 00:00:00  \n",
       "1               2018-08-13 00:00:00  \n",
       "2               2018-09-04 00:00:00  \n",
       "3               2017-12-15 00:00:00  \n",
       "4               2018-02-26 00:00:00  \n",
       "...                             ...  \n",
       "99436           2017-03-28 00:00:00  \n",
       "99437           2018-03-02 00:00:00  \n",
       "99438           2017-09-27 00:00:00  \n",
       "99439           2018-02-15 00:00:00  \n",
       "99440           2018-04-03 00:00:00  \n",
       "\n",
       "[99441 rows x 8 columns]"
      ]
     },
     "metadata": {},
     "output_type": "display_data"
    }
   ],
   "source": [
    "display(df_orders)"
   ]
  },
  {
   "cell_type": "markdown",
   "id": "325027f4-a11f-4a4c-a194-6d5f2f7467cb",
   "metadata": {},
   "source": [
    "* Il n'y a pas de données manquantes \n",
    "* Création du dataframe avec les valeurs uniques de `customer_unique_id`"
   ]
  },
  {
   "cell_type": "code",
   "execution_count": 16,
   "id": "d796ee4d-e693-45ca-b3eb-d339040873f5",
   "metadata": {},
   "outputs": [
    {
     "data": {
      "text/html": [
       "<div>\n",
       "<style scoped>\n",
       "    .dataframe tbody tr th:only-of-type {\n",
       "        vertical-align: middle;\n",
       "    }\n",
       "\n",
       "    .dataframe tbody tr th {\n",
       "        vertical-align: top;\n",
       "    }\n",
       "\n",
       "    .dataframe thead th {\n",
       "        text-align: right;\n",
       "    }\n",
       "</style>\n",
       "<table border=\"1\" class=\"dataframe\">\n",
       "  <thead>\n",
       "    <tr style=\"text-align: right;\">\n",
       "      <th></th>\n",
       "      <th>customer_unique_id</th>\n",
       "      <th>nombre_de_commandes_non_validees</th>\n",
       "    </tr>\n",
       "  </thead>\n",
       "  <tbody>\n",
       "  </tbody>\n",
       "</table>\n",
       "</div>"
      ],
      "text/plain": [
       "Empty DataFrame\n",
       "Columns: [customer_unique_id, nombre_de_commandes_non_validees]\n",
       "Index: []"
      ]
     },
     "metadata": {},
     "output_type": "display_data"
    }
   ],
   "source": [
    "# Y-a-t-il des 'customer_unique_id' avec des commandes non validées ?\n",
    "query = \"\"\"SELECT customer_unique_id, COUNT(o.order_id) AS nombre_de_commandes_non_validees\n",
    "FROM customers c\n",
    "LEFT JOIN orders o\n",
    "ON o.customer_id = c.customer_id\n",
    "WHERE order_purchase_timestamp IS NULL\n",
    "GROUP BY customer_unique_id\n",
    "ORDER BY nombre_de_commandes_non_validees;\n",
    "\"\"\"\n",
    "result = f_query_result(query)\n",
    "display(result)"
   ]
  },
  {
   "cell_type": "markdown",
   "id": "91b5ecca-826e-44e3-8cdf-08f00a41999f",
   "metadata": {},
   "source": [
    "* Visiblement, aucun client n'est enregistré s'il n'a pas validé sa commande\n",
    "* Utilisation du champ `customer_unique_id` de la table `customers` comme première colonne du dataframe `df_features`"
   ]
  },
  {
   "cell_type": "code",
   "execution_count": 17,
   "id": "ac36e4f7-2ce1-4834-90ec-f804e055c9be",
   "metadata": {},
   "outputs": [],
   "source": [
    "# Création du dataframe 'df_features'\n",
    "df_features = pd.DataFrame({'customer_id': df_customers['customer_unique_id'].unique()})"
   ]
  },
  {
   "cell_type": "markdown",
   "id": "a1c72959-318f-489f-bc86-12cc645131cb",
   "metadata": {},
   "source": [
    "* Affichage de quelques lignes"
   ]
  },
  {
   "cell_type": "code",
   "execution_count": 18,
   "id": "eb06e5fa-45de-46c9-9902-c512da497f83",
   "metadata": {},
   "outputs": [
    {
     "data": {
      "text/html": [
       "<div>\n",
       "<style scoped>\n",
       "    .dataframe tbody tr th:only-of-type {\n",
       "        vertical-align: middle;\n",
       "    }\n",
       "\n",
       "    .dataframe tbody tr th {\n",
       "        vertical-align: top;\n",
       "    }\n",
       "\n",
       "    .dataframe thead th {\n",
       "        text-align: right;\n",
       "    }\n",
       "</style>\n",
       "<table border=\"1\" class=\"dataframe\">\n",
       "  <thead>\n",
       "    <tr style=\"text-align: right;\">\n",
       "      <th></th>\n",
       "      <th>customer_id</th>\n",
       "    </tr>\n",
       "  </thead>\n",
       "  <tbody>\n",
       "    <tr>\n",
       "      <th>0</th>\n",
       "      <td>861eff4711a542e4b93843c6dd7febb0</td>\n",
       "    </tr>\n",
       "    <tr>\n",
       "      <th>1</th>\n",
       "      <td>290c77bc529b7ac935b93aa66c333dc3</td>\n",
       "    </tr>\n",
       "    <tr>\n",
       "      <th>2</th>\n",
       "      <td>060e732b5b29e8181a18229c7b0b2b5e</td>\n",
       "    </tr>\n",
       "    <tr>\n",
       "      <th>3</th>\n",
       "      <td>259dac757896d24d7702b9acbbff3f3c</td>\n",
       "    </tr>\n",
       "    <tr>\n",
       "      <th>4</th>\n",
       "      <td>345ecd01c38d18a9036ed96c73b8d066</td>\n",
       "    </tr>\n",
       "    <tr>\n",
       "      <th>...</th>\n",
       "      <td>...</td>\n",
       "    </tr>\n",
       "    <tr>\n",
       "      <th>96091</th>\n",
       "      <td>1a29b476fee25c95fbafc67c5ac95cf8</td>\n",
       "    </tr>\n",
       "    <tr>\n",
       "      <th>96092</th>\n",
       "      <td>d52a67c98be1cf6a5c84435bd38d095d</td>\n",
       "    </tr>\n",
       "    <tr>\n",
       "      <th>96093</th>\n",
       "      <td>e9f50caf99f032f0bf3c55141f019d99</td>\n",
       "    </tr>\n",
       "    <tr>\n",
       "      <th>96094</th>\n",
       "      <td>73c2643a0a458b49f58cea58833b192e</td>\n",
       "    </tr>\n",
       "    <tr>\n",
       "      <th>96095</th>\n",
       "      <td>84732c5050c01db9b23e19ba39899398</td>\n",
       "    </tr>\n",
       "  </tbody>\n",
       "</table>\n",
       "<p>96096 rows × 1 columns</p>\n",
       "</div>"
      ],
      "text/plain": [
       "                            customer_id\n",
       "0      861eff4711a542e4b93843c6dd7febb0\n",
       "1      290c77bc529b7ac935b93aa66c333dc3\n",
       "2      060e732b5b29e8181a18229c7b0b2b5e\n",
       "3      259dac757896d24d7702b9acbbff3f3c\n",
       "4      345ecd01c38d18a9036ed96c73b8d066\n",
       "...                                 ...\n",
       "96091  1a29b476fee25c95fbafc67c5ac95cf8\n",
       "96092  d52a67c98be1cf6a5c84435bd38d095d\n",
       "96093  e9f50caf99f032f0bf3c55141f019d99\n",
       "96094  73c2643a0a458b49f58cea58833b192e\n",
       "96095  84732c5050c01db9b23e19ba39899398\n",
       "\n",
       "[96096 rows x 1 columns]"
      ]
     },
     "metadata": {},
     "output_type": "display_data"
    }
   ],
   "source": [
    "display(df_features)"
   ]
  },
  {
   "cell_type": "markdown",
   "id": "b4be34b8-8ef0-4395-8121-6ca87d2c6420",
   "metadata": {},
   "source": [
    "## 3.2 Feature `Récence`"
   ]
  },
  {
   "cell_type": "markdown",
   "id": "a0174c83-5dff-4caf-a76d-4df7c47295ac",
   "metadata": {},
   "source": [
    "* **Récence** : nombre de jours écoulés depuis le dernier achat  \n",
    "* La date de référence sera celle du dernier achat (`orders.order_purchase_timestamp`)  \n",
    "* Une rapide analyse exploratoire de la table `orders` sera réalisée au préalable"
   ]
  },
  {
   "cell_type": "markdown",
   "id": "4bb4742d-002b-4e07-9be7-0feaa8dc871b",
   "metadata": {},
   "source": [
    "### 3.2.1 Analyse de la table `orders`"
   ]
  },
  {
   "cell_type": "markdown",
   "id": "0c7b0d1f-7f3f-4053-9f5d-42a2f4692018",
   "metadata": {},
   "source": [
    "* Affichage des informations de la table `orders` :"
   ]
  },
  {
   "cell_type": "code",
   "execution_count": 19,
   "id": "527e62b5-3332-482e-b83d-b2e4e8fada78",
   "metadata": {},
   "outputs": [
    {
     "data": {
      "text/html": [
       "<div>\n",
       "<style scoped>\n",
       "    .dataframe tbody tr th:only-of-type {\n",
       "        vertical-align: middle;\n",
       "    }\n",
       "\n",
       "    .dataframe tbody tr th {\n",
       "        vertical-align: top;\n",
       "    }\n",
       "\n",
       "    .dataframe thead th {\n",
       "        text-align: right;\n",
       "    }\n",
       "</style>\n",
       "<table border=\"1\" class=\"dataframe\">\n",
       "  <thead>\n",
       "    <tr style=\"text-align: right;\">\n",
       "      <th></th>\n",
       "      <th>Colonne</th>\n",
       "      <th>Type</th>\n",
       "      <th>Valeurs uniques</th>\n",
       "      <th>Doublons</th>\n",
       "      <th>Valeurs manquantes</th>\n",
       "      <th>% valeurs manquantes</th>\n",
       "    </tr>\n",
       "  </thead>\n",
       "  <tbody>\n",
       "    <tr>\n",
       "      <th>0</th>\n",
       "      <td>order_id</td>\n",
       "      <td>TEXT</td>\n",
       "      <td>99441</td>\n",
       "      <td>0</td>\n",
       "      <td>0</td>\n",
       "      <td>0.0 %</td>\n",
       "    </tr>\n",
       "    <tr>\n",
       "      <th>1</th>\n",
       "      <td>customer_id</td>\n",
       "      <td>TEXT</td>\n",
       "      <td>99441</td>\n",
       "      <td>0</td>\n",
       "      <td>0</td>\n",
       "      <td>0.0 %</td>\n",
       "    </tr>\n",
       "    <tr>\n",
       "      <th>2</th>\n",
       "      <td>order_status</td>\n",
       "      <td>TEXT</td>\n",
       "      <td>8</td>\n",
       "      <td>99433</td>\n",
       "      <td>0</td>\n",
       "      <td>0.0 %</td>\n",
       "    </tr>\n",
       "    <tr>\n",
       "      <th>3</th>\n",
       "      <td>order_purchase_timestamp</td>\n",
       "      <td>TEXT</td>\n",
       "      <td>98875</td>\n",
       "      <td>566</td>\n",
       "      <td>0</td>\n",
       "      <td>0.0 %</td>\n",
       "    </tr>\n",
       "    <tr>\n",
       "      <th>4</th>\n",
       "      <td>order_approved_at</td>\n",
       "      <td>TEXT</td>\n",
       "      <td>90733</td>\n",
       "      <td>8548</td>\n",
       "      <td>160</td>\n",
       "      <td>0.16 %</td>\n",
       "    </tr>\n",
       "    <tr>\n",
       "      <th>5</th>\n",
       "      <td>order_delivered_carrier_date</td>\n",
       "      <td>TEXT</td>\n",
       "      <td>81018</td>\n",
       "      <td>16640</td>\n",
       "      <td>1783</td>\n",
       "      <td>1.79 %</td>\n",
       "    </tr>\n",
       "    <tr>\n",
       "      <th>6</th>\n",
       "      <td>order_delivered_customer_date</td>\n",
       "      <td>TEXT</td>\n",
       "      <td>95664</td>\n",
       "      <td>812</td>\n",
       "      <td>2965</td>\n",
       "      <td>2.98 %</td>\n",
       "    </tr>\n",
       "    <tr>\n",
       "      <th>7</th>\n",
       "      <td>order_estimated_delivery_date</td>\n",
       "      <td>TEXT</td>\n",
       "      <td>459</td>\n",
       "      <td>98982</td>\n",
       "      <td>0</td>\n",
       "      <td>0.0 %</td>\n",
       "    </tr>\n",
       "  </tbody>\n",
       "</table>\n",
       "</div>"
      ],
      "text/plain": [
       "                         Colonne  Type  Valeurs uniques  Doublons  \\\n",
       "0                       order_id  TEXT            99441         0   \n",
       "1                    customer_id  TEXT            99441         0   \n",
       "2                   order_status  TEXT                8     99433   \n",
       "3       order_purchase_timestamp  TEXT            98875       566   \n",
       "4              order_approved_at  TEXT            90733      8548   \n",
       "5   order_delivered_carrier_date  TEXT            81018     16640   \n",
       "6  order_delivered_customer_date  TEXT            95664       812   \n",
       "7  order_estimated_delivery_date  TEXT              459     98982   \n",
       "\n",
       "   Valeurs manquantes % valeurs manquantes  \n",
       "0                   0                0.0 %  \n",
       "1                   0                0.0 %  \n",
       "2                   0                0.0 %  \n",
       "3                   0                0.0 %  \n",
       "4                 160               0.16 %  \n",
       "5                1783               1.79 %  \n",
       "6                2965               2.98 %  \n",
       "7                   0                0.0 %  "
      ]
     },
     "metadata": {},
     "output_type": "display_data"
    }
   ],
   "source": [
    "# Version table SQLite\n",
    "display(describe_table('orders'))"
   ]
  },
  {
   "cell_type": "code",
   "execution_count": 20,
   "id": "8daf1614-1c0a-4fa2-b023-f9c7c9a05082",
   "metadata": {},
   "outputs": [
    {
     "data": {
      "text/html": [
       "<div>\n",
       "<style scoped>\n",
       "    .dataframe tbody tr th:only-of-type {\n",
       "        vertical-align: middle;\n",
       "    }\n",
       "\n",
       "    .dataframe tbody tr th {\n",
       "        vertical-align: top;\n",
       "    }\n",
       "\n",
       "    .dataframe thead th {\n",
       "        text-align: right;\n",
       "    }\n",
       "</style>\n",
       "<table border=\"1\" class=\"dataframe\">\n",
       "  <thead>\n",
       "    <tr style=\"text-align: right;\">\n",
       "      <th></th>\n",
       "      <th>Colonne</th>\n",
       "      <th>Type</th>\n",
       "      <th>Valeurs uniques</th>\n",
       "      <th>Doublons</th>\n",
       "      <th>Valeurs manquantes</th>\n",
       "      <th>% valeurs manquantes</th>\n",
       "    </tr>\n",
       "  </thead>\n",
       "  <tbody>\n",
       "    <tr>\n",
       "      <th>0</th>\n",
       "      <td>order_id</td>\n",
       "      <td>object</td>\n",
       "      <td>99441</td>\n",
       "      <td>0</td>\n",
       "      <td>0</td>\n",
       "      <td>0.0 %</td>\n",
       "    </tr>\n",
       "    <tr>\n",
       "      <th>1</th>\n",
       "      <td>customer_id</td>\n",
       "      <td>object</td>\n",
       "      <td>99441</td>\n",
       "      <td>0</td>\n",
       "      <td>0</td>\n",
       "      <td>0.0 %</td>\n",
       "    </tr>\n",
       "    <tr>\n",
       "      <th>2</th>\n",
       "      <td>order_status</td>\n",
       "      <td>object</td>\n",
       "      <td>8</td>\n",
       "      <td>99433</td>\n",
       "      <td>0</td>\n",
       "      <td>0.0 %</td>\n",
       "    </tr>\n",
       "    <tr>\n",
       "      <th>3</th>\n",
       "      <td>order_purchase_timestamp</td>\n",
       "      <td>object</td>\n",
       "      <td>98875</td>\n",
       "      <td>566</td>\n",
       "      <td>0</td>\n",
       "      <td>0.0 %</td>\n",
       "    </tr>\n",
       "    <tr>\n",
       "      <th>4</th>\n",
       "      <td>order_approved_at</td>\n",
       "      <td>object</td>\n",
       "      <td>90733</td>\n",
       "      <td>8548</td>\n",
       "      <td>160</td>\n",
       "      <td>0.16 %</td>\n",
       "    </tr>\n",
       "    <tr>\n",
       "      <th>5</th>\n",
       "      <td>order_delivered_carrier_date</td>\n",
       "      <td>object</td>\n",
       "      <td>81018</td>\n",
       "      <td>16640</td>\n",
       "      <td>1783</td>\n",
       "      <td>1.79 %</td>\n",
       "    </tr>\n",
       "    <tr>\n",
       "      <th>6</th>\n",
       "      <td>order_delivered_customer_date</td>\n",
       "      <td>object</td>\n",
       "      <td>95664</td>\n",
       "      <td>812</td>\n",
       "      <td>2965</td>\n",
       "      <td>2.98 %</td>\n",
       "    </tr>\n",
       "    <tr>\n",
       "      <th>7</th>\n",
       "      <td>order_estimated_delivery_date</td>\n",
       "      <td>object</td>\n",
       "      <td>459</td>\n",
       "      <td>98982</td>\n",
       "      <td>0</td>\n",
       "      <td>0.0 %</td>\n",
       "    </tr>\n",
       "  </tbody>\n",
       "</table>\n",
       "</div>"
      ],
      "text/plain": [
       "                         Colonne    Type  Valeurs uniques  Doublons  \\\n",
       "0                       order_id  object            99441         0   \n",
       "1                    customer_id  object            99441         0   \n",
       "2                   order_status  object                8     99433   \n",
       "3       order_purchase_timestamp  object            98875       566   \n",
       "4              order_approved_at  object            90733      8548   \n",
       "5   order_delivered_carrier_date  object            81018     16640   \n",
       "6  order_delivered_customer_date  object            95664       812   \n",
       "7  order_estimated_delivery_date  object              459     98982   \n",
       "\n",
       "   Valeurs manquantes % valeurs manquantes  \n",
       "0                   0                0.0 %  \n",
       "1                   0                0.0 %  \n",
       "2                   0                0.0 %  \n",
       "3                   0                0.0 %  \n",
       "4                 160               0.16 %  \n",
       "5                1783               1.79 %  \n",
       "6                2965               2.98 %  \n",
       "7                   0                0.0 %  "
      ]
     },
     "metadata": {},
     "output_type": "display_data"
    }
   ],
   "source": [
    "# Version dataframe pandas\n",
    "display(get_dataframe_infos(df_orders))"
   ]
  },
  {
   "cell_type": "markdown",
   "id": "b9d14273-4991-4725-9850-9daf25924a73",
   "metadata": {},
   "source": [
    "* Affichage de quelques lignes"
   ]
  },
  {
   "cell_type": "code",
   "execution_count": 21,
   "id": "30cea7a3-f7a3-4611-afd2-2ca250807c7d",
   "metadata": {},
   "outputs": [
    {
     "data": {
      "text/html": [
       "<div>\n",
       "<style scoped>\n",
       "    .dataframe tbody tr th:only-of-type {\n",
       "        vertical-align: middle;\n",
       "    }\n",
       "\n",
       "    .dataframe tbody tr th {\n",
       "        vertical-align: top;\n",
       "    }\n",
       "\n",
       "    .dataframe thead th {\n",
       "        text-align: right;\n",
       "    }\n",
       "</style>\n",
       "<table border=\"1\" class=\"dataframe\">\n",
       "  <thead>\n",
       "    <tr style=\"text-align: right;\">\n",
       "      <th></th>\n",
       "      <th>order_id</th>\n",
       "      <th>customer_id</th>\n",
       "      <th>order_status</th>\n",
       "      <th>order_purchase_timestamp</th>\n",
       "      <th>order_approved_at</th>\n",
       "      <th>order_delivered_carrier_date</th>\n",
       "      <th>order_delivered_customer_date</th>\n",
       "      <th>order_estimated_delivery_date</th>\n",
       "    </tr>\n",
       "  </thead>\n",
       "  <tbody>\n",
       "    <tr>\n",
       "      <th>0</th>\n",
       "      <td>e481f51cbdc54678b7cc49136f2d6af7</td>\n",
       "      <td>9ef432eb6251297304e76186b10a928d</td>\n",
       "      <td>delivered</td>\n",
       "      <td>2017-10-02 10:56:33</td>\n",
       "      <td>2017-10-02 11:07:15</td>\n",
       "      <td>2017-10-04 19:55:00</td>\n",
       "      <td>2017-10-10 21:25:13</td>\n",
       "      <td>2017-10-18 00:00:00</td>\n",
       "    </tr>\n",
       "    <tr>\n",
       "      <th>1</th>\n",
       "      <td>53cdb2fc8bc7dce0b6741e2150273451</td>\n",
       "      <td>b0830fb4747a6c6d20dea0b8c802d7ef</td>\n",
       "      <td>delivered</td>\n",
       "      <td>2018-07-24 20:41:37</td>\n",
       "      <td>2018-07-26 03:24:27</td>\n",
       "      <td>2018-07-26 14:31:00</td>\n",
       "      <td>2018-08-07 15:27:45</td>\n",
       "      <td>2018-08-13 00:00:00</td>\n",
       "    </tr>\n",
       "    <tr>\n",
       "      <th>2</th>\n",
       "      <td>47770eb9100c2d0c44946d9cf07ec65d</td>\n",
       "      <td>41ce2a54c0b03bf3443c3d931a367089</td>\n",
       "      <td>delivered</td>\n",
       "      <td>2018-08-08 08:38:49</td>\n",
       "      <td>2018-08-08 08:55:23</td>\n",
       "      <td>2018-08-08 13:50:00</td>\n",
       "      <td>2018-08-17 18:06:29</td>\n",
       "      <td>2018-09-04 00:00:00</td>\n",
       "    </tr>\n",
       "    <tr>\n",
       "      <th>3</th>\n",
       "      <td>949d5b44dbf5de918fe9c16f97b45f8a</td>\n",
       "      <td>f88197465ea7920adcdbec7375364d82</td>\n",
       "      <td>delivered</td>\n",
       "      <td>2017-11-18 19:28:06</td>\n",
       "      <td>2017-11-18 19:45:59</td>\n",
       "      <td>2017-11-22 13:39:59</td>\n",
       "      <td>2017-12-02 00:28:42</td>\n",
       "      <td>2017-12-15 00:00:00</td>\n",
       "    </tr>\n",
       "    <tr>\n",
       "      <th>4</th>\n",
       "      <td>ad21c59c0840e6cb83a9ceb5573f8159</td>\n",
       "      <td>8ab97904e6daea8866dbdbc4fb7aad2c</td>\n",
       "      <td>delivered</td>\n",
       "      <td>2018-02-13 21:18:39</td>\n",
       "      <td>2018-02-13 22:20:29</td>\n",
       "      <td>2018-02-14 19:46:34</td>\n",
       "      <td>2018-02-16 18:17:02</td>\n",
       "      <td>2018-02-26 00:00:00</td>\n",
       "    </tr>\n",
       "    <tr>\n",
       "      <th>...</th>\n",
       "      <td>...</td>\n",
       "      <td>...</td>\n",
       "      <td>...</td>\n",
       "      <td>...</td>\n",
       "      <td>...</td>\n",
       "      <td>...</td>\n",
       "      <td>...</td>\n",
       "      <td>...</td>\n",
       "    </tr>\n",
       "    <tr>\n",
       "      <th>99436</th>\n",
       "      <td>9c5dedf39a927c1b2549525ed64a053c</td>\n",
       "      <td>39bd1228ee8140590ac3aca26f2dfe00</td>\n",
       "      <td>delivered</td>\n",
       "      <td>2017-03-09 09:54:05</td>\n",
       "      <td>2017-03-09 09:54:05</td>\n",
       "      <td>2017-03-10 11:18:03</td>\n",
       "      <td>2017-03-17 15:08:01</td>\n",
       "      <td>2017-03-28 00:00:00</td>\n",
       "    </tr>\n",
       "    <tr>\n",
       "      <th>99437</th>\n",
       "      <td>63943bddc261676b46f01ca7ac2f7bd8</td>\n",
       "      <td>1fca14ff2861355f6e5f14306ff977a7</td>\n",
       "      <td>delivered</td>\n",
       "      <td>2018-02-06 12:58:58</td>\n",
       "      <td>2018-02-06 13:10:37</td>\n",
       "      <td>2018-02-07 23:22:42</td>\n",
       "      <td>2018-02-28 17:37:56</td>\n",
       "      <td>2018-03-02 00:00:00</td>\n",
       "    </tr>\n",
       "    <tr>\n",
       "      <th>99438</th>\n",
       "      <td>83c1379a015df1e13d02aae0204711ab</td>\n",
       "      <td>1aa71eb042121263aafbe80c1b562c9c</td>\n",
       "      <td>delivered</td>\n",
       "      <td>2017-08-27 14:46:43</td>\n",
       "      <td>2017-08-27 15:04:16</td>\n",
       "      <td>2017-08-28 20:52:26</td>\n",
       "      <td>2017-09-21 11:24:17</td>\n",
       "      <td>2017-09-27 00:00:00</td>\n",
       "    </tr>\n",
       "    <tr>\n",
       "      <th>99439</th>\n",
       "      <td>11c177c8e97725db2631073c19f07b62</td>\n",
       "      <td>b331b74b18dc79bcdf6532d51e1637c1</td>\n",
       "      <td>delivered</td>\n",
       "      <td>2018-01-08 21:28:27</td>\n",
       "      <td>2018-01-08 21:36:21</td>\n",
       "      <td>2018-01-12 15:35:03</td>\n",
       "      <td>2018-01-25 23:32:54</td>\n",
       "      <td>2018-02-15 00:00:00</td>\n",
       "    </tr>\n",
       "    <tr>\n",
       "      <th>99440</th>\n",
       "      <td>66dea50a8b16d9b4dee7af250b4be1a5</td>\n",
       "      <td>edb027a75a1449115f6b43211ae02a24</td>\n",
       "      <td>delivered</td>\n",
       "      <td>2018-03-08 20:57:30</td>\n",
       "      <td>2018-03-09 11:20:28</td>\n",
       "      <td>2018-03-09 22:11:59</td>\n",
       "      <td>2018-03-16 13:08:30</td>\n",
       "      <td>2018-04-03 00:00:00</td>\n",
       "    </tr>\n",
       "  </tbody>\n",
       "</table>\n",
       "<p>99441 rows × 8 columns</p>\n",
       "</div>"
      ],
      "text/plain": [
       "                               order_id                       customer_id  \\\n",
       "0      e481f51cbdc54678b7cc49136f2d6af7  9ef432eb6251297304e76186b10a928d   \n",
       "1      53cdb2fc8bc7dce0b6741e2150273451  b0830fb4747a6c6d20dea0b8c802d7ef   \n",
       "2      47770eb9100c2d0c44946d9cf07ec65d  41ce2a54c0b03bf3443c3d931a367089   \n",
       "3      949d5b44dbf5de918fe9c16f97b45f8a  f88197465ea7920adcdbec7375364d82   \n",
       "4      ad21c59c0840e6cb83a9ceb5573f8159  8ab97904e6daea8866dbdbc4fb7aad2c   \n",
       "...                                 ...                               ...   \n",
       "99436  9c5dedf39a927c1b2549525ed64a053c  39bd1228ee8140590ac3aca26f2dfe00   \n",
       "99437  63943bddc261676b46f01ca7ac2f7bd8  1fca14ff2861355f6e5f14306ff977a7   \n",
       "99438  83c1379a015df1e13d02aae0204711ab  1aa71eb042121263aafbe80c1b562c9c   \n",
       "99439  11c177c8e97725db2631073c19f07b62  b331b74b18dc79bcdf6532d51e1637c1   \n",
       "99440  66dea50a8b16d9b4dee7af250b4be1a5  edb027a75a1449115f6b43211ae02a24   \n",
       "\n",
       "      order_status order_purchase_timestamp    order_approved_at  \\\n",
       "0        delivered      2017-10-02 10:56:33  2017-10-02 11:07:15   \n",
       "1        delivered      2018-07-24 20:41:37  2018-07-26 03:24:27   \n",
       "2        delivered      2018-08-08 08:38:49  2018-08-08 08:55:23   \n",
       "3        delivered      2017-11-18 19:28:06  2017-11-18 19:45:59   \n",
       "4        delivered      2018-02-13 21:18:39  2018-02-13 22:20:29   \n",
       "...            ...                      ...                  ...   \n",
       "99436    delivered      2017-03-09 09:54:05  2017-03-09 09:54:05   \n",
       "99437    delivered      2018-02-06 12:58:58  2018-02-06 13:10:37   \n",
       "99438    delivered      2017-08-27 14:46:43  2017-08-27 15:04:16   \n",
       "99439    delivered      2018-01-08 21:28:27  2018-01-08 21:36:21   \n",
       "99440    delivered      2018-03-08 20:57:30  2018-03-09 11:20:28   \n",
       "\n",
       "      order_delivered_carrier_date order_delivered_customer_date  \\\n",
       "0              2017-10-04 19:55:00           2017-10-10 21:25:13   \n",
       "1              2018-07-26 14:31:00           2018-08-07 15:27:45   \n",
       "2              2018-08-08 13:50:00           2018-08-17 18:06:29   \n",
       "3              2017-11-22 13:39:59           2017-12-02 00:28:42   \n",
       "4              2018-02-14 19:46:34           2018-02-16 18:17:02   \n",
       "...                            ...                           ...   \n",
       "99436          2017-03-10 11:18:03           2017-03-17 15:08:01   \n",
       "99437          2018-02-07 23:22:42           2018-02-28 17:37:56   \n",
       "99438          2017-08-28 20:52:26           2017-09-21 11:24:17   \n",
       "99439          2018-01-12 15:35:03           2018-01-25 23:32:54   \n",
       "99440          2018-03-09 22:11:59           2018-03-16 13:08:30   \n",
       "\n",
       "      order_estimated_delivery_date  \n",
       "0               2017-10-18 00:00:00  \n",
       "1               2018-08-13 00:00:00  \n",
       "2               2018-09-04 00:00:00  \n",
       "3               2017-12-15 00:00:00  \n",
       "4               2018-02-26 00:00:00  \n",
       "...                             ...  \n",
       "99436           2017-03-28 00:00:00  \n",
       "99437           2018-03-02 00:00:00  \n",
       "99438           2017-09-27 00:00:00  \n",
       "99439           2018-02-15 00:00:00  \n",
       "99440           2018-04-03 00:00:00  \n",
       "\n",
       "[99441 rows x 8 columns]"
      ]
     },
     "metadata": {},
     "output_type": "display_data"
    }
   ],
   "source": [
    "display(df_orders)"
   ]
  },
  {
   "cell_type": "markdown",
   "id": "d4c85b19-2eda-48a3-ba28-79e3962671ce",
   "metadata": {},
   "source": [
    "* Les variables `order_purchase_timestamp`, `order_approved_at`, `order_delivered_carrier_date`, `order_delivered_customer_date`, `order_estimated_delivery_date` doivent être transformées en type `date`  \n",
    "* La variable `order_status` pourra être transformée en type `string`, car la fonction `tansform_data_type()` est prévue pour convertir automatiquement en type `category` lorsque le nombre de modalités est faible  \n",
    "* A noter **160** valeurs manquantes pour la variable `order_approved_at`"
   ]
  },
  {
   "cell_type": "markdown",
   "id": "eac3b074-cd35-45f0-a2f5-6e688279fa05",
   "metadata": {},
   "source": [
    "* Conversions de type"
   ]
  },
  {
   "cell_type": "code",
   "execution_count": 22,
   "id": "181c6d50-b6ba-40f6-a993-b6fa46fb40e2",
   "metadata": {},
   "outputs": [],
   "source": [
    "# Dictionnaire de conversion\n",
    "to_transform = {\n",
    "    'to_string': ['order_id', 'customer_id', 'order_status'],\n",
    "    'to_date': ['order_purchase_timestamp',\n",
    "                'order_approved_at',\n",
    "                'order_delivered_carrier_date',\n",
    "                'order_delivered_customer_date',\n",
    "                'order_estimated_delivery_date']\n",
    "}\n",
    "\n",
    "# Conversions\n",
    "df_orders = transform_data_types(df_orders, to_transform)"
   ]
  },
  {
   "cell_type": "markdown",
   "id": "15fd67e8-2a49-46a3-ba3d-f07831eacbcf",
   "metadata": {},
   "source": [
    "* Vérification des conversions"
   ]
  },
  {
   "cell_type": "code",
   "execution_count": 23,
   "id": "23002a41-4130-4c1a-b117-74db13fbc468",
   "metadata": {},
   "outputs": [
    {
     "data": {
      "text/html": [
       "<div>\n",
       "<style scoped>\n",
       "    .dataframe tbody tr th:only-of-type {\n",
       "        vertical-align: middle;\n",
       "    }\n",
       "\n",
       "    .dataframe tbody tr th {\n",
       "        vertical-align: top;\n",
       "    }\n",
       "\n",
       "    .dataframe thead th {\n",
       "        text-align: right;\n",
       "    }\n",
       "</style>\n",
       "<table border=\"1\" class=\"dataframe\">\n",
       "  <thead>\n",
       "    <tr style=\"text-align: right;\">\n",
       "      <th></th>\n",
       "      <th>Colonne</th>\n",
       "      <th>Type</th>\n",
       "      <th>Valeurs uniques</th>\n",
       "      <th>Doublons</th>\n",
       "      <th>Valeurs manquantes</th>\n",
       "      <th>% valeurs manquantes</th>\n",
       "    </tr>\n",
       "  </thead>\n",
       "  <tbody>\n",
       "    <tr>\n",
       "      <th>0</th>\n",
       "      <td>order_id</td>\n",
       "      <td>object</td>\n",
       "      <td>99441</td>\n",
       "      <td>0</td>\n",
       "      <td>0</td>\n",
       "      <td>0.0 %</td>\n",
       "    </tr>\n",
       "    <tr>\n",
       "      <th>1</th>\n",
       "      <td>customer_id</td>\n",
       "      <td>object</td>\n",
       "      <td>99441</td>\n",
       "      <td>0</td>\n",
       "      <td>0</td>\n",
       "      <td>0.0 %</td>\n",
       "    </tr>\n",
       "    <tr>\n",
       "      <th>2</th>\n",
       "      <td>order_status</td>\n",
       "      <td>category</td>\n",
       "      <td>8</td>\n",
       "      <td>99433</td>\n",
       "      <td>0</td>\n",
       "      <td>0.0 %</td>\n",
       "    </tr>\n",
       "    <tr>\n",
       "      <th>3</th>\n",
       "      <td>order_purchase_timestamp</td>\n",
       "      <td>datetime64[ns]</td>\n",
       "      <td>98875</td>\n",
       "      <td>566</td>\n",
       "      <td>0</td>\n",
       "      <td>0.0 %</td>\n",
       "    </tr>\n",
       "    <tr>\n",
       "      <th>4</th>\n",
       "      <td>order_approved_at</td>\n",
       "      <td>datetime64[ns]</td>\n",
       "      <td>90733</td>\n",
       "      <td>8548</td>\n",
       "      <td>160</td>\n",
       "      <td>0.16 %</td>\n",
       "    </tr>\n",
       "    <tr>\n",
       "      <th>5</th>\n",
       "      <td>order_delivered_carrier_date</td>\n",
       "      <td>datetime64[ns]</td>\n",
       "      <td>81018</td>\n",
       "      <td>16640</td>\n",
       "      <td>1783</td>\n",
       "      <td>1.79 %</td>\n",
       "    </tr>\n",
       "    <tr>\n",
       "      <th>6</th>\n",
       "      <td>order_delivered_customer_date</td>\n",
       "      <td>datetime64[ns]</td>\n",
       "      <td>95664</td>\n",
       "      <td>812</td>\n",
       "      <td>2965</td>\n",
       "      <td>2.98 %</td>\n",
       "    </tr>\n",
       "    <tr>\n",
       "      <th>7</th>\n",
       "      <td>order_estimated_delivery_date</td>\n",
       "      <td>datetime64[ns]</td>\n",
       "      <td>459</td>\n",
       "      <td>98982</td>\n",
       "      <td>0</td>\n",
       "      <td>0.0 %</td>\n",
       "    </tr>\n",
       "  </tbody>\n",
       "</table>\n",
       "</div>"
      ],
      "text/plain": [
       "                         Colonne            Type  Valeurs uniques  Doublons  \\\n",
       "0                       order_id          object            99441         0   \n",
       "1                    customer_id          object            99441         0   \n",
       "2                   order_status        category                8     99433   \n",
       "3       order_purchase_timestamp  datetime64[ns]            98875       566   \n",
       "4              order_approved_at  datetime64[ns]            90733      8548   \n",
       "5   order_delivered_carrier_date  datetime64[ns]            81018     16640   \n",
       "6  order_delivered_customer_date  datetime64[ns]            95664       812   \n",
       "7  order_estimated_delivery_date  datetime64[ns]              459     98982   \n",
       "\n",
       "   Valeurs manquantes % valeurs manquantes  \n",
       "0                   0                0.0 %  \n",
       "1                   0                0.0 %  \n",
       "2                   0                0.0 %  \n",
       "3                   0                0.0 %  \n",
       "4                 160               0.16 %  \n",
       "5                1783               1.79 %  \n",
       "6                2965               2.98 %  \n",
       "7                   0                0.0 %  "
      ]
     },
     "metadata": {},
     "output_type": "display_data"
    }
   ],
   "source": [
    "display(get_dataframe_infos(df_orders))"
   ]
  },
  {
   "cell_type": "markdown",
   "id": "17911f12-6958-4a0e-8694-868e18245bfc",
   "metadata": {},
   "source": [
    "* Distribution et valeurs aberrantes de la variable `order_purchase_timestamp`"
   ]
  },
  {
   "cell_type": "code",
   "execution_count": 24,
   "id": "db6830d4-ba21-4690-82fb-21554124c702",
   "metadata": {},
   "outputs": [
    {
     "data": {
      "image/png": "[encoded data removed]",
      "text/plain": [
       "<Figure size 600x450 with 2 Axes>"
      ]
     },
     "metadata": {},
     "output_type": "display_data"
    }
   ],
   "source": [
    "# Affichage histogramme et boxplot\n",
    "plot_distribution(df_orders, 'order_purchase_timestamp', x_label='', y_label='Nombre de commandes', x_tick_angle=45)"
   ]
  },
  {
   "cell_type": "markdown",
   "id": "c474feb8-4e0b-4c86-9844-5a996c3a144b",
   "metadata": {},
   "source": [
    "* Valeurs aberrantes\n",
    "   * Certaines commandes ont été passées **avant janvier 2017**, or il est précisé :\n",
    "      > *\"Pour cette mission, Olist vous fournit une base de données anonymisée comportant des informations sur l’historique des commandes, les produits achetés, les commentaires de satisfaction, et la localisation des clients **depuis janvier 2017**.\"*  \n",
    "   * Il n'y a pas de valeurs aberrantes en fin de période, dans le sens ou il n'y a pas de dates d'achat après le 3ème quatile + 1.5 x l'IQR, mais on constate **une chute du nombre de commandes**.  "
   ]
  },
  {
   "cell_type": "markdown",
   "id": "a8fb246f-75af-401f-85df-5a1a91958d26",
   "metadata": {},
   "source": [
    "* Les commandes passées avant le 1er janvier 2017 devront être exclues\n",
    "* Quelle que soit la raison de la chute du nombre de commandes en fin de période, il sera préférable d'exclure les données de cette période"
   ]
  },
  {
   "cell_type": "markdown",
   "id": "d078cbdd-3650-4d03-b4a6-c11b518689e8",
   "metadata": {},
   "source": [
    "### 3.2.3 Recherche du dernier mois bien renseigné"
   ]
  },
  {
   "cell_type": "markdown",
   "id": "a353a4f4-ef23-4f83-8703-d294b10a1b1c",
   "metadata": {},
   "source": [
    "* Répartition mensuelles des commandes "
   ]
  },
  {
   "cell_type": "code",
   "execution_count": 25,
   "id": "1ff3a094-7440-4a1f-b39f-0ee6fa14ff7b",
   "metadata": {},
   "outputs": [
    {
     "data": {
      "image/png": "[encoded data removed]",
      "text/plain": [
       "<Figure size 1100x500 with 1 Axes>"
      ]
     },
     "metadata": {},
     "output_type": "display_data"
    }
   ],
   "source": [
    "# Ajout de la colonne 'year_month'\n",
    "df_orders['year_month'] = df_orders['order_purchase_timestamp'].dt.to_period('M')\n",
    "\n",
    "# Nombre de commandes passées pour chaque valeur de 'year_month'\n",
    "df_orders_by_year_month = df_orders.groupby('year_month')['order_id'].count().reset_index()\n",
    "\n",
    "# Affichage barplot\n",
    "plt.figure(figsize=(11, 5))\n",
    "sns.barplot(data=df_orders_by_year_month, x='year_month', y='order_id')\n",
    "plt.xticks(rotation=45)\n",
    "plt.xlabel('Date d\\'achat')\n",
    "plt.ylabel('Nombre de commandes')\n",
    "plt.title('Répartition mensuelle des commandes', pad=10)\n",
    "plt.show()"
   ]
  },
  {
   "cell_type": "markdown",
   "id": "59bfa97d-9cf5-426f-a52d-9ffdd034bb52",
   "metadata": {},
   "source": [
    "* On constate un fort décrochage à partir du mois de septembre 2018"
   ]
  },
  {
   "cell_type": "markdown",
   "id": "172e0535-d7bf-415a-b6eb-bb257a79a889",
   "metadata": {},
   "source": [
    "### 3.2.2 Exclusion des commandes antérieures à janvier 2017 ou postérieures à août 2018"
   ]
  },
  {
   "cell_type": "markdown",
   "id": "ecd5127e-8e12-4e9c-bcc8-79fe055b4fab",
   "metadata": {},
   "source": [
    "**Démarche**  \n",
    "*Les lignes correspondantes aux commandes datées d'avant janvier 2017 ou d'après août 2018 seront supprimées des dataframes*  \n",
    "* Récupération des `order_id` des commandes passées avant janvier 2017 ou après août 2018  \n",
    "* Suppression des reviews dans le dataframe `df_reviews`  \n",
    "* Suppression des réglements dans le dataframe `df_pymts`\n",
    "* Suppression des produits dans le dataframe `df_order_items`\n",
    "* Suppression des clients dans le dataframe `df_customers`  \n",
    "* Suppression des commandes dans le dataframe `df_orders`  \n",
    "* Reconstitution du dataframe `df_features`"
   ]
  },
  {
   "cell_type": "markdown",
   "id": "811a0ed1-0878-4633-bd58-b2a3ed477d47",
   "metadata": {},
   "source": [
    "#### 3.2.2.1 Récupération des `order_id` des commandes passées avant le 1er janvier 2017 ou après le 31 août 2018"
   ]
  },
  {
   "cell_type": "code",
   "execution_count": 26,
   "id": "7d5ae8fe-fe28-441f-b41a-291214e813c1",
   "metadata": {},
   "outputs": [],
   "source": [
    "exclusion_period_mask = (df_orders['order_purchase_timestamp'] < '2017-01-01') | (df_orders['order_purchase_timestamp'] > '2018-08-31')\n",
    "order_ids_to_exclude = df_orders.loc[exclusion_period_mask, 'order_id']"
   ]
  },
  {
   "cell_type": "code",
   "execution_count": 27,
   "id": "bfd609e6-54b4-4a2e-8078-0e03485d6f10",
   "metadata": {},
   "outputs": [
    {
     "name": "stdout",
     "output_type": "stream",
     "text": [
      "350 commandes ont été passées avant janvier 2017 ou après août 2018\n"
     ]
    }
   ],
   "source": [
    "print(f\"{order_ids_to_exclude.shape[0]} commandes ont été passées avant janvier 2017 ou après août 2018\")"
   ]
  },
  {
   "cell_type": "markdown",
   "id": "aa1e3e0c-669d-4125-bf90-2625a9931d71",
   "metadata": {},
   "source": [
    "#### 3.2.2.2 Suppression des reviews dans le dataframe `df_order_reviews`"
   ]
  },
  {
   "cell_type": "code",
   "execution_count": 28,
   "id": "5a9a7a80-f04f-4463-91c3-9fcc826c2954",
   "metadata": {},
   "outputs": [
    {
     "name": "stdout",
     "output_type": "stream",
     "text": [
      "346 reviews ont été supprimées.\n"
     ]
    }
   ],
   "source": [
    "# Nombre de reviews avant\n",
    "number_of_reviews = df_order_reviews.shape[0]\n",
    "\n",
    "# Suppression\n",
    "df_order_reviews = df_order_reviews[~df_order_reviews['order_id'].isin(order_ids_to_exclude)]\n",
    "\n",
    "# Résultat\n",
    "print(f\"{number_of_reviews - df_order_reviews.shape[0]} reviews ont été supprimées.\")"
   ]
  },
  {
   "cell_type": "markdown",
   "id": "0643ca7a-99ea-4c3f-8ea6-661a4ec8a5f3",
   "metadata": {},
   "source": [
    "#### 3.2.2.3 Suppression des réglements dans le dataframe `df_order_pymts`"
   ]
  },
  {
   "cell_type": "code",
   "execution_count": 29,
   "id": "df38c76f-bfd9-4c36-85c8-186ee6f03224",
   "metadata": {},
   "outputs": [
    {
     "name": "stdout",
     "output_type": "stream",
     "text": [
      "367 réglements ont été supprimés.\n"
     ]
    }
   ],
   "source": [
    "# Nombre de réglements avant\n",
    "number_of_payments = df_order_pymts.shape[0]\n",
    "\n",
    "# Suppression\n",
    "df_order_pymts = df_order_pymts[~df_order_pymts['order_id'].isin(order_ids_to_exclude)]\n",
    "\n",
    "# Résultat\n",
    "print(f\"{number_of_payments - df_order_pymts.shape[0]} réglements ont été supprimés.\")"
   ]
  },
  {
   "cell_type": "markdown",
   "id": "cca9cb03-d994-489d-8278-3f3c164e8779",
   "metadata": {},
   "source": [
    "#### 3.2.2.4 Suppression des unités de produits achetés dans le dataframe `df_order_items`"
   ]
  },
  {
   "cell_type": "code",
   "execution_count": 30,
   "id": "7d03fb88-c5d9-43b0-af7d-5d90b597dd24",
   "metadata": {},
   "outputs": [
    {
     "name": "stdout",
     "output_type": "stream",
     "text": [
      "371 unités de produits achetés ont été supprimées.\n"
     ]
    }
   ],
   "source": [
    "# Nombre d'unités de produits avant\n",
    "number_of_order_items = df_order_items.shape[0]\n",
    "\n",
    "# Suppression\n",
    "df_order_items = df_order_items[~df_order_items['order_id'].isin(order_ids_to_exclude)]\n",
    "\n",
    "# Résultat\n",
    "print(f\"{number_of_order_items - df_order_items.shape[0]} unités de produits achetés ont été supprimées.\")"
   ]
  },
  {
   "cell_type": "markdown",
   "id": "46a7eecf-200f-49c3-a3de-1d3ca6d23719",
   "metadata": {},
   "source": [
    "#### 3.2.2.5 Suppression des clients dans le dataframe `df_customers`"
   ]
  },
  {
   "cell_type": "code",
   "execution_count": 31,
   "id": "b3bdf9c7-8a8d-42db-b5ee-745717f4e20d",
   "metadata": {},
   "outputs": [],
   "source": [
    "# Récupération des 'customer_id'\n",
    "customer_ids_to_exclude = df_orders.loc[exclusion_period_mask, 'customer_id']"
   ]
  },
  {
   "cell_type": "code",
   "execution_count": 32,
   "id": "0139a4f6-7081-472f-94f1-e67a348f0f65",
   "metadata": {},
   "outputs": [
    {
     "name": "stdout",
     "output_type": "stream",
     "text": [
      "323 clients ont été supprimées.\n"
     ]
    }
   ],
   "source": [
    "# Nombre clients avant\n",
    "number_of_customers = df_customers['customer_unique_id'].nunique()\n",
    "\n",
    "# Suppression\n",
    "df_customers = df_customers[~df_customers['customer_id'].isin(customer_ids_to_exclude)]\n",
    "\n",
    "# Résultat\n",
    "print(f\"{number_of_customers - df_customers['customer_unique_id'].nunique()} clients ont été supprimées.\")"
   ]
  },
  {
   "cell_type": "markdown",
   "id": "6f3bea8a-ce14-4017-9722-3d85d66cb596",
   "metadata": {},
   "source": [
    "#### 3.2.2.6 Suppression des commandes dans le dataframe `orders`"
   ]
  },
  {
   "cell_type": "code",
   "execution_count": 33,
   "id": "a5d9f1ae-2096-422f-99b3-dfab486a012e",
   "metadata": {},
   "outputs": [
    {
     "name": "stdout",
     "output_type": "stream",
     "text": [
      "350 commandes ont été supprimées.\n"
     ]
    }
   ],
   "source": [
    "# Nombre de commandes avant\n",
    "number_of_orders = df_orders.shape[0]\n",
    "\n",
    "# Suppression\n",
    "df_orders = df_orders.loc[~exclusion_period_mask]\n",
    "\n",
    "# Résultat\n",
    "print(f\"{number_of_orders - df_orders.shape[0]} commandes ont été supprimées.\")"
   ]
  },
  {
   "cell_type": "markdown",
   "id": "fcc541f8-b67b-4973-9dac-860fe25603d0",
   "metadata": {},
   "source": [
    "#### 3.2.2.6 Reconstitution du dataframe `df_features`"
   ]
  },
  {
   "cell_type": "code",
   "execution_count": 34,
   "id": "4a049ac5-da45-4835-8254-9b58be368b32",
   "metadata": {},
   "outputs": [],
   "source": [
    "df_features = pd.DataFrame({'customer_unique_id': df_customers['customer_unique_id'].unique()})"
   ]
  },
  {
   "cell_type": "code",
   "execution_count": 35,
   "id": "d0a9d84f-ac7a-4c15-8f6a-2e084ceb665d",
   "metadata": {},
   "outputs": [
    {
     "data": {
      "text/html": [
       "<div>\n",
       "<style scoped>\n",
       "    .dataframe tbody tr th:only-of-type {\n",
       "        vertical-align: middle;\n",
       "    }\n",
       "\n",
       "    .dataframe tbody tr th {\n",
       "        vertical-align: top;\n",
       "    }\n",
       "\n",
       "    .dataframe thead th {\n",
       "        text-align: right;\n",
       "    }\n",
       "</style>\n",
       "<table border=\"1\" class=\"dataframe\">\n",
       "  <thead>\n",
       "    <tr style=\"text-align: right;\">\n",
       "      <th></th>\n",
       "      <th>customer_unique_id</th>\n",
       "    </tr>\n",
       "  </thead>\n",
       "  <tbody>\n",
       "    <tr>\n",
       "      <th>0</th>\n",
       "      <td>861eff4711a542e4b93843c6dd7febb0</td>\n",
       "    </tr>\n",
       "    <tr>\n",
       "      <th>1</th>\n",
       "      <td>290c77bc529b7ac935b93aa66c333dc3</td>\n",
       "    </tr>\n",
       "    <tr>\n",
       "      <th>2</th>\n",
       "      <td>060e732b5b29e8181a18229c7b0b2b5e</td>\n",
       "    </tr>\n",
       "    <tr>\n",
       "      <th>3</th>\n",
       "      <td>259dac757896d24d7702b9acbbff3f3c</td>\n",
       "    </tr>\n",
       "    <tr>\n",
       "      <th>4</th>\n",
       "      <td>345ecd01c38d18a9036ed96c73b8d066</td>\n",
       "    </tr>\n",
       "    <tr>\n",
       "      <th>...</th>\n",
       "      <td>...</td>\n",
       "    </tr>\n",
       "    <tr>\n",
       "      <th>95768</th>\n",
       "      <td>1a29b476fee25c95fbafc67c5ac95cf8</td>\n",
       "    </tr>\n",
       "    <tr>\n",
       "      <th>95769</th>\n",
       "      <td>d52a67c98be1cf6a5c84435bd38d095d</td>\n",
       "    </tr>\n",
       "    <tr>\n",
       "      <th>95770</th>\n",
       "      <td>e9f50caf99f032f0bf3c55141f019d99</td>\n",
       "    </tr>\n",
       "    <tr>\n",
       "      <th>95771</th>\n",
       "      <td>73c2643a0a458b49f58cea58833b192e</td>\n",
       "    </tr>\n",
       "    <tr>\n",
       "      <th>95772</th>\n",
       "      <td>84732c5050c01db9b23e19ba39899398</td>\n",
       "    </tr>\n",
       "  </tbody>\n",
       "</table>\n",
       "<p>95773 rows × 1 columns</p>\n",
       "</div>"
      ],
      "text/plain": [
       "                     customer_unique_id\n",
       "0      861eff4711a542e4b93843c6dd7febb0\n",
       "1      290c77bc529b7ac935b93aa66c333dc3\n",
       "2      060e732b5b29e8181a18229c7b0b2b5e\n",
       "3      259dac757896d24d7702b9acbbff3f3c\n",
       "4      345ecd01c38d18a9036ed96c73b8d066\n",
       "...                                 ...\n",
       "95768  1a29b476fee25c95fbafc67c5ac95cf8\n",
       "95769  d52a67c98be1cf6a5c84435bd38d095d\n",
       "95770  e9f50caf99f032f0bf3c55141f019d99\n",
       "95771  73c2643a0a458b49f58cea58833b192e\n",
       "95772  84732c5050c01db9b23e19ba39899398\n",
       "\n",
       "[95773 rows x 1 columns]"
      ]
     },
     "metadata": {},
     "output_type": "display_data"
    }
   ],
   "source": [
    "display(df_features)"
   ]
  },
  {
   "cell_type": "markdown",
   "id": "15a3c71e-50d8-457c-8587-3c2c6c844ca4",
   "metadata": {},
   "source": [
    "* La base de données comptabilise **95 773 clients** ayant passé au moins une commande entre janvier 2017 et août 2018."
   ]
  },
  {
   "cell_type": "markdown",
   "id": "c3ebeaf5-b588-43be-ae0b-35e5d8b40fb1",
   "metadata": {},
   "source": [
    "### 3.2.4 Calcul de la feature `Récence`"
   ]
  },
  {
   "cell_type": "code",
   "execution_count": 36,
   "id": "fa859144-0cb6-46a8-9728-0e91c7539d62",
   "metadata": {},
   "outputs": [],
   "source": [
    "# Merge des features 'customer_unique_id' et 'order_purchase_timestamp' \n",
    "df_purchase_timestamp = pd.merge(df_orders[['customer_id', 'order_purchase_timestamp']], df_customers[['customer_id', 'customer_unique_id']], on='customer_id', how='left')"
   ]
  },
  {
   "cell_type": "code",
   "execution_count": 37,
   "id": "309e9b3d-43bf-47a2-adb9-2d776bd379a3",
   "metadata": {},
   "outputs": [],
   "source": [
    "# Récupération de la date de dernier achat de chaque 'customer_unique_id'\n",
    "last_purchase_dates = df_purchase_timestamp.groupby(['customer_unique_id']).agg(\n",
    "    last_purchase_timestamp = ('order_purchase_timestamp', 'max')\n",
    ").reset_index()"
   ]
  },
  {
   "cell_type": "code",
   "execution_count": 38,
   "id": "1251e22c-104c-45a7-b582-1c2f5faff86e",
   "metadata": {},
   "outputs": [],
   "source": [
    "# Conversion de la date de référence au format datetime \"YYYY-MM-DD 00:00:00\"\n",
    "last_order_date = pd.to_datetime('2018-08-31')\n",
    "\n",
    "# Conversion de la date de dernier achat au format datetime \"YYYY-MM-DD 00:00:00\"\n",
    "last_purchase_dates['last_purchase_timestamp'] = last_purchase_dates['last_purchase_timestamp'].dt.normalize()"
   ]
  },
  {
   "cell_type": "code",
   "execution_count": 39,
   "id": "e6a9e7a6-1bd8-4983-baa3-d167184e968f",
   "metadata": {},
   "outputs": [],
   "source": [
    "# Calcul de la feature 'Récence'\n",
    "last_purchase_dates['Récence'] = (last_order_date - last_purchase_dates['last_purchase_timestamp']).dt.days"
   ]
  },
  {
   "cell_type": "code",
   "execution_count": 40,
   "id": "9193e943-2bb0-4bcf-9f99-9ca562276598",
   "metadata": {},
   "outputs": [],
   "source": [
    "# Ajout de la feature 'Récence' au dataframe 'df_features'\n",
    "df_features = pd.merge(df_features, last_purchase_dates[['customer_unique_id', 'Récence']], on='customer_unique_id')"
   ]
  },
  {
   "cell_type": "code",
   "execution_count": 41,
   "id": "d9e1c18f-ac62-444f-8546-2d430f63b9c9",
   "metadata": {},
   "outputs": [
    {
     "data": {
      "text/html": [
       "<div>\n",
       "<style scoped>\n",
       "    .dataframe tbody tr th:only-of-type {\n",
       "        vertical-align: middle;\n",
       "    }\n",
       "\n",
       "    .dataframe tbody tr th {\n",
       "        vertical-align: top;\n",
       "    }\n",
       "\n",
       "    .dataframe thead th {\n",
       "        text-align: right;\n",
       "    }\n",
       "</style>\n",
       "<table border=\"1\" class=\"dataframe\">\n",
       "  <thead>\n",
       "    <tr style=\"text-align: right;\">\n",
       "      <th></th>\n",
       "      <th>customer_unique_id</th>\n",
       "      <th>Récence</th>\n",
       "    </tr>\n",
       "  </thead>\n",
       "  <tbody>\n",
       "    <tr>\n",
       "      <th>22899</th>\n",
       "      <td>3158fc4f60ca92412de397461b64cee3</td>\n",
       "      <td>1</td>\n",
       "    </tr>\n",
       "    <tr>\n",
       "      <th>52025</th>\n",
       "      <td>230a1e9f42924d41f37fd22a1d4a9707</td>\n",
       "      <td>1</td>\n",
       "    </tr>\n",
       "    <tr>\n",
       "      <th>3471</th>\n",
       "      <td>91544d22848a922381b73b5e21ad58ff</td>\n",
       "      <td>1</td>\n",
       "    </tr>\n",
       "    <tr>\n",
       "      <th>30363</th>\n",
       "      <td>eb240714223915add224beff2d844e53</td>\n",
       "      <td>1</td>\n",
       "    </tr>\n",
       "    <tr>\n",
       "      <th>47451</th>\n",
       "      <td>0c6d7218d5f3fa14514fd29865269993</td>\n",
       "      <td>2</td>\n",
       "    </tr>\n",
       "    <tr>\n",
       "      <th>...</th>\n",
       "      <td>...</td>\n",
       "      <td>...</td>\n",
       "    </tr>\n",
       "    <tr>\n",
       "      <th>41083</th>\n",
       "      <td>ef89f6e31311594d74becf9e18c73693</td>\n",
       "      <td>603</td>\n",
       "    </tr>\n",
       "    <tr>\n",
       "      <th>14564</th>\n",
       "      <td>da9c90677b1963eca1cf8a14c338cf6e</td>\n",
       "      <td>603</td>\n",
       "    </tr>\n",
       "    <tr>\n",
       "      <th>41988</th>\n",
       "      <td>29a63a400c3ca9982907ce8de1f19527</td>\n",
       "      <td>603</td>\n",
       "    </tr>\n",
       "    <tr>\n",
       "      <th>18388</th>\n",
       "      <td>d753459418d268407f19b64be28e3c5a</td>\n",
       "      <td>603</td>\n",
       "    </tr>\n",
       "    <tr>\n",
       "      <th>48032</th>\n",
       "      <td>83e7958a94bd7f74a9414d8782f87628</td>\n",
       "      <td>603</td>\n",
       "    </tr>\n",
       "  </tbody>\n",
       "</table>\n",
       "<p>95773 rows × 2 columns</p>\n",
       "</div>"
      ],
      "text/plain": [
       "                     customer_unique_id  Récence\n",
       "22899  3158fc4f60ca92412de397461b64cee3        1\n",
       "52025  230a1e9f42924d41f37fd22a1d4a9707        1\n",
       "3471   91544d22848a922381b73b5e21ad58ff        1\n",
       "30363  eb240714223915add224beff2d844e53        1\n",
       "47451  0c6d7218d5f3fa14514fd29865269993        2\n",
       "...                                 ...      ...\n",
       "41083  ef89f6e31311594d74becf9e18c73693      603\n",
       "14564  da9c90677b1963eca1cf8a14c338cf6e      603\n",
       "41988  29a63a400c3ca9982907ce8de1f19527      603\n",
       "18388  d753459418d268407f19b64be28e3c5a      603\n",
       "48032  83e7958a94bd7f74a9414d8782f87628      603\n",
       "\n",
       "[95773 rows x 2 columns]"
      ]
     },
     "metadata": {},
     "output_type": "display_data"
    }
   ],
   "source": [
    "# Affichage de quelques exemples\n",
    "display(df_features.sort_values('Récence'))"
   ]
  },
  {
   "cell_type": "markdown",
   "id": "e5353f7f-95b5-4e17-9109-d75c3afb944e",
   "metadata": {},
   "source": [
    "## 3.3 Feature `Fréquence`"
   ]
  },
  {
   "cell_type": "markdown",
   "id": "9eb6bb37-46c2-48ea-9d73-155d0e739a27",
   "metadata": {},
   "source": [
    "* **Fréquence** : nombre total d'achats effectués par un client sur une période donnée  \n",
    "* La période choisie doit refléter le cycle d'achat des clients et permettre de distinguer les clients réguliers des clients occasionnels  "
   ]
  },
  {
   "cell_type": "markdown",
   "id": "da740285-125e-42fb-bc70-d5c4591091b7",
   "metadata": {},
   "source": [
    "### 3.3.1 Détermination de la période"
   ]
  },
  {
   "cell_type": "markdown",
   "id": "0a1f3e41-58a5-4f62-bda5-bd5d52531897",
   "metadata": {},
   "source": [
    "* Répartition mensuelles de commandes"
   ]
  },
  {
   "cell_type": "code",
   "execution_count": 42,
   "id": "0fb1b71c-d503-45fb-b794-d5df2832d0c5",
   "metadata": {},
   "outputs": [
    {
     "data": {
      "image/png": "[encoded data removed]",
      "text/plain": [
       "<Figure size 1100x500 with 1 Axes>"
      ]
     },
     "metadata": {},
     "output_type": "display_data"
    }
   ],
   "source": [
    "# Nombre de commandes passées pour chaque valeur de 'year_month'\n",
    "df_orders_by_year_month = df_orders.groupby('year_month')['order_id'].count().reset_index()\n",
    "\n",
    "# Affichage barplot\n",
    "plt.figure(figsize=(11, 5))\n",
    "sns.barplot(data=df_orders_by_year_month, x='year_month', y='order_id')\n",
    "plt.xticks(rotation=45)\n",
    "plt.xlabel('Date d\\'achat')\n",
    "plt.ylabel('Nombre de commandes')\n",
    "plt.title('Répartition mensuelle des commandes', pad=10)\n",
    "plt.show()"
   ]
  },
  {
   "cell_type": "markdown",
   "id": "366483da-d6a5-4e24-9231-dbcea3589824",
   "metadata": {},
   "source": [
    "* Nombre de commandes par clients"
   ]
  },
  {
   "cell_type": "code",
   "execution_count": 43,
   "id": "435a2c60-974d-4ff8-9718-122a18d4f53f",
   "metadata": {},
   "outputs": [
    {
     "data": {
      "text/html": [
       "<div>\n",
       "<style scoped>\n",
       "    .dataframe tbody tr th:only-of-type {\n",
       "        vertical-align: middle;\n",
       "    }\n",
       "\n",
       "    .dataframe tbody tr th {\n",
       "        vertical-align: top;\n",
       "    }\n",
       "\n",
       "    .dataframe thead th {\n",
       "        text-align: right;\n",
       "    }\n",
       "</style>\n",
       "<table border=\"1\" class=\"dataframe\">\n",
       "  <thead>\n",
       "    <tr style=\"text-align: right;\">\n",
       "      <th></th>\n",
       "      <th>Nombre de clients</th>\n",
       "      <th>% de clients</th>\n",
       "      <th>Nombre de commandes</th>\n",
       "    </tr>\n",
       "  </thead>\n",
       "  <tbody>\n",
       "    <tr>\n",
       "      <th>0</th>\n",
       "      <td>92798</td>\n",
       "      <td>96.894</td>\n",
       "      <td>1</td>\n",
       "    </tr>\n",
       "    <tr>\n",
       "      <th>1</th>\n",
       "      <td>2728</td>\n",
       "      <td>2.848</td>\n",
       "      <td>2</td>\n",
       "    </tr>\n",
       "    <tr>\n",
       "      <th>2</th>\n",
       "      <td>198</td>\n",
       "      <td>0.207</td>\n",
       "      <td>3</td>\n",
       "    </tr>\n",
       "    <tr>\n",
       "      <th>3</th>\n",
       "      <td>30</td>\n",
       "      <td>0.031</td>\n",
       "      <td>4</td>\n",
       "    </tr>\n",
       "    <tr>\n",
       "      <th>4</th>\n",
       "      <td>8</td>\n",
       "      <td>0.008</td>\n",
       "      <td>5</td>\n",
       "    </tr>\n",
       "    <tr>\n",
       "      <th>5</th>\n",
       "      <td>6</td>\n",
       "      <td>0.006</td>\n",
       "      <td>6</td>\n",
       "    </tr>\n",
       "    <tr>\n",
       "      <th>6</th>\n",
       "      <td>3</td>\n",
       "      <td>0.003</td>\n",
       "      <td>7</td>\n",
       "    </tr>\n",
       "    <tr>\n",
       "      <th>7</th>\n",
       "      <td>1</td>\n",
       "      <td>0.001</td>\n",
       "      <td>9</td>\n",
       "    </tr>\n",
       "    <tr>\n",
       "      <th>8</th>\n",
       "      <td>1</td>\n",
       "      <td>0.001</td>\n",
       "      <td>17</td>\n",
       "    </tr>\n",
       "  </tbody>\n",
       "</table>\n",
       "</div>"
      ],
      "text/plain": [
       "   Nombre de clients  % de clients  Nombre de commandes\n",
       "0              92798        96.894                    1\n",
       "1               2728         2.848                    2\n",
       "2                198         0.207                    3\n",
       "3                 30         0.031                    4\n",
       "4                  8         0.008                    5\n",
       "5                  6         0.006                    6\n",
       "6                  3         0.003                    7\n",
       "7                  1         0.001                    9\n",
       "8                  1         0.001                   17"
      ]
     },
     "execution_count": 43,
     "metadata": {},
     "output_type": "execute_result"
    }
   ],
   "source": [
    "# Nombre de commandes par 'customer_unique_id'\n",
    "# Dans les tables 'orders' et 'customers', le champ 'customer_id' représente une commande\n",
    "number_of_orders_by_customer = df_customers.groupby('customer_unique_id')['customer_id'].count().reset_index()\n",
    "\n",
    "# Nombre de clients pour chaque \"Nombre de commandes\"\n",
    "number_of_customers_by_number_of_orders = number_of_orders_by_customer.groupby('customer_id')['customer_unique_id'].count().reset_index()\n",
    "\n",
    "# Changement de noms aux colonnes pour plus de clarté\n",
    "number_of_customers_by_number_of_orders = number_of_customers_by_number_of_orders.rename(columns={'customer_id': 'Nombre de commandes', 'customer_unique_id': 'Nombre de clients'})\n",
    "\n",
    "# Calcul du pourcentage de clients\n",
    "number_of_customers = df_features.shape[0]\n",
    "number_of_customers_by_number_of_orders['% de clients'] = round((number_of_customers_by_number_of_orders['Nombre de clients'] / number_of_customers) * 100, 3)\n",
    "\n",
    "# Affichage dans l'ordre logique des colonnes\n",
    "number_of_customers_by_number_of_orders[['Nombre de clients', '% de clients', 'Nombre de commandes']]"
   ]
  },
  {
   "cell_type": "markdown",
   "id": "43f29569-151d-4377-af53-8070a6819971",
   "metadata": {},
   "source": [
    "* Les commandes sont en augmentation jusqu'en novembre 2017, puis en relative stagnation\n",
    "* La période disponible est relativement courte : un peu plus d'un an et demi\n",
    "* La plupart des clients n'ont fait qu'un seul achat sur cette période  "
   ]
  },
  {
   "cell_type": "markdown",
   "id": "65a3d1c7-081a-4d14-abcf-406b3ba599c2",
   "metadata": {},
   "source": [
    "* Compte-tenu de ces éléments, je choisi de calculer la feature `Fréquence` sur l'intégralité de la période disponible"
   ]
  },
  {
   "cell_type": "markdown",
   "id": "ccd69853-5465-48a4-b604-964537841ac8",
   "metadata": {},
   "source": [
    "### 3.3.2 Calcul de la feature `Fréquence`"
   ]
  },
  {
   "cell_type": "markdown",
   "id": "00040729-a3dc-41bb-999c-55fa2962f50e",
   "metadata": {},
   "source": [
    "* Étant donné que seulement un peu plus de **3 %** des clients n'ont passé qu'une seule commande sur la période, je choisi de binariser la feature `Fréquence` :\n",
    "   * Un score de **0** sera attribué aux clients n'ayant effectué qu'**une commande**  \n",
    "   * Un score de **1** sera attribué aux clents ayant passé **2 commandes ou plus**"
   ]
  },
  {
   "cell_type": "code",
   "execution_count": 44,
   "id": "bde941d9-eca5-4e87-b250-5e5b152ab390",
   "metadata": {},
   "outputs": [],
   "source": [
    "# Fusion des dataframes 'df_features' et 'number_of_orders_by_customer'\n",
    "df_features = pd.merge(df_features, number_of_orders_by_customer, on='customer_unique_id', how='inner')\n",
    "\n",
    "# Changement de nom à la colonne 'customer_id' qui contient le nombre de commandes passées\n",
    "df_features.rename(columns={'customer_id': 'Fréquence'}, inplace=True)"
   ]
  },
  {
   "cell_type": "code",
   "execution_count": 45,
   "id": "66ee7deb-c1a0-407e-ba83-da9c8a5c28fe",
   "metadata": {},
   "outputs": [],
   "source": [
    "# Masque de séléction des clients ayant passé une seule commande\n",
    "only_one_order_mask = df_features['Fréquence'] == 1"
   ]
  },
  {
   "cell_type": "code",
   "execution_count": 46,
   "id": "efea0584-2797-498e-b920-dccbcde2690e",
   "metadata": {},
   "outputs": [],
   "source": [
    "# Attribution du score de Fréquence 0 aux clients ayant passé une seule commande\n",
    "df_features.loc[only_one_order_mask, 'Fréquence'] = 0\n",
    "\n",
    "# Attribution du score de Fréquence 1 aux autres clients\n",
    "df_features.loc[~only_one_order_mask, 'Fréquence'] = 1"
   ]
  },
  {
   "cell_type": "markdown",
   "id": "42a2484c-b23a-429a-a61c-e4dab610f23c",
   "metadata": {},
   "source": [
    "* Affichage de quelques clients"
   ]
  },
  {
   "cell_type": "code",
   "execution_count": 47,
   "id": "38484be0-205e-42ce-82b1-4fc015dc809c",
   "metadata": {},
   "outputs": [
    {
     "data": {
      "text/html": [
       "<div>\n",
       "<style scoped>\n",
       "    .dataframe tbody tr th:only-of-type {\n",
       "        vertical-align: middle;\n",
       "    }\n",
       "\n",
       "    .dataframe tbody tr th {\n",
       "        vertical-align: top;\n",
       "    }\n",
       "\n",
       "    .dataframe thead th {\n",
       "        text-align: right;\n",
       "    }\n",
       "</style>\n",
       "<table border=\"1\" class=\"dataframe\">\n",
       "  <thead>\n",
       "    <tr style=\"text-align: right;\">\n",
       "      <th></th>\n",
       "      <th>customer_unique_id</th>\n",
       "      <th>Récence</th>\n",
       "      <th>Fréquence</th>\n",
       "    </tr>\n",
       "  </thead>\n",
       "  <tbody>\n",
       "    <tr>\n",
       "      <th>0</th>\n",
       "      <td>861eff4711a542e4b93843c6dd7febb0</td>\n",
       "      <td>472</td>\n",
       "      <td>0</td>\n",
       "    </tr>\n",
       "    <tr>\n",
       "      <th>63772</th>\n",
       "      <td>aa1a036afef8181797a6e3f8b96d91b8</td>\n",
       "      <td>165</td>\n",
       "      <td>0</td>\n",
       "    </tr>\n",
       "    <tr>\n",
       "      <th>63771</th>\n",
       "      <td>08f77862a18100d978ece3564a80366d</td>\n",
       "      <td>210</td>\n",
       "      <td>0</td>\n",
       "    </tr>\n",
       "    <tr>\n",
       "      <th>63770</th>\n",
       "      <td>797ecfd850b58e0855e2222bb59fcdd1</td>\n",
       "      <td>133</td>\n",
       "      <td>0</td>\n",
       "    </tr>\n",
       "    <tr>\n",
       "      <th>63769</th>\n",
       "      <td>f851601132fd95d1bc72825fdc1653a6</td>\n",
       "      <td>127</td>\n",
       "      <td>0</td>\n",
       "    </tr>\n",
       "    <tr>\n",
       "      <th>...</th>\n",
       "      <td>...</td>\n",
       "      <td>...</td>\n",
       "      <td>...</td>\n",
       "    </tr>\n",
       "    <tr>\n",
       "      <th>84660</th>\n",
       "      <td>c45ece361aab055ea6c55b61eb2d99c0</td>\n",
       "      <td>333</td>\n",
       "      <td>1</td>\n",
       "    </tr>\n",
       "    <tr>\n",
       "      <th>26936</th>\n",
       "      <td>b7741f7ec50ab6bcd52ab08ea8f214d9</td>\n",
       "      <td>218</td>\n",
       "      <td>1</td>\n",
       "    </tr>\n",
       "    <tr>\n",
       "      <th>42248</th>\n",
       "      <td>4754e3b66497719a91b36268ed9c5718</td>\n",
       "      <td>266</td>\n",
       "      <td>1</td>\n",
       "    </tr>\n",
       "    <tr>\n",
       "      <th>19702</th>\n",
       "      <td>54eb010282ed1c4a38e101aa8b9aca37</td>\n",
       "      <td>8</td>\n",
       "      <td>1</td>\n",
       "    </tr>\n",
       "    <tr>\n",
       "      <th>44126</th>\n",
       "      <td>7a311d62282fa63be12b02aef2fd21d1</td>\n",
       "      <td>213</td>\n",
       "      <td>1</td>\n",
       "    </tr>\n",
       "  </tbody>\n",
       "</table>\n",
       "<p>95773 rows × 3 columns</p>\n",
       "</div>"
      ],
      "text/plain": [
       "                     customer_unique_id  Récence  Fréquence\n",
       "0      861eff4711a542e4b93843c6dd7febb0      472          0\n",
       "63772  aa1a036afef8181797a6e3f8b96d91b8      165          0\n",
       "63771  08f77862a18100d978ece3564a80366d      210          0\n",
       "63770  797ecfd850b58e0855e2222bb59fcdd1      133          0\n",
       "63769  f851601132fd95d1bc72825fdc1653a6      127          0\n",
       "...                                 ...      ...        ...\n",
       "84660  c45ece361aab055ea6c55b61eb2d99c0      333          1\n",
       "26936  b7741f7ec50ab6bcd52ab08ea8f214d9      218          1\n",
       "42248  4754e3b66497719a91b36268ed9c5718      266          1\n",
       "19702  54eb010282ed1c4a38e101aa8b9aca37        8          1\n",
       "44126  7a311d62282fa63be12b02aef2fd21d1      213          1\n",
       "\n",
       "[95773 rows x 3 columns]"
      ]
     },
     "execution_count": 47,
     "metadata": {},
     "output_type": "execute_result"
    }
   ],
   "source": [
    "df_features.sort_values('Fréquence')"
   ]
  },
  {
   "cell_type": "markdown",
   "id": "127487f7-c9b8-432c-a5b7-da4d0f08886c",
   "metadata": {},
   "source": [
    "* Vérification"
   ]
  },
  {
   "cell_type": "code",
   "execution_count": 48,
   "id": "e9b37274-778c-4708-93ba-e276d420b9f1",
   "metadata": {},
   "outputs": [
    {
     "data": {
      "text/html": [
       "<div>\n",
       "<style scoped>\n",
       "    .dataframe tbody tr th:only-of-type {\n",
       "        vertical-align: middle;\n",
       "    }\n",
       "\n",
       "    .dataframe tbody tr th {\n",
       "        vertical-align: top;\n",
       "    }\n",
       "\n",
       "    .dataframe thead th {\n",
       "        text-align: right;\n",
       "    }\n",
       "</style>\n",
       "<table border=\"1\" class=\"dataframe\">\n",
       "  <thead>\n",
       "    <tr style=\"text-align: right;\">\n",
       "      <th></th>\n",
       "      <th>Fréquence</th>\n",
       "      <th>count</th>\n",
       "    </tr>\n",
       "  </thead>\n",
       "  <tbody>\n",
       "    <tr>\n",
       "      <th>0</th>\n",
       "      <td>0</td>\n",
       "      <td>92798</td>\n",
       "    </tr>\n",
       "    <tr>\n",
       "      <th>1</th>\n",
       "      <td>1</td>\n",
       "      <td>2975</td>\n",
       "    </tr>\n",
       "  </tbody>\n",
       "</table>\n",
       "</div>"
      ],
      "text/plain": [
       "   Fréquence  count\n",
       "0          0  92798\n",
       "1          1   2975"
      ]
     },
     "execution_count": 48,
     "metadata": {},
     "output_type": "execute_result"
    }
   ],
   "source": [
    "# Nombre de clients avec un score de Fréquence à 0\n",
    "df_features['Fréquence'].value_counts().to_frame().reset_index()"
   ]
  },
  {
   "cell_type": "markdown",
   "id": "b7ef80fe-7f34-4fcc-a369-e163c1ae65d5",
   "metadata": {},
   "source": [
    "Il y a bien **92 798 clients** qui n'ont passé qu'une seule commande"
   ]
  },
  {
   "cell_type": "markdown",
   "id": "9236414f-130b-47d3-85f1-4c79fa9c6565",
   "metadata": {},
   "source": [
    "## 3.4 Feature `Montant`"
   ]
  },
  {
   "cell_type": "markdown",
   "id": "130167e2-fb0a-4341-a2e4-8cfd1ac2310f",
   "metadata": {},
   "source": [
    "* **Montant** : montant total dépensé par un client sur une période donnée\n",
    "* La période retenue est la totalité de la période, de janvier 2017 à août 2018, par cohérence avec la feature `Fréquence`  \n",
    "* Les frais de transport font partie de la somme totale dépensée et peuvent influencer leur comportement, ils seront inclus dans le calcul de la feature `Montant`"
   ]
  },
  {
   "cell_type": "markdown",
   "id": "42cd5593-c3e9-4c22-aab0-ca4f64c3725c",
   "metadata": {},
   "source": [
    "### 3.4.1 Analyse de la table `order_items`"
   ]
  },
  {
   "cell_type": "markdown",
   "id": "0e9330bc-3e37-4796-85f4-f06afdd6a542",
   "metadata": {},
   "source": [
    "* La valeur de la variable `Montant` peut être calculée à partir des champs `price` et `freight` de la table `order_items`"
   ]
  },
  {
   "cell_type": "markdown",
   "id": "aa269d99-f3c9-4902-af38-351e464aff21",
   "metadata": {},
   "source": [
    "* Affichage des informations de la table `order_items` :"
   ]
  },
  {
   "cell_type": "code",
   "execution_count": 49,
   "id": "a0e505bd-f31c-458c-aae0-d343d437d583",
   "metadata": {},
   "outputs": [
    {
     "data": {
      "text/html": [
       "<div>\n",
       "<style scoped>\n",
       "    .dataframe tbody tr th:only-of-type {\n",
       "        vertical-align: middle;\n",
       "    }\n",
       "\n",
       "    .dataframe tbody tr th {\n",
       "        vertical-align: top;\n",
       "    }\n",
       "\n",
       "    .dataframe thead th {\n",
       "        text-align: right;\n",
       "    }\n",
       "</style>\n",
       "<table border=\"1\" class=\"dataframe\">\n",
       "  <thead>\n",
       "    <tr style=\"text-align: right;\">\n",
       "      <th></th>\n",
       "      <th>Colonne</th>\n",
       "      <th>Type</th>\n",
       "      <th>Valeurs uniques</th>\n",
       "      <th>Doublons</th>\n",
       "      <th>Valeurs manquantes</th>\n",
       "      <th>% valeurs manquantes</th>\n",
       "    </tr>\n",
       "  </thead>\n",
       "  <tbody>\n",
       "    <tr>\n",
       "      <th>0</th>\n",
       "      <td>order_id</td>\n",
       "      <td>TEXT</td>\n",
       "      <td>98666</td>\n",
       "      <td>13984</td>\n",
       "      <td>0</td>\n",
       "      <td>0.0 %</td>\n",
       "    </tr>\n",
       "    <tr>\n",
       "      <th>1</th>\n",
       "      <td>order_item_id</td>\n",
       "      <td>BIGINT</td>\n",
       "      <td>21</td>\n",
       "      <td>112629</td>\n",
       "      <td>0</td>\n",
       "      <td>0.0 %</td>\n",
       "    </tr>\n",
       "    <tr>\n",
       "      <th>2</th>\n",
       "      <td>product_id</td>\n",
       "      <td>TEXT</td>\n",
       "      <td>32951</td>\n",
       "      <td>79699</td>\n",
       "      <td>0</td>\n",
       "      <td>0.0 %</td>\n",
       "    </tr>\n",
       "    <tr>\n",
       "      <th>3</th>\n",
       "      <td>seller_id</td>\n",
       "      <td>TEXT</td>\n",
       "      <td>3095</td>\n",
       "      <td>109555</td>\n",
       "      <td>0</td>\n",
       "      <td>0.0 %</td>\n",
       "    </tr>\n",
       "    <tr>\n",
       "      <th>4</th>\n",
       "      <td>shipping_limit_date</td>\n",
       "      <td>TEXT</td>\n",
       "      <td>93318</td>\n",
       "      <td>19332</td>\n",
       "      <td>0</td>\n",
       "      <td>0.0 %</td>\n",
       "    </tr>\n",
       "    <tr>\n",
       "      <th>5</th>\n",
       "      <td>price</td>\n",
       "      <td>FLOAT</td>\n",
       "      <td>5968</td>\n",
       "      <td>106682</td>\n",
       "      <td>0</td>\n",
       "      <td>0.0 %</td>\n",
       "    </tr>\n",
       "    <tr>\n",
       "      <th>6</th>\n",
       "      <td>freight_value</td>\n",
       "      <td>FLOAT</td>\n",
       "      <td>6999</td>\n",
       "      <td>105651</td>\n",
       "      <td>0</td>\n",
       "      <td>0.0 %</td>\n",
       "    </tr>\n",
       "  </tbody>\n",
       "</table>\n",
       "</div>"
      ],
      "text/plain": [
       "               Colonne    Type  Valeurs uniques  Doublons  Valeurs manquantes  \\\n",
       "0             order_id    TEXT            98666     13984                   0   \n",
       "1        order_item_id  BIGINT               21    112629                   0   \n",
       "2           product_id    TEXT            32951     79699                   0   \n",
       "3            seller_id    TEXT             3095    109555                   0   \n",
       "4  shipping_limit_date    TEXT            93318     19332                   0   \n",
       "5                price   FLOAT             5968    106682                   0   \n",
       "6        freight_value   FLOAT             6999    105651                   0   \n",
       "\n",
       "  % valeurs manquantes  \n",
       "0                0.0 %  \n",
       "1                0.0 %  \n",
       "2                0.0 %  \n",
       "3                0.0 %  \n",
       "4                0.0 %  \n",
       "5                0.0 %  \n",
       "6                0.0 %  "
      ]
     },
     "metadata": {},
     "output_type": "display_data"
    }
   ],
   "source": [
    "# Version table SQLite\n",
    "display(describe_table('order_items'))"
   ]
  },
  {
   "cell_type": "code",
   "execution_count": 50,
   "id": "eeb97b4a-f0c9-4047-9010-c83d783cf523",
   "metadata": {},
   "outputs": [
    {
     "data": {
      "text/html": [
       "<div>\n",
       "<style scoped>\n",
       "    .dataframe tbody tr th:only-of-type {\n",
       "        vertical-align: middle;\n",
       "    }\n",
       "\n",
       "    .dataframe tbody tr th {\n",
       "        vertical-align: top;\n",
       "    }\n",
       "\n",
       "    .dataframe thead th {\n",
       "        text-align: right;\n",
       "    }\n",
       "</style>\n",
       "<table border=\"1\" class=\"dataframe\">\n",
       "  <thead>\n",
       "    <tr style=\"text-align: right;\">\n",
       "      <th></th>\n",
       "      <th>Colonne</th>\n",
       "      <th>Type</th>\n",
       "      <th>Valeurs uniques</th>\n",
       "      <th>Doublons</th>\n",
       "      <th>Valeurs manquantes</th>\n",
       "      <th>% valeurs manquantes</th>\n",
       "    </tr>\n",
       "  </thead>\n",
       "  <tbody>\n",
       "    <tr>\n",
       "      <th>0</th>\n",
       "      <td>order_id</td>\n",
       "      <td>object</td>\n",
       "      <td>98353</td>\n",
       "      <td>13926</td>\n",
       "      <td>0</td>\n",
       "      <td>0.0 %</td>\n",
       "    </tr>\n",
       "    <tr>\n",
       "      <th>1</th>\n",
       "      <td>order_item_id</td>\n",
       "      <td>int64</td>\n",
       "      <td>21</td>\n",
       "      <td>112258</td>\n",
       "      <td>0</td>\n",
       "      <td>0.0 %</td>\n",
       "    </tr>\n",
       "    <tr>\n",
       "      <th>2</th>\n",
       "      <td>product_id</td>\n",
       "      <td>object</td>\n",
       "      <td>32787</td>\n",
       "      <td>79492</td>\n",
       "      <td>0</td>\n",
       "      <td>0.0 %</td>\n",
       "    </tr>\n",
       "    <tr>\n",
       "      <th>3</th>\n",
       "      <td>seller_id</td>\n",
       "      <td>object</td>\n",
       "      <td>3068</td>\n",
       "      <td>109211</td>\n",
       "      <td>0</td>\n",
       "      <td>0.0 %</td>\n",
       "    </tr>\n",
       "    <tr>\n",
       "      <th>4</th>\n",
       "      <td>shipping_limit_date</td>\n",
       "      <td>object</td>\n",
       "      <td>93005</td>\n",
       "      <td>19274</td>\n",
       "      <td>0</td>\n",
       "      <td>0.0 %</td>\n",
       "    </tr>\n",
       "    <tr>\n",
       "      <th>5</th>\n",
       "      <td>price</td>\n",
       "      <td>float64</td>\n",
       "      <td>5963</td>\n",
       "      <td>106316</td>\n",
       "      <td>0</td>\n",
       "      <td>0.0 %</td>\n",
       "    </tr>\n",
       "    <tr>\n",
       "      <th>6</th>\n",
       "      <td>freight_value</td>\n",
       "      <td>float64</td>\n",
       "      <td>6988</td>\n",
       "      <td>105291</td>\n",
       "      <td>0</td>\n",
       "      <td>0.0 %</td>\n",
       "    </tr>\n",
       "  </tbody>\n",
       "</table>\n",
       "</div>"
      ],
      "text/plain": [
       "               Colonne     Type  Valeurs uniques  Doublons  \\\n",
       "0             order_id   object            98353     13926   \n",
       "1        order_item_id    int64               21    112258   \n",
       "2           product_id   object            32787     79492   \n",
       "3            seller_id   object             3068    109211   \n",
       "4  shipping_limit_date   object            93005     19274   \n",
       "5                price  float64             5963    106316   \n",
       "6        freight_value  float64             6988    105291   \n",
       "\n",
       "   Valeurs manquantes % valeurs manquantes  \n",
       "0                   0                0.0 %  \n",
       "1                   0                0.0 %  \n",
       "2                   0                0.0 %  \n",
       "3                   0                0.0 %  \n",
       "4                   0                0.0 %  \n",
       "5                   0                0.0 %  \n",
       "6                   0                0.0 %  "
      ]
     },
     "metadata": {},
     "output_type": "display_data"
    }
   ],
   "source": [
    "# Version dataframe pandas\n",
    "display(get_dataframe_infos(df_order_items))"
   ]
  },
  {
   "cell_type": "markdown",
   "id": "54a2568b-45f5-4ebb-b534-d0db3bb40926",
   "metadata": {},
   "source": [
    "* Pour rappel il y a eu **371** lignes supprimées dans le dataframe `df_order_items` (voir point 3.2.2.4 de ce notebook), suite à l'exclusion des commandes passées avant janvier 2017 ou après août 2018, et ces suppressions n'ont pas été effectuées au niveau de la table dans la BBD SQLite  \n",
    "* Cela se ressent en comparant le nombre de valeurs uniques et doublons des différentes variables  \n",
    "* La cardinalité (1 à plusieurs) rentre les tables `orders` et `order_items` rend difficile les vérifications\n",
    "* Il est cependant possible de s'assurer :\n",
    "   * que toutes les lignes du dataframe `df_order_items` ont une et une seule correspondance dans le dataframe `df_orders`\n",
    "   * que toutes les lignes du dataframe `df_order` ont au moins une correspondance dans le dataframe `df_orders_items`"
   ]
  },
  {
   "cell_type": "markdown",
   "id": "3426408e-2c22-4a9d-b2e0-edeb94000755",
   "metadata": {},
   "source": [
    "* Vérifications de la cohérence de `df_order_items`"
   ]
  },
  {
   "cell_type": "code",
   "execution_count": 51,
   "id": "c07adda6-b2a7-4529-b851-690d1714b4ce",
   "metadata": {},
   "outputs": [
    {
     "name": "stdout",
     "output_type": "stream",
     "text": [
      "Toutes les lignes de 'df_order_items' ont une correspondance dans 'df_orders': True\n"
     ]
    }
   ],
   "source": [
    "# Chaque 'order_id' dans 'df_order_items' existe-t-il dans 'df_orders' ?\n",
    "order_items_in_orders = df_order_items['order_id'].isin(df_orders['order_id']).all()\n",
    "print(f\"Toutes les lignes de 'df_order_items' ont une correspondance dans 'df_orders': {order_items_in_orders}\")"
   ]
  },
  {
   "cell_type": "code",
   "execution_count": 52,
   "id": "b29791c1-5119-43f0-8b46-2784ffad7e9d",
   "metadata": {},
   "outputs": [
    {
     "name": "stdout",
     "output_type": "stream",
     "text": [
      "Chaque 'order_id' dans 'df_orders' est unique: True\n"
     ]
    }
   ],
   "source": [
    "# Y-a-t-il des 'order_id' en double dans 'df_orders' ?\n",
    "orders_unique_check = df_orders['order_id'].is_unique\n",
    "print(f\"Chaque 'order_id' dans 'df_orders' est unique: {orders_unique_check}\")"
   ]
  },
  {
   "cell_type": "markdown",
   "id": "83918f64-57e9-4c61-826f-380d06d93d44",
   "metadata": {},
   "source": [
    "Toutes les `order_id` de `df_order_items` ont une correspondance dans `df_orders` et il n'y a pas d'`order_id` en double dans `df_order` : **la cohérence de `df_order_items` est vérifiée**"
   ]
  },
  {
   "cell_type": "markdown",
   "id": "a4c26490-020a-4b8c-b12a-350b80b33374",
   "metadata": {},
   "source": [
    "* Vérification de la cohérence de `df_order`"
   ]
  },
  {
   "cell_type": "code",
   "execution_count": 53,
   "id": "9eda49a2-c858-45ad-b20d-46b4fc189888",
   "metadata": {},
   "outputs": [
    {
     "name": "stdout",
     "output_type": "stream",
     "text": [
      "Toutes les lignes de 'df_orders' ont au moins une correspondance dans 'df_order_items': False\n"
     ]
    }
   ],
   "source": [
    "# Nombre de correspondances pour chaque 'order_id' dans 'df_order_items'\n",
    "order_items_counts = df_order_items['order_id'].value_counts()\n",
    "\n",
    "# Chaque 'order_id' de 'df_orders' est_il présent dans 'df_order_items' ?\n",
    "orders_with_at_least_one_item = df_orders['order_id'].isin(order_items_counts.index).all()\n",
    "print(f\"Toutes les lignes de 'df_orders' ont au moins une correspondance dans 'df_order_items': {orders_with_at_least_one_item}\")"
   ]
  },
  {
   "cell_type": "markdown",
   "id": "d0f4aff7-2d31-40d1-9b39-a1a89194111f",
   "metadata": {},
   "source": [
    "Certaines commandes semblent ne pas avoir d'unités de produits."
   ]
  },
  {
   "cell_type": "code",
   "execution_count": 54,
   "id": "c78cb9ae-183b-4eb5-9684-5d1639a84da6",
   "metadata": {},
   "outputs": [
    {
     "data": {
      "text/html": [
       "<div>\n",
       "<style scoped>\n",
       "    .dataframe tbody tr th:only-of-type {\n",
       "        vertical-align: middle;\n",
       "    }\n",
       "\n",
       "    .dataframe tbody tr th {\n",
       "        vertical-align: top;\n",
       "    }\n",
       "\n",
       "    .dataframe thead th {\n",
       "        text-align: right;\n",
       "    }\n",
       "</style>\n",
       "<table border=\"1\" class=\"dataframe\">\n",
       "  <thead>\n",
       "    <tr style=\"text-align: right;\">\n",
       "      <th></th>\n",
       "      <th>order_id</th>\n",
       "      <th>customer_id</th>\n",
       "      <th>order_status</th>\n",
       "      <th>order_purchase_timestamp</th>\n",
       "      <th>order_approved_at</th>\n",
       "      <th>order_delivered_carrier_date</th>\n",
       "      <th>order_delivered_customer_date</th>\n",
       "      <th>order_estimated_delivery_date</th>\n",
       "      <th>year_month</th>\n",
       "    </tr>\n",
       "  </thead>\n",
       "  <tbody>\n",
       "    <tr>\n",
       "      <th>266</th>\n",
       "      <td>8e24261a7e58791d10cb1bf9da94df5c</td>\n",
       "      <td>64a254d30eed42cd0e6c36dddb88adf0</td>\n",
       "      <td>unavailable</td>\n",
       "      <td>2017-11-16 15:09:28</td>\n",
       "      <td>2017-11-16 15:26:57</td>\n",
       "      <td>NaT</td>\n",
       "      <td>NaT</td>\n",
       "      <td>2017-12-05</td>\n",
       "      <td>2017-11</td>\n",
       "    </tr>\n",
       "    <tr>\n",
       "      <th>586</th>\n",
       "      <td>c272bcd21c287498b4883c7512019702</td>\n",
       "      <td>9582c5bbecc65eb568e2c1d839b5cba1</td>\n",
       "      <td>unavailable</td>\n",
       "      <td>2018-01-31 11:31:37</td>\n",
       "      <td>2018-01-31 14:23:50</td>\n",
       "      <td>NaT</td>\n",
       "      <td>NaT</td>\n",
       "      <td>2018-02-16</td>\n",
       "      <td>2018-01</td>\n",
       "    </tr>\n",
       "    <tr>\n",
       "      <th>687</th>\n",
       "      <td>37553832a3a89c9b2db59701c357ca67</td>\n",
       "      <td>7607cd563696c27ede287e515812d528</td>\n",
       "      <td>unavailable</td>\n",
       "      <td>2017-08-14 17:38:02</td>\n",
       "      <td>2017-08-17 00:15:18</td>\n",
       "      <td>NaT</td>\n",
       "      <td>NaT</td>\n",
       "      <td>2017-09-05</td>\n",
       "      <td>2017-08</td>\n",
       "    </tr>\n",
       "    <tr>\n",
       "      <th>737</th>\n",
       "      <td>d57e15fb07fd180f06ab3926b39edcd2</td>\n",
       "      <td>470b93b3f1cde85550fc74cd3a476c78</td>\n",
       "      <td>unavailable</td>\n",
       "      <td>2018-01-08 19:39:03</td>\n",
       "      <td>2018-01-09 07:26:08</td>\n",
       "      <td>NaT</td>\n",
       "      <td>NaT</td>\n",
       "      <td>2018-02-06</td>\n",
       "      <td>2018-01</td>\n",
       "    </tr>\n",
       "    <tr>\n",
       "      <th>1130</th>\n",
       "      <td>00b1cb0320190ca0daa2c88b35206009</td>\n",
       "      <td>3532ba38a3fd242259a514ac2b6ae6b6</td>\n",
       "      <td>canceled</td>\n",
       "      <td>2018-08-28 15:26:39</td>\n",
       "      <td>NaT</td>\n",
       "      <td>NaT</td>\n",
       "      <td>NaT</td>\n",
       "      <td>2018-09-12</td>\n",
       "      <td>2018-08</td>\n",
       "    </tr>\n",
       "    <tr>\n",
       "      <th>...</th>\n",
       "      <td>...</td>\n",
       "      <td>...</td>\n",
       "      <td>...</td>\n",
       "      <td>...</td>\n",
       "      <td>...</td>\n",
       "      <td>...</td>\n",
       "      <td>...</td>\n",
       "      <td>...</td>\n",
       "      <td>...</td>\n",
       "    </tr>\n",
       "    <tr>\n",
       "      <th>99147</th>\n",
       "      <td>6cf5c427fb11bc5fe8abefa86aa7ba0b</td>\n",
       "      <td>91ac14a1e50bc022eeecf0c2ba37006a</td>\n",
       "      <td>unavailable</td>\n",
       "      <td>2017-10-17 10:53:48</td>\n",
       "      <td>2017-10-19 03:12:43</td>\n",
       "      <td>NaT</td>\n",
       "      <td>NaT</td>\n",
       "      <td>2017-10-27</td>\n",
       "      <td>2017-10</td>\n",
       "    </tr>\n",
       "    <tr>\n",
       "      <th>99233</th>\n",
       "      <td>1c7c8ab324927f5b6e52338bd110bef4</td>\n",
       "      <td>95b1767df51d6fa09402267d8de314df</td>\n",
       "      <td>unavailable</td>\n",
       "      <td>2017-12-23 18:48:09</td>\n",
       "      <td>2017-12-23 18:54:22</td>\n",
       "      <td>NaT</td>\n",
       "      <td>NaT</td>\n",
       "      <td>2018-01-19</td>\n",
       "      <td>2017-12</td>\n",
       "    </tr>\n",
       "    <tr>\n",
       "      <th>99252</th>\n",
       "      <td>aaab15da689073f8f9aa978a390a69d1</td>\n",
       "      <td>df20748206e4b865b2f14a5eabbfcf34</td>\n",
       "      <td>unavailable</td>\n",
       "      <td>2018-01-16 14:27:59</td>\n",
       "      <td>2018-01-17 03:37:34</td>\n",
       "      <td>NaT</td>\n",
       "      <td>NaT</td>\n",
       "      <td>2018-02-06</td>\n",
       "      <td>2018-01</td>\n",
       "    </tr>\n",
       "    <tr>\n",
       "      <th>99348</th>\n",
       "      <td>a69ba794cc7deb415c3e15a0a3877e69</td>\n",
       "      <td>726f0894b5becdf952ea537d5266e543</td>\n",
       "      <td>unavailable</td>\n",
       "      <td>2017-08-23 16:28:04</td>\n",
       "      <td>2017-08-28 15:44:47</td>\n",
       "      <td>NaT</td>\n",
       "      <td>NaT</td>\n",
       "      <td>2017-09-15</td>\n",
       "      <td>2017-08</td>\n",
       "    </tr>\n",
       "    <tr>\n",
       "      <th>99415</th>\n",
       "      <td>5fabc81b6322c8443648e1b21a6fef21</td>\n",
       "      <td>32c9df889d41b0ee8309a5efb6855dcb</td>\n",
       "      <td>unavailable</td>\n",
       "      <td>2017-10-10 10:50:03</td>\n",
       "      <td>2017-10-14 18:35:57</td>\n",
       "      <td>NaT</td>\n",
       "      <td>NaT</td>\n",
       "      <td>2017-10-23</td>\n",
       "      <td>2017-10</td>\n",
       "    </tr>\n",
       "  </tbody>\n",
       "</table>\n",
       "<p>738 rows × 9 columns</p>\n",
       "</div>"
      ],
      "text/plain": [
       "                               order_id                       customer_id  \\\n",
       "266    8e24261a7e58791d10cb1bf9da94df5c  64a254d30eed42cd0e6c36dddb88adf0   \n",
       "586    c272bcd21c287498b4883c7512019702  9582c5bbecc65eb568e2c1d839b5cba1   \n",
       "687    37553832a3a89c9b2db59701c357ca67  7607cd563696c27ede287e515812d528   \n",
       "737    d57e15fb07fd180f06ab3926b39edcd2  470b93b3f1cde85550fc74cd3a476c78   \n",
       "1130   00b1cb0320190ca0daa2c88b35206009  3532ba38a3fd242259a514ac2b6ae6b6   \n",
       "...                                 ...                               ...   \n",
       "99147  6cf5c427fb11bc5fe8abefa86aa7ba0b  91ac14a1e50bc022eeecf0c2ba37006a   \n",
       "99233  1c7c8ab324927f5b6e52338bd110bef4  95b1767df51d6fa09402267d8de314df   \n",
       "99252  aaab15da689073f8f9aa978a390a69d1  df20748206e4b865b2f14a5eabbfcf34   \n",
       "99348  a69ba794cc7deb415c3e15a0a3877e69  726f0894b5becdf952ea537d5266e543   \n",
       "99415  5fabc81b6322c8443648e1b21a6fef21  32c9df889d41b0ee8309a5efb6855dcb   \n",
       "\n",
       "      order_status order_purchase_timestamp   order_approved_at  \\\n",
       "266    unavailable      2017-11-16 15:09:28 2017-11-16 15:26:57   \n",
       "586    unavailable      2018-01-31 11:31:37 2018-01-31 14:23:50   \n",
       "687    unavailable      2017-08-14 17:38:02 2017-08-17 00:15:18   \n",
       "737    unavailable      2018-01-08 19:39:03 2018-01-09 07:26:08   \n",
       "1130      canceled      2018-08-28 15:26:39                 NaT   \n",
       "...            ...                      ...                 ...   \n",
       "99147  unavailable      2017-10-17 10:53:48 2017-10-19 03:12:43   \n",
       "99233  unavailable      2017-12-23 18:48:09 2017-12-23 18:54:22   \n",
       "99252  unavailable      2018-01-16 14:27:59 2018-01-17 03:37:34   \n",
       "99348  unavailable      2017-08-23 16:28:04 2017-08-28 15:44:47   \n",
       "99415  unavailable      2017-10-10 10:50:03 2017-10-14 18:35:57   \n",
       "\n",
       "      order_delivered_carrier_date order_delivered_customer_date  \\\n",
       "266                            NaT                           NaT   \n",
       "586                            NaT                           NaT   \n",
       "687                            NaT                           NaT   \n",
       "737                            NaT                           NaT   \n",
       "1130                           NaT                           NaT   \n",
       "...                            ...                           ...   \n",
       "99147                          NaT                           NaT   \n",
       "99233                          NaT                           NaT   \n",
       "99252                          NaT                           NaT   \n",
       "99348                          NaT                           NaT   \n",
       "99415                          NaT                           NaT   \n",
       "\n",
       "      order_estimated_delivery_date year_month  \n",
       "266                      2017-12-05    2017-11  \n",
       "586                      2018-02-16    2018-01  \n",
       "687                      2017-09-05    2017-08  \n",
       "737                      2018-02-06    2018-01  \n",
       "1130                     2018-09-12    2018-08  \n",
       "...                             ...        ...  \n",
       "99147                    2017-10-27    2017-10  \n",
       "99233                    2018-01-19    2017-12  \n",
       "99252                    2018-02-06    2018-01  \n",
       "99348                    2017-09-15    2017-08  \n",
       "99415                    2017-10-23    2017-10  \n",
       "\n",
       "[738 rows x 9 columns]"
      ]
     },
     "execution_count": 54,
     "metadata": {},
     "output_type": "execute_result"
    }
   ],
   "source": [
    "# Recherche des commandes sans produits \n",
    "mask = df_orders['order_id'].isin(order_items_counts.index)\n",
    "df_orders.loc[~mask]"
   ]
  },
  {
   "cell_type": "markdown",
   "id": "80f15ac6-54f0-44a9-b092-eb04e8648372",
   "metadata": {},
   "source": [
    "Vérification du nombre de commandes sans produits dans la BDD SQLite"
   ]
  },
  {
   "cell_type": "code",
   "execution_count": 55,
   "id": "302031fc-17ad-447f-89ed-5b5d9f953f54",
   "metadata": {},
   "outputs": [
    {
     "name": "stdout",
     "output_type": "stream",
     "text": [
      "Il y a 775 lignes de la table 'orders' qui n'ont pas de correspondance dans la table 'order_items' (champ 'order_id').\n"
     ]
    }
   ],
   "source": [
    "# Recherche du nombre de commandes sans produits dans la BDD\n",
    "query = \"\"\"SELECT COUNT(order_id)\n",
    "FROM orders\n",
    "WHERE order_id NOT IN (\n",
    "    SELECT DISTINCT(order_id)\n",
    "    FROM order_items\n",
    ");\n",
    "\"\"\"\n",
    "number_of_orders_without_order_items = query_result(query)\n",
    "print(f\"Il y a {number_of_orders_without_order_items[0][0]} lignes de la table 'orders' qui n'ont pas de correspondance dans la table 'order_items' (champ 'order_id').\")"
   ]
  },
  {
   "cell_type": "markdown",
   "id": "c426b184-9c9a-4bb4-b510-ef2cef922c24",
   "metadata": {},
   "source": [
    "La différence entre les **775** commandes sans produits dans la BDD pour **738** dans le dataframe s'explique probablement par la suppression des commandes hors période uniquement dans les dataframes  "
   ]
  },
  {
   "cell_type": "markdown",
   "id": "be24b71b-5c65-48e1-9d84-9046a2681f80",
   "metadata": {},
   "source": [
    "* Suppression des commandes sans produits"
   ]
  },
  {
   "cell_type": "markdown",
   "id": "0c4c55f1-b94b-4082-bb26-3b6b67581fef",
   "metadata": {},
   "source": [
    "#### 3.4.1.1 Récupération des `order_id` des commandes sans produits"
   ]
  },
  {
   "cell_type": "code",
   "execution_count": 56,
   "id": "fbff9c25-cf4c-4bb5-87e6-3768d52277be",
   "metadata": {},
   "outputs": [],
   "source": [
    "order_ids_without_order_items_mask = ~df_orders['order_id'].isin(order_items_counts.index)\n",
    "order_ids_to_exclude = df_orders.loc[order_ids_without_order_items_mask, 'order_id']"
   ]
  },
  {
   "cell_type": "code",
   "execution_count": 57,
   "id": "4423f7fa-c9ee-4ac0-a82a-93f09ade8fa0",
   "metadata": {},
   "outputs": [
    {
     "name": "stdout",
     "output_type": "stream",
     "text": [
      "738 commandes n'ont pas de correspondance dans 'df_order_items'.\n"
     ]
    }
   ],
   "source": [
    "print(f\"{order_ids_to_exclude.shape[0]} commandes n'ont pas de correspondance dans 'df_order_items'.\")"
   ]
  },
  {
   "cell_type": "markdown",
   "id": "6586aec1-0a60-48b8-87d4-c374ddc7541f",
   "metadata": {},
   "source": [
    "#### 3.4.1.2 Suppression des reviews dans le dataframe `df_order_reviews`"
   ]
  },
  {
   "cell_type": "code",
   "execution_count": 58,
   "id": "52b2c81b-8e69-46f6-a5f5-bfb9b4706076",
   "metadata": {},
   "outputs": [
    {
     "name": "stdout",
     "output_type": "stream",
     "text": [
      "723 reviews ont été supprimées.\n"
     ]
    }
   ],
   "source": [
    "# Nombre de reviews avant\n",
    "number_of_reviews = df_order_reviews.shape[0]\n",
    "\n",
    "# Suppression\n",
    "df_order_reviews = df_order_reviews[~df_order_reviews['order_id'].isin(order_ids_to_exclude)]\n",
    "\n",
    "# Résultat\n",
    "print(f\"{number_of_reviews - df_order_reviews.shape[0]} reviews ont été supprimées.\")"
   ]
  },
  {
   "cell_type": "markdown",
   "id": "87494aca-6db5-4fd9-8a22-77f7a19bac6d",
   "metadata": {},
   "source": [
    "#### 3.4.1.3 Suppression des réglements dans le dataframe `df_order_pymts`"
   ]
  },
  {
   "cell_type": "code",
   "execution_count": 59,
   "id": "318fb5ee-a25b-41dd-8acc-5563b40f0f0b",
   "metadata": {},
   "outputs": [
    {
     "name": "stdout",
     "output_type": "stream",
     "text": [
      "793 réglements ont été supprimés.\n"
     ]
    }
   ],
   "source": [
    "# Nombre de réglements avant\n",
    "number_of_payments = df_order_pymts.shape[0]\n",
    "\n",
    "# Suppression\n",
    "df_order_pymts = df_order_pymts[~df_order_pymts['order_id'].isin(order_ids_to_exclude)]\n",
    "\n",
    "# Résultat\n",
    "print(f\"{number_of_payments - df_order_pymts.shape[0]} réglements ont été supprimés.\")"
   ]
  },
  {
   "cell_type": "markdown",
   "id": "577c3f16-b116-4bf4-86da-e7aaf6168972",
   "metadata": {},
   "source": [
    "#### 3.4.1.4 Suppression des clients dans le dataframe `df_customers`"
   ]
  },
  {
   "cell_type": "code",
   "execution_count": 60,
   "id": "207dc9da-c371-4aa8-b856-4ca6b34117e4",
   "metadata": {},
   "outputs": [],
   "source": [
    "# Récupération des 'customer_id'\n",
    "customer_ids_to_exclude = df_orders.loc[order_ids_without_order_items_mask, 'customer_id']"
   ]
  },
  {
   "cell_type": "code",
   "execution_count": 61,
   "id": "110cc080-e942-47d3-ba27-c7917668af48",
   "metadata": {},
   "outputs": [
    {
     "name": "stdout",
     "output_type": "stream",
     "text": [
      "652 fiches client ont été supprimées.\n"
     ]
    }
   ],
   "source": [
    "# Nombre de fiches client avant\n",
    "number_of_customers = df_customers['customer_unique_id'].nunique()\n",
    "\n",
    "# Suppression\n",
    "df_customers = df_customers[~df_customers['customer_id'].isin(customer_ids_to_exclude)]\n",
    "\n",
    "# Résultat\n",
    "print(f\"{number_of_customers - df_customers['customer_unique_id'].nunique()} fiches client ont été supprimées.\")"
   ]
  },
  {
   "cell_type": "markdown",
   "id": "df578a29-86c3-4ecc-9923-be82f90fc3df",
   "metadata": {},
   "source": [
    "#### 3.4.1.5 Suppression des réglements dans le dataframe `df_order`"
   ]
  },
  {
   "cell_type": "code",
   "execution_count": 62,
   "id": "609883b1-a232-4e7b-926c-a74c9475c307",
   "metadata": {},
   "outputs": [
    {
     "name": "stdout",
     "output_type": "stream",
     "text": [
      "738 commandes ont été supprimées.\n"
     ]
    }
   ],
   "source": [
    "# Nombre commandes avant\n",
    "number_of_orders = df_orders['order_id'].nunique()\n",
    "\n",
    "# Suppression\n",
    "df_orders = df_orders.loc[~order_ids_without_order_items_mask]\n",
    "\n",
    "# Résultat\n",
    "print(f\"{number_of_orders - df_orders['order_id'].nunique()} commandes ont été supprimées.\")"
   ]
  },
  {
   "cell_type": "markdown",
   "id": "807eba69-8af0-47fb-a9e3-c344cd0a5633",
   "metadata": {},
   "source": [
    "#### 3.4.1.5 Vérification des cohérences"
   ]
  },
  {
   "cell_type": "markdown",
   "id": "fa5e3b9d-37b7-4b9b-ae69-684afbd378ee",
   "metadata": {},
   "source": [
    "* Vérifications de la cohérence de `df_order_items`"
   ]
  },
  {
   "cell_type": "code",
   "execution_count": 63,
   "id": "de559a28-b049-48e3-9a33-7c751688a19d",
   "metadata": {},
   "outputs": [
    {
     "name": "stdout",
     "output_type": "stream",
     "text": [
      "Toutes les lignes de 'df_order_items' ont une correspondance dans 'df_orders': True\n"
     ]
    }
   ],
   "source": [
    "# Chaque 'order_id' dans 'df_order_items' existe-t-il dans 'df_orders' ?\n",
    "order_items_in_orders = df_order_items['order_id'].isin(df_orders['order_id']).all()\n",
    "print(f\"Toutes les lignes de 'df_order_items' ont une correspondance dans 'df_orders': {order_items_in_orders}\")"
   ]
  },
  {
   "cell_type": "code",
   "execution_count": 64,
   "id": "c4bceebb-0665-42d9-b646-cad00548b158",
   "metadata": {},
   "outputs": [
    {
     "name": "stdout",
     "output_type": "stream",
     "text": [
      "Chaque 'order_id' dans 'df_orders' est unique: True\n"
     ]
    }
   ],
   "source": [
    "# Y-a-t-il des 'order_id' en double dans 'df_orders' ?\n",
    "orders_unique_check = df_orders['order_id'].is_unique\n",
    "print(f\"Chaque 'order_id' dans 'df_orders' est unique: {orders_unique_check}\")"
   ]
  },
  {
   "cell_type": "markdown",
   "id": "fe089718-c4b2-478b-ab82-4d01cac53197",
   "metadata": {},
   "source": [
    "* Vérification de la cohérence de `df_order`"
   ]
  },
  {
   "cell_type": "code",
   "execution_count": 65,
   "id": "53429073-5ecd-4c8a-9bd7-8e4e9a935727",
   "metadata": {},
   "outputs": [
    {
     "name": "stdout",
     "output_type": "stream",
     "text": [
      "Toutes les lignes de 'df_orders' ont au moins une correspondance dans 'df_order_items': True\n"
     ]
    }
   ],
   "source": [
    "# Nombre de correspondances pour chaque 'order_id' dans 'df_order_items'\n",
    "order_items_counts = df_order_items['order_id'].value_counts()\n",
    "\n",
    "# Chaque 'order_id' de 'df_orders' est_il présent dans 'df_order_items' ?\n",
    "orders_with_at_least_one_item = df_orders['order_id'].isin(order_items_counts.index).all()\n",
    "print(f\"Toutes les lignes de 'df_orders' ont au moins une correspondance dans 'df_order_items': {orders_with_at_least_one_item}\")"
   ]
  },
  {
   "cell_type": "markdown",
   "id": "cf276816-a65d-4898-b118-6b610c916bdf",
   "metadata": {},
   "source": [
    "Toutes les cohérences sont vérifiées.  \n",
    "**Le dataframe `df_features` devra être reconstruit et les features `Récence` et `Fréquence` recalculées**"
   ]
  },
  {
   "cell_type": "markdown",
   "id": "130ae234-ed45-483b-b919-09f0c23a49b8",
   "metadata": {},
   "source": [
    "### 3.4.2 Reprise de l'analyse de la table `order_items`"
   ]
  },
  {
   "cell_type": "markdown",
   "id": "e33fb788-b34a-481b-be1c-0bf6a03d6185",
   "metadata": {},
   "source": [
    "* Affichage des informations de la table `order_items` :"
   ]
  },
  {
   "cell_type": "code",
   "execution_count": 66,
   "id": "7fc1fac8-cf79-4582-b716-35835339a5d7",
   "metadata": {},
   "outputs": [
    {
     "data": {
      "text/html": [
       "<div>\n",
       "<style scoped>\n",
       "    .dataframe tbody tr th:only-of-type {\n",
       "        vertical-align: middle;\n",
       "    }\n",
       "\n",
       "    .dataframe tbody tr th {\n",
       "        vertical-align: top;\n",
       "    }\n",
       "\n",
       "    .dataframe thead th {\n",
       "        text-align: right;\n",
       "    }\n",
       "</style>\n",
       "<table border=\"1\" class=\"dataframe\">\n",
       "  <thead>\n",
       "    <tr style=\"text-align: right;\">\n",
       "      <th></th>\n",
       "      <th>Colonne</th>\n",
       "      <th>Type</th>\n",
       "      <th>Valeurs uniques</th>\n",
       "      <th>Doublons</th>\n",
       "      <th>Valeurs manquantes</th>\n",
       "      <th>% valeurs manquantes</th>\n",
       "    </tr>\n",
       "  </thead>\n",
       "  <tbody>\n",
       "    <tr>\n",
       "      <th>0</th>\n",
       "      <td>order_id</td>\n",
       "      <td>TEXT</td>\n",
       "      <td>98666</td>\n",
       "      <td>13984</td>\n",
       "      <td>0</td>\n",
       "      <td>0.0 %</td>\n",
       "    </tr>\n",
       "    <tr>\n",
       "      <th>1</th>\n",
       "      <td>order_item_id</td>\n",
       "      <td>BIGINT</td>\n",
       "      <td>21</td>\n",
       "      <td>112629</td>\n",
       "      <td>0</td>\n",
       "      <td>0.0 %</td>\n",
       "    </tr>\n",
       "    <tr>\n",
       "      <th>2</th>\n",
       "      <td>product_id</td>\n",
       "      <td>TEXT</td>\n",
       "      <td>32951</td>\n",
       "      <td>79699</td>\n",
       "      <td>0</td>\n",
       "      <td>0.0 %</td>\n",
       "    </tr>\n",
       "    <tr>\n",
       "      <th>3</th>\n",
       "      <td>seller_id</td>\n",
       "      <td>TEXT</td>\n",
       "      <td>3095</td>\n",
       "      <td>109555</td>\n",
       "      <td>0</td>\n",
       "      <td>0.0 %</td>\n",
       "    </tr>\n",
       "    <tr>\n",
       "      <th>4</th>\n",
       "      <td>shipping_limit_date</td>\n",
       "      <td>TEXT</td>\n",
       "      <td>93318</td>\n",
       "      <td>19332</td>\n",
       "      <td>0</td>\n",
       "      <td>0.0 %</td>\n",
       "    </tr>\n",
       "    <tr>\n",
       "      <th>5</th>\n",
       "      <td>price</td>\n",
       "      <td>FLOAT</td>\n",
       "      <td>5968</td>\n",
       "      <td>106682</td>\n",
       "      <td>0</td>\n",
       "      <td>0.0 %</td>\n",
       "    </tr>\n",
       "    <tr>\n",
       "      <th>6</th>\n",
       "      <td>freight_value</td>\n",
       "      <td>FLOAT</td>\n",
       "      <td>6999</td>\n",
       "      <td>105651</td>\n",
       "      <td>0</td>\n",
       "      <td>0.0 %</td>\n",
       "    </tr>\n",
       "  </tbody>\n",
       "</table>\n",
       "</div>"
      ],
      "text/plain": [
       "               Colonne    Type  Valeurs uniques  Doublons  Valeurs manquantes  \\\n",
       "0             order_id    TEXT            98666     13984                   0   \n",
       "1        order_item_id  BIGINT               21    112629                   0   \n",
       "2           product_id    TEXT            32951     79699                   0   \n",
       "3            seller_id    TEXT             3095    109555                   0   \n",
       "4  shipping_limit_date    TEXT            93318     19332                   0   \n",
       "5                price   FLOAT             5968    106682                   0   \n",
       "6        freight_value   FLOAT             6999    105651                   0   \n",
       "\n",
       "  % valeurs manquantes  \n",
       "0                0.0 %  \n",
       "1                0.0 %  \n",
       "2                0.0 %  \n",
       "3                0.0 %  \n",
       "4                0.0 %  \n",
       "5                0.0 %  \n",
       "6                0.0 %  "
      ]
     },
     "metadata": {},
     "output_type": "display_data"
    }
   ],
   "source": [
    "# Version table SQLite\n",
    "display(describe_table('order_items'))"
   ]
  },
  {
   "cell_type": "code",
   "execution_count": 67,
   "id": "d7630fa9-1005-42b5-91dd-1b474ed7d607",
   "metadata": {},
   "outputs": [
    {
     "data": {
      "text/html": [
       "<div>\n",
       "<style scoped>\n",
       "    .dataframe tbody tr th:only-of-type {\n",
       "        vertical-align: middle;\n",
       "    }\n",
       "\n",
       "    .dataframe tbody tr th {\n",
       "        vertical-align: top;\n",
       "    }\n",
       "\n",
       "    .dataframe thead th {\n",
       "        text-align: right;\n",
       "    }\n",
       "</style>\n",
       "<table border=\"1\" class=\"dataframe\">\n",
       "  <thead>\n",
       "    <tr style=\"text-align: right;\">\n",
       "      <th></th>\n",
       "      <th>Colonne</th>\n",
       "      <th>Type</th>\n",
       "      <th>Valeurs uniques</th>\n",
       "      <th>Doublons</th>\n",
       "      <th>Valeurs manquantes</th>\n",
       "      <th>% valeurs manquantes</th>\n",
       "    </tr>\n",
       "  </thead>\n",
       "  <tbody>\n",
       "    <tr>\n",
       "      <th>0</th>\n",
       "      <td>order_id</td>\n",
       "      <td>object</td>\n",
       "      <td>98353</td>\n",
       "      <td>13926</td>\n",
       "      <td>0</td>\n",
       "      <td>0.0 %</td>\n",
       "    </tr>\n",
       "    <tr>\n",
       "      <th>1</th>\n",
       "      <td>order_item_id</td>\n",
       "      <td>int64</td>\n",
       "      <td>21</td>\n",
       "      <td>112258</td>\n",
       "      <td>0</td>\n",
       "      <td>0.0 %</td>\n",
       "    </tr>\n",
       "    <tr>\n",
       "      <th>2</th>\n",
       "      <td>product_id</td>\n",
       "      <td>object</td>\n",
       "      <td>32787</td>\n",
       "      <td>79492</td>\n",
       "      <td>0</td>\n",
       "      <td>0.0 %</td>\n",
       "    </tr>\n",
       "    <tr>\n",
       "      <th>3</th>\n",
       "      <td>seller_id</td>\n",
       "      <td>object</td>\n",
       "      <td>3068</td>\n",
       "      <td>109211</td>\n",
       "      <td>0</td>\n",
       "      <td>0.0 %</td>\n",
       "    </tr>\n",
       "    <tr>\n",
       "      <th>4</th>\n",
       "      <td>shipping_limit_date</td>\n",
       "      <td>object</td>\n",
       "      <td>93005</td>\n",
       "      <td>19274</td>\n",
       "      <td>0</td>\n",
       "      <td>0.0 %</td>\n",
       "    </tr>\n",
       "    <tr>\n",
       "      <th>5</th>\n",
       "      <td>price</td>\n",
       "      <td>float64</td>\n",
       "      <td>5963</td>\n",
       "      <td>106316</td>\n",
       "      <td>0</td>\n",
       "      <td>0.0 %</td>\n",
       "    </tr>\n",
       "    <tr>\n",
       "      <th>6</th>\n",
       "      <td>freight_value</td>\n",
       "      <td>float64</td>\n",
       "      <td>6988</td>\n",
       "      <td>105291</td>\n",
       "      <td>0</td>\n",
       "      <td>0.0 %</td>\n",
       "    </tr>\n",
       "  </tbody>\n",
       "</table>\n",
       "</div>"
      ],
      "text/plain": [
       "               Colonne     Type  Valeurs uniques  Doublons  \\\n",
       "0             order_id   object            98353     13926   \n",
       "1        order_item_id    int64               21    112258   \n",
       "2           product_id   object            32787     79492   \n",
       "3            seller_id   object             3068    109211   \n",
       "4  shipping_limit_date   object            93005     19274   \n",
       "5                price  float64             5963    106316   \n",
       "6        freight_value  float64             6988    105291   \n",
       "\n",
       "   Valeurs manquantes % valeurs manquantes  \n",
       "0                   0                0.0 %  \n",
       "1                   0                0.0 %  \n",
       "2                   0                0.0 %  \n",
       "3                   0                0.0 %  \n",
       "4                   0                0.0 %  \n",
       "5                   0                0.0 %  \n",
       "6                   0                0.0 %  "
      ]
     },
     "metadata": {},
     "output_type": "display_data"
    }
   ],
   "source": [
    "# Version dataframe pandas\n",
    "display(get_dataframe_infos(df_order_items))"
   ]
  },
  {
   "cell_type": "markdown",
   "id": "70e87141-273a-41f2-916a-fd4d19ccb1ee",
   "metadata": {},
   "source": [
    "* Affichage de quelques lignes"
   ]
  },
  {
   "cell_type": "code",
   "execution_count": 68,
   "id": "32a324bb-9ed4-403e-a520-f49b4ebfc128",
   "metadata": {},
   "outputs": [
    {
     "data": {
      "text/html": [
       "<div>\n",
       "<style scoped>\n",
       "    .dataframe tbody tr th:only-of-type {\n",
       "        vertical-align: middle;\n",
       "    }\n",
       "\n",
       "    .dataframe tbody tr th {\n",
       "        vertical-align: top;\n",
       "    }\n",
       "\n",
       "    .dataframe thead th {\n",
       "        text-align: right;\n",
       "    }\n",
       "</style>\n",
       "<table border=\"1\" class=\"dataframe\">\n",
       "  <thead>\n",
       "    <tr style=\"text-align: right;\">\n",
       "      <th></th>\n",
       "      <th>order_id</th>\n",
       "      <th>order_item_id</th>\n",
       "      <th>product_id</th>\n",
       "      <th>seller_id</th>\n",
       "      <th>shipping_limit_date</th>\n",
       "      <th>price</th>\n",
       "      <th>freight_value</th>\n",
       "    </tr>\n",
       "  </thead>\n",
       "  <tbody>\n",
       "    <tr>\n",
       "      <th>0</th>\n",
       "      <td>00010242fe8c5a6d1ba2dd792cb16214</td>\n",
       "      <td>1</td>\n",
       "      <td>4244733e06e7ecb4970a6e2683c13e61</td>\n",
       "      <td>48436dade18ac8b2bce089ec2a041202</td>\n",
       "      <td>2017-09-19 09:45:35</td>\n",
       "      <td>58.90</td>\n",
       "      <td>13.29</td>\n",
       "    </tr>\n",
       "    <tr>\n",
       "      <th>1</th>\n",
       "      <td>00018f77f2f0320c557190d7a144bdd3</td>\n",
       "      <td>1</td>\n",
       "      <td>e5f2d52b802189ee658865ca93d83a8f</td>\n",
       "      <td>dd7ddc04e1b6c2c614352b383efe2d36</td>\n",
       "      <td>2017-05-03 11:05:13</td>\n",
       "      <td>239.90</td>\n",
       "      <td>19.93</td>\n",
       "    </tr>\n",
       "    <tr>\n",
       "      <th>2</th>\n",
       "      <td>000229ec398224ef6ca0657da4fc703e</td>\n",
       "      <td>1</td>\n",
       "      <td>c777355d18b72b67abbeef9df44fd0fd</td>\n",
       "      <td>5b51032eddd242adc84c38acab88f23d</td>\n",
       "      <td>2018-01-18 14:48:30</td>\n",
       "      <td>199.00</td>\n",
       "      <td>17.87</td>\n",
       "    </tr>\n",
       "    <tr>\n",
       "      <th>3</th>\n",
       "      <td>00024acbcdf0a6daa1e931b038114c75</td>\n",
       "      <td>1</td>\n",
       "      <td>7634da152a4610f1595efa32f14722fc</td>\n",
       "      <td>9d7a1d34a5052409006425275ba1c2b4</td>\n",
       "      <td>2018-08-15 10:10:18</td>\n",
       "      <td>12.99</td>\n",
       "      <td>12.79</td>\n",
       "    </tr>\n",
       "    <tr>\n",
       "      <th>4</th>\n",
       "      <td>00042b26cf59d7ce69dfabb4e55b4fd9</td>\n",
       "      <td>1</td>\n",
       "      <td>ac6c3623068f30de03045865e4e10089</td>\n",
       "      <td>df560393f3a51e74553ab94004ba5c87</td>\n",
       "      <td>2017-02-13 13:57:51</td>\n",
       "      <td>199.90</td>\n",
       "      <td>18.14</td>\n",
       "    </tr>\n",
       "    <tr>\n",
       "      <th>...</th>\n",
       "      <td>...</td>\n",
       "      <td>...</td>\n",
       "      <td>...</td>\n",
       "      <td>...</td>\n",
       "      <td>...</td>\n",
       "      <td>...</td>\n",
       "      <td>...</td>\n",
       "    </tr>\n",
       "    <tr>\n",
       "      <th>112645</th>\n",
       "      <td>fffc94f6ce00a00581880bf54a75a037</td>\n",
       "      <td>1</td>\n",
       "      <td>4aa6014eceb682077f9dc4bffebc05b0</td>\n",
       "      <td>b8bc237ba3788b23da09c0f1f3a3288c</td>\n",
       "      <td>2018-05-02 04:11:01</td>\n",
       "      <td>299.99</td>\n",
       "      <td>43.41</td>\n",
       "    </tr>\n",
       "    <tr>\n",
       "      <th>112646</th>\n",
       "      <td>fffcd46ef2263f404302a634eb57f7eb</td>\n",
       "      <td>1</td>\n",
       "      <td>32e07fd915822b0765e448c4dd74c828</td>\n",
       "      <td>f3c38ab652836d21de61fb8314b69182</td>\n",
       "      <td>2018-07-20 04:31:48</td>\n",
       "      <td>350.00</td>\n",
       "      <td>36.53</td>\n",
       "    </tr>\n",
       "    <tr>\n",
       "      <th>112647</th>\n",
       "      <td>fffce4705a9662cd70adb13d4a31832d</td>\n",
       "      <td>1</td>\n",
       "      <td>72a30483855e2eafc67aee5dc2560482</td>\n",
       "      <td>c3cfdc648177fdbbbb35635a37472c53</td>\n",
       "      <td>2017-10-30 17:14:25</td>\n",
       "      <td>99.90</td>\n",
       "      <td>16.95</td>\n",
       "    </tr>\n",
       "    <tr>\n",
       "      <th>112648</th>\n",
       "      <td>fffe18544ffabc95dfada21779c9644f</td>\n",
       "      <td>1</td>\n",
       "      <td>9c422a519119dcad7575db5af1ba540e</td>\n",
       "      <td>2b3e4a2a3ea8e01938cabda2a3e5cc79</td>\n",
       "      <td>2017-08-21 00:04:32</td>\n",
       "      <td>55.99</td>\n",
       "      <td>8.72</td>\n",
       "    </tr>\n",
       "    <tr>\n",
       "      <th>112649</th>\n",
       "      <td>fffe41c64501cc87c801fd61db3f6244</td>\n",
       "      <td>1</td>\n",
       "      <td>350688d9dc1e75ff97be326363655e01</td>\n",
       "      <td>f7ccf836d21b2fb1de37564105216cc1</td>\n",
       "      <td>2018-06-12 17:10:13</td>\n",
       "      <td>43.00</td>\n",
       "      <td>12.79</td>\n",
       "    </tr>\n",
       "  </tbody>\n",
       "</table>\n",
       "<p>112279 rows × 7 columns</p>\n",
       "</div>"
      ],
      "text/plain": [
       "                                order_id  order_item_id  \\\n",
       "0       00010242fe8c5a6d1ba2dd792cb16214              1   \n",
       "1       00018f77f2f0320c557190d7a144bdd3              1   \n",
       "2       000229ec398224ef6ca0657da4fc703e              1   \n",
       "3       00024acbcdf0a6daa1e931b038114c75              1   \n",
       "4       00042b26cf59d7ce69dfabb4e55b4fd9              1   \n",
       "...                                  ...            ...   \n",
       "112645  fffc94f6ce00a00581880bf54a75a037              1   \n",
       "112646  fffcd46ef2263f404302a634eb57f7eb              1   \n",
       "112647  fffce4705a9662cd70adb13d4a31832d              1   \n",
       "112648  fffe18544ffabc95dfada21779c9644f              1   \n",
       "112649  fffe41c64501cc87c801fd61db3f6244              1   \n",
       "\n",
       "                              product_id                         seller_id  \\\n",
       "0       4244733e06e7ecb4970a6e2683c13e61  48436dade18ac8b2bce089ec2a041202   \n",
       "1       e5f2d52b802189ee658865ca93d83a8f  dd7ddc04e1b6c2c614352b383efe2d36   \n",
       "2       c777355d18b72b67abbeef9df44fd0fd  5b51032eddd242adc84c38acab88f23d   \n",
       "3       7634da152a4610f1595efa32f14722fc  9d7a1d34a5052409006425275ba1c2b4   \n",
       "4       ac6c3623068f30de03045865e4e10089  df560393f3a51e74553ab94004ba5c87   \n",
       "...                                  ...                               ...   \n",
       "112645  4aa6014eceb682077f9dc4bffebc05b0  b8bc237ba3788b23da09c0f1f3a3288c   \n",
       "112646  32e07fd915822b0765e448c4dd74c828  f3c38ab652836d21de61fb8314b69182   \n",
       "112647  72a30483855e2eafc67aee5dc2560482  c3cfdc648177fdbbbb35635a37472c53   \n",
       "112648  9c422a519119dcad7575db5af1ba540e  2b3e4a2a3ea8e01938cabda2a3e5cc79   \n",
       "112649  350688d9dc1e75ff97be326363655e01  f7ccf836d21b2fb1de37564105216cc1   \n",
       "\n",
       "        shipping_limit_date   price  freight_value  \n",
       "0       2017-09-19 09:45:35   58.90          13.29  \n",
       "1       2017-05-03 11:05:13  239.90          19.93  \n",
       "2       2018-01-18 14:48:30  199.00          17.87  \n",
       "3       2018-08-15 10:10:18   12.99          12.79  \n",
       "4       2017-02-13 13:57:51  199.90          18.14  \n",
       "...                     ...     ...            ...  \n",
       "112645  2018-05-02 04:11:01  299.99          43.41  \n",
       "112646  2018-07-20 04:31:48  350.00          36.53  \n",
       "112647  2017-10-30 17:14:25   99.90          16.95  \n",
       "112648  2017-08-21 00:04:32   55.99           8.72  \n",
       "112649  2018-06-12 17:10:13   43.00          12.79  \n",
       "\n",
       "[112279 rows x 7 columns]"
      ]
     },
     "metadata": {},
     "output_type": "display_data"
    }
   ],
   "source": [
    "display(df_order_items)"
   ]
  },
  {
   "cell_type": "markdown",
   "id": "95de629f-d551-407b-a9e9-4580dcd1a99a",
   "metadata": {},
   "source": [
    "* Conversions de type"
   ]
  },
  {
   "cell_type": "code",
   "execution_count": 69,
   "id": "d4280b3c-6d50-4972-9b33-0db16c8084f0",
   "metadata": {},
   "outputs": [],
   "source": [
    "# Dictionnaire de conversion\n",
    "to_transform = {\n",
    "    'to_string': ['order_id', 'product_id', 'seller_id'],\n",
    "    'to_date': ['shipping_limit_date']\n",
    "}\n",
    "\n",
    "# Conversions\n",
    "df_orders_items = transform_data_types(df_order_items, to_transform)"
   ]
  },
  {
   "cell_type": "markdown",
   "id": "8b5108b2-3543-4763-98ee-da0de4f2511e",
   "metadata": {},
   "source": [
    "* Vérification des conversions"
   ]
  },
  {
   "cell_type": "code",
   "execution_count": 70,
   "id": "7f134b56-bcc2-4e74-acfb-26ed11f79c0b",
   "metadata": {},
   "outputs": [
    {
     "data": {
      "text/html": [
       "<div>\n",
       "<style scoped>\n",
       "    .dataframe tbody tr th:only-of-type {\n",
       "        vertical-align: middle;\n",
       "    }\n",
       "\n",
       "    .dataframe tbody tr th {\n",
       "        vertical-align: top;\n",
       "    }\n",
       "\n",
       "    .dataframe thead th {\n",
       "        text-align: right;\n",
       "    }\n",
       "</style>\n",
       "<table border=\"1\" class=\"dataframe\">\n",
       "  <thead>\n",
       "    <tr style=\"text-align: right;\">\n",
       "      <th></th>\n",
       "      <th>Colonne</th>\n",
       "      <th>Type</th>\n",
       "      <th>Valeurs uniques</th>\n",
       "      <th>Doublons</th>\n",
       "      <th>Valeurs manquantes</th>\n",
       "      <th>% valeurs manquantes</th>\n",
       "    </tr>\n",
       "  </thead>\n",
       "  <tbody>\n",
       "    <tr>\n",
       "      <th>0</th>\n",
       "      <td>order_id</td>\n",
       "      <td>object</td>\n",
       "      <td>98353</td>\n",
       "      <td>13926</td>\n",
       "      <td>0</td>\n",
       "      <td>0.0 %</td>\n",
       "    </tr>\n",
       "    <tr>\n",
       "      <th>1</th>\n",
       "      <td>order_item_id</td>\n",
       "      <td>int64</td>\n",
       "      <td>21</td>\n",
       "      <td>112258</td>\n",
       "      <td>0</td>\n",
       "      <td>0.0 %</td>\n",
       "    </tr>\n",
       "    <tr>\n",
       "      <th>2</th>\n",
       "      <td>product_id</td>\n",
       "      <td>object</td>\n",
       "      <td>32787</td>\n",
       "      <td>79492</td>\n",
       "      <td>0</td>\n",
       "      <td>0.0 %</td>\n",
       "    </tr>\n",
       "    <tr>\n",
       "      <th>3</th>\n",
       "      <td>seller_id</td>\n",
       "      <td>object</td>\n",
       "      <td>3068</td>\n",
       "      <td>109211</td>\n",
       "      <td>0</td>\n",
       "      <td>0.0 %</td>\n",
       "    </tr>\n",
       "    <tr>\n",
       "      <th>4</th>\n",
       "      <td>shipping_limit_date</td>\n",
       "      <td>datetime64[ns]</td>\n",
       "      <td>93005</td>\n",
       "      <td>19274</td>\n",
       "      <td>0</td>\n",
       "      <td>0.0 %</td>\n",
       "    </tr>\n",
       "    <tr>\n",
       "      <th>5</th>\n",
       "      <td>price</td>\n",
       "      <td>float64</td>\n",
       "      <td>5963</td>\n",
       "      <td>106316</td>\n",
       "      <td>0</td>\n",
       "      <td>0.0 %</td>\n",
       "    </tr>\n",
       "    <tr>\n",
       "      <th>6</th>\n",
       "      <td>freight_value</td>\n",
       "      <td>float64</td>\n",
       "      <td>6988</td>\n",
       "      <td>105291</td>\n",
       "      <td>0</td>\n",
       "      <td>0.0 %</td>\n",
       "    </tr>\n",
       "  </tbody>\n",
       "</table>\n",
       "</div>"
      ],
      "text/plain": [
       "               Colonne            Type  Valeurs uniques  Doublons  \\\n",
       "0             order_id          object            98353     13926   \n",
       "1        order_item_id           int64               21    112258   \n",
       "2           product_id          object            32787     79492   \n",
       "3            seller_id          object             3068    109211   \n",
       "4  shipping_limit_date  datetime64[ns]            93005     19274   \n",
       "5                price         float64             5963    106316   \n",
       "6        freight_value         float64             6988    105291   \n",
       "\n",
       "   Valeurs manquantes % valeurs manquantes  \n",
       "0                   0                0.0 %  \n",
       "1                   0                0.0 %  \n",
       "2                   0                0.0 %  \n",
       "3                   0                0.0 %  \n",
       "4                   0                0.0 %  \n",
       "5                   0                0.0 %  \n",
       "6                   0                0.0 %  "
      ]
     },
     "metadata": {},
     "output_type": "display_data"
    }
   ],
   "source": [
    "display(get_dataframe_infos(df_order_items))"
   ]
  },
  {
   "cell_type": "markdown",
   "id": "04480c01-ae64-447e-a5bc-809c62f01d54",
   "metadata": {},
   "source": [
    "* Distribution variable `price`"
   ]
  },
  {
   "cell_type": "code",
   "execution_count": 71,
   "id": "fbeb6845-298d-422d-b684-4b2f9efe2139",
   "metadata": {},
   "outputs": [
    {
     "data": {
      "image/png": "[encoded data removed]",
      "text/plain": [
       "<Figure size 600x450 with 2 Axes>"
      ]
     },
     "metadata": {},
     "output_type": "display_data"
    }
   ],
   "source": [
    "# Histogramme et boxplot variable `price`\n",
    "plot_distribution(df_order_items, 'price', 'Reals', 'Nombre d\\'unités achetées')"
   ]
  },
  {
   "cell_type": "code",
   "execution_count": 72,
   "id": "1b51577c-23b4-4083-9bfb-142dbd4e4a66",
   "metadata": {},
   "outputs": [
    {
     "data": {
      "text/html": [
       "<div>\n",
       "<style scoped>\n",
       "    .dataframe tbody tr th:only-of-type {\n",
       "        vertical-align: middle;\n",
       "    }\n",
       "\n",
       "    .dataframe tbody tr th {\n",
       "        vertical-align: top;\n",
       "    }\n",
       "\n",
       "    .dataframe thead th {\n",
       "        text-align: right;\n",
       "    }\n",
       "</style>\n",
       "<table border=\"1\" class=\"dataframe\">\n",
       "  <thead>\n",
       "    <tr style=\"text-align: right;\">\n",
       "      <th></th>\n",
       "      <th>price</th>\n",
       "    </tr>\n",
       "  </thead>\n",
       "  <tbody>\n",
       "    <tr>\n",
       "      <th>count</th>\n",
       "      <td>112279.000000</td>\n",
       "    </tr>\n",
       "    <tr>\n",
       "      <th>mean</th>\n",
       "      <td>120.607707</td>\n",
       "    </tr>\n",
       "    <tr>\n",
       "      <th>std</th>\n",
       "      <td>183.644889</td>\n",
       "    </tr>\n",
       "    <tr>\n",
       "      <th>min</th>\n",
       "      <td>0.850000</td>\n",
       "    </tr>\n",
       "    <tr>\n",
       "      <th>25%</th>\n",
       "      <td>39.900000</td>\n",
       "    </tr>\n",
       "    <tr>\n",
       "      <th>50%</th>\n",
       "      <td>74.990000</td>\n",
       "    </tr>\n",
       "    <tr>\n",
       "      <th>75%</th>\n",
       "      <td>134.900000</td>\n",
       "    </tr>\n",
       "    <tr>\n",
       "      <th>max</th>\n",
       "      <td>6735.000000</td>\n",
       "    </tr>\n",
       "  </tbody>\n",
       "</table>\n",
       "</div>"
      ],
      "text/plain": [
       "               price\n",
       "count  112279.000000\n",
       "mean      120.607707\n",
       "std       183.644889\n",
       "min         0.850000\n",
       "25%        39.900000\n",
       "50%        74.990000\n",
       "75%       134.900000\n",
       "max      6735.000000"
      ]
     },
     "execution_count": 72,
     "metadata": {},
     "output_type": "execute_result"
    }
   ],
   "source": [
    "# Principales mesures statistiques\n",
    "df_order_items['price'].to_frame().describe()"
   ]
  },
  {
   "cell_type": "markdown",
   "id": "01136da9-2733-4968-990f-e357b26cec8b",
   "metadata": {},
   "source": [
    "> Sur la période 2016 - 2018, 1 euro valait entre 3.2326 réals au minimum et 4.9181 au maximum    \n",
    "> *(Source : [exchange_rates.org](https://www.exchange-rates.org/fr/historique/eur-brl-2018))*\n",
    "* Prix du produit le plus cher : 6 735 / 3.2326 = 2 083 €, rien d'anormal"
   ]
  },
  {
   "cell_type": "markdown",
   "id": "fc002728-7136-488c-9c54-199be0484b06",
   "metadata": {},
   "source": [
    "* Distribution variable `freight_value`"
   ]
  },
  {
   "cell_type": "code",
   "execution_count": 73,
   "id": "0b5d7290-ea43-4e9e-81ef-73208f3a4d6a",
   "metadata": {},
   "outputs": [
    {
     "data": {
      "image/png": "[encoded data removed]",
      "text/plain": [
       "<Figure size 600x450 with 2 Axes>"
      ]
     },
     "metadata": {},
     "output_type": "display_data"
    }
   ],
   "source": [
    "# Histogramme et boxplot variable `freight_value`\n",
    "plot_distribution(df_order_items, 'freight_value', 'Reals', 'Nombre d\\'unités achetées')"
   ]
  },
  {
   "cell_type": "code",
   "execution_count": 74,
   "id": "b01058d9-a821-4759-9f38-74d68616ae68",
   "metadata": {},
   "outputs": [
    {
     "data": {
      "text/html": [
       "<div>\n",
       "<style scoped>\n",
       "    .dataframe tbody tr th:only-of-type {\n",
       "        vertical-align: middle;\n",
       "    }\n",
       "\n",
       "    .dataframe tbody tr th {\n",
       "        vertical-align: top;\n",
       "    }\n",
       "\n",
       "    .dataframe thead th {\n",
       "        text-align: right;\n",
       "    }\n",
       "</style>\n",
       "<table border=\"1\" class=\"dataframe\">\n",
       "  <thead>\n",
       "    <tr style=\"text-align: right;\">\n",
       "      <th></th>\n",
       "      <th>freight_value</th>\n",
       "    </tr>\n",
       "  </thead>\n",
       "  <tbody>\n",
       "    <tr>\n",
       "      <th>count</th>\n",
       "      <td>112279.000000</td>\n",
       "    </tr>\n",
       "    <tr>\n",
       "      <th>mean</th>\n",
       "      <td>19.990299</td>\n",
       "    </tr>\n",
       "    <tr>\n",
       "      <th>std</th>\n",
       "      <td>15.809851</td>\n",
       "    </tr>\n",
       "    <tr>\n",
       "      <th>min</th>\n",
       "      <td>0.000000</td>\n",
       "    </tr>\n",
       "    <tr>\n",
       "      <th>25%</th>\n",
       "      <td>13.080000</td>\n",
       "    </tr>\n",
       "    <tr>\n",
       "      <th>50%</th>\n",
       "      <td>16.260000</td>\n",
       "    </tr>\n",
       "    <tr>\n",
       "      <th>75%</th>\n",
       "      <td>21.150000</td>\n",
       "    </tr>\n",
       "    <tr>\n",
       "      <th>max</th>\n",
       "      <td>409.680000</td>\n",
       "    </tr>\n",
       "  </tbody>\n",
       "</table>\n",
       "</div>"
      ],
      "text/plain": [
       "       freight_value\n",
       "count  112279.000000\n",
       "mean       19.990299\n",
       "std        15.809851\n",
       "min         0.000000\n",
       "25%        13.080000\n",
       "50%        16.260000\n",
       "75%        21.150000\n",
       "max       409.680000"
      ]
     },
     "execution_count": 74,
     "metadata": {},
     "output_type": "execute_result"
    }
   ],
   "source": [
    "# Principales mesures statistiques\n",
    "df_order_items['freight_value'].to_frame().describe()"
   ]
  },
  {
   "cell_type": "markdown",
   "id": "0c9fcd77-aa98-4f3b-8892-03840319566e",
   "metadata": {},
   "source": [
    "* Logiquement les distributions se ressemblent, plus un produit est cher, plus élevés sont ses frais de livraison\n",
    "* Certaines valeurs sont à 0, rien d'anormal (livraisons gratuites)"
   ]
  },
  {
   "cell_type": "markdown",
   "id": "10ca1f3a-518a-4d83-8335-58b29cd98ac7",
   "metadata": {},
   "source": [
    "### 3.4.3 Calcul de la feature `Montant`"
   ]
  },
  {
   "cell_type": "code",
   "execution_count": 75,
   "id": "428ba7be-a08b-4987-93a4-a300710e3591",
   "metadata": {},
   "outputs": [],
   "source": [
    "# 'total_price' et 'total_freight' pour chaque 'id_order'\n",
    "df_amounts_by_orders = df_order_items.groupby('order_id').agg(\n",
    "    total_price = ('price', 'sum'),\n",
    "    total_freight = ('freight_value', 'sum')\n",
    ").reset_index()\n",
    "\n",
    "# Ajout montant total de chaque commande\n",
    "df_amounts_by_orders['total_order'] = df_amounts_by_orders['total_price'] + df_amounts_by_orders['total_freight']"
   ]
  },
  {
   "cell_type": "code",
   "execution_count": 76,
   "id": "8f685cfd-9e3c-4619-9e96-92b6395963cb",
   "metadata": {},
   "outputs": [],
   "source": [
    "# Ajout du 'customer_id' et suppression variables 'total_price' et 'total_freight'\n",
    "df_amounts_by_orders = pd.merge(df_orders[['order_id', 'customer_id']], df_amounts_by_orders[['total_order', 'order_id']], on='order_id', how='inner')"
   ]
  },
  {
   "cell_type": "code",
   "execution_count": 77,
   "id": "3e152631-eafd-4518-9910-cbb28ecb6d40",
   "metadata": {},
   "outputs": [],
   "source": [
    "# Ajout du 'customer_unique_id'\n",
    "df_amounts_by_orders = pd.merge(df_customers[['customer_id', 'customer_unique_id']], df_amounts_by_orders, on='customer_id', how='right')"
   ]
  },
  {
   "cell_type": "code",
   "execution_count": 78,
   "id": "c08a2dd8-efe4-4422-bbe8-406902d79bb8",
   "metadata": {},
   "outputs": [
    {
     "data": {
      "text/html": [
       "<div>\n",
       "<style scoped>\n",
       "    .dataframe tbody tr th:only-of-type {\n",
       "        vertical-align: middle;\n",
       "    }\n",
       "\n",
       "    .dataframe tbody tr th {\n",
       "        vertical-align: top;\n",
       "    }\n",
       "\n",
       "    .dataframe thead th {\n",
       "        text-align: right;\n",
       "    }\n",
       "</style>\n",
       "<table border=\"1\" class=\"dataframe\">\n",
       "  <thead>\n",
       "    <tr style=\"text-align: right;\">\n",
       "      <th></th>\n",
       "      <th>customer_unique_id</th>\n",
       "      <th>Montant</th>\n",
       "    </tr>\n",
       "  </thead>\n",
       "  <tbody>\n",
       "    <tr>\n",
       "      <th>0</th>\n",
       "      <td>0000366f3b9a7992bf8c76cfdf3221e2</td>\n",
       "      <td>141.90</td>\n",
       "    </tr>\n",
       "    <tr>\n",
       "      <th>1</th>\n",
       "      <td>0000b849f77a49e4a4ce2b2a4ca5be3f</td>\n",
       "      <td>27.19</td>\n",
       "    </tr>\n",
       "    <tr>\n",
       "      <th>2</th>\n",
       "      <td>0000f46a3911fa3c0805444483337064</td>\n",
       "      <td>86.22</td>\n",
       "    </tr>\n",
       "    <tr>\n",
       "      <th>3</th>\n",
       "      <td>0000f6ccb0745a6a4b88665a16c9f078</td>\n",
       "      <td>43.62</td>\n",
       "    </tr>\n",
       "    <tr>\n",
       "      <th>4</th>\n",
       "      <td>0004aac84e0df4da2b147fca70cf8255</td>\n",
       "      <td>196.89</td>\n",
       "    </tr>\n",
       "    <tr>\n",
       "      <th>...</th>\n",
       "      <td>...</td>\n",
       "      <td>...</td>\n",
       "    </tr>\n",
       "    <tr>\n",
       "      <th>95116</th>\n",
       "      <td>fffcf5a5ff07b0908bd4e2dbc735a684</td>\n",
       "      <td>2067.42</td>\n",
       "    </tr>\n",
       "    <tr>\n",
       "      <th>95117</th>\n",
       "      <td>fffea47cd6d3cc0a88bd621562a9d061</td>\n",
       "      <td>84.58</td>\n",
       "    </tr>\n",
       "    <tr>\n",
       "      <th>95118</th>\n",
       "      <td>ffff371b4d645b6ecea244b27531430a</td>\n",
       "      <td>112.46</td>\n",
       "    </tr>\n",
       "    <tr>\n",
       "      <th>95119</th>\n",
       "      <td>ffff5962728ec6157033ef9805bacc48</td>\n",
       "      <td>133.69</td>\n",
       "    </tr>\n",
       "    <tr>\n",
       "      <th>95120</th>\n",
       "      <td>ffffd2657e2aad2907e67c3e9daecbeb</td>\n",
       "      <td>71.56</td>\n",
       "    </tr>\n",
       "  </tbody>\n",
       "</table>\n",
       "<p>95121 rows × 2 columns</p>\n",
       "</div>"
      ],
      "text/plain": [
       "                     customer_unique_id  Montant\n",
       "0      0000366f3b9a7992bf8c76cfdf3221e2   141.90\n",
       "1      0000b849f77a49e4a4ce2b2a4ca5be3f    27.19\n",
       "2      0000f46a3911fa3c0805444483337064    86.22\n",
       "3      0000f6ccb0745a6a4b88665a16c9f078    43.62\n",
       "4      0004aac84e0df4da2b147fca70cf8255   196.89\n",
       "...                                 ...      ...\n",
       "95116  fffcf5a5ff07b0908bd4e2dbc735a684  2067.42\n",
       "95117  fffea47cd6d3cc0a88bd621562a9d061    84.58\n",
       "95118  ffff371b4d645b6ecea244b27531430a   112.46\n",
       "95119  ffff5962728ec6157033ef9805bacc48   133.69\n",
       "95120  ffffd2657e2aad2907e67c3e9daecbeb    71.56\n",
       "\n",
       "[95121 rows x 2 columns]"
      ]
     },
     "metadata": {},
     "output_type": "display_data"
    }
   ],
   "source": [
    "# Montant total par client\n",
    "df_amount_by_customer = df_amounts_by_orders.groupby('customer_unique_id')['total_order'].sum().reset_index().rename(columns={'total_order': 'Montant'})\n",
    "display(df_amount_by_customer)"
   ]
  },
  {
   "cell_type": "markdown",
   "id": "671ede9e-0df8-4efb-94e3-f44381bb827e",
   "metadata": {},
   "source": [
    "## 3.5 Création du dataframe `df_features`"
   ]
  },
  {
   "cell_type": "markdown",
   "id": "77940eb2-fa04-4f8a-b043-bdea24e0b6ac",
   "metadata": {},
   "source": [
    "### 3.5.1 Feature `Récence`"
   ]
  },
  {
   "cell_type": "markdown",
   "id": "b896440a-0e5b-42e4-9df3-625ed91049f3",
   "metadata": {},
   "source": [
    "* Préparation des éléments"
   ]
  },
  {
   "cell_type": "code",
   "execution_count": 79,
   "id": "86af99a6-1f16-4eae-a03b-afa35948fa01",
   "metadata": {},
   "outputs": [],
   "source": [
    "# Merge des features 'customer_unique_id' et 'order_purchase_timestamp' \n",
    "df_purchase_timestamp = pd.merge(df_orders[['customer_id', 'order_purchase_timestamp']], df_customers[['customer_id', 'customer_unique_id']], on='customer_id', how='left')"
   ]
  },
  {
   "cell_type": "code",
   "execution_count": 80,
   "id": "d490f6e5-b085-4e6c-be6d-fee6c4657649",
   "metadata": {},
   "outputs": [],
   "source": [
    "# Récupération de la date de dernier achat de chaque 'customer_unique_id'\n",
    "last_purchase_dates = df_purchase_timestamp.groupby(['customer_unique_id']).agg(\n",
    "    last_purchase_timestamp = ('order_purchase_timestamp', 'max')\n",
    ").reset_index()"
   ]
  },
  {
   "cell_type": "code",
   "execution_count": 81,
   "id": "e6a78dc5-30b2-4b36-8b5b-c586ae9f3b8a",
   "metadata": {},
   "outputs": [],
   "source": [
    "# Conversion de la date de référence au format datetime \"YYYY-MM-DD 00:00:00\"\n",
    "last_order_date = pd.to_datetime('2018-08-31')\n",
    "\n",
    "# Conversion de la date de dernier achat au format datetime \"YYYY-MM-DD 00:00:00\"\n",
    "last_purchase_dates['last_purchase_timestamp'] = last_purchase_dates['last_purchase_timestamp'].dt.normalize()"
   ]
  },
  {
   "cell_type": "markdown",
   "id": "8df2fb8b-36fc-44ba-a8f7-16b07c97149b",
   "metadata": {},
   "source": [
    "* Calcul de la feature"
   ]
  },
  {
   "cell_type": "code",
   "execution_count": 82,
   "id": "dce0e742-52bb-4262-b73b-0abe6f8e48e3",
   "metadata": {},
   "outputs": [],
   "source": [
    "# Calcul de la feature 'Récence'\n",
    "last_purchase_dates['Récence'] = (last_order_date - last_purchase_dates['last_purchase_timestamp']).dt.days"
   ]
  },
  {
   "cell_type": "markdown",
   "id": "2cc92a6e-0fa1-4c3c-82f5-d30306bdc943",
   "metadata": {},
   "source": [
    "* Création du dataframe `df_features`"
   ]
  },
  {
   "cell_type": "code",
   "execution_count": 83,
   "id": "f873af41-d90d-43a5-bd0d-b9f0df88e7d1",
   "metadata": {},
   "outputs": [],
   "source": [
    "# Création du dataframe 'df_features' avec feature 'Récence'\n",
    "df_features = last_purchase_dates[['customer_unique_id', 'Récence']]"
   ]
  },
  {
   "cell_type": "code",
   "execution_count": 84,
   "id": "6c7f57fd-83f5-4094-8912-4dd924804cc2",
   "metadata": {},
   "outputs": [
    {
     "data": {
      "text/html": [
       "<div>\n",
       "<style scoped>\n",
       "    .dataframe tbody tr th:only-of-type {\n",
       "        vertical-align: middle;\n",
       "    }\n",
       "\n",
       "    .dataframe tbody tr th {\n",
       "        vertical-align: top;\n",
       "    }\n",
       "\n",
       "    .dataframe thead th {\n",
       "        text-align: right;\n",
       "    }\n",
       "</style>\n",
       "<table border=\"1\" class=\"dataframe\">\n",
       "  <thead>\n",
       "    <tr style=\"text-align: right;\">\n",
       "      <th></th>\n",
       "      <th>customer_unique_id</th>\n",
       "      <th>Récence</th>\n",
       "    </tr>\n",
       "  </thead>\n",
       "  <tbody>\n",
       "    <tr>\n",
       "      <th>67309</th>\n",
       "      <td>b4dcade04bc548b7e3b0243c801f8c26</td>\n",
       "      <td>2</td>\n",
       "    </tr>\n",
       "    <tr>\n",
       "      <th>34469</th>\n",
       "      <td>5c58de6fb80e93396e2f35642666b693</td>\n",
       "      <td>2</td>\n",
       "    </tr>\n",
       "    <tr>\n",
       "      <th>45461</th>\n",
       "      <td>7a22d14aa3c3599238509ddca4b93b01</td>\n",
       "      <td>2</td>\n",
       "    </tr>\n",
       "    <tr>\n",
       "      <th>92188</th>\n",
       "      <td>f80013faf776e37bcea7634d59c2181e</td>\n",
       "      <td>2</td>\n",
       "    </tr>\n",
       "    <tr>\n",
       "      <th>68102</th>\n",
       "      <td>b701bebbdf478f5500348f03aff62121</td>\n",
       "      <td>2</td>\n",
       "    </tr>\n",
       "    <tr>\n",
       "      <th>...</th>\n",
       "      <td>...</td>\n",
       "      <td>...</td>\n",
       "    </tr>\n",
       "    <tr>\n",
       "      <th>36606</th>\n",
       "      <td>6222ef69df52b4ed71be551725551cc0</td>\n",
       "      <td>603</td>\n",
       "    </tr>\n",
       "    <tr>\n",
       "      <th>68680</th>\n",
       "      <td>b88b78a413e70182e18b032361b24f91</td>\n",
       "      <td>603</td>\n",
       "    </tr>\n",
       "    <tr>\n",
       "      <th>67990</th>\n",
       "      <td>b6b2c3c8fd76769b478618a3c2505009</td>\n",
       "      <td>603</td>\n",
       "    </tr>\n",
       "    <tr>\n",
       "      <th>80115</th>\n",
       "      <td>d753459418d268407f19b64be28e3c5a</td>\n",
       "      <td>603</td>\n",
       "    </tr>\n",
       "    <tr>\n",
       "      <th>49128</th>\n",
       "      <td>83e7958a94bd7f74a9414d8782f87628</td>\n",
       "      <td>603</td>\n",
       "    </tr>\n",
       "  </tbody>\n",
       "</table>\n",
       "<p>95121 rows × 2 columns</p>\n",
       "</div>"
      ],
      "text/plain": [
       "                     customer_unique_id  Récence\n",
       "67309  b4dcade04bc548b7e3b0243c801f8c26        2\n",
       "34469  5c58de6fb80e93396e2f35642666b693        2\n",
       "45461  7a22d14aa3c3599238509ddca4b93b01        2\n",
       "92188  f80013faf776e37bcea7634d59c2181e        2\n",
       "68102  b701bebbdf478f5500348f03aff62121        2\n",
       "...                                 ...      ...\n",
       "36606  6222ef69df52b4ed71be551725551cc0      603\n",
       "68680  b88b78a413e70182e18b032361b24f91      603\n",
       "67990  b6b2c3c8fd76769b478618a3c2505009      603\n",
       "80115  d753459418d268407f19b64be28e3c5a      603\n",
       "49128  83e7958a94bd7f74a9414d8782f87628      603\n",
       "\n",
       "[95121 rows x 2 columns]"
      ]
     },
     "metadata": {},
     "output_type": "display_data"
    }
   ],
   "source": [
    "# Affichage de quelques exemples\n",
    "display(df_features.sort_values('Récence'))"
   ]
  },
  {
   "cell_type": "markdown",
   "id": "66537689-8c2e-4436-b696-ad75130d81a1",
   "metadata": {},
   "source": [
    "### 3.5.2 Feature `Fréquence`"
   ]
  },
  {
   "cell_type": "markdown",
   "id": "782f4f30-2805-4cec-932f-6c31f0d12bea",
   "metadata": {},
   "source": [
    "* Pour rappel, calcul de la feature `Fréquence` :\n",
    "   * Un score de **0** sera attribué aux clients n'ayant effectué qu'**une commande**  \n",
    "   * Un score de **1** sera attribué aux clents ayant passé **2 commandes ou plus**"
   ]
  },
  {
   "cell_type": "markdown",
   "id": "541be194-e991-44be-b299-3a088ab53c68",
   "metadata": {},
   "source": [
    "* Calcul du nombre de commandes par clients"
   ]
  },
  {
   "cell_type": "code",
   "execution_count": 85,
   "id": "07b472c9-d0b8-4b31-a68f-1fe1f59f3767",
   "metadata": {},
   "outputs": [],
   "source": [
    "# Nombre de commandes par clients\n",
    "df_number_of_orders_by_customer = df_customers.groupby('customer_unique_id')['customer_id'].count().reset_index()"
   ]
  },
  {
   "cell_type": "markdown",
   "id": "3b9031cd-7e2c-49fc-9c01-0e448e32dfbf",
   "metadata": {},
   "source": [
    " * Création de la feature dans 'df_features'"
   ]
  },
  {
   "cell_type": "code",
   "execution_count": 86,
   "id": "21c5f9ec-0cce-4682-9a5e-412a7d2884f4",
   "metadata": {},
   "outputs": [],
   "source": [
    "# Ajout du nombre de commandes\n",
    "df_features = pd.merge(df_features, df_number_of_orders_by_customer, on='customer_unique_id', how='inner')\n",
    "\n",
    "# Changement de nom à la colonne 'customer_id' qui contient le nombre de commandes passées\n",
    "df_features.rename(columns={'customer_id': 'Fréquence'}, inplace=True)"
   ]
  },
  {
   "cell_type": "markdown",
   "id": "2512e539-3c1d-4411-8440-f52f3218137a",
   "metadata": {},
   "source": [
    "* Calcul du score de Fréquence"
   ]
  },
  {
   "cell_type": "code",
   "execution_count": 87,
   "id": "e13d2018-f924-414b-8085-80abd003446e",
   "metadata": {},
   "outputs": [],
   "source": [
    "# Masque de séléction des clients ayant passé une seule commande\n",
    "only_one_order_mask = df_features['Fréquence'] == 1"
   ]
  },
  {
   "cell_type": "code",
   "execution_count": 88,
   "id": "f7247511-b162-4223-990e-d436fdff3e94",
   "metadata": {},
   "outputs": [],
   "source": [
    "# Attribution du score de Fréquence 0 aux clients ayant passé une seule commande\n",
    "df_features.loc[only_one_order_mask, 'Fréquence'] = 0\n",
    "\n",
    "# Attribution du score de Fréquence 1 aux autres clients\n",
    "df_features.loc[~only_one_order_mask, 'Fréquence'] = 1"
   ]
  },
  {
   "cell_type": "markdown",
   "id": "1f1a0e52-c979-4ae1-b5a3-bb68320dcbd2",
   "metadata": {},
   "source": [
    "* Affichage de quelques exemples"
   ]
  },
  {
   "cell_type": "code",
   "execution_count": 89,
   "id": "4fc91fa8-1d24-4d5d-a9e5-5ab3575ebf04",
   "metadata": {},
   "outputs": [
    {
     "data": {
      "text/html": [
       "<div>\n",
       "<style scoped>\n",
       "    .dataframe tbody tr th:only-of-type {\n",
       "        vertical-align: middle;\n",
       "    }\n",
       "\n",
       "    .dataframe tbody tr th {\n",
       "        vertical-align: top;\n",
       "    }\n",
       "\n",
       "    .dataframe thead th {\n",
       "        text-align: right;\n",
       "    }\n",
       "</style>\n",
       "<table border=\"1\" class=\"dataframe\">\n",
       "  <thead>\n",
       "    <tr style=\"text-align: right;\">\n",
       "      <th></th>\n",
       "      <th>customer_unique_id</th>\n",
       "      <th>Récence</th>\n",
       "      <th>Fréquence</th>\n",
       "    </tr>\n",
       "  </thead>\n",
       "  <tbody>\n",
       "    <tr>\n",
       "      <th>0</th>\n",
       "      <td>0000366f3b9a7992bf8c76cfdf3221e2</td>\n",
       "      <td>113</td>\n",
       "      <td>0</td>\n",
       "    </tr>\n",
       "    <tr>\n",
       "      <th>62945</th>\n",
       "      <td>a926cfc9bc7b082335de50450f48eec9</td>\n",
       "      <td>129</td>\n",
       "      <td>0</td>\n",
       "    </tr>\n",
       "    <tr>\n",
       "      <th>62944</th>\n",
       "      <td>a926aae38267e7f54e67de9b5775d0a5</td>\n",
       "      <td>29</td>\n",
       "      <td>0</td>\n",
       "    </tr>\n",
       "    <tr>\n",
       "      <th>62943</th>\n",
       "      <td>a92605ec492805540520d3a73aaeeb6e</td>\n",
       "      <td>259</td>\n",
       "      <td>0</td>\n",
       "    </tr>\n",
       "    <tr>\n",
       "      <th>62942</th>\n",
       "      <td>a925c3e5df82fdc6082f1383d2834998</td>\n",
       "      <td>138</td>\n",
       "      <td>0</td>\n",
       "    </tr>\n",
       "    <tr>\n",
       "      <th>...</th>\n",
       "      <td>...</td>\n",
       "      <td>...</td>\n",
       "      <td>...</td>\n",
       "    </tr>\n",
       "    <tr>\n",
       "      <th>38863</th>\n",
       "      <td>68497ce04e9b12cb402671a29acdf6a2</td>\n",
       "      <td>113</td>\n",
       "      <td>1</td>\n",
       "    </tr>\n",
       "    <tr>\n",
       "      <th>10723</th>\n",
       "      <td>1c98969880c8c7c522bc4677dfce9384</td>\n",
       "      <td>162</td>\n",
       "      <td>1</td>\n",
       "    </tr>\n",
       "    <tr>\n",
       "      <th>2657</th>\n",
       "      <td>071fb07419a29c8ba143831082e0320a</td>\n",
       "      <td>233</td>\n",
       "      <td>1</td>\n",
       "    </tr>\n",
       "    <tr>\n",
       "      <th>55059</th>\n",
       "      <td>944779ed5e0464b49fbb2108382b0ddf</td>\n",
       "      <td>28</td>\n",
       "      <td>1</td>\n",
       "    </tr>\n",
       "    <tr>\n",
       "      <th>53817</th>\n",
       "      <td>910240400459e4edf250cddd2588bfd2</td>\n",
       "      <td>116</td>\n",
       "      <td>1</td>\n",
       "    </tr>\n",
       "  </tbody>\n",
       "</table>\n",
       "<p>95121 rows × 3 columns</p>\n",
       "</div>"
      ],
      "text/plain": [
       "                     customer_unique_id  Récence  Fréquence\n",
       "0      0000366f3b9a7992bf8c76cfdf3221e2      113          0\n",
       "62945  a926cfc9bc7b082335de50450f48eec9      129          0\n",
       "62944  a926aae38267e7f54e67de9b5775d0a5       29          0\n",
       "62943  a92605ec492805540520d3a73aaeeb6e      259          0\n",
       "62942  a925c3e5df82fdc6082f1383d2834998      138          0\n",
       "...                                 ...      ...        ...\n",
       "38863  68497ce04e9b12cb402671a29acdf6a2      113          1\n",
       "10723  1c98969880c8c7c522bc4677dfce9384      162          1\n",
       "2657   071fb07419a29c8ba143831082e0320a      233          1\n",
       "55059  944779ed5e0464b49fbb2108382b0ddf       28          1\n",
       "53817  910240400459e4edf250cddd2588bfd2      116          1\n",
       "\n",
       "[95121 rows x 3 columns]"
      ]
     },
     "execution_count": 89,
     "metadata": {},
     "output_type": "execute_result"
    }
   ],
   "source": [
    "df_features.sort_values('Fréquence')"
   ]
  },
  {
   "cell_type": "markdown",
   "id": "de0c8036-c54e-4d59-a043-54d15945b22f",
   "metadata": {},
   "source": [
    "### 3.5.3 Feature `Montant`"
   ]
  },
  {
   "cell_type": "markdown",
   "id": "6d7aadf3-2739-4149-9cb1-7ee52d7dd105",
   "metadata": {},
   "source": [
    "* Ajout de la feature `Montant` au dataframe `df_features`"
   ]
  },
  {
   "cell_type": "code",
   "execution_count": 90,
   "id": "55c75944-ef3f-4bd8-be4f-0f178b35ebe9",
   "metadata": {},
   "outputs": [],
   "source": [
    "df_features = pd.merge(df_features, df_amount_by_customer, on='customer_unique_id', how='left')"
   ]
  },
  {
   "cell_type": "markdown",
   "id": "f819f774-cc5b-4208-b255-bb8c58158eb2",
   "metadata": {},
   "source": [
    "* Affichage de quelques exemples"
   ]
  },
  {
   "cell_type": "code",
   "execution_count": 91,
   "id": "4c4fc2ae-678b-47cb-b08e-ebc9c1d24202",
   "metadata": {},
   "outputs": [
    {
     "data": {
      "text/html": [
       "<div>\n",
       "<style scoped>\n",
       "    .dataframe tbody tr th:only-of-type {\n",
       "        vertical-align: middle;\n",
       "    }\n",
       "\n",
       "    .dataframe tbody tr th {\n",
       "        vertical-align: top;\n",
       "    }\n",
       "\n",
       "    .dataframe thead th {\n",
       "        text-align: right;\n",
       "    }\n",
       "</style>\n",
       "<table border=\"1\" class=\"dataframe\">\n",
       "  <thead>\n",
       "    <tr style=\"text-align: right;\">\n",
       "      <th></th>\n",
       "      <th>customer_unique_id</th>\n",
       "      <th>Récence</th>\n",
       "      <th>Fréquence</th>\n",
       "      <th>Montant</th>\n",
       "    </tr>\n",
       "  </thead>\n",
       "  <tbody>\n",
       "    <tr>\n",
       "      <th>18455</th>\n",
       "      <td>317cfc692e3f86c45c95697c61c853a6</td>\n",
       "      <td>6</td>\n",
       "      <td>0</td>\n",
       "      <td>9.59</td>\n",
       "    </tr>\n",
       "    <tr>\n",
       "      <th>70338</th>\n",
       "      <td>bd06ce0e06ad77a7f681f1a4960a3cc6</td>\n",
       "      <td>352</td>\n",
       "      <td>0</td>\n",
       "      <td>10.07</td>\n",
       "    </tr>\n",
       "    <tr>\n",
       "      <th>66708</th>\n",
       "      <td>b33336f46234b24a613ad9064d13106d</td>\n",
       "      <td>71</td>\n",
       "      <td>0</td>\n",
       "      <td>10.89</td>\n",
       "    </tr>\n",
       "    <tr>\n",
       "      <th>15083</th>\n",
       "      <td>2878e5b88167faab17d4fb83a986d38b</td>\n",
       "      <td>306</td>\n",
       "      <td>0</td>\n",
       "      <td>11.63</td>\n",
       "    </tr>\n",
       "    <tr>\n",
       "      <th>41477</th>\n",
       "      <td>6f5b9d1cdccc4d28f0483a612edecacf</td>\n",
       "      <td>363</td>\n",
       "      <td>0</td>\n",
       "      <td>11.63</td>\n",
       "    </tr>\n",
       "    <tr>\n",
       "      <th>...</th>\n",
       "      <td>...</td>\n",
       "      <td>...</td>\n",
       "      <td>...</td>\n",
       "      <td>...</td>\n",
       "    </tr>\n",
       "    <tr>\n",
       "      <th>25928</th>\n",
       "      <td>459bef486812aa25204be022145caa62</td>\n",
       "      <td>37</td>\n",
       "      <td>0</td>\n",
       "      <td>6922.21</td>\n",
       "    </tr>\n",
       "    <tr>\n",
       "      <th>81977</th>\n",
       "      <td>dc4802a71eae9be1dd28f5d788ceb526</td>\n",
       "      <td>565</td>\n",
       "      <td>0</td>\n",
       "      <td>6929.31</td>\n",
       "    </tr>\n",
       "    <tr>\n",
       "      <th>44005</th>\n",
       "      <td>763c8b1c9c68a0229c42c9fc6f662b93</td>\n",
       "      <td>47</td>\n",
       "      <td>0</td>\n",
       "      <td>7274.88</td>\n",
       "    </tr>\n",
       "    <tr>\n",
       "      <th>81136</th>\n",
       "      <td>da122df9eeddfedc1dc1f5349a1a690c</td>\n",
       "      <td>517</td>\n",
       "      <td>1</td>\n",
       "      <td>7571.63</td>\n",
       "    </tr>\n",
       "    <tr>\n",
       "      <th>3788</th>\n",
       "      <td>0a0a92112bd4c708ca5fde585afaa872</td>\n",
       "      <td>336</td>\n",
       "      <td>0</td>\n",
       "      <td>13664.08</td>\n",
       "    </tr>\n",
       "  </tbody>\n",
       "</table>\n",
       "<p>95121 rows × 4 columns</p>\n",
       "</div>"
      ],
      "text/plain": [
       "                     customer_unique_id  Récence  Fréquence   Montant\n",
       "18455  317cfc692e3f86c45c95697c61c853a6        6          0      9.59\n",
       "70338  bd06ce0e06ad77a7f681f1a4960a3cc6      352          0     10.07\n",
       "66708  b33336f46234b24a613ad9064d13106d       71          0     10.89\n",
       "15083  2878e5b88167faab17d4fb83a986d38b      306          0     11.63\n",
       "41477  6f5b9d1cdccc4d28f0483a612edecacf      363          0     11.63\n",
       "...                                 ...      ...        ...       ...\n",
       "25928  459bef486812aa25204be022145caa62       37          0   6922.21\n",
       "81977  dc4802a71eae9be1dd28f5d788ceb526      565          0   6929.31\n",
       "44005  763c8b1c9c68a0229c42c9fc6f662b93       47          0   7274.88\n",
       "81136  da122df9eeddfedc1dc1f5349a1a690c      517          1   7571.63\n",
       "3788   0a0a92112bd4c708ca5fde585afaa872      336          0  13664.08\n",
       "\n",
       "[95121 rows x 4 columns]"
      ]
     },
     "execution_count": 91,
     "metadata": {},
     "output_type": "execute_result"
    }
   ],
   "source": [
    "df_features.sort_values('Montant')"
   ]
  },
  {
   "cell_type": "markdown",
   "id": "a1936200-cb5a-457a-9955-4ee9c7aa88cc",
   "metadata": {},
   "source": [
    "## 3.6 Normalisation"
   ]
  },
  {
   "cell_type": "markdown",
   "id": "2fb39d11-c393-407f-83f4-57848f70c83f",
   "metadata": {},
   "source": [
    "Les alogorithmes de clustering basés sur la distance, comme KMeans, attendent que la contribution de chaque variable soit équilibrée, sans être biaisée par des unités de mesure ou des écehelles différentes  \n",
    "* Une **normalisation Min-Max** via **MinMaxScaler**permettra de s'assurer que toutes les variables aient des valeurs comprises entre 0 et 1  "
   ]
  },
  {
   "cell_type": "markdown",
   "id": "799c8337-bb5b-4012-945b-5b1428114207",
   "metadata": {},
   "source": [
    "Avant de procéder à la normalisation, une rapide analyse univariée de chaque feature sera réalisée"
   ]
  },
  {
   "cell_type": "markdown",
   "id": "6a6a91ab-3e8a-4414-8375-4208c9bab133",
   "metadata": {},
   "source": [
    "### 3.6.1 Informations générales sur le dataset"
   ]
  },
  {
   "cell_type": "markdown",
   "id": "1ccfa072-86c3-4a76-b67d-c08b956dafa3",
   "metadata": {},
   "source": [
    "* Caratéristiques statistiques de base"
   ]
  },
  {
   "cell_type": "code",
   "execution_count": 92,
   "id": "bdc31282-94ef-4301-a941-c6399d50ade9",
   "metadata": {},
   "outputs": [
    {
     "data": {
      "text/html": [
       "<div>\n",
       "<style scoped>\n",
       "    .dataframe tbody tr th:only-of-type {\n",
       "        vertical-align: middle;\n",
       "    }\n",
       "\n",
       "    .dataframe tbody tr th {\n",
       "        vertical-align: top;\n",
       "    }\n",
       "\n",
       "    .dataframe thead th {\n",
       "        text-align: right;\n",
       "    }\n",
       "</style>\n",
       "<table border=\"1\" class=\"dataframe\">\n",
       "  <thead>\n",
       "    <tr style=\"text-align: right;\">\n",
       "      <th></th>\n",
       "      <th>Colonne</th>\n",
       "      <th>Type</th>\n",
       "      <th>Valeurs uniques</th>\n",
       "      <th>Doublons</th>\n",
       "      <th>Valeurs manquantes</th>\n",
       "      <th>% valeurs manquantes</th>\n",
       "    </tr>\n",
       "  </thead>\n",
       "  <tbody>\n",
       "    <tr>\n",
       "      <th>0</th>\n",
       "      <td>customer_unique_id</td>\n",
       "      <td>object</td>\n",
       "      <td>95121</td>\n",
       "      <td>0</td>\n",
       "      <td>0</td>\n",
       "      <td>0.0 %</td>\n",
       "    </tr>\n",
       "    <tr>\n",
       "      <th>1</th>\n",
       "      <td>Récence</td>\n",
       "      <td>int64</td>\n",
       "      <td>602</td>\n",
       "      <td>94519</td>\n",
       "      <td>0</td>\n",
       "      <td>0.0 %</td>\n",
       "    </tr>\n",
       "    <tr>\n",
       "      <th>2</th>\n",
       "      <td>Fréquence</td>\n",
       "      <td>int64</td>\n",
       "      <td>2</td>\n",
       "      <td>95119</td>\n",
       "      <td>0</td>\n",
       "      <td>0.0 %</td>\n",
       "    </tr>\n",
       "    <tr>\n",
       "      <th>3</th>\n",
       "      <td>Montant</td>\n",
       "      <td>float64</td>\n",
       "      <td>31604</td>\n",
       "      <td>63517</td>\n",
       "      <td>0</td>\n",
       "      <td>0.0 %</td>\n",
       "    </tr>\n",
       "  </tbody>\n",
       "</table>\n",
       "</div>"
      ],
      "text/plain": [
       "              Colonne     Type  Valeurs uniques  Doublons  Valeurs manquantes  \\\n",
       "0  customer_unique_id   object            95121         0                   0   \n",
       "1             Récence    int64              602     94519                   0   \n",
       "2           Fréquence    int64                2     95119                   0   \n",
       "3             Montant  float64            31604     63517                   0   \n",
       "\n",
       "  % valeurs manquantes  \n",
       "0                0.0 %  \n",
       "1                0.0 %  \n",
       "2                0.0 %  \n",
       "3                0.0 %  "
      ]
     },
     "metadata": {},
     "output_type": "display_data"
    },
    {
     "data": {
      "text/html": [
       "<div>\n",
       "<style scoped>\n",
       "    .dataframe tbody tr th:only-of-type {\n",
       "        vertical-align: middle;\n",
       "    }\n",
       "\n",
       "    .dataframe tbody tr th {\n",
       "        vertical-align: top;\n",
       "    }\n",
       "\n",
       "    .dataframe thead th {\n",
       "        text-align: right;\n",
       "    }\n",
       "</style>\n",
       "<table border=\"1\" class=\"dataframe\">\n",
       "  <thead>\n",
       "    <tr style=\"text-align: right;\">\n",
       "      <th></th>\n",
       "      <th>Récence</th>\n",
       "      <th>Fréquence</th>\n",
       "      <th>Montant</th>\n",
       "    </tr>\n",
       "  </thead>\n",
       "  <tbody>\n",
       "    <tr>\n",
       "      <th>count</th>\n",
       "      <td>95121.000000</td>\n",
       "      <td>95121.000000</td>\n",
       "      <td>95121.000000</td>\n",
       "    </tr>\n",
       "    <tr>\n",
       "      <th>mean</th>\n",
       "      <td>239.076765</td>\n",
       "      <td>0.030487</td>\n",
       "      <td>165.959184</td>\n",
       "    </tr>\n",
       "    <tr>\n",
       "      <th>std</th>\n",
       "      <td>151.274715</td>\n",
       "      <td>0.171925</td>\n",
       "      <td>228.362631</td>\n",
       "    </tr>\n",
       "    <tr>\n",
       "      <th>min</th>\n",
       "      <td>2.000000</td>\n",
       "      <td>0.000000</td>\n",
       "      <td>9.590000</td>\n",
       "    </tr>\n",
       "    <tr>\n",
       "      <th>25%</th>\n",
       "      <td>116.000000</td>\n",
       "      <td>0.000000</td>\n",
       "      <td>63.100000</td>\n",
       "    </tr>\n",
       "    <tr>\n",
       "      <th>50%</th>\n",
       "      <td>221.000000</td>\n",
       "      <td>0.000000</td>\n",
       "      <td>107.900000</td>\n",
       "    </tr>\n",
       "    <tr>\n",
       "      <th>75%</th>\n",
       "      <td>348.000000</td>\n",
       "      <td>0.000000</td>\n",
       "      <td>183.040000</td>\n",
       "    </tr>\n",
       "    <tr>\n",
       "      <th>max</th>\n",
       "      <td>603.000000</td>\n",
       "      <td>1.000000</td>\n",
       "      <td>13664.080000</td>\n",
       "    </tr>\n",
       "  </tbody>\n",
       "</table>\n",
       "</div>"
      ],
      "text/plain": [
       "            Récence     Fréquence       Montant\n",
       "count  95121.000000  95121.000000  95121.000000\n",
       "mean     239.076765      0.030487    165.959184\n",
       "std      151.274715      0.171925    228.362631\n",
       "min        2.000000      0.000000      9.590000\n",
       "25%      116.000000      0.000000     63.100000\n",
       "50%      221.000000      0.000000    107.900000\n",
       "75%      348.000000      0.000000    183.040000\n",
       "max      603.000000      1.000000  13664.080000"
      ]
     },
     "metadata": {},
     "output_type": "display_data"
    }
   ],
   "source": [
    "display(get_dataframe_infos(df_features))\n",
    "display(df_features.describe())"
   ]
  },
  {
   "cell_type": "markdown",
   "id": "1372ae6a-a80d-41ec-bcd9-bde9d69c909f",
   "metadata": {},
   "source": [
    "* Comme attendu, la variable `customer_unique_id` identifie les clients de manière unique, il n'y a pas de doublons  \n",
    "* Aucunes valeurs manquantes  \n",
    "* Les minimum et maximum sont cohérents\n",
    "* Les échelles de valeurs sont très différentes, les phases de standardisation et normalisation seront nécessaires"
   ]
  },
  {
   "cell_type": "markdown",
   "id": "a28e67ba-f902-4469-af09-141a40b43f27",
   "metadata": {},
   "source": [
    "### 3.6.2 Feature `Récence`"
   ]
  },
  {
   "cell_type": "markdown",
   "id": "9dac8e76-7e90-42a7-8387-1bff53010ecf",
   "metadata": {},
   "source": [
    "* Distribution"
   ]
  },
  {
   "cell_type": "code",
   "execution_count": 93,
   "id": "c7adcca2-bacc-4445-bedc-bd0657384bd5",
   "metadata": {},
   "outputs": [
    {
     "data": {
      "image/png": "[encoded data removed]",
      "text/plain": [
       "<Figure size 600x450 with 2 Axes>"
      ]
     },
     "metadata": {},
     "output_type": "display_data"
    }
   ],
   "source": [
    "# Histogramme et boxplot\n",
    "plot_distribution(df_features, 'Récence', 'Nombre de jours depuis le dernier achat', 'Nombre de clients')"
   ]
  },
  {
   "cell_type": "markdown",
   "id": "854e1d79-6666-42e0-9eb3-99f419c4f4fb",
   "metadata": {},
   "source": [
    "* Normalisation Min-Max"
   ]
  },
  {
   "cell_type": "code",
   "execution_count": 94,
   "id": "f8f5fb59-32f1-4539-a8d9-918bbab8eed8",
   "metadata": {},
   "outputs": [],
   "source": [
    "# Normalisation Min-Max\n",
    "minmax_scaler = MinMaxScaler()\n",
    "df_features['Récence_minmax'] = minmax_scaler.fit_transform(df_features[['Récence']])"
   ]
  },
  {
   "cell_type": "code",
   "execution_count": 95,
   "id": "a83bc2f9-884f-47b1-8473-64205b469207",
   "metadata": {},
   "outputs": [
    {
     "data": {
      "image/png": "[encoded data removed]",
      "text/plain": [
       "<Figure size 600x450 with 2 Axes>"
      ]
     },
     "metadata": {},
     "output_type": "display_data"
    }
   ],
   "source": [
    "# Histogramme et boxplot\n",
    "plot_distribution(df_features, 'Récence_minmax', 'Nombre de jours depuis le dernier achat\\n(normalisé entre 0 et 1)', 'Nombre de clients')"
   ]
  },
  {
   "cell_type": "markdown",
   "id": "12a1b586-5ac4-449a-a421-ed0ee7d354a7",
   "metadata": {},
   "source": [
    "* Logiquement l'apparence de la distribution ne change pas  \n",
    "* Les valeurs sont bien comprises entre 0 et 1"
   ]
  },
  {
   "cell_type": "markdown",
   "id": "8304ee05-5f75-4e4f-b177-82f687d8805a",
   "metadata": {},
   "source": [
    "### 3.6.3 Feature `Fréquence`"
   ]
  },
  {
   "cell_type": "markdown",
   "id": "519a59c5-23e1-41af-ad5a-6106bbbed32d",
   "metadata": {},
   "source": [
    "* Distribution"
   ]
  },
  {
   "cell_type": "code",
   "execution_count": 96,
   "id": "34de7d25-dab4-43f9-bf6b-fd27e77dbf0a",
   "metadata": {},
   "outputs": [
    {
     "data": {
      "image/png": "[encoded data removed]",
      "text/plain": [
       "<Figure size 600x450 with 2 Axes>"
      ]
     },
     "metadata": {},
     "output_type": "display_data"
    }
   ],
   "source": [
    "# Histogramme et boxplot\n",
    "plot_distribution(df_features, 'Fréquence', f'0 : 1 seul achat\\n1 : nombre d\\'achats >= 2', 'Nombre de clients')"
   ]
  },
  {
   "cell_type": "markdown",
   "id": "bc4e6682-48c7-41d6-b9c1-be5b8caa0857",
   "metadata": {},
   "source": [
    "* La forme de la distribution est cohérente avec le fait que cette feature ne peut prendre que 2 valeurs :  \n",
    "   * **0** pour les clients ayant effectué un seul achat (environ **97 %** d'entre eux)  \n",
    "   * **1** pour ceux ayant effectué 2 achats ou plus (un peu plus de **3 %**)\n",
    "* Une normalisation MinMax n'apporterait rien"
   ]
  },
  {
   "cell_type": "markdown",
   "id": "80fdf4d7-f749-4790-b7be-4c51ad804748",
   "metadata": {},
   "source": [
    "### 3.6.4 Feature `Montant`"
   ]
  },
  {
   "cell_type": "markdown",
   "id": "f3d4cbc2-c5fb-45c0-9c44-97185f027c0e",
   "metadata": {},
   "source": [
    "* Distribution"
   ]
  },
  {
   "cell_type": "code",
   "execution_count": 97,
   "id": "b9ca441d-d32d-4730-a58d-edb7a3397a5c",
   "metadata": {},
   "outputs": [
    {
     "data": {
      "image/png": "[encoded data removed]",
      "text/plain": [
       "<Figure size 600x450 with 2 Axes>"
      ]
     },
     "metadata": {},
     "output_type": "display_data"
    }
   ],
   "source": [
    "# Histogramme et boxplot\n",
    "plot_distribution(df_features, 'Montant', 'Montant total dépensé', 'Nombre de clients')"
   ]
  },
  {
   "cell_type": "markdown",
   "id": "f16b8e1c-9fe7-4c3e-bd10-d4d5af08ebaa",
   "metadata": {},
   "source": [
    "* Beaucoup d'achats avec des montants faibles, peu avec des montants plus importants\n",
    "* L'échelle est quelque peu biaisée compte-tenu de l'unité utilisée (Réals)"
   ]
  },
  {
   "cell_type": "markdown",
   "id": "b6278c4d-3513-408d-b1e9-0a8d9541c9e4",
   "metadata": {},
   "source": [
    "* Normalisation Min-Max"
   ]
  },
  {
   "cell_type": "code",
   "execution_count": 98,
   "id": "03e201e0-d655-46df-9275-ba2e7594d7a4",
   "metadata": {},
   "outputs": [],
   "source": [
    "# Normalisation Min-Max\n",
    "minmax_scaler = MinMaxScaler()\n",
    "df_features['Montant_minmax'] = minmax_scaler.fit_transform(df_features[['Montant']])"
   ]
  },
  {
   "cell_type": "code",
   "execution_count": 99,
   "id": "0967e6f3-1489-48e3-a73f-8152a71a0aed",
   "metadata": {},
   "outputs": [
    {
     "data": {
      "image/png": "[encoded data removed]",
      "text/plain": [
       "<Figure size 600x450 with 2 Axes>"
      ]
     },
     "metadata": {},
     "output_type": "display_data"
    }
   ],
   "source": [
    "# Histogramme et boxplot\n",
    "plot_distribution(df_features, 'Montant_minmax', 'Montant total dépensé\\n(normalisé entre 0 et 1)', 'Nombre de clients')"
   ]
  },
  {
   "cell_type": "markdown",
   "id": "6e3e5037-af3d-485a-b4f1-fc6295d9201b",
   "metadata": {},
   "source": [
    "* Logiquement l'apparence de la distribution ne change pas  \n",
    "* Les valeurs sont bien comprises entre 0 et 1"
   ]
  },
  {
   "cell_type": "markdown",
   "id": "a3df9c4d-d60e-404c-8b19-56651b116507",
   "metadata": {},
   "source": [
    "# 4 Finalisation du dataset"
   ]
  },
  {
   "cell_type": "markdown",
   "id": "562397e4-18f8-490e-8cd7-cf0ee2f04965",
   "metadata": {},
   "source": [
    "## 4.1 Aperçu"
   ]
  },
  {
   "cell_type": "code",
   "execution_count": 100,
   "id": "a657bb7d-5e7e-4484-b190-a642c77882f9",
   "metadata": {},
   "outputs": [
    {
     "data": {
      "text/html": [
       "<div>\n",
       "<style scoped>\n",
       "    .dataframe tbody tr th:only-of-type {\n",
       "        vertical-align: middle;\n",
       "    }\n",
       "\n",
       "    .dataframe tbody tr th {\n",
       "        vertical-align: top;\n",
       "    }\n",
       "\n",
       "    .dataframe thead th {\n",
       "        text-align: right;\n",
       "    }\n",
       "</style>\n",
       "<table border=\"1\" class=\"dataframe\">\n",
       "  <thead>\n",
       "    <tr style=\"text-align: right;\">\n",
       "      <th></th>\n",
       "      <th>customer_unique_id</th>\n",
       "      <th>Récence</th>\n",
       "      <th>Fréquence</th>\n",
       "      <th>Montant</th>\n",
       "      <th>Récence_minmax</th>\n",
       "      <th>Montant_minmax</th>\n",
       "    </tr>\n",
       "  </thead>\n",
       "  <tbody>\n",
       "    <tr>\n",
       "      <th>0</th>\n",
       "      <td>0000366f3b9a7992bf8c76cfdf3221e2</td>\n",
       "      <td>113</td>\n",
       "      <td>0</td>\n",
       "      <td>141.90</td>\n",
       "      <td>0.184692</td>\n",
       "      <td>0.009690</td>\n",
       "    </tr>\n",
       "    <tr>\n",
       "      <th>1</th>\n",
       "      <td>0000b849f77a49e4a4ce2b2a4ca5be3f</td>\n",
       "      <td>116</td>\n",
       "      <td>0</td>\n",
       "      <td>27.19</td>\n",
       "      <td>0.189684</td>\n",
       "      <td>0.001289</td>\n",
       "    </tr>\n",
       "    <tr>\n",
       "      <th>2</th>\n",
       "      <td>0000f46a3911fa3c0805444483337064</td>\n",
       "      <td>539</td>\n",
       "      <td>0</td>\n",
       "      <td>86.22</td>\n",
       "      <td>0.893511</td>\n",
       "      <td>0.005612</td>\n",
       "    </tr>\n",
       "    <tr>\n",
       "      <th>3</th>\n",
       "      <td>0000f6ccb0745a6a4b88665a16c9f078</td>\n",
       "      <td>323</td>\n",
       "      <td>0</td>\n",
       "      <td>43.62</td>\n",
       "      <td>0.534110</td>\n",
       "      <td>0.002492</td>\n",
       "    </tr>\n",
       "    <tr>\n",
       "      <th>4</th>\n",
       "      <td>0004aac84e0df4da2b147fca70cf8255</td>\n",
       "      <td>290</td>\n",
       "      <td>0</td>\n",
       "      <td>196.89</td>\n",
       "      <td>0.479201</td>\n",
       "      <td>0.013717</td>\n",
       "    </tr>\n",
       "    <tr>\n",
       "      <th>...</th>\n",
       "      <td>...</td>\n",
       "      <td>...</td>\n",
       "      <td>...</td>\n",
       "      <td>...</td>\n",
       "      <td>...</td>\n",
       "      <td>...</td>\n",
       "    </tr>\n",
       "    <tr>\n",
       "      <th>95116</th>\n",
       "      <td>fffcf5a5ff07b0908bd4e2dbc735a684</td>\n",
       "      <td>449</td>\n",
       "      <td>0</td>\n",
       "      <td>2067.42</td>\n",
       "      <td>0.743760</td>\n",
       "      <td>0.150707</td>\n",
       "    </tr>\n",
       "    <tr>\n",
       "      <th>95117</th>\n",
       "      <td>fffea47cd6d3cc0a88bd621562a9d061</td>\n",
       "      <td>264</td>\n",
       "      <td>0</td>\n",
       "      <td>84.58</td>\n",
       "      <td>0.435940</td>\n",
       "      <td>0.005492</td>\n",
       "    </tr>\n",
       "    <tr>\n",
       "      <th>95118</th>\n",
       "      <td>ffff371b4d645b6ecea244b27531430a</td>\n",
       "      <td>570</td>\n",
       "      <td>0</td>\n",
       "      <td>112.46</td>\n",
       "      <td>0.945092</td>\n",
       "      <td>0.007534</td>\n",
       "    </tr>\n",
       "    <tr>\n",
       "      <th>95119</th>\n",
       "      <td>ffff5962728ec6157033ef9805bacc48</td>\n",
       "      <td>121</td>\n",
       "      <td>0</td>\n",
       "      <td>133.69</td>\n",
       "      <td>0.198003</td>\n",
       "      <td>0.009089</td>\n",
       "    </tr>\n",
       "    <tr>\n",
       "      <th>95120</th>\n",
       "      <td>ffffd2657e2aad2907e67c3e9daecbeb</td>\n",
       "      <td>486</td>\n",
       "      <td>0</td>\n",
       "      <td>71.56</td>\n",
       "      <td>0.805324</td>\n",
       "      <td>0.004538</td>\n",
       "    </tr>\n",
       "  </tbody>\n",
       "</table>\n",
       "<p>95121 rows × 6 columns</p>\n",
       "</div>"
      ],
      "text/plain": [
       "                     customer_unique_id  Récence  Fréquence  Montant  \\\n",
       "0      0000366f3b9a7992bf8c76cfdf3221e2      113          0   141.90   \n",
       "1      0000b849f77a49e4a4ce2b2a4ca5be3f      116          0    27.19   \n",
       "2      0000f46a3911fa3c0805444483337064      539          0    86.22   \n",
       "3      0000f6ccb0745a6a4b88665a16c9f078      323          0    43.62   \n",
       "4      0004aac84e0df4da2b147fca70cf8255      290          0   196.89   \n",
       "...                                 ...      ...        ...      ...   \n",
       "95116  fffcf5a5ff07b0908bd4e2dbc735a684      449          0  2067.42   \n",
       "95117  fffea47cd6d3cc0a88bd621562a9d061      264          0    84.58   \n",
       "95118  ffff371b4d645b6ecea244b27531430a      570          0   112.46   \n",
       "95119  ffff5962728ec6157033ef9805bacc48      121          0   133.69   \n",
       "95120  ffffd2657e2aad2907e67c3e9daecbeb      486          0    71.56   \n",
       "\n",
       "       Récence_minmax  Montant_minmax  \n",
       "0            0.184692        0.009690  \n",
       "1            0.189684        0.001289  \n",
       "2            0.893511        0.005612  \n",
       "3            0.534110        0.002492  \n",
       "4            0.479201        0.013717  \n",
       "...               ...             ...  \n",
       "95116        0.743760        0.150707  \n",
       "95117        0.435940        0.005492  \n",
       "95118        0.945092        0.007534  \n",
       "95119        0.198003        0.009089  \n",
       "95120        0.805324        0.004538  \n",
       "\n",
       "[95121 rows x 6 columns]"
      ]
     },
     "metadata": {},
     "output_type": "display_data"
    }
   ],
   "source": [
    "# Affichage des premières et dernières lignes\n",
    "display(df_features)"
   ]
  },
  {
   "cell_type": "markdown",
   "id": "bf32466b-a8a2-49c7-8556-3f78cc96f511",
   "metadata": {},
   "source": [
    "## 4.2 Mise en forme du dataset"
   ]
  },
  {
   "cell_type": "markdown",
   "id": "0dc28f4f-15aa-4982-a06d-c4a8959b9ec5",
   "metadata": {},
   "source": [
    "Pour plus de clarté lors de la phase d'élaboration des modèles de clustering :   \n",
    "* Changement de nom feature `customer_unique_id` -> `Id client`  \n",
    "* Conservation des 3 features dans leur version d'origine avec les noms : `Récence_orig`, `Fréquence_orig`, `Montant_orig`\n",
    "* Changement de noms des features normalisées : `Récence`, `Fréquence`, `Montant`"
   ]
  },
  {
   "cell_type": "code",
   "execution_count": 101,
   "id": "045ed255-fbc9-4d8b-ac34-59b727c93899",
   "metadata": {},
   "outputs": [],
   "source": [
    "# Changement de nom feature `customer_unique_id`\n",
    "df_features.rename(columns={'customer_unique_id': 'Id client'}, inplace=True)"
   ]
  },
  {
   "cell_type": "code",
   "execution_count": 102,
   "id": "e4c52171-85ef-4387-ac12-70fb55225fe6",
   "metadata": {},
   "outputs": [],
   "source": [
    "# Features RFM en version d'origine\n",
    "df_features.rename(columns={'Récence': 'Récence_orig',\n",
    "                            'Fréquence': 'Fréquence_orig',\n",
    "                            'Montant': 'Montant_orig'},\n",
    "                  inplace=True)"
   ]
  },
  {
   "cell_type": "code",
   "execution_count": 103,
   "id": "00f46e6e-d79e-475c-81b6-a45567450744",
   "metadata": {},
   "outputs": [],
   "source": [
    "# Features RFM pour modèles\n",
    "df_features.rename(columns={'Récence_minmax': 'Récence',\n",
    "                            'Montant_minmax': 'Montant'},\n",
    "                   inplace=True)\n",
    "df_features['Fréquence'] = df_features['Fréquence_orig']"
   ]
  },
  {
   "cell_type": "code",
   "execution_count": 104,
   "id": "8ed1b15d-0b32-420d-be6e-55756f70af5f",
   "metadata": {},
   "outputs": [],
   "source": [
    "# Changement d'ordre des features\n",
    "df_features = df_features[['Id client', 'Récence_orig', 'Fréquence_orig', 'Montant_orig', 'Récence', 'Fréquence', 'Montant']]"
   ]
  },
  {
   "cell_type": "markdown",
   "id": "8562d189-24a5-4251-8a60-c69ccc115147",
   "metadata": {},
   "source": [
    "* Affichage du dataset mis en forme"
   ]
  },
  {
   "cell_type": "code",
   "execution_count": 105,
   "id": "dbbae9bf-e823-4956-995c-0b6d356fdad0",
   "metadata": {},
   "outputs": [
    {
     "data": {
      "text/html": [
       "<div>\n",
       "<style scoped>\n",
       "    .dataframe tbody tr th:only-of-type {\n",
       "        vertical-align: middle;\n",
       "    }\n",
       "\n",
       "    .dataframe tbody tr th {\n",
       "        vertical-align: top;\n",
       "    }\n",
       "\n",
       "    .dataframe thead th {\n",
       "        text-align: right;\n",
       "    }\n",
       "</style>\n",
       "<table border=\"1\" class=\"dataframe\">\n",
       "  <thead>\n",
       "    <tr style=\"text-align: right;\">\n",
       "      <th></th>\n",
       "      <th>Id client</th>\n",
       "      <th>Récence_orig</th>\n",
       "      <th>Fréquence_orig</th>\n",
       "      <th>Montant_orig</th>\n",
       "      <th>Récence</th>\n",
       "      <th>Fréquence</th>\n",
       "      <th>Montant</th>\n",
       "    </tr>\n",
       "  </thead>\n",
       "  <tbody>\n",
       "    <tr>\n",
       "      <th>0</th>\n",
       "      <td>0000366f3b9a7992bf8c76cfdf3221e2</td>\n",
       "      <td>113</td>\n",
       "      <td>0</td>\n",
       "      <td>141.90</td>\n",
       "      <td>0.184692</td>\n",
       "      <td>0</td>\n",
       "      <td>0.009690</td>\n",
       "    </tr>\n",
       "    <tr>\n",
       "      <th>1</th>\n",
       "      <td>0000b849f77a49e4a4ce2b2a4ca5be3f</td>\n",
       "      <td>116</td>\n",
       "      <td>0</td>\n",
       "      <td>27.19</td>\n",
       "      <td>0.189684</td>\n",
       "      <td>0</td>\n",
       "      <td>0.001289</td>\n",
       "    </tr>\n",
       "    <tr>\n",
       "      <th>2</th>\n",
       "      <td>0000f46a3911fa3c0805444483337064</td>\n",
       "      <td>539</td>\n",
       "      <td>0</td>\n",
       "      <td>86.22</td>\n",
       "      <td>0.893511</td>\n",
       "      <td>0</td>\n",
       "      <td>0.005612</td>\n",
       "    </tr>\n",
       "    <tr>\n",
       "      <th>3</th>\n",
       "      <td>0000f6ccb0745a6a4b88665a16c9f078</td>\n",
       "      <td>323</td>\n",
       "      <td>0</td>\n",
       "      <td>43.62</td>\n",
       "      <td>0.534110</td>\n",
       "      <td>0</td>\n",
       "      <td>0.002492</td>\n",
       "    </tr>\n",
       "    <tr>\n",
       "      <th>4</th>\n",
       "      <td>0004aac84e0df4da2b147fca70cf8255</td>\n",
       "      <td>290</td>\n",
       "      <td>0</td>\n",
       "      <td>196.89</td>\n",
       "      <td>0.479201</td>\n",
       "      <td>0</td>\n",
       "      <td>0.013717</td>\n",
       "    </tr>\n",
       "    <tr>\n",
       "      <th>...</th>\n",
       "      <td>...</td>\n",
       "      <td>...</td>\n",
       "      <td>...</td>\n",
       "      <td>...</td>\n",
       "      <td>...</td>\n",
       "      <td>...</td>\n",
       "      <td>...</td>\n",
       "    </tr>\n",
       "    <tr>\n",
       "      <th>95116</th>\n",
       "      <td>fffcf5a5ff07b0908bd4e2dbc735a684</td>\n",
       "      <td>449</td>\n",
       "      <td>0</td>\n",
       "      <td>2067.42</td>\n",
       "      <td>0.743760</td>\n",
       "      <td>0</td>\n",
       "      <td>0.150707</td>\n",
       "    </tr>\n",
       "    <tr>\n",
       "      <th>95117</th>\n",
       "      <td>fffea47cd6d3cc0a88bd621562a9d061</td>\n",
       "      <td>264</td>\n",
       "      <td>0</td>\n",
       "      <td>84.58</td>\n",
       "      <td>0.435940</td>\n",
       "      <td>0</td>\n",
       "      <td>0.005492</td>\n",
       "    </tr>\n",
       "    <tr>\n",
       "      <th>95118</th>\n",
       "      <td>ffff371b4d645b6ecea244b27531430a</td>\n",
       "      <td>570</td>\n",
       "      <td>0</td>\n",
       "      <td>112.46</td>\n",
       "      <td>0.945092</td>\n",
       "      <td>0</td>\n",
       "      <td>0.007534</td>\n",
       "    </tr>\n",
       "    <tr>\n",
       "      <th>95119</th>\n",
       "      <td>ffff5962728ec6157033ef9805bacc48</td>\n",
       "      <td>121</td>\n",
       "      <td>0</td>\n",
       "      <td>133.69</td>\n",
       "      <td>0.198003</td>\n",
       "      <td>0</td>\n",
       "      <td>0.009089</td>\n",
       "    </tr>\n",
       "    <tr>\n",
       "      <th>95120</th>\n",
       "      <td>ffffd2657e2aad2907e67c3e9daecbeb</td>\n",
       "      <td>486</td>\n",
       "      <td>0</td>\n",
       "      <td>71.56</td>\n",
       "      <td>0.805324</td>\n",
       "      <td>0</td>\n",
       "      <td>0.004538</td>\n",
       "    </tr>\n",
       "  </tbody>\n",
       "</table>\n",
       "<p>95121 rows × 7 columns</p>\n",
       "</div>"
      ],
      "text/plain": [
       "                              Id client  Récence_orig  Fréquence_orig  \\\n",
       "0      0000366f3b9a7992bf8c76cfdf3221e2           113               0   \n",
       "1      0000b849f77a49e4a4ce2b2a4ca5be3f           116               0   \n",
       "2      0000f46a3911fa3c0805444483337064           539               0   \n",
       "3      0000f6ccb0745a6a4b88665a16c9f078           323               0   \n",
       "4      0004aac84e0df4da2b147fca70cf8255           290               0   \n",
       "...                                 ...           ...             ...   \n",
       "95116  fffcf5a5ff07b0908bd4e2dbc735a684           449               0   \n",
       "95117  fffea47cd6d3cc0a88bd621562a9d061           264               0   \n",
       "95118  ffff371b4d645b6ecea244b27531430a           570               0   \n",
       "95119  ffff5962728ec6157033ef9805bacc48           121               0   \n",
       "95120  ffffd2657e2aad2907e67c3e9daecbeb           486               0   \n",
       "\n",
       "       Montant_orig   Récence  Fréquence   Montant  \n",
       "0            141.90  0.184692          0  0.009690  \n",
       "1             27.19  0.189684          0  0.001289  \n",
       "2             86.22  0.893511          0  0.005612  \n",
       "3             43.62  0.534110          0  0.002492  \n",
       "4            196.89  0.479201          0  0.013717  \n",
       "...             ...       ...        ...       ...  \n",
       "95116       2067.42  0.743760          0  0.150707  \n",
       "95117         84.58  0.435940          0  0.005492  \n",
       "95118        112.46  0.945092          0  0.007534  \n",
       "95119        133.69  0.198003          0  0.009089  \n",
       "95120         71.56  0.805324          0  0.004538  \n",
       "\n",
       "[95121 rows x 7 columns]"
      ]
     },
     "metadata": {},
     "output_type": "display_data"
    }
   ],
   "source": [
    "# Affichage des premières et dernières lignes\n",
    "display(df_features)"
   ]
  },
  {
   "cell_type": "markdown",
   "id": "b9aa77c6-9dbf-49e7-b8b0-7209b44d4402",
   "metadata": {},
   "source": [
    "## 4.3 Enregistrement du dataset"
   ]
  },
  {
   "cell_type": "code",
   "execution_count": 106,
   "id": "ec153556-f0ab-4b0f-98f1-542c3f6a2ec1",
   "metadata": {},
   "outputs": [],
   "source": [
    "# Enregistrement 'df_features.csv' dans le répertoire courant\n",
    "df_features.to_csv('df_features.csv', index=False)"
   ]
  },
  {
   "cell_type": "code",
   "execution_count": null,
   "id": "899dd4b0-6c61-4a48-aaa3-9e23cae52d65",
   "metadata": {},
   "outputs": [],
   "source": []
  }
 ],
 "metadata": {
  "kernelspec": {
   "display_name": "Python 3 (ipykernel)",
   "language": "python",
   "name": "python3"
  },
  "language_info": {
   "codemirror_mode": {
    "name": "ipython",
    "version": 3
   },
   "file_extension": ".py",
   "mimetype": "text/x-python",
   "name": "python",
   "nbconvert_exporter": "python",
   "pygments_lexer": "ipython3",
   "version": "3.11.8"
  }
 },
 "nbformat": 4,
 "nbformat_minor": 5
}
